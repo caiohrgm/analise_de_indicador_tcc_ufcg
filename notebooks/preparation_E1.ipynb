{
 "cells": [
  {
   "cell_type": "code",
   "execution_count": 1,
   "id": "e6b8edaa",
   "metadata": {},
   "outputs": [],
   "source": [
    "import sys\n",
    "import warnings\n",
    "import numpy as np\n",
    "import pandas as pd\n",
    "import seaborn as sns\n",
    "import matplotlib.pyplot as plt\n",
    "\n",
    "from pathlib import Path\n",
    "sys.path.append(str(Path.cwd().parent))\n",
    "\n",
    "from src.data import make_dataset\n",
    "\n",
    "global companies_set \n",
    "\n",
    "warnings.filterwarnings('ignore')"
   ]
  },
  {
   "cell_type": "markdown",
   "id": "5dcf4f4b",
   "metadata": {},
   "source": [
    "# Preparation - E1"
   ]
  },
  {
   "cell_type": "markdown",
   "id": "eec1b834",
   "metadata": {},
   "source": [
    "## 1 - Preparação do DataSet"
   ]
  },
  {
   "cell_type": "code",
   "execution_count": 2,
   "id": "97bf584d",
   "metadata": {},
   "outputs": [
    {
     "name": "stdout",
     "output_type": "stream",
     "text": [
      "8938\n",
      "Informações básicas do conjunto de indicadores:\n",
      "Empresas:  ['E1' 'E3' 'E2' 'E4']\n",
      "Canais:  ['Indefinido' 'C1' 'C2' 'C3']\n",
      "Mercado:  ['Indefinido' 'AN' 'AS' 'EU' 'AL' 'JP' 'BRL']\n",
      "\n",
      "Obs: Os canais e mercados que são 'NaN' serão desconsiderados.\n"
     ]
    }
   ],
   "source": [
    "path = r\"D:\\Documentos_D\\UFCG\\2021.2e\\TCC\\Project\\analise_de_indicador_tcc_ufcg\\data\\raw\\indicadores_raw.csv\"\n",
    "companies_set = make_dataset.prepare_datasets(path)"
   ]
  },
  {
   "cell_type": "markdown",
   "id": "259c88ff",
   "metadata": {},
   "source": [
    "## 2 - Filtrando Volume de Vendas por Canal e Mercado"
   ]
  },
  {
   "cell_type": "markdown",
   "id": "95ce8d69",
   "metadata": {},
   "source": [
    "#### - Canal: C1 | Mercado: AN"
   ]
  },
  {
   "cell_type": "code",
   "execution_count": 3,
   "id": "24ffbf9a-f3f1-4662-a21f-d5492d47f6ca",
   "metadata": {},
   "outputs": [],
   "source": [
    "company = companies_set[0][0]\n",
    "channel = 'C1'\n",
    "market = 'AN'\n",
    "cmp_df_r1 = companies_set[0][1].reset_index().drop(['index'],axis=1)\n",
    "cmp_df_r1 = cmp_df_r1[((cmp_df_r1.Canal_Distribuicao == channel) & (cmp_df_r1.Mercado == market))]\n",
    "cmp_df_r1 = cmp_df_r1[((cmp_df_r1.Empresa != \"Indefinido\") & (cmp_df_r1.Canal_Distribuicao != \"Indefinido\") & (cmp_df_r1.Mercado != \"Indefinido\"))]\n",
    "cmp_df_r1 = cmp_df_r1.sort_values(by='Volume_Venda').reset_index().drop(['index'],axis=1)\n",
    "cmp_df_r1 = cmp_df_r1.drop_duplicates('Data',keep='last').sort_values(by='Data').reset_index().drop(['index'],axis=1)"
   ]
  },
  {
   "cell_type": "markdown",
   "id": "1e796040",
   "metadata": {},
   "source": [
    "## 3 - Criando arquivo csv do dataset filtrado da empresa E1"
   ]
  },
  {
   "cell_type": "code",
   "execution_count": 4,
   "id": "2a9ec794",
   "metadata": {},
   "outputs": [],
   "source": [
    "df = pd.DataFrame()\n",
    "df = df.append(cmp_df_r1)\n",
    "\n",
    "df.drop(df.tail(1).index, inplace=True) \n",
    "\n",
    "file = r\"D:\\Documentos_D\\UFCG\\2021.2e\\TCC\\Project\\analise_de_indicador_tcc_ufcg\\data\\processed\" + \"\\\\\" + company + \".csv\"\n",
    "df.to_csv(file, index=False)"
   ]
  },
  {
   "cell_type": "code",
   "execution_count": 5,
   "id": "2db5a8fb",
   "metadata": {},
   "outputs": [
    {
     "name": "stdout",
     "output_type": "stream",
     "text": [
      "Execução de BC encerrada!\n"
     ]
    }
   ],
   "source": [
    "print(\"Execução de E1 encerrada!\")"
   ]
  }
 ],
 "metadata": {
  "kernelspec": {
   "display_name": "Python 3 (ipykernel)",
   "language": "python",
   "name": "python3"
  },
  "language_info": {
   "codemirror_mode": {
    "name": "ipython",
    "version": 3
   },
   "file_extension": ".py",
   "mimetype": "text/x-python",
   "name": "python",
   "nbconvert_exporter": "python",
   "pygments_lexer": "ipython3",
   "version": "3.10.5"
  },
  "vscode": {
   "interpreter": {
    "hash": "9a3b2061ab4de3120946481c70cc3dc0b8298eb4f1b536ff0ad213a7b9533338"
   }
  }
 },
 "nbformat": 4,
 "nbformat_minor": 5
}
