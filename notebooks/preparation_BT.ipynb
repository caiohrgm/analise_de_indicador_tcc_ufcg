{
 "cells": [
  {
   "cell_type": "code",
   "execution_count": 1,
   "id": "e6b8edaa",
   "metadata": {},
   "outputs": [],
   "source": [
    "import sys\n",
    "import warnings\n",
    "import numpy as np\n",
    "import pandas as pd\n",
    "import seaborn as sns\n",
    "import matplotlib.pyplot as plt\n",
    "\n",
    "from pathlib import Path\n",
    "sys.path.append(str(Path.cwd().parent))\n",
    "\n",
    "from src.data import make_dataset\n",
    "\n",
    "global companies_set \n",
    "\n",
    "warnings.filterwarnings('ignore')"
   ]
  },
  {
   "cell_type": "markdown",
   "id": "128dfea7",
   "metadata": {},
   "source": [
    "# Preparation - BT"
   ]
  },
  {
   "cell_type": "markdown",
   "id": "a518db05",
   "metadata": {},
   "source": [
    "## 1 - Preparação do DataSet"
   ]
  },
  {
   "cell_type": "code",
   "execution_count": 2,
   "id": "97bf584d",
   "metadata": {},
   "outputs": [
    {
     "name": "stdout",
     "output_type": "stream",
     "text": [
      "Informações básicas do conjunto de indicadores:\n",
      "Empresas:  ['E1' 'E3' 'E2' 'E4']\n",
      "Canais:  ['Indefinido' 'C1' 'C2' 'C3']\n",
      "Mercado:  ['Indefinido' 'AN' 'AS' 'EU' 'AL' 'JP' 'BRL']\n",
      "\n",
      "Obs: Os canais e mercados que são 'NaN' serão desconsiderados.\n"
     ]
    }
   ],
   "source": [
    "path = r\"D:\\Documentos_D\\UFCG\\2021.2e\\TCC\\Project\\analise_de_indicador_tcc_ufcg\\data\\raw\\indicadores_raw.csv\"\n",
    "companies_set = make_dataset.prepare_datasets(path)"
   ]
  },
  {
   "cell_type": "markdown",
   "id": "259c88ff",
   "metadata": {},
   "source": [
    "## 2 - Filtrando Volume de Vendas por Canal e Mercado"
   ]
  },
  {
   "cell_type": "markdown",
   "id": "867ddd1b",
   "metadata": {},
   "source": [
    "#### - Canal: *ME* | Mercado: *R2*"
   ]
  },
  {
   "cell_type": "code",
   "execution_count": 3,
   "id": "6498a009",
   "metadata": {},
   "outputs": [],
   "source": [
    "company = companies_set[3][0]\n",
    "channel = 'C1'\n",
    "market = 'AS'\n",
    "\n",
    "cmp_df_r2 = companies_set[3][1].reset_index().drop(['index'],axis=1)\n",
    "cmp_df_r2 = cmp_df_r2[((cmp_df_r2.Canal_Distribuicao == channel) & (cmp_df_r2.Mercado == market))]\n",
    "cmp_df_r2 = cmp_df_r2[((cmp_df_r2.Empresa != \"Indefinido\") & (cmp_df_r2.Canal_Distribuicao != \"Indefinido\") & (cmp_df_r2.Mercado != \"Indefinido\"))]\n",
    "cmp_df_r2 = cmp_df_r2.sort_values(by='Volume_Venda').reset_index().drop(['index'],axis=1)\n",
    "cmp_df_r2 = cmp_df_r2.drop_duplicates('Data',keep='last').sort_values(by='Data').reset_index().drop(['index'],axis=1)"
   ]
  },
  {
   "cell_type": "markdown",
   "id": "af5a6bcb",
   "metadata": {},
   "source": [
    "#### - Canal: *ME* | Mercado: *R4*"
   ]
  },
  {
   "cell_type": "code",
   "execution_count": 4,
   "id": "70e91c60",
   "metadata": {},
   "outputs": [],
   "source": [
    "company = companies_set[3][0]\n",
    "channel = 'C1'\n",
    "market = 'AL'\n",
    "\n",
    "cmp_df_r4 = companies_set[3][1].reset_index().drop(['index'],axis=1)\n",
    "cmp_df_r4 = cmp_df_r4[((cmp_df_r4.Canal_Distribuicao == channel) & (cmp_df_r4.Mercado == market))] # só vai ate 07/2020\n",
    "cmp_df_r4 = cmp_df_r4[((cmp_df_r4.Empresa != \"Indefinido\") & (cmp_df_r4.Canal_Distribuicao != \"Indefinido\") & (cmp_df_r4.Mercado != \"Indefinido\"))]\n",
    "cmp_df_r4 = cmp_df_r4.sort_values(by='Volume_Venda').reset_index().drop(['index'],axis=1)\n",
    "cmp_df_r4 = cmp_df_r4.drop_duplicates('Data',keep='last').sort_values(by='Data').reset_index().drop(['index'],axis=1)"
   ]
  },
  {
   "cell_type": "markdown",
   "id": "53686d14",
   "metadata": {},
   "source": [
    "#### - Canal: *ME* | Mercado: *R5*"
   ]
  },
  {
   "cell_type": "code",
   "execution_count": 5,
   "id": "756604db",
   "metadata": {},
   "outputs": [],
   "source": [
    "company = companies_set[3][0]\n",
    "channel = 'C1'\n",
    "market = 'JP'\n",
    "\n",
    "cmp_df_r5 = companies_set[3][1].reset_index().drop(['index'],axis=1)\n",
    "cmp_df_r5 = cmp_df_r5[((cmp_df_r5.Canal_Distribuicao == channel) & (cmp_df_r5.Mercado == market))] # só vai ate 07/2020\n",
    "cmp_df_r5 = cmp_df_r5[((cmp_df_r5.Empresa != \"Indefinido\") & (cmp_df_r5.Canal_Distribuicao != \"Indefinido\") & (cmp_df_r5.Mercado != \"Indefinido\"))]\n",
    "cmp_df_r5 = cmp_df_r5.sort_values(by='Volume_Venda').reset_index().drop(['index'],axis=1)\n",
    "cmp_df_r5 = cmp_df_r5.drop_duplicates('Data',keep='last').sort_values(by='Data').reset_index().drop(['index'],axis=1)"
   ]
  },
  {
   "cell_type": "markdown",
   "id": "b56cbfaf",
   "metadata": {},
   "source": [
    "## 3 - Criando arquivo csv do dataset filtrado da empresa BT"
   ]
  },
  {
   "cell_type": "code",
   "execution_count": 6,
   "id": "168d1e6b",
   "metadata": {},
   "outputs": [],
   "source": [
    "df = pd.DataFrame()\n",
    "df = df.append(cmp_df_r2)\n",
    "df = df.append(cmp_df_r4)\n",
    "df = df.append(cmp_df_r5)\n",
    "\n",
    "df.drop(df.tail(1).index, inplace=True) \n",
    "\n",
    "file = r\"D:\\Documentos_D\\UFCG\\2021.2e\\TCC\\Project\\analise_de_indicador_tcc_ufcg\\data\\processed\" + \"\\\\\" + company + \".csv\"\n",
    "df.to_csv(file, index=False)"
   ]
  },
  {
   "cell_type": "code",
   "execution_count": 7,
   "id": "753eca15",
   "metadata": {},
   "outputs": [
    {
     "name": "stdout",
     "output_type": "stream",
     "text": [
      "Execução de BT encerrada!\n"
     ]
    }
   ],
   "source": [
    "print(\"Execução de BT encerrada!\")"
   ]
  }
 ],
 "metadata": {
  "kernelspec": {
   "display_name": "Python 3.10.5 ('venv': venv)",
   "language": "python",
   "name": "python3"
  },
  "language_info": {
   "codemirror_mode": {
    "name": "ipython",
    "version": 3
   },
   "file_extension": ".py",
   "mimetype": "text/x-python",
   "name": "python",
   "nbconvert_exporter": "python",
   "pygments_lexer": "ipython3",
   "version": "3.10.6"
  },
  "vscode": {
   "interpreter": {
    "hash": "9a3b2061ab4de3120946481c70cc3dc0b8298eb4f1b536ff0ad213a7b9533338"
   }
  }
 },
 "nbformat": 4,
 "nbformat_minor": 5
}
