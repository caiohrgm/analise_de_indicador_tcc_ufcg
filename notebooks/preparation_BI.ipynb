{
 "cells": [
  {
   "cell_type": "code",
   "execution_count": 1,
   "id": "e6b8edaa",
   "metadata": {},
   "outputs": [],
   "source": [
    "import sys\n",
    "import warnings\n",
    "import numpy as np\n",
    "import pandas as pd\n",
    "import seaborn as sns\n",
    "import matplotlib.pyplot as plt\n",
    "\n",
    "from pathlib import Path\n",
    "sys.path.append(str(Path.cwd().parent))\n",
    "\n",
    "from src.data import make_dataset\n",
    "\n",
    "global companies_set \n",
    "\n",
    "warnings.filterwarnings('ignore')"
   ]
  },
  {
   "cell_type": "markdown",
   "id": "5dcf4f4b",
   "metadata": {},
   "source": [
    "# Preparation - BI"
   ]
  },
  {
   "cell_type": "markdown",
   "id": "ed616d13",
   "metadata": {},
   "source": [
    "## 1 - Preparação do DataSet"
   ]
  },
  {
   "cell_type": "code",
   "execution_count": 2,
   "id": "97bf584d",
   "metadata": {},
   "outputs": [
    {
     "name": "stdout",
     "output_type": "stream",
     "text": [
      "Informações básicas do conjunto de indicadores:\n",
      "Empresas:  ['E1' 'E3' 'E2' 'E4']\n",
      "Canais:  ['Indefinido' 'C1' 'C2' 'C3']\n",
      "Mercado:  ['Indefinido' 'AN' 'AS' 'EU' 'AL' 'JP' 'BRL']\n",
      "\n",
      "Obs: Os canais e mercados que são 'NaN' serão desconsiderados.\n"
     ]
    }
   ],
   "source": [
    "path = r\"D:\\Documentos_D\\UFCG\\2021.2e\\TCC\\Project\\analise_de_indicador_tcc_ufcg\\data\\raw\\indicadores_raw.csv\"\n",
    "companies_set = make_dataset.prepare_datasets(path)"
   ]
  },
  {
   "cell_type": "markdown",
   "id": "259c88ff",
   "metadata": {},
   "source": [
    "## 2 - Filtrando Volume de Vendas por Canal e Mercado"
   ]
  },
  {
   "cell_type": "markdown",
   "id": "1ead2cdd",
   "metadata": {},
   "source": [
    "#### - Canal: *ME* | Mercado: *R2*"
   ]
  },
  {
   "cell_type": "code",
   "execution_count": 3,
   "id": "d4bff371",
   "metadata": {},
   "outputs": [],
   "source": [
    "company = companies_set[1][0]\n",
    "channel = 'C1'\n",
    "market = 'AS'\n",
    "cmp_df_r2 = companies_set[1][1].reset_index().drop(['index'],axis=1)\n",
    "cmp_df_r2 = cmp_df_r2[((cmp_df_r2.Canal_Distribuicao == channel) & (cmp_df_r2.Mercado == market))]\n",
    "cmp_df_r2 = cmp_df_r2[((cmp_df_r2.Empresa != \"Indefinido\") & (cmp_df_r2.Canal_Distribuicao != \"Indefinido\") & (cmp_df_r2.Mercado != \"Indefinido\"))]\n",
    "cmp_df_r2 = cmp_df_r2.sort_values(by='Volume_Venda').reset_index().drop(['index'],axis=1)\n",
    "cmp_df_r2 = cmp_df_r2.drop_duplicates('Data',keep='last').sort_values(by='Data').reset_index().drop(['index'],axis=1)"
   ]
  },
  {
   "cell_type": "markdown",
   "id": "a69f5ac4",
   "metadata": {},
   "source": [
    "#### - Canal: *ME* | Mercado: *R3*"
   ]
  },
  {
   "cell_type": "code",
   "execution_count": 4,
   "id": "03d2800b",
   "metadata": {},
   "outputs": [],
   "source": [
    "company = companies_set[1][0]\n",
    "channel = 'C1'\n",
    "market = 'EU'\n",
    "\n",
    "cmp_df_r3 = companies_set[1][1].reset_index().drop(['index'],axis=1)\n",
    "cmp_df_r3 = cmp_df_r3[((cmp_df_r3.Canal_Distribuicao == channel) & (cmp_df_r3.Mercado == market))]\n",
    "cmp_df_r3 = cmp_df_r3[((cmp_df_r3.Empresa != \"Indefinido\") & (cmp_df_r3.Canal_Distribuicao != \"Indefinido\") & (cmp_df_r3.Mercado != \"Indefinido\"))]\n",
    "cmp_df_r3 = cmp_df_r3.sort_values(by='Volume_Venda').reset_index().drop(['index'],axis=1)\n",
    "cmp_df_r3 = cmp_df_r3.drop_duplicates('Data',keep='last').sort_values(by='Data').reset_index().drop(['index'],axis=1)"
   ]
  },
  {
   "cell_type": "markdown",
   "id": "cefe5e8c",
   "metadata": {},
   "source": [
    "#### - Canal: *ME* | Mercado: *R5*"
   ]
  },
  {
   "cell_type": "code",
   "execution_count": 5,
   "id": "29d2a658",
   "metadata": {},
   "outputs": [],
   "source": [
    "company = companies_set[1][0]\n",
    "channel = 'C1'\n",
    "market = 'JP'\n",
    "\n",
    "cmp_df_r5 = companies_set[1][1].reset_index().drop(['index'],axis=1)\n",
    "cmp_df_r5 = cmp_df_r5[((cmp_df_r5.Canal_Distribuicao == channel) & (cmp_df_r5.Mercado == market))]\n",
    "cmp_df_r5 = cmp_df_r5[((cmp_df_r5.Empresa != \"Indefinido\") & (cmp_df_r5.Canal_Distribuicao != \"Indefinido\") & (cmp_df_r5.Mercado != \"Indefinido\"))]\n",
    "cmp_df_r5 = cmp_df_r5.sort_values(by='Volume_Venda').reset_index().drop(['index'],axis=1)\n",
    "cmp_df_r5 = cmp_df_r5.drop_duplicates('Data',keep='last').sort_values(by='Data').reset_index().drop(['index'],axis=1)"
   ]
  },
  {
   "cell_type": "markdown",
   "id": "f3260bbf",
   "metadata": {},
   "source": [
    "## 3 - Criando arquivo csv do dataset filtrado da empresa BI"
   ]
  },
  {
   "cell_type": "code",
   "execution_count": 6,
   "id": "32a0853b",
   "metadata": {},
   "outputs": [],
   "source": [
    "df = pd.DataFrame()\n",
    "df = df.append(cmp_df_r2)\n",
    "df = df.append(cmp_df_r3)\n",
    "df = df.append(cmp_df_r5)\n",
    "\n",
    "df.drop(df.tail(1).index, inplace=True) \n",
    "\n",
    "file = r\"D:\\Documentos_D\\UFCG\\2021.2e\\TCC\\Project\\analise_de_indicador_tcc_ufcg\\data\\processed\" + \"\\\\\" + company + \".csv\"\n",
    "df.to_csv(file, index=False)"
   ]
  },
  {
   "cell_type": "code",
   "execution_count": 7,
   "id": "47e748d1",
   "metadata": {},
   "outputs": [
    {
     "name": "stdout",
     "output_type": "stream",
     "text": [
      "Execução de BI encerrada!\n"
     ]
    }
   ],
   "source": [
    "print(\"Execução de BI encerrada!\")"
   ]
  }
 ],
 "metadata": {
  "kernelspec": {
   "display_name": "Python 3.10.5 ('venv': venv)",
   "language": "python",
   "name": "python3"
  },
  "language_info": {
   "codemirror_mode": {
    "name": "ipython",
    "version": 3
   },
   "file_extension": ".py",
   "mimetype": "text/x-python",
   "name": "python",
   "nbconvert_exporter": "python",
   "pygments_lexer": "ipython3",
   "version": "3.10.6"
  },
  "vscode": {
   "interpreter": {
    "hash": "9a3b2061ab4de3120946481c70cc3dc0b8298eb4f1b536ff0ad213a7b9533338"
   }
  }
 },
 "nbformat": 4,
 "nbformat_minor": 5
}
