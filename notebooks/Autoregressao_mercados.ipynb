{
 "cells": [
  {
   "cell_type": "code",
   "execution_count": 1,
   "id": "697fc120",
   "metadata": {},
   "outputs": [],
   "source": [
    "import sys\n",
    "from pathlib import Path\n",
    "sys.path.append(str(Path.cwd().parent))"
   ]
  },
  {
   "cell_type": "code",
   "execution_count": 2,
   "id": "e6b8edaa",
   "metadata": {},
   "outputs": [],
   "source": [
    "import glob\n",
    "import warnings\n",
    "import numpy as np\n",
    "import pandas as pd\n",
    "import seaborn as sns\n",
    "import datetime as dt\n",
    "import matplotlib.cm as cm\n",
    "import matplotlib.pyplot as plt\n",
    "from itertools import combinations, permutations, product\n",
    "\n",
    "from math import sqrt\n",
    "from pmdarima import auto_arima\n",
    "from src.utils import util as utl\n",
    "from sklearn.metrics import mean_absolute_error, r2_score\n",
    "\n",
    "\n",
    "global companies_set \n",
    "\n",
    "warnings.filterwarnings('ignore')"
   ]
  },
  {
   "cell_type": "markdown",
   "id": "259c88ff",
   "metadata": {},
   "source": [
    "# 1 - Análise dos mercados (independente da empresa)"
   ]
  },
  {
   "cell_type": "code",
   "execution_count": 3,
   "id": "a9eb311d",
   "metadata": {},
   "outputs": [],
   "source": [
    "door_dir = glob.glob(r\"D:\\Documentos_D\\UFCG\\2021.2e\\TCC\\Project\\analise_de_indicador_tcc_ufcg\\data\\processed\\**\\*\" + \".csv\", recursive=True)\n",
    "\n",
    "df = pd.DataFrame()\n",
    "\n",
    "for file_path in door_dir:\n",
    "    temp_df = pd.read_csv(file_path)\n",
    "    df = df.append(temp_df)\n",
    "\n",
    "df = df.reset_index().drop(['index'], axis=1)\n",
    "df['Volume_Venda'] = df['Volume_Venda'].round(2)\n"
   ]
  },
  {
   "cell_type": "code",
   "execution_count": 4,
   "id": "7a162fc7",
   "metadata": {},
   "outputs": [
    {
     "data": {
      "text/html": [
       "<div>\n",
       "<style scoped>\n",
       "    .dataframe tbody tr th:only-of-type {\n",
       "        vertical-align: middle;\n",
       "    }\n",
       "\n",
       "    .dataframe tbody tr th {\n",
       "        vertical-align: top;\n",
       "    }\n",
       "\n",
       "    .dataframe thead th {\n",
       "        text-align: right;\n",
       "    }\n",
       "</style>\n",
       "<table border=\"1\" class=\"dataframe\">\n",
       "  <thead>\n",
       "    <tr style=\"text-align: right;\">\n",
       "      <th></th>\n",
       "      <th>AN</th>\n",
       "      <th>AS</th>\n",
       "      <th>EU</th>\n",
       "      <th>AL</th>\n",
       "      <th>JP</th>\n",
       "      <th>BRL</th>\n",
       "      <th>Indefinido</th>\n",
       "    </tr>\n",
       "    <tr>\n",
       "      <th>Data</th>\n",
       "      <th></th>\n",
       "      <th></th>\n",
       "      <th></th>\n",
       "      <th></th>\n",
       "      <th></th>\n",
       "      <th></th>\n",
       "      <th></th>\n",
       "    </tr>\n",
       "  </thead>\n",
       "  <tbody>\n",
       "    <tr>\n",
       "      <th>2012-01-01</th>\n",
       "      <td>9498.0</td>\n",
       "      <td>27964.0</td>\n",
       "      <td>91330.0</td>\n",
       "      <td>1638.0</td>\n",
       "      <td>38716.0</td>\n",
       "      <td>4598.0</td>\n",
       "      <td>83690.0</td>\n",
       "    </tr>\n",
       "    <tr>\n",
       "      <th>2012-02-01</th>\n",
       "      <td>22596.0</td>\n",
       "      <td>26910.0</td>\n",
       "      <td>75416.0</td>\n",
       "      <td>1248.0</td>\n",
       "      <td>59352.0</td>\n",
       "      <td>4192.0</td>\n",
       "      <td>92190.0</td>\n",
       "    </tr>\n",
       "    <tr>\n",
       "      <th>2012-03-01</th>\n",
       "      <td>23424.0</td>\n",
       "      <td>67078.0</td>\n",
       "      <td>77030.0</td>\n",
       "      <td>1742.0</td>\n",
       "      <td>52372.0</td>\n",
       "      <td>4664.0</td>\n",
       "      <td>111940.0</td>\n",
       "    </tr>\n",
       "    <tr>\n",
       "      <th>2012-04-01</th>\n",
       "      <td>21276.0</td>\n",
       "      <td>12912.0</td>\n",
       "      <td>78790.0</td>\n",
       "      <td>1118.0</td>\n",
       "      <td>0.0</td>\n",
       "      <td>4584.0</td>\n",
       "      <td>53454.0</td>\n",
       "    </tr>\n",
       "    <tr>\n",
       "      <th>2012-05-01</th>\n",
       "      <td>22946.0</td>\n",
       "      <td>36676.0</td>\n",
       "      <td>64634.0</td>\n",
       "      <td>2704.0</td>\n",
       "      <td>98688.0</td>\n",
       "      <td>4754.0</td>\n",
       "      <td>115438.0</td>\n",
       "    </tr>\n",
       "  </tbody>\n",
       "</table>\n",
       "</div>"
      ],
      "text/plain": [
       "                 AN       AS       EU      AL       JP     BRL  Indefinido\n",
       "Data                                                                      \n",
       "2012-01-01   9498.0  27964.0  91330.0  1638.0  38716.0  4598.0     83690.0\n",
       "2012-02-01  22596.0  26910.0  75416.0  1248.0  59352.0  4192.0     92190.0\n",
       "2012-03-01  23424.0  67078.0  77030.0  1742.0  52372.0  4664.0    111940.0\n",
       "2012-04-01  21276.0  12912.0  78790.0  1118.0      0.0  4584.0     53454.0\n",
       "2012-05-01  22946.0  36676.0  64634.0  2704.0  98688.0  4754.0    115438.0"
      ]
     },
     "metadata": {},
     "output_type": "display_data"
    }
   ],
   "source": [
    "dfm = pd.DataFrame()\n",
    "temp_df = df[((df.Mercado == 'AN') & (df.Empresa == 'E2'))].reset_index().drop(['index'],axis=1)\n",
    "\n",
    "dfm['Data'] = temp_df.Data\n",
    "dfm['Data'] = pd.to_datetime(dfm.Data)\n",
    "\n",
    "# ----------------------------------------------------AN:\n",
    "r1_bc = df[((df.Mercado == 'AN') & (df.Empresa == 'E1'))].Volume_Venda.astype(float).to_frame()\n",
    "r1_br = df[((df.Mercado == 'AN') & (df.Empresa == 'E2'))].Volume_Venda.reset_index().drop(['index'], axis=1).astype(float)\n",
    "\n",
    "dfm['AN'] = r1_bc.add(r1_br,axis=0)\n",
    "# ----------------------------------------------------AS:\n",
    "r2_bi = df[((df.Mercado == 'AS') & (df.Empresa == 'E3'))].Volume_Venda.reset_index().drop(['index'], axis=1).astype(float)\n",
    "r2_br = df[((df.Mercado == 'AS') & (df.Empresa == 'E2'))].Volume_Venda.reset_index().drop(['index'], axis=1).astype(float)\n",
    "\n",
    "r2_bt_temp = pd.DataFrame(columns=['Volume_Venda'])\n",
    "values = []\n",
    "for i in range(18):\n",
    "    values.append(0)\n",
    "r2_bt_temp['Volume_Venda'] = values\n",
    "r2_bt = df[((df.Mercado == 'AS') & (df.Empresa == 'E4'))].Volume_Venda.reset_index().drop(['index'], axis=1).astype(float)\n",
    "r2_bt = r2_bt.append(r2_bt_temp).reset_index().drop(['index'], axis=1)\n",
    "\n",
    "dfm['AS'] = r2_bi.add(r2_br,axis=0)\n",
    "dfm['AS'] = dfm['AS'] + r2_bt['Volume_Venda']\n",
    "# ----------------------------------------------------EU:\n",
    "r3_bi = df[((df.Mercado == 'EU') & (df.Empresa == 'E3'))].Volume_Venda.reset_index().drop(['index'], axis=1).astype(float)\n",
    "r3_br = df[((df.Mercado == 'EU') & (df.Empresa == 'E2'))].Volume_Venda.reset_index().drop(['index'], axis=1).astype(float)\n",
    "\n",
    "dfm['EU'] = r3_bi.add(r3_br,axis=0)\n",
    "# ----------------------------------------------------AL:\n",
    "r4_br_temp = pd.DataFrame(columns=['Volume_Venda'])\n",
    "values = []\n",
    "for i in range(13):\n",
    "    values.append(0)\n",
    "r4_br_temp['Volume_Venda'] = values\n",
    "r4_br = df[((df.Mercado == 'AL') & (df.Empresa == 'E2'))].Volume_Venda.reset_index().drop(['index'], axis=1).astype(float)\n",
    "r4_br = r4_br.append(r4_br_temp).reset_index().drop(['index'], axis=1)\n",
    "\n",
    "r4_bt_temp = pd.DataFrame(columns=['Volume_Venda'])\n",
    "values = []\n",
    "for i in range(18):\n",
    "    values.append(0)\n",
    "r4_bt_temp['Volume_Venda'] = values\n",
    "r4_bt = df[((df.Mercado == 'AL') & (df.Empresa == 'E4'))].Volume_Venda.reset_index().drop(['index'], axis=1).astype(float)\n",
    "r4_bt = r4_bt.append(r4_bt_temp).reset_index().drop(['index'], axis=1)\n",
    "\n",
    "dfm['AL'] = r4_br.add(r4_bt,axis=0)\n",
    "# ----------------------------------------------------JP:\n",
    "r5_bi_temp = pd.DataFrame(columns=['Volume_Venda'])\n",
    "values = []\n",
    "for i in range(56):\n",
    "    values.append(0)\n",
    "r5_bi_temp ['Volume_Venda'] = values\n",
    "r5_bi = df[((df.Mercado == 'JP') & (df.Empresa == 'E3'))].Volume_Venda.reset_index().drop(['index'], axis=1).astype(float)\n",
    "r5_bi = r5_bi_temp.append(r5_bi).reset_index().drop(['index'], axis=1)\n",
    "\n",
    "r5_br = df[((df.Mercado == 'JP') & (df.Empresa == 'E2'))].Volume_Venda.reset_index().drop(['index'], axis=1).astype(float)\n",
    "\n",
    "r5_bt_temp = pd.DataFrame(columns=['Volume_Venda'])\n",
    "values = []\n",
    "for i in range(18):\n",
    "    values.append(0)\n",
    "r5_bt_temp ['Volume_Venda'] = values\n",
    "r5_bt = df[((df.Mercado == 'JP') & (df.Empresa == 'E4'))].Volume_Venda.reset_index().drop(['index'], axis=1).astype(float)\n",
    "r5_bt = r5_bt.append(r5_bt_temp ).reset_index().drop(['index'], axis=1)\n",
    "\n",
    "dfm['JP'] = r5_bi.add(r5_br, axis=0)\n",
    "dfm['JP'] = dfm['JP'] + r5_bt['Volume_Venda']\n",
    "# ----------------------------------------------------BRL:\n",
    "r6_br = df[((df.Mercado == 'BRL') & (df.Empresa == 'E2'))].Volume_Venda.reset_index().drop(['index'], axis=1).astype(float)\n",
    "dfm['BRL'] = r6_br\n",
    "\n",
    "# ----------------------------------------------------Indefinido:\n",
    "indefinido = df[((df.Mercado == 'Indefinido'))].Volume_Venda.reset_index().drop(['index'], axis=1).astype(float)\n",
    "dfm['Indefinido'] = indefinido\n",
    "\n",
    "dfm = dfm.set_index('Data')\n",
    "\n",
    "display(dfm.head(5))"
   ]
  },
  {
   "cell_type": "code",
   "execution_count": 5,
   "id": "5039a4b1",
   "metadata": {},
   "outputs": [],
   "source": [
    "markets_names = ['AN','AS','EU','AL','JP','BRL'] # O mercado 'Indefinido' será desconsiderado;\n",
    "markets_values = []\n",
    "for market_name in markets_names:  \n",
    "    values_market_df = dfm[market_name]\n",
    "    markets_values.append(values_market_df.to_frame())"
   ]
  },
  {
   "cell_type": "code",
   "execution_count": 6,
   "id": "831ba67d",
   "metadata": {},
   "outputs": [],
   "source": [
    "# Criando  volume de dados para treinamento do mercado da América Latina ('AL'):\n",
    "date_indexes = []\n",
    "sales_values = []\n",
    "\n",
    "for market_values_df, market_name in zip(markets_values, markets_names):\n",
    "    if market_name in ['AL']:\n",
    "        temp_df =  market_values_df\n",
    "        for i, row in temp_df.iterrows():\n",
    "            date = i\n",
    "            value = row['AL']\n",
    "\n",
    "            if date < pd.Timestamp('2016-01-01'): # Coletando valores até 01/12/2015;\n",
    "                date_indexes.append(i)\n",
    "                sales_values.append(value)\n",
    "\n",
    "df_AL = pd.DataFrame()\n",
    "df_AL['Data'] =  date_indexes\n",
    "df_AL['AL'] =  sales_values\n",
    "df_AL = df_AL.set_index('Data')\n",
    "markets_values[3] = df_AL"
   ]
  },
  {
   "cell_type": "code",
   "execution_count": 7,
   "id": "27bc0e40",
   "metadata": {},
   "outputs": [
    {
     "name": "stdout",
     "output_type": "stream",
     "text": [
      "[('AN', -2.2539, 0.1873), ('AS', -1.2533, 0.6503), ('EU', -9.579, 0.0), ('AL', -4.8412, 0.0), ('JP', -6.4335, 0.0), ('BRL', -0.9724, 0.7632)]\n"
     ]
    }
   ],
   "source": [
    "from statsmodels.graphics.tsaplots import plot_acf, plot_pacf\n",
    "from pandas.plotting import lag_plot, autocorrelation_plot\n",
    "from statsmodels.tsa.stattools import adfuller\n",
    "\n",
    "p_values = []\n",
    "\n",
    "#Verificando estacionariedade com adfuller:\n",
    "for market_values_df, market_name in zip(markets_values, markets_names):\n",
    "    series = market_values_df\n",
    "    X = series.values\n",
    "    train, test = X[1:len(X)-12], X[len(X)-12:]\n",
    "    result = adfuller(train, autolag='AIC')\n",
    "    p_values.append((market_name,np.round(result[0],4),np.round(result[1],4)))\n",
    "\n",
    "print(p_values)"
   ]
  },
  {
   "cell_type": "code",
   "execution_count": 8,
   "id": "feb42e05",
   "metadata": {},
   "outputs": [
    {
     "name": "stdout",
     "output_type": "stream",
     "text": [
      "Mercado:  AN\n",
      "Performing stepwise search to minimize aic\n",
      " ARIMA(2,1,0)(0,0,0)[0] intercept   : AIC=2176.167, Time=0.04 sec\n",
      " ARIMA(0,1,0)(0,0,0)[0] intercept   : AIC=2227.275, Time=0.01 sec\n",
      " ARIMA(1,1,0)(0,0,0)[0] intercept   : AIC=2196.612, Time=0.02 sec\n",
      " ARIMA(0,1,1)(0,0,0)[0] intercept   : AIC=2160.338, Time=0.06 sec\n",
      " ARIMA(0,1,0)(0,0,0)[0]             : AIC=2225.319, Time=0.01 sec\n",
      " ARIMA(1,1,1)(0,0,0)[0] intercept   : AIC=2161.701, Time=0.13 sec\n",
      " ARIMA(0,1,2)(0,0,0)[0] intercept   : AIC=2161.651, Time=0.25 sec\n",
      " ARIMA(1,1,2)(0,0,0)[0] intercept   : AIC=inf, Time=0.28 sec\n",
      " ARIMA(0,1,1)(0,0,0)[0]             : AIC=2160.097, Time=0.02 sec\n",
      " ARIMA(1,1,1)(0,0,0)[0]             : AIC=2161.189, Time=0.03 sec\n",
      " ARIMA(0,1,2)(0,0,0)[0]             : AIC=2162.794, Time=0.04 sec\n",
      " ARIMA(1,1,0)(0,0,0)[0]             : AIC=2194.726, Time=0.01 sec\n",
      " ARIMA(1,1,2)(0,0,0)[0]             : AIC=inf, Time=0.23 sec\n",
      "\n",
      "Best model:  ARIMA(0,1,1)(0,0,0)[0]          \n",
      "Total fit time: 1.133 seconds\n",
      "Mercado:  AS\n",
      "Performing stepwise search to minimize aic\n",
      " ARIMA(2,1,0)(0,0,0)[0] intercept   : AIC=2460.925, Time=0.03 sec\n",
      " ARIMA(0,1,0)(0,0,0)[0] intercept   : AIC=2521.632, Time=0.01 sec\n",
      " ARIMA(1,1,0)(0,0,0)[0] intercept   : AIC=2483.432, Time=0.02 sec\n",
      " ARIMA(0,1,1)(0,0,0)[0] intercept   : AIC=inf, Time=0.10 sec\n",
      " ARIMA(0,1,0)(0,0,0)[0]             : AIC=2519.662, Time=0.01 sec\n",
      " ARIMA(3,1,0)(0,0,0)[0] intercept   : AIC=2454.681, Time=0.05 sec\n",
      " ARIMA(4,1,0)(0,0,0)[0] intercept   : AIC=2453.383, Time=0.06 sec\n",
      " ARIMA(5,1,0)(0,0,0)[0] intercept   : AIC=2451.443, Time=0.09 sec\n",
      " ARIMA(5,1,1)(0,0,0)[0] intercept   : AIC=2453.524, Time=0.20 sec\n",
      " ARIMA(4,1,1)(0,0,0)[0] intercept   : AIC=2452.825, Time=0.12 sec\n",
      " ARIMA(5,1,0)(0,0,0)[0]             : AIC=2450.399, Time=0.07 sec\n",
      " ARIMA(4,1,0)(0,0,0)[0]             : AIC=2452.064, Time=0.06 sec\n",
      " ARIMA(5,1,1)(0,0,0)[0]             : AIC=2451.562, Time=0.23 sec\n",
      " ARIMA(4,1,1)(0,0,0)[0]             : AIC=2449.862, Time=0.16 sec\n",
      " ARIMA(3,1,1)(0,0,0)[0]             : AIC=2448.711, Time=0.10 sec\n",
      " ARIMA(2,1,1)(0,0,0)[0]             : AIC=2446.853, Time=0.05 sec\n",
      " ARIMA(1,1,1)(0,0,0)[0]             : AIC=2446.625, Time=0.04 sec\n",
      " ARIMA(0,1,1)(0,0,0)[0]             : AIC=2447.266, Time=0.02 sec\n",
      " ARIMA(1,1,0)(0,0,0)[0]             : AIC=2481.586, Time=0.01 sec\n",
      " ARIMA(1,1,2)(0,0,0)[0]             : AIC=2447.734, Time=0.05 sec\n",
      " ARIMA(0,1,2)(0,0,0)[0]             : AIC=2445.808, Time=0.04 sec\n",
      " ARIMA(0,1,3)(0,0,0)[0]             : AIC=2447.647, Time=0.04 sec\n",
      " ARIMA(1,1,3)(0,0,0)[0]             : AIC=2449.198, Time=0.10 sec\n",
      " ARIMA(0,1,2)(0,0,0)[0] intercept   : AIC=2451.531, Time=0.04 sec\n",
      "\n",
      "Best model:  ARIMA(0,1,2)(0,0,0)[0]          \n",
      "Total fit time: 1.693 seconds\n",
      "Mercado:  EU\n",
      "Performing stepwise search to minimize aic\n",
      " ARIMA(2,1,0)(0,0,0)[0] intercept   : AIC=2352.376, Time=0.04 sec\n",
      " ARIMA(0,1,0)(0,0,0)[0] intercept   : AIC=2387.331, Time=0.01 sec\n",
      " ARIMA(1,1,0)(0,0,0)[0] intercept   : AIC=2360.817, Time=0.02 sec\n",
      " ARIMA(0,1,1)(0,0,0)[0] intercept   : AIC=2335.772, Time=0.09 sec\n",
      " ARIMA(0,1,0)(0,0,0)[0]             : AIC=2385.336, Time=0.01 sec\n",
      " ARIMA(1,1,1)(0,0,0)[0] intercept   : AIC=2338.689, Time=0.05 sec\n",
      " ARIMA(0,1,2)(0,0,0)[0] intercept   : AIC=2337.839, Time=0.15 sec\n",
      " ARIMA(1,1,2)(0,0,0)[0] intercept   : AIC=2345.014, Time=0.12 sec\n",
      " ARIMA(0,1,1)(0,0,0)[0]             : AIC=2333.807, Time=0.02 sec\n",
      " ARIMA(1,1,1)(0,0,0)[0]             : AIC=2335.782, Time=0.03 sec\n",
      " ARIMA(0,1,2)(0,0,0)[0]             : AIC=2336.015, Time=0.05 sec\n",
      " ARIMA(1,1,0)(0,0,0)[0]             : AIC=2358.804, Time=0.02 sec\n",
      " ARIMA(1,1,2)(0,0,0)[0]             : AIC=2338.290, Time=0.15 sec\n",
      "\n",
      "Best model:  ARIMA(0,1,1)(0,0,0)[0]          \n",
      "Total fit time: 0.754 seconds\n",
      "Mercado:  AL\n",
      "Performing stepwise search to minimize aic\n",
      " ARIMA(2,0,0)(0,0,0)[0] intercept   : AIC=578.985, Time=0.07 sec\n",
      " ARIMA(0,0,0)(0,0,0)[0] intercept   : AIC=576.124, Time=0.01 sec\n",
      " ARIMA(1,0,0)(0,0,0)[0] intercept   : AIC=577.850, Time=0.01 sec\n",
      " ARIMA(0,0,1)(0,0,0)[0] intercept   : AIC=577.923, Time=0.06 sec\n",
      " ARIMA(0,0,0)(0,0,0)[0]             : AIC=631.176, Time=0.01 sec\n",
      " ARIMA(1,0,1)(0,0,0)[0] intercept   : AIC=579.900, Time=0.04 sec\n",
      "\n",
      "Best model:  ARIMA(0,0,0)(0,0,0)[0] intercept\n",
      "Total fit time: 0.201 seconds\n",
      "Mercado:  JP\n",
      "Performing stepwise search to minimize aic\n",
      " ARIMA(2,0,0)(0,0,0)[0] intercept   : AIC=2372.122, Time=0.05 sec\n",
      " ARIMA(0,0,0)(0,0,0)[0] intercept   : AIC=2409.766, Time=0.01 sec\n",
      " ARIMA(1,0,0)(0,0,0)[0] intercept   : AIC=2377.689, Time=0.02 sec\n",
      " ARIMA(0,0,1)(0,0,0)[0] intercept   : AIC=2380.143, Time=0.02 sec\n",
      " ARIMA(0,0,0)(0,0,0)[0]             : AIC=2579.206, Time=0.00 sec\n",
      " ARIMA(3,0,0)(0,0,0)[0] intercept   : AIC=2374.172, Time=0.05 sec\n",
      " ARIMA(2,0,1)(0,0,0)[0] intercept   : AIC=2374.718, Time=0.04 sec\n",
      " ARIMA(1,0,1)(0,0,0)[0] intercept   : AIC=2374.403, Time=0.04 sec\n",
      " ARIMA(3,0,1)(0,0,0)[0] intercept   : AIC=2376.658, Time=0.10 sec\n",
      " ARIMA(2,0,0)(0,0,0)[0]             : AIC=2456.962, Time=0.03 sec\n",
      "\n",
      "Best model:  ARIMA(2,0,0)(0,0,0)[0] intercept\n",
      "Total fit time: 0.377 seconds\n",
      "Mercado:  BRL\n",
      "Performing stepwise search to minimize aic\n",
      " ARIMA(2,1,0)(0,0,0)[0] intercept   : AIC=1754.597, Time=0.03 sec\n",
      " ARIMA(0,1,0)(0,0,0)[0] intercept   : AIC=1768.931, Time=0.01 sec\n",
      " ARIMA(1,1,0)(0,0,0)[0] intercept   : AIC=1753.050, Time=0.02 sec\n",
      " ARIMA(0,1,1)(0,0,0)[0] intercept   : AIC=1749.631, Time=0.11 sec\n",
      " ARIMA(0,1,0)(0,0,0)[0]             : AIC=1766.991, Time=0.01 sec\n",
      " ARIMA(1,1,1)(0,0,0)[0] intercept   : AIC=1749.782, Time=0.20 sec\n",
      " ARIMA(0,1,2)(0,0,0)[0] intercept   : AIC=1750.683, Time=0.12 sec\n",
      " ARIMA(1,1,2)(0,0,0)[0] intercept   : AIC=inf, Time=0.31 sec\n",
      " ARIMA(0,1,1)(0,0,0)[0]             : AIC=1747.861, Time=0.04 sec\n",
      " ARIMA(1,1,1)(0,0,0)[0]             : AIC=1748.293, Time=0.09 sec\n",
      " ARIMA(0,1,2)(0,0,0)[0]             : AIC=1749.106, Time=0.03 sec\n",
      " ARIMA(1,1,0)(0,0,0)[0]             : AIC=1751.126, Time=0.01 sec\n",
      " ARIMA(1,1,2)(0,0,0)[0]             : AIC=1751.329, Time=0.12 sec\n",
      "\n",
      "Best model:  ARIMA(0,1,1)(0,0,0)[0]          \n",
      "Total fit time: 1.109 seconds\n"
     ]
    }
   ],
   "source": [
    "# Utilizando a bilbioteca autoARIMA para verificar a sugestão de melhor modelo de ARIMA para os seis mercados:\n",
    "\n",
    "for market_values_df, market_name in zip(markets_values, markets_names):\n",
    "    print(\"Mercado: \", market_name)\n",
    "    X = market_values_df.values\n",
    "    train, test = X[1:len(X)-12], X[len(X)-12:]\n",
    "    model = auto_arima(train, start_P=0, start_q=0, stepwise=True, trace=True)"
   ]
  },
  {
   "cell_type": "code",
   "execution_count": 9,
   "id": "93fd9e65",
   "metadata": {},
   "outputs": [],
   "source": [
    "windows_lags = []\n",
    "for wg in product([1,2,3,4,5,6,7,8,9,10,11,12], repeat = 2):\n",
    "    windows_lags.append(wg)"
   ]
  },
  {
   "cell_type": "code",
   "execution_count": 10,
   "id": "0189da4f",
   "metadata": {},
   "outputs": [],
   "source": [
    "from statsmodels.tsa.ar_model import AutoReg\n",
    "\n",
    "maes_autoreg = []\n",
    "r2s_autoreg = []\n",
    "\n",
    "results_autoreg ={}\n",
    "\n",
    "for market_values_df, market_name in zip(markets_values, markets_names): \n",
    "    # Separando o dataset entre treino e teste:\n",
    "    series = market_values_df\n",
    "    X = series.values\n",
    "    train, test = X[1:len(X)-12], X[len(X)-12:]\n",
    "\n",
    "    wgs_autoreg = []\n",
    "    for wg in windows_lags:\n",
    "        # Treinando a autoregressão:\n",
    "        window = wg[0]\n",
    "        lags = wg[1]\n",
    "\n",
    "        if lags >= window:\n",
    "            model = AutoReg(train, lags=lags)\n",
    "            model_fit = model.fit()\n",
    "            coef = model_fit.params\n",
    "\n",
    "            # Caminhando sobre o dataset de teste para comparar o valor real com o predito:\n",
    "            history = train[len(train)-window:]\n",
    "            history = [history[i] for i in range(len(history))]\n",
    "            predictions = []\n",
    "\n",
    "            try: \n",
    "                for t in range(len(test)):\n",
    "                    length = len(history)\n",
    "                    lag = [history[i] for i in range(length-window,length)]\n",
    "                    yhat = coef[0]\n",
    "\n",
    "                    for d in range(window):\n",
    "                        yhat += coef[d+1] * lag[window-d-1]\n",
    "\n",
    "                    obs = test[t]\n",
    "                    predictions.append(yhat)\n",
    "                    history.append(obs)\n",
    "                    # print('predicted=%f, expected=%f' % (yhat, obs))\n",
    "            except:\n",
    "                print('Window: ', window)\n",
    "                print('Lags: ', lags )\n",
    "\n",
    "            mae = mean_absolute_error(test, predictions)\n",
    "            maes_autoreg.append(mae)\n",
    "\n",
    "            r2_scr = r2_score(test, predictions)\n",
    "            r2s_autoreg.append(r2_scr)\n",
    "\n",
    "            wgs_autoreg.append((wg, r2_scr, mae))\n",
    "\n",
    "            # print(\"r²: \", r2_scr)\n",
    "            # print(\"mae: \", mae)\n",
    "                    \n",
    "            # # Plotando dados:\n",
    "            # plt.plot(test)\n",
    "            # plt.xticks(ticks=[0,1,2,3,4,5,6,7,8,9,10,11],labels=[1,2,3,4,5,6,7,8,9,10,11,12])\n",
    "            # plt.title(\"Autoregressão Simples - \" + market_name)\n",
    "            # plt.xlabel(\"Mês\")\n",
    "            # plt.ylabel(\"Volume de Venda (t)\")\n",
    "            # plt.plot(predictions, color='red')\n",
    "            # plt.show()\n",
    "    results_autoreg[market_name] = wgs_autoreg "
   ]
  },
  {
   "cell_type": "code",
   "execution_count": 11,
   "id": "22087e14",
   "metadata": {},
   "outputs": [
    {
     "name": "stdout",
     "output_type": "stream",
     "text": [
      "[('AN', (4, 5), -0.22352231584853555, 5217.76336581503), ('AS', (1, 1), 0.018816720191695002, 18327.692132181463), ('EU', (7, 7), 0.03690809379194193, 13378.434769363352), ('AL', (1, 3), 0.016623693248183358, 1059.2329104133712), ('JP', (11, 12), -0.7371376591827148, 12206.520292484514), ('BRL', (5, 5), 0.15798845878579248, 419.4575960688473)]\n"
     ]
    }
   ],
   "source": [
    "res_autoreg = []\n",
    "for key in results_autoreg.keys():\n",
    "    temp_order = []\n",
    "    temp_r2 = []\n",
    "    temp_mae = []\n",
    "    for tpl in results_autoreg[key]:\n",
    "        order = tpl[0]\n",
    "        r2 = tpl[1]\n",
    "        mae = tpl[2]\n",
    "\n",
    "        temp_order.append(order)\n",
    "        temp_r2.append(r2)\n",
    "        temp_mae.append(mae)\n",
    "\n",
    "    max_pos = temp_r2.index(max(temp_r2))\n",
    "    res_autoreg.append((key, temp_order[max_pos], temp_r2[max_pos], temp_mae[max_pos]))\n",
    "\n",
    "print(res_autoreg)"
   ]
  },
  {
   "cell_type": "code",
   "execution_count": 12,
   "id": "afe113ab",
   "metadata": {},
   "outputs": [
    {
     "name": "stdout",
     "output_type": "stream",
     "text": [
      "[(0, 0, 0), (0, 0, 1), (0, 0, 2), (0, 0, 3), (0, 0, 4), (0, 0, 5), (0, 0, 6), (0, 0, 7), (0, 0, 8), (0, 0, 9), (0, 0, 10), (0, 0, 11), (0, 0, 12), (1, 0, 0), (1, 0, 1), (1, 0, 2), (1, 0, 3), (1, 0, 4), (1, 0, 5), (1, 0, 6), (1, 0, 7), (1, 0, 8), (1, 0, 9), (1, 0, 10), (1, 0, 11), (1, 0, 12), (2, 0, 0), (2, 0, 1), (2, 0, 2), (2, 0, 3), (2, 0, 4), (2, 0, 5), (2, 0, 6), (2, 0, 7), (2, 0, 8), (2, 0, 9), (2, 0, 10), (2, 0, 11), (2, 0, 12), (3, 0, 0), (3, 0, 1), (3, 0, 2), (3, 0, 3), (3, 0, 4), (3, 0, 5), (3, 0, 6), (3, 0, 7), (3, 0, 8), (3, 0, 9), (3, 0, 10), (3, 0, 11), (3, 0, 12), (4, 0, 0), (4, 0, 1), (4, 0, 2), (4, 0, 3), (4, 0, 4), (4, 0, 5), (4, 0, 6), (4, 0, 7), (4, 0, 8), (4, 0, 9), (4, 0, 10), (4, 0, 11), (4, 0, 12), (5, 0, 0), (5, 0, 1), (5, 0, 2), (5, 0, 3), (5, 0, 4), (5, 0, 5), (5, 0, 6), (5, 0, 7), (5, 0, 8), (5, 0, 9), (5, 0, 10), (5, 0, 11), (5, 0, 12), (6, 0, 0), (6, 0, 1), (6, 0, 2), (6, 0, 3), (6, 0, 4), (6, 0, 5), (6, 0, 6), (6, 0, 7), (6, 0, 8), (6, 0, 9), (6, 0, 10), (6, 0, 11), (6, 0, 12), (7, 0, 0), (7, 0, 1), (7, 0, 2), (7, 0, 3), (7, 0, 4), (7, 0, 5), (7, 0, 6), (7, 0, 7), (7, 0, 8), (7, 0, 9), (7, 0, 10), (7, 0, 11), (7, 0, 12), (8, 0, 0), (8, 0, 1), (8, 0, 2), (8, 0, 3), (8, 0, 4), (8, 0, 5), (8, 0, 6), (8, 0, 7), (8, 0, 8), (8, 0, 9), (8, 0, 10), (8, 0, 11), (8, 0, 12), (9, 0, 0), (9, 0, 1), (9, 0, 2), (9, 0, 3), (9, 0, 4), (9, 0, 5), (9, 0, 6), (9, 0, 7), (9, 0, 8), (9, 0, 9), (9, 0, 10), (9, 0, 11), (9, 0, 12), (10, 0, 0), (10, 0, 1), (10, 0, 2), (10, 0, 3), (10, 0, 4), (10, 0, 5), (10, 0, 6), (10, 0, 7), (10, 0, 8), (10, 0, 9), (10, 0, 10), (10, 0, 11), (10, 0, 12), (11, 0, 0), (11, 0, 1), (11, 0, 2), (11, 0, 3), (11, 0, 4), (11, 0, 5), (11, 0, 6), (11, 0, 7), (11, 0, 8), (11, 0, 9), (11, 0, 10), (11, 0, 11), (11, 0, 12), (12, 0, 0), (12, 0, 1), (12, 0, 2), (12, 0, 3), (12, 0, 4), (12, 0, 5), (12, 0, 6), (12, 0, 7), (12, 0, 8), (12, 0, 9), (12, 0, 10), (12, 0, 11), (12, 0, 12)]\n"
     ]
    }
   ],
   "source": [
    "orders = []\n",
    "for ord in product([0,1,2,3,4,5,6,7,8,9,10,11,12], repeat = 3):\n",
    "    if ord[1] == 0:\n",
    "        orders.append(ord)\n",
    "\n",
    "print(orders)\n",
    "# comb = list(permutations([0,1,2,3,4,5,6,7,8,9,10,11,12],3))\n",
    "# orders = []\n",
    "# for p in comb:\n",
    "#     if p[1] == 0:\n",
    "#         orders.append(p)\n",
    "\n",
    "# print(orders)\n",
    "\n"
   ]
  },
  {
   "cell_type": "code",
   "execution_count": 13,
   "id": "f9f71e1d",
   "metadata": {},
   "outputs": [
    {
     "name": "stdout",
     "output_type": "stream",
     "text": [
      "AN finalizado!\n",
      "AS finalizado!\n",
      "EU finalizado!\n",
      "JP finalizado!\n",
      "BRL finalizado!\n"
     ]
    }
   ],
   "source": [
    "from statsmodels.tsa.arima.model import ARIMA\n",
    "\n",
    "# # Criação de lista com permutações, para teste de ordens (p,d,q) no ARIMA:\n",
    "# comb = list(permutations([0,1,2,3,4,5,6,7,8,9,10,11,12,13,14,15,16,17,18,19,20,21,22,23,24],3))\n",
    "# size = len(comb)\n",
    "# orders = []\n",
    "# for i in range(len(comb)):\n",
    "#     if comb[i][1] == 0:\n",
    "#         orders.append(comb[i])\n",
    "\n",
    "maes_arima = []\n",
    "r2s_arima = []\n",
    "\n",
    "i = 0\n",
    "\n",
    "results_arima = {}\n",
    "for market_values_df, market_name in zip(markets_values, markets_names):\n",
    "    if market_name != 'AL':\n",
    "    \n",
    "        X = market_values_df[market_name]\n",
    "        train, test = X[1:len(X)-12], X[len(X)-12:]\n",
    "\n",
    "        ords_arima = []\n",
    "        for ord in orders:\n",
    "            model = ARIMA(train, order=ord)\n",
    "            \n",
    "            try:\n",
    "                res = model.fit()\n",
    "                predictions = res.predict(start=pd.to_datetime('2021-01-01'), end=pd.to_datetime('2021-12-01'), dynamic=False)\n",
    "            except:\n",
    "                print(\"Order: \", ord)\n",
    "\n",
    "            mae = mean_absolute_error(test, predictions)\n",
    "            maes_arima.append(mae)\n",
    "\n",
    "            r2_scr = r2_score(test, predictions)\n",
    "            r2s_arima.append(r2_scr)\n",
    "\n",
    "            ords_arima.append((ord, r2_scr, mae))\n",
    "        \n",
    "        print(market_name+\" finalizado!\")\n",
    "\n",
    "        results_arima[market_name] = ords_arima \n",
    "    "
   ]
  },
  {
   "cell_type": "code",
   "execution_count": 16,
   "id": "83465472",
   "metadata": {},
   "outputs": [
    {
     "name": "stdout",
     "output_type": "stream",
     "text": [
      "[('AN', (3, 0, 3), -0.3123155138102365, 5828.576707421737), ('AS', (0, 0, 0), -0.007685064907311023, 18657.166666666668), ('EU', (12, 0, 10), 0.2448438138948813, 12070.68476327897), ('JP', (6, 0, 5), 0.2569226515722546, 8693.49309974908), ('BRL', (7, 0, 12), -0.09984664868767767, 528.655798194797)]\n"
     ]
    }
   ],
   "source": [
    "res_arima = []\n",
    "for key in results_arima.keys():\n",
    "    temp_order = []\n",
    "    temp_r2 = []\n",
    "    temp_mae = []\n",
    "    for tpl in results_arima[key]:\n",
    "        order = tpl[0]\n",
    "        r2 = tpl[1]\n",
    "        mae = tpl[2]\n",
    "\n",
    "        temp_order.append(order)\n",
    "        temp_r2.append(r2)\n",
    "        temp_mae.append(mae)\n",
    "\n",
    "    max_pos = temp_r2.index(max(temp_r2))\n",
    "    res_arima.append((key, temp_order[max_pos], temp_r2[max_pos], temp_mae[max_pos]))\n",
    "\n",
    "print(res_arima)\n",
    " "
   ]
  },
  {
   "cell_type": "code",
   "execution_count": 15,
   "id": "3de99ca9",
   "metadata": {},
   "outputs": [
    {
     "data": {
      "image/png": "[encoded data removed]",
      "text/plain": [
       "<Figure size 432x288 with 1 Axes>"
      ]
     },
     "metadata": {
      "needs_background": "light"
     },
     "output_type": "display_data"
    },
    {
     "data": {
      "image/png": "[encoded data removed]",
      "text/plain": [
       "<Figure size 432x288 with 1 Axes>"
      ]
     },
     "metadata": {
      "needs_background": "light"
     },
     "output_type": "display_data"
    },
    {
     "data": {
      "image/png": "[encoded data removed]",
      "text/plain": [
       "<Figure size 432x288 with 1 Axes>"
      ]
     },
     "metadata": {
      "needs_background": "light"
     },
     "output_type": "display_data"
    },
    {
     "data": {
      "image/png": "[encoded data removed]",
      "text/plain": [
       "<Figure size 432x288 with 1 Axes>"
      ]
     },
     "metadata": {
      "needs_background": "light"
     },
     "output_type": "display_data"
    },
    {
     "data": {
      "image/png": "[encoded data removed]",
      "text/plain": [
       "<Figure size 432x288 with 1 Axes>"
      ]
     },
     "metadata": {
      "needs_background": "light"
     },
     "output_type": "display_data"
    },
    {
     "data": {
      "image/png": "[encoded data removed]",
      "text/plain": [
       "<Figure size 432x288 with 1 Axes>"
      ]
     },
     "metadata": {
      "needs_background": "light"
     },
     "output_type": "display_data"
    },
    {
     "data": {
      "image/png": "[encoded data removed]",
      "text/plain": [
       "<Figure size 432x288 with 1 Axes>"
      ]
     },
     "metadata": {
      "needs_background": "light"
     },
     "output_type": "display_data"
    },
    {
     "data": {
      "image/png": "[encoded data removed]",
      "text/plain": [
       "<Figure size 432x288 with 1 Axes>"
      ]
     },
     "metadata": {
      "needs_background": "light"
     },
     "output_type": "display_data"
    },
    {
     "data": {
      "image/png": "[encoded data removed]",
      "text/plain": [
       "<Figure size 432x288 with 1 Axes>"
      ]
     },
     "metadata": {
      "needs_background": "light"
     },
     "output_type": "display_data"
    },
    {
     "data": {
      "image/png": "[encoded data removed]",
      "text/plain": [
       "<Figure size 432x288 with 1 Axes>"
      ]
     },
     "metadata": {
      "needs_background": "light"
     },
     "output_type": "display_data"
    },
    {
     "data": {
      "image/png": "[encoded data removed]",
      "text/plain": [
       "<Figure size 432x288 with 1 Axes>"
      ]
     },
     "metadata": {
      "needs_background": "light"
     },
     "output_type": "display_data"
    },
    {
     "data": {
      "image/png": "[encoded data removed]",
      "text/plain": [
       "<Figure size 432x288 with 1 Axes>"
      ]
     },
     "metadata": {
      "needs_background": "light"
     },
     "output_type": "display_data"
    }
   ],
   "source": [
    "for market_values_df, market_name in zip(markets_values, markets_names):\n",
    "    plot_acf(market_values_df[market_name], lags=12)\n",
    "    plt.title(\"AutoCorrelação - \"+ market_name)\n",
    "    plt.xticks(ticks=[0,1,2,3,4,5,6,7,8,9,10,11],labels=[1,2,3,4,5,6,7,8,9,10,11,12])\n",
    "    plt.show()\n",
    "\n",
    "    plot_pacf(market_values_df[market_name], lags=12)\n",
    "    plt.title(\"AutoCorrelação Parcial - \"+ market_name)\n",
    "    plt.xticks(ticks=[0,1,2,3,4,5,6,7,8,9,10,11],labels=[1,2,3,4,5,6,7,8,9,10,11,12])\n",
    "    plt.show()"
   ]
  }
 ],
 "metadata": {
  "kernelspec": {
   "display_name": "Python 3.10.5 ('venv': venv)",
   "language": "python",
   "name": "python3"
  },
  "language_info": {
   "codemirror_mode": {
    "name": "ipython",
    "version": 3
   },
   "file_extension": ".py",
   "mimetype": "text/x-python",
   "name": "python",
   "nbconvert_exporter": "python",
   "pygments_lexer": "ipython3",
   "version": "3.10.5"
  },
  "vscode": {
   "interpreter": {
    "hash": "9a3b2061ab4de3120946481c70cc3dc0b8298eb4f1b536ff0ad213a7b9533338"
   }
  }
 },
 "nbformat": 4,
 "nbformat_minor": 5
}
