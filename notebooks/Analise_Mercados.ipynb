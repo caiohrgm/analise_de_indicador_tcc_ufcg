{
 "cells": [
  {
   "cell_type": "code",
   "execution_count": null,
   "id": "e6b8edaa",
   "metadata": {},
   "outputs": [],
   "source": [
    "import glob\n",
    "import warnings\n",
    "import numpy as np\n",
    "import pandas as pd\n",
    "import seaborn as sns\n",
    "import matplotlib.pyplot as plt\n",
    "\n",
    "global companies_set \n",
    "\n",
    "warnings.filterwarnings('ignore')"
   ]
  },
  {
   "cell_type": "markdown",
   "id": "259c88ff",
   "metadata": {},
   "source": [
    "# 1 - Análise dos mercados (independente da empresa)"
   ]
  },
  {
   "cell_type": "code",
   "execution_count": null,
   "id": "a9eb311d",
   "metadata": {},
   "outputs": [],
   "source": [
    "door_dir = glob.glob(r\"D:\\Documentos_D\\UFCG\\2021.2e\\TCC\\Project\\analise_de_indicador_tcc_ufcg\\data\\processed\\**\\*\" + \".csv\", recursive=True)\n",
    "\n",
    "\n",
    "df = pd.DataFrame()\n",
    "\n",
    "for file_path in door_dir:\n",
    "    temp_df = pd.read_csv(file_path)\n",
    "    df = df.append(temp_df)\n",
    "\n",
    "df = df.reset_index().drop(['index'], axis=1)\n",
    "\n",
    "display(df)"
   ]
  },
  {
   "cell_type": "code",
   "execution_count": null,
   "id": "e743a440",
   "metadata": {},
   "outputs": [],
   "source": [
    "# Evolução média de todos os mercados do Hemisfério Norte:\n",
    "query_df = df[(df.Mercado == 'R1') | (df.Mercado == 'R2') | (df.Mercado == 'R3') | (df.Mercado == 'R5')]\n",
    "query_df = query_df.sort_values(by='Data')\n",
    "\n",
    "means_north_hemisfer = []\n",
    "year = 2012\n",
    "while year < 2022:\n",
    "    query = query_df[((query_df.Data >= str(year)) & (query_df.Data < str(year+1)))]\n",
    "    query['Volume_Venda'] = query['Volume_Venda'].astype(float)\n",
    "    \n",
    "    mean = np.round(query['Volume_Venda'].mean(),4)\n",
    "    \n",
    "    means_north_hemisfer.append(mean)\n",
    "    year += 1\n",
    "\n",
    "means = means_north_hemisfer\n",
    "bars = ['2012','2013','2014','2015','2016','2017','2018','2019','2020','2021']\n",
    "y_pos = np.arange(len(bars))\n",
    "plt.title(\"Média do Volume de Vendas/ano | Mercados do Hemisfério Norte\")\n",
    "plt.plot(y_pos, means)\n",
    "plt.xticks(y_pos, bars)\n",
    "\n",
    "save_path = r\"D:\\Documentos_D\\UFCG\\2021.2e\\TCC\\graficos\\analise_mercados\" + \"\\\\\" + \"analise_mercados_hemisferio_norte.png\"\n",
    "plt.savefig(save_path)\n",
    "\n",
    "plt.close()"
   ]
  },
  {
   "cell_type": "code",
   "execution_count": null,
   "id": "0fd1014d",
   "metadata": {},
   "outputs": [],
   "source": [
    "# Evolução média de todos os mercados do Hemisfério Sul:\n",
    "query_df = df[(df.Mercado == 'R4') | (df.Mercado == 'R6')]\n",
    "query_df = query_df.sort_values(by='Data')\n",
    "\n",
    "means_south_hemisfer = []\n",
    "year = 2012\n",
    "while year < 2022:\n",
    "    query = query_df[((query_df.Data >= str(year)) & (query_df.Data < str(year+1)))]\n",
    "    query['Volume_Venda'] = query['Volume_Venda'].astype(float)\n",
    "    \n",
    "    mean = np.round(query['Volume_Venda'].mean(),4)\n",
    "\n",
    "    means_south_hemisfer.append(mean)\n",
    "    year += 1\n",
    "\n",
    "means = means_south_hemisfer\n",
    "bars = ['2012','2013','2014','2015','2016','2017','2018','2019','2020','2021']\n",
    "y_pos = np.arange(len(bars))\n",
    "plt.title(\"Média do Volume de Vendas/ano | Mercados do Hemisfério Sul\")\n",
    "plt.plot(y_pos, means)\n",
    "plt.xticks(y_pos, bars)\n",
    "\n",
    "save_path = r\"D:\\Documentos_D\\UFCG\\2021.2e\\TCC\\graficos\\analise_mercados\" + \"\\\\\" + \"analise_mercados_hemisferio_sul.png\"\n",
    "plt.savefig(save_path)\n",
    "\n",
    "plt.close()"
   ]
  },
  {
   "cell_type": "code",
   "execution_count": null,
   "id": "5b56d263",
   "metadata": {},
   "outputs": [],
   "source": [
    "# Analise de Média dos mercados:\n",
    "mercado_01 = 'R5'\n",
    "mercado_02 = 'R4'\n",
    "df_01 = df[(df.Mercado == mercado_01)].sort_values(by='Data')\n",
    "df_02 = df[(df.Mercado == mercado_02)].sort_values(by='Data')\n",
    "\n",
    "means_01 = []\n",
    "means_02 = []\n",
    "year = 2012\n",
    "\n",
    "while year < 2022:\n",
    "    query_01 = df_01[((df_01.Data >= str(year)) & (df_01.Data < str(year+1)))]\n",
    "    query_01['Volume_Venda'] = query_01['Volume_Venda'].astype(float)\n",
    "    mean_01 = np.round(query_01['Volume_Venda'].mean(),4)\n",
    "    means_01.append(mean_01)\n",
    "\n",
    "    query_02 = df_02[((df_02.Data >= str(year)) & (df_02.Data < str(year+1)))]\n",
    "    query_02['Volume_Venda'] = query_02['Volume_Venda'].astype(float)\n",
    "    mean_02 = np.round(query_02['Volume_Venda'].mean(),4)\n",
    "    means_02.append(mean_02)\n",
    "\n",
    "    year += 1\n",
    "\n",
    "bars = ['2012','2013','2014','2015','2016','2017','2018','2019','2020','2021']\n",
    "y_pos = np.arange(len(bars))\n",
    "plt.title(\"Média do Volume de Vendas/ano | \" + mercado_01 + \"x\" + mercado_02)\n",
    "plt.plot(y_pos, means_01)\n",
    "plt.plot(y_pos, means_02)\n",
    "plt.xticks(y_pos, bars)\n",
    "plt.legend([mercado_01, mercado_02], loc=0, frameon=True)\n",
    "\n",
    "save_path = r\"D:\\Documentos_D\\UFCG\\2021.2e\\TCC\\graficos\\analise_mercados\" + \"\\\\\" + \"analise_mercados_\" + mercado_01 + \"x\" + mercado_02 + \".png\"\n",
    "plt.savefig(save_path)\n",
    "\n",
    "plt.close()"
   ]
  },
  {
   "cell_type": "code",
   "execution_count": null,
   "id": "7a162fc7",
   "metadata": {},
   "outputs": [],
   "source": [
    "dfm = pd.DataFrame()\n",
    "temp_df = df[((df.Mercado == 'R1') & (df.Empresa == 'BR'))].reset_index().drop(['index'],axis=1)\n",
    "\n",
    "dfm['Data'] = temp_df.Data\n",
    "dfm['Data'] = pd.to_datetime(dfm.Data)\n",
    "\n",
    "# ----------------------------------------------------R1:\n",
    "r1_bc = df[((df.Mercado == 'R1') & (df.Empresa == 'BC'))].Volume_Venda.astype(float).to_frame()\n",
    "r1_br = df[((df.Mercado == 'R1') & (df.Empresa == 'BR'))].Volume_Venda.reset_index().drop(['index'], axis=1).astype(float)\n",
    "\n",
    "dfm['R1'] = r1_bc.add(r1_br,axis=0)\n",
    "# ----------------------------------------------------R2:\n",
    "r2_bi = df[((df.Mercado == 'R2') & (df.Empresa == 'BI'))].Volume_Venda.reset_index().drop(['index'], axis=1).astype(float)\n",
    "r2_br = df[((df.Mercado == 'R2') & (df.Empresa == 'BR'))].Volume_Venda.reset_index().drop(['index'], axis=1).astype(float)\n",
    "\n",
    "r2_bt_temp = pd.DataFrame(columns=['Volume_Venda'])\n",
    "values = []\n",
    "for i in range(18):\n",
    "    values.append(0)\n",
    "r2_bt_temp['Volume_Venda'] = values\n",
    "r2_bt = df[((df.Mercado == 'R2') & (df.Empresa == 'BT'))].Volume_Venda.reset_index().drop(['index'], axis=1).astype(float)\n",
    "r2_bt = r2_bt.append(r2_bt_temp).reset_index().drop(['index'], axis=1)\n",
    "\n",
    "dfm['R2'] = r2_bi.add(r2_br,axis=0)\n",
    "dfm['R2'] = dfm['R2'] + r2_bt['Volume_Venda']\n",
    "# ----------------------------------------------------R3:\n",
    "r3_bi = df[((df.Mercado == 'R3') & (df.Empresa == 'BI'))].Volume_Venda.reset_index().drop(['index'], axis=1).astype(float)\n",
    "r3_br = df[((df.Mercado == 'R3') & (df.Empresa == 'BR'))].Volume_Venda.reset_index().drop(['index'], axis=1).astype(float)\n",
    "\n",
    "dfm['R3'] = r3_bi.add(r3_br,axis=0)\n",
    "# ----------------------------------------------------R4:\n",
    "r4_br_temp = pd.DataFrame(columns=['Volume_Venda'])\n",
    "values = []\n",
    "for i in range(13):\n",
    "    values.append(0)\n",
    "r4_br_temp['Volume_Venda'] = values\n",
    "r4_br = df[((df.Mercado == 'R4') & (df.Empresa == 'BR'))].Volume_Venda.reset_index().drop(['index'], axis=1).astype(float)\n",
    "r4_br = r4_br.append(r4_br_temp).reset_index().drop(['index'], axis=1)\n",
    "\n",
    "display(r4_br)\n",
    "\n",
    "\n",
    "r4_bt_temp = pd.DataFrame(columns=['Volume_Venda'])\n",
    "values = []\n",
    "for i in range(18):\n",
    "    values.append(0)\n",
    "r4_bt_temp['Volume_Venda'] = values\n",
    "r4_bt = df[((df.Mercado == 'R4') & (df.Empresa == 'BT'))].Volume_Venda.reset_index().drop(['index'], axis=1).astype(float)\n",
    "r4_bt = r4_bt.append(r4_bt_temp).reset_index().drop(['index'], axis=1)\n",
    "\n",
    "display(r4_bt)\n",
    "\n",
    "dfm['R4'] = r4_br.add(r4_bt,axis=0)\n",
    "# ----------------------------------------------------R5:\n",
    "r5_bi_temp = pd.DataFrame(columns=['Volume_Venda'])\n",
    "values = []\n",
    "for i in range(56):\n",
    "    values.append(0)\n",
    "r5_bi_temp ['Volume_Venda'] = values\n",
    "r5_bi = df[((df.Mercado == 'R5') & (df.Empresa == 'BI'))].Volume_Venda.reset_index().drop(['index'], axis=1).astype(float)\n",
    "r5_bi = r5_bi_temp.append(r5_bi).reset_index().drop(['index'], axis=1)\n",
    "\n",
    "r5_br = df[((df.Mercado == 'R5') & (df.Empresa == 'BR'))].Volume_Venda.reset_index().drop(['index'], axis=1).astype(float)\n",
    "\n",
    "r5_bt_temp = pd.DataFrame(columns=['Volume_Venda'])\n",
    "values = []\n",
    "for i in range(18):\n",
    "    values.append(0)\n",
    "r5_bt_temp ['Volume_Venda'] = values\n",
    "r5_bt = df[((df.Mercado == 'R5') & (df.Empresa == 'BT'))].Volume_Venda.reset_index().drop(['index'], axis=1).astype(float)\n",
    "r5_bt = r5_bt.append(r5_bt_temp ).reset_index().drop(['index'], axis=1)\n",
    "\n",
    "dfm['R5'] = r5_bi.add(r5_br, axis=0)\n",
    "dfm['R5'] = dfm['R5'] + r5_bt['Volume_Venda']\n",
    "# ----------------------------------------------------R6:\n",
    "r6_br = df[((df.Mercado == 'R6') & (df.Empresa == 'BR'))].Volume_Venda.reset_index().drop(['index'], axis=1).astype(float)\n",
    "dfm['R6'] = r6_br\n",
    "\n",
    "dfm = dfm.set_index('Data')\n",
    "\n",
    "display(dfm)"
   ]
  },
  {
   "cell_type": "code",
   "execution_count": null,
   "id": "2eebd601",
   "metadata": {},
   "outputs": [],
   "source": [
    "dfm.plot(figsize=(18,10))\n",
    "path = r'D:\\Documentos_D\\UFCG\\2021.2e\\TCC\\Project\\analise_de_indicador_tcc_ufcg\\reports\\figures\\time_series'\n",
    "plt.savefig(path+ '\\\\'+ '\\general_time_series.png')\n",
    "plt.close()"
   ]
  },
  {
   "cell_type": "code",
   "execution_count": null,
   "id": "f9f71e1d",
   "metadata": {},
   "outputs": [],
   "source": [
    "intvl = []\n",
    "beg = 0\n",
    "for i in range(0, 95000, 5000):\n",
    "    intvl.append(i)\n",
    "\n",
    "# Tirando ruíddo, para analisar as tendencias, usando medias moveis:\n",
    "for i in range(1,7):\n",
    "    market = 'R'+str(i)\n",
    "    dfm[market].rolling(12).mean().plot(figsize=(15,6),legend=True, yticks=intvl)\n",
    "\n",
    "path = r'D:\\Documentos_D\\UFCG\\2021.2e\\TCC\\Project\\analise_de_indicador_tcc_ufcg\\reports\\figures\\time_series'\n",
    "plt.savefig(path+ '\\\\'+ '\\general_time_series_less_noise.png')\n",
    "plt.close()"
   ]
  },
  {
   "cell_type": "code",
   "execution_count": null,
   "id": "e9747ae9",
   "metadata": {},
   "outputs": [],
   "source": [
    "# Análise da sazonalidade, com diferenças sucessivas (valores negativos indicam que houve queda ente o valor anterior e o novo mes):\n",
    "filtro = (dfm.index.year >= 2012) & (dfm.index.year <= 2020)\n",
    "\n",
    "for i in range(1,7):\n",
    "    market = \"R\"+str(i)\n",
    "    dfm[filtro][market].diff().plot(figsize=(15,6),legend= True)\n",
    "\n",
    "path = r'D:\\Documentos_D\\UFCG\\2021.2e\\TCC\\Project\\analise_de_indicador_tcc_ufcg\\reports\\figures\\time_series'\n",
    "plt.savefig(path+ '\\\\'+ '\\general_seasonality.png')\n",
    "plt.close()"
   ]
  },
  {
   "cell_type": "code",
   "execution_count": null,
   "id": "1e9fec64",
   "metadata": {},
   "outputs": [],
   "source": [
    "dfm[filtro].R1.diff().plot(figsize=(15,6),legend= True)\n",
    "\n",
    "path = r'D:\\Documentos_D\\UFCG\\2021.2e\\TCC\\Project\\analise_de_indicador_tcc_ufcg\\reports\\figures\\time_series'\n",
    "plt.savefig(path+ '\\\\'+ '\\seasonality_r1_year_line.png')\n",
    "plt.close()"
   ]
  },
  {
   "cell_type": "code",
   "execution_count": null,
   "id": "e0b314ba",
   "metadata": {},
   "outputs": [],
   "source": [
    "dfm.R1.diff().groupby(dfm.index.month).mean(0).plot(kind='bar')\n",
    "\n",
    "path = r'D:\\Documentos_D\\UFCG\\2021.2e\\TCC\\Project\\analise_de_indicador_tcc_ufcg\\reports\\figures\\time_series'\n",
    "plt.savefig(path+ '\\\\'+ '\\seasonality_r1_month_bars.png')\n",
    "plt.close()"
   ]
  },
  {
   "cell_type": "code",
   "execution_count": null,
   "id": "c6eacaa6",
   "metadata": {},
   "outputs": [],
   "source": [
    "dfm[filtro].R2.diff().plot(figsize=(15,6),legend= True, color= 'orange')\n",
    "\n",
    "path = r'D:\\Documentos_D\\UFCG\\2021.2e\\TCC\\Project\\analise_de_indicador_tcc_ufcg\\reports\\figures\\time_series'\n",
    "plt.savefig(path+ '\\\\'+ '\\seasonality_r2_year_line.png')\n",
    "plt.close()"
   ]
  },
  {
   "cell_type": "code",
   "execution_count": null,
   "id": "d3ac6348",
   "metadata": {},
   "outputs": [],
   "source": [
    "dfm.R2.diff().groupby(dfm.index.month).mean(0).plot(color='orange',kind='bar')\n",
    "\n",
    "path = r'D:\\Documentos_D\\UFCG\\2021.2e\\TCC\\Project\\analise_de_indicador_tcc_ufcg\\reports\\figures\\time_series'\n",
    "plt.savefig(path+ '\\\\'+ '\\seasonality_r2_month_bars.png')\n",
    "plt.close()"
   ]
  },
  {
   "cell_type": "code",
   "execution_count": null,
   "id": "ec54e8e1",
   "metadata": {},
   "outputs": [],
   "source": [
    "dfm[filtro].R3.diff().plot(figsize=(15,6),legend= True, color='green')\n",
    "\n",
    "path = r'D:\\Documentos_D\\UFCG\\2021.2e\\TCC\\Project\\analise_de_indicador_tcc_ufcg\\reports\\figures\\time_series'\n",
    "plt.savefig(path+ '\\\\'+ '\\seasonality_r3_year_line.png')\n",
    "plt.close()"
   ]
  },
  {
   "cell_type": "code",
   "execution_count": null,
   "id": "8ec2c14e",
   "metadata": {},
   "outputs": [],
   "source": [
    "dfm.R3.diff().groupby(dfm.index.month).mean(0).plot(color='green',kind='bar')\n",
    "\n",
    "path = r'D:\\Documentos_D\\UFCG\\2021.2e\\TCC\\Project\\analise_de_indicador_tcc_ufcg\\reports\\figures\\time_series'\n",
    "plt.savefig(path+ '\\\\'+ '\\seasonality_r3_month_bars.png')\n",
    "plt.close()"
   ]
  },
  {
   "cell_type": "code",
   "execution_count": null,
   "id": "f57f0872",
   "metadata": {},
   "outputs": [],
   "source": [
    "dfm[filtro].R4.diff().plot(figsize=(15,6),legend= True, color='red')\n",
    "\n",
    "path = r'D:\\Documentos_D\\UFCG\\2021.2e\\TCC\\Project\\analise_de_indicador_tcc_ufcg\\reports\\figures\\time_series'\n",
    "plt.savefig(path+ '\\\\'+ '\\seasonality_r4_year_line.png')\n",
    "plt.close()"
   ]
  },
  {
   "cell_type": "code",
   "execution_count": null,
   "id": "ee51de9e",
   "metadata": {},
   "outputs": [],
   "source": [
    "dfm.R4.diff().groupby(dfm.index.month).mean(0).plot(color='red',kind='bar')\n",
    "\n",
    "path = r'D:\\Documentos_D\\UFCG\\2021.2e\\TCC\\Project\\analise_de_indicador_tcc_ufcg\\reports\\figures\\time_series'\n",
    "plt.savefig(path+ '\\\\'+ '\\seasonality_r4_month_bars.png')\n",
    "plt.close()"
   ]
  },
  {
   "cell_type": "code",
   "execution_count": null,
   "id": "96c229ee",
   "metadata": {},
   "outputs": [],
   "source": [
    "dfm[filtro].R5.diff().plot(figsize=(15,6),legend= True,color='purple')\n",
    "\n",
    "path = r'D:\\Documentos_D\\UFCG\\2021.2e\\TCC\\Project\\analise_de_indicador_tcc_ufcg\\reports\\figures\\time_series'\n",
    "plt.savefig(path+ '\\\\'+ '\\seasonality_r5_year_line.png')\n",
    "plt.close()"
   ]
  },
  {
   "cell_type": "code",
   "execution_count": null,
   "id": "ab3afd3a",
   "metadata": {},
   "outputs": [],
   "source": [
    "dfm.R5.diff().groupby(dfm.index.month).mean(0).plot(color='purple',kind='bar')\n",
    "\n",
    "path = r'D:\\Documentos_D\\UFCG\\2021.2e\\TCC\\Project\\analise_de_indicador_tcc_ufcg\\reports\\figures\\time_series'\n",
    "plt.savefig(path+ '\\\\'+ '\\seasonality_r5_month_bars.png')\n",
    "plt.close()"
   ]
  },
  {
   "cell_type": "code",
   "execution_count": null,
   "id": "9904db37",
   "metadata": {},
   "outputs": [],
   "source": [
    "dfm[filtro].R6.diff().plot(figsize=(15,6),legend= True, color='brown')\n",
    "\n",
    "path = r'D:\\Documentos_D\\UFCG\\2021.2e\\TCC\\Project\\analise_de_indicador_tcc_ufcg\\reports\\figures\\time_series'\n",
    "plt.savefig(path+ '\\\\'+ '\\seasonality_r6_year_line.png')\n",
    "plt.close()"
   ]
  },
  {
   "cell_type": "code",
   "execution_count": null,
   "id": "ea6fd88b",
   "metadata": {},
   "outputs": [],
   "source": [
    "dfm.R6.diff().groupby(dfm.index.month).mean(0).plot(color='brown',kind='bar')\n",
    "\n",
    "path = r'D:\\Documentos_D\\UFCG\\2021.2e\\TCC\\Project\\analise_de_indicador_tcc_ufcg\\reports\\figures\\time_series'\n",
    "plt.savefig(path+ '\\\\'+ '\\seasonality_r6_month_bars.png')\n",
    "plt.close()"
   ]
  },
  {
   "cell_type": "code",
   "execution_count": null,
   "id": "e54df1db",
   "metadata": {},
   "outputs": [],
   "source": []
  },
  {
   "cell_type": "code",
   "execution_count": null,
   "id": "ba64f659",
   "metadata": {},
   "outputs": [],
   "source": []
  },
  {
   "cell_type": "code",
   "execution_count": null,
   "id": "592d4254",
   "metadata": {},
   "outputs": [],
   "source": []
  }
 ],
 "metadata": {
  "kernelspec": {
   "display_name": "Python 3.10.5 ('venv': venv)",
   "language": "python",
   "name": "python3"
  },
  "language_info": {
   "codemirror_mode": {
    "name": "ipython",
    "version": 3
   },
   "file_extension": ".py",
   "mimetype": "text/x-python",
   "name": "python",
   "nbconvert_exporter": "python",
   "pygments_lexer": "ipython3",
   "version": "3.10.5"
  },
  "vscode": {
   "interpreter": {
    "hash": "9a3b2061ab4de3120946481c70cc3dc0b8298eb4f1b536ff0ad213a7b9533338"
   }
  }
 },
 "nbformat": 4,
 "nbformat_minor": 5
}
