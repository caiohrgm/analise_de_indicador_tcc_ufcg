{
 "cells": [
  {
   "cell_type": "code",
   "execution_count": null,
   "id": "00fa5f6c",
   "metadata": {},
   "outputs": [],
   "source": [
    "from pathlib import Path\n",
    "sys.path.append(str(Path.cwd().parent))"
   ]
  },
  {
   "cell_type": "code",
   "execution_count": null,
   "id": "e6b8edaa",
   "metadata": {},
   "outputs": [],
   "source": [
    "import sys\n",
    "import warnings\n",
    "import numpy as np\n",
    "import pandas as pd\n",
    "import seaborn as sns\n",
    "import matplotlib.pyplot as plt\n",
    "from src.data import make_dataset\n",
    "\n",
    "global companies_set \n",
    "\n",
    "warnings.filterwarnings('ignore')"
   ]
  },
  {
   "cell_type": "markdown",
   "id": "5dcf4f4b",
   "metadata": {},
   "source": [
    "# EDA - BC"
   ]
  },
  {
   "cell_type": "markdown",
   "id": "eec1b834",
   "metadata": {},
   "source": [
    "## 1 - Preparação do DataSet"
   ]
  },
  {
   "cell_type": "code",
   "execution_count": null,
   "id": "97bf584d",
   "metadata": {},
   "outputs": [],
   "source": [
    "path = r\"D:\\Documentos_D\\UFCG\\2021.2e\\TCC\\Project\\analise_de_indicador_tcc_ufcg\\data\\raw\\indicadores_raw.csv\"\n",
    "companies_set = make_dataset.prepare_datasets(path)"
   ]
  },
  {
   "cell_type": "code",
   "execution_count": null,
   "id": "8b717a85",
   "metadata": {},
   "outputs": [],
   "source": [
    "companies_set[0]"
   ]
  },
  {
   "cell_type": "markdown",
   "id": "259c88ff",
   "metadata": {},
   "source": [
    "## 2 - Análise Exploratória dos Dados"
   ]
  },
  {
   "cell_type": "markdown",
   "id": "95ce8d69",
   "metadata": {},
   "source": [
    "#### - Canal: C1 | Mercado: AN"
   ]
  },
  {
   "cell_type": "code",
   "execution_count": null,
   "id": "24ffbf9a-f3f1-4662-a21f-d5492d47f6ca",
   "metadata": {},
   "outputs": [],
   "source": [
    "company = companies_set[0][0]\n",
    "channel = 'C1'\n",
    "market = 'AN'\n",
    "cmp_df_r1 = companies_set[0][1].reset_index().drop(['index'],axis=1)\n",
    "cmp_df_r1 = cmp_df_r1[((cmp_df_r1.Canal_Distribuicao == channel) & (cmp_df_r1.Mercado == market))]\n",
    "cmp_df_r1 = cmp_df_r1[((cmp_df_r1.Empresa != \"Indefinido\") & (cmp_df_r1.Canal_Distribuicao != \"Indefinido\") & (cmp_df_r1.Mercado != \"Indefinido\"))]\n",
    "cmp_df_r1 = cmp_df_r1.sort_values(by='Volume_Venda').reset_index().drop(['index'],axis=1)\n",
    "cmp_df_r1 = cmp_df_r1.drop_duplicates('Data',keep='last').sort_values(by='Data').reset_index().drop(['index'],axis=1)\n",
    "\n",
    "totals_bc_me_r1 = []\n",
    "\n",
    "year = 2012\n",
    "while year < 2022:\n",
    "    query = cmp_df_r1[((cmp_df_r1.Data >= str(year)) & (cmp_df_r1.Data < str(year+1)))]\n",
    "    query['Volume_Venda'] = query['Volume_Venda'].astype(float)\n",
    "   \n",
    "    total = np.round(query['Volume_Venda'].sum(),4)\n",
    "    totals_bc_me_r1.append(total)\n",
    "\n",
    "    year += 1\n",
    "\n",
    "totals = totals_bc_me_r1\n",
    "bars = ['2012','2013','2014','2015','2016','2017','2018','2019','2020','2021']\n",
    "y_pos = np.arange(len(bars))\n",
    "plt.title(\"Total do Volume de Vendas / ano | \" + companies_set[0][0] + \" - \"+ channel + \" - \" + market)\n",
    "sns.set(rc = {'figure.figsize':(4,3)})\n",
    "sns.set_style(\"white\", {\"grid.color\": \".6\", \"grid.linestyle\": \":\"})\n",
    "grp = sns.barplot(bars,totals)\n",
    "grp.yaxis.grid(True)\n",
    "plt.xlabel('Ano')\n",
    "plt.ylabel('Volume de Vendas')\n",
    "\n",
    "\n",
    "# means_bc_me_r1 = []\n",
    "# year = 2012\n",
    "\n",
    "# while year < 2022:\n",
    "#     query = cmp_df_r1[((cmp_df_r1.Data >= str(year)) & (cmp_df_r1.Data < str(year+1)))]\n",
    "#     query['Volume_Venda'] = query['Volume_Venda'].astype(float)\n",
    "   \n",
    "#     mean = np.round(query['Volume_Venda'].mean(),4)\n",
    "#     means_bc_me_r1.append(mean)\n",
    "\n",
    "#     year += 1\n",
    "\n",
    "# means = means_bc_me_r1\n",
    "# bars = ['2012','2013','2014','2015','2016','2017','2018','2019','2020','2021']\n",
    "# y_pos = np.arange(len(bars))\n",
    "# plt.title(\"Média do Volume de Vendas/ano | \" + companies_set[0][0] + \" - \"+ channel + \" - \" + market)\n",
    "# plt.plot(y_pos, means)\n",
    "# plt.xticks(y_pos, bars)\n",
    "# plt.xlabel('Ano')\n",
    "# plt.ylabel('Volume de Vendas médio')\n",
    "\n",
    "# save_path = r\"D:\\Documentos_D\\UFCG\\2021.2e\\TCC\\Project\\analise_de_indicador_tcc_ufcg\\reports\\figures\\means\" + \"\\\\\" + company + \"\\\\\" + channel + \"_\" + market + \"_media\" \".png\"\n",
    "# plt.savefig(save_path)\n",
    "\n",
    "# plt.close()"
   ]
  },
  {
   "cell_type": "markdown",
   "id": "1e796040",
   "metadata": {},
   "source": [
    "#### Criando arquivo csv do dataset filtrado de BC:"
   ]
  },
  {
   "cell_type": "code",
   "execution_count": null,
   "id": "2a9ec794",
   "metadata": {},
   "outputs": [],
   "source": [
    "df = pd.DataFrame()\n",
    "df = df.append(cmp_df_r1)\n",
    "\n",
    "df.drop(df.tail(1).index, inplace=True) \n",
    "\n",
    "file = r\"D:\\Documentos_D\\UFCG\\2021.2e\\TCC\\Project\\analise_de_indicador_tcc_ufcg\\data\\processed\" + \"\\\\\" + company + \".csv\"\n",
    "df.to_csv(file, index=False)"
   ]
  },
  {
   "cell_type": "code",
   "execution_count": null,
   "id": "2db5a8fb",
   "metadata": {},
   "outputs": [],
   "source": [
    "print(\"Execução de BC encerrada!\")"
   ]
  }
 ],
 "metadata": {
  "kernelspec": {
   "display_name": "Python 3 (ipykernel)",
   "language": "python",
   "name": "python3"
  },
  "language_info": {
   "codemirror_mode": {
    "name": "ipython",
    "version": 3
   },
   "file_extension": ".py",
   "mimetype": "text/x-python",
   "name": "python",
   "nbconvert_exporter": "python",
   "pygments_lexer": "ipython3",
   "version": "3.10.5"
  },
  "vscode": {
   "interpreter": {
    "hash": "9a3b2061ab4de3120946481c70cc3dc0b8298eb4f1b536ff0ad213a7b9533338"
   }
  }
 },
 "nbformat": 4,
 "nbformat_minor": 5
}
