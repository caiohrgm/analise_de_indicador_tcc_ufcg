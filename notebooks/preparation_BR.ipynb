{
 "cells": [
  {
   "cell_type": "code",
   "execution_count": 1,
   "id": "e6b8edaa",
   "metadata": {},
   "outputs": [],
   "source": [
    "import sys\n",
    "import warnings\n",
    "import numpy as np\n",
    "import pandas as pd\n",
    "import seaborn as sns\n",
    "import matplotlib.pyplot as plt\n",
    "\n",
    "from pathlib import Path\n",
    "sys.path.append(str(Path.cwd().parent))\n",
    "\n",
    "from src.data import make_dataset\n",
    "\n",
    "global companies_set \n",
    "\n",
    "warnings.filterwarnings('ignore')"
   ]
  },
  {
   "cell_type": "markdown",
   "id": "d73e6f46",
   "metadata": {},
   "source": [
    "# Preparation - BR"
   ]
  },
  {
   "cell_type": "markdown",
   "id": "88990445",
   "metadata": {},
   "source": [
    "## 1 - Preparação do DataSet"
   ]
  },
  {
   "cell_type": "code",
   "execution_count": 2,
   "id": "97bf584d",
   "metadata": {},
   "outputs": [
    {
     "name": "stdout",
     "output_type": "stream",
     "text": [
      "Informações básicas do conjunto de indicadores:\n",
      "Empresas:  ['E1' 'E3' 'E2' 'E4']\n",
      "Canais:  ['Indefinido' 'C1' 'C2' 'C3']\n",
      "Mercado:  ['Indefinido' 'AN' 'AS' 'EU' 'AL' 'JP' 'BRL']\n",
      "\n",
      "Obs: Os canais e mercados que são 'NaN' serão desconsiderados.\n"
     ]
    }
   ],
   "source": [
    "path = r\"D:\\Documentos_D\\UFCG\\2021.2e\\TCC\\Project\\analise_de_indicador_tcc_ufcg\\data\\raw\\indicadores_raw.csv\"\n",
    "companies_set = make_dataset.prepare_datasets(path)"
   ]
  },
  {
   "cell_type": "markdown",
   "id": "259c88ff",
   "metadata": {},
   "source": [
    "## 2 - Filtrando Volume de Vendas por Canal e Mercado"
   ]
  },
  {
   "cell_type": "markdown",
   "id": "22672f82",
   "metadata": {},
   "source": [
    "#### - Canal: *EE* | Mercado: *R1*"
   ]
  },
  {
   "cell_type": "code",
   "execution_count": 3,
   "id": "d27d03bd",
   "metadata": {},
   "outputs": [],
   "source": [
    "company = companies_set[2][0]\n",
    "channel = 'C2'\n",
    "market = 'AN'\n",
    "cmp_df_r1 = companies_set[2][1]\n",
    "cmp_df_r1 = cmp_df_r1[(cmp_df_r1.Canal_Distribuicao == channel) & (cmp_df_r1.Mercado == market) ]\n",
    "cmp_df_r1 = cmp_df_r1[((cmp_df_r1.Empresa != \"Indefinido\") & (cmp_df_r1.Canal_Distribuicao != \"Indefinido\") & (cmp_df_r1.Mercado != \"Indefinido\"))]\n",
    "cmp_df_r1 = cmp_df_r1.sort_values(by='Volume_Venda').reset_index().drop(['index'],axis=1)\n",
    "cmp_df_r1 = cmp_df_r1.drop_duplicates('Data',keep='last').sort_values(by='Data').reset_index().drop(['index'],axis=1)"
   ]
  },
  {
   "cell_type": "markdown",
   "id": "f7cf596c",
   "metadata": {},
   "source": [
    "#### - Canal: *EE* | Mercado: *R2*"
   ]
  },
  {
   "cell_type": "code",
   "execution_count": 4,
   "id": "1b3c5559",
   "metadata": {},
   "outputs": [],
   "source": [
    "company = companies_set[2][0]\n",
    "channel = 'C2'\n",
    "market = 'AS'\n",
    "\n",
    "cmp_df_r2 = companies_set[2][1]\n",
    "cmp_df_r2 = cmp_df_r2[(cmp_df_r2.Canal_Distribuicao == channel) & (cmp_df_r2.Mercado == market) ]\n",
    "cmp_df_r2 = cmp_df_r2[((cmp_df_r2.Empresa != \"Indefinido\") & (cmp_df_r2.Canal_Distribuicao != \"Indefinido\") & (cmp_df_r2.Mercado != \"Indefinido\"))]\n",
    "cmp_df_r2 = cmp_df_r2.sort_values(by='Volume_Venda').reset_index().drop(['index'],axis=1)\n",
    "cmp_df_r2 = cmp_df_r2.drop_duplicates('Data',keep='last').sort_values(by='Data').reset_index().drop(['index'],axis=1)"
   ]
  },
  {
   "cell_type": "markdown",
   "id": "65e67ad1",
   "metadata": {},
   "source": [
    "#### - Canal: *EE* | Mercado: *R3*"
   ]
  },
  {
   "cell_type": "code",
   "execution_count": 5,
   "id": "d3bd3b51",
   "metadata": {},
   "outputs": [],
   "source": [
    "company = companies_set[2][0]\n",
    "channel = 'C2'\n",
    "market = 'EU'\n",
    "\n",
    "cmp_df_r3 = companies_set[2][1]\n",
    "cmp_df_r3 = cmp_df_r3[(cmp_df_r3.Canal_Distribuicao == channel) & (cmp_df_r3.Mercado == market) ]\n",
    "cmp_df_r3 = cmp_df_r3[((cmp_df_r3.Empresa != \"Indefinido\") & (cmp_df_r3.Canal_Distribuicao != \"Indefinido\") & (cmp_df_r3.Mercado != \"Indefinido\"))]\n",
    "cmp_df_r3 = cmp_df_r3.sort_values(by='Volume_Venda').reset_index().drop(['index'],axis=1)\n",
    "cmp_df_r3 = cmp_df_r3.drop_duplicates('Data',keep='last').sort_values(by='Data').reset_index().drop(['index'],axis=1)"
   ]
  },
  {
   "cell_type": "markdown",
   "id": "23acda2f",
   "metadata": {},
   "source": [
    "#### - Canal: *EE* | Mercado: *R4*"
   ]
  },
  {
   "cell_type": "code",
   "execution_count": 6,
   "id": "80467daf",
   "metadata": {},
   "outputs": [],
   "source": [
    "company = companies_set[2][0]\n",
    "channel = 'C2'\n",
    "market = 'AL'\n",
    "\n",
    "cmp_df_r4 = companies_set[2][1]\n",
    "cmp_df_r4 = cmp_df_r4[(cmp_df_r4.Canal_Distribuicao == channel) & (cmp_df_r4.Mercado == market) ]\n",
    "cmp_df_r4 = cmp_df_r4[((cmp_df_r4.Empresa != \"Indefinido\") & (cmp_df_r4.Canal_Distribuicao != \"Indefinido\") & (cmp_df_r4.Mercado != \"Indefinido\"))]\n",
    "cmp_df_r4 = cmp_df_r4.sort_values(by='Volume_Venda').reset_index().drop(['index'],axis=1)\n",
    "cmp_df_r4 = cmp_df_r4.drop_duplicates('Data',keep='last').sort_values(by='Data').reset_index().drop(['index'],axis=1)"
   ]
  },
  {
   "cell_type": "markdown",
   "id": "e19100fa",
   "metadata": {},
   "source": [
    "#### - Canal: *EE* | Mercado: *R5*"
   ]
  },
  {
   "cell_type": "code",
   "execution_count": 7,
   "id": "d2f960fc",
   "metadata": {},
   "outputs": [],
   "source": [
    "company = companies_set[2][0]\n",
    "channel = 'C2'\n",
    "market = 'JP'\n",
    "\n",
    "cmp_df_r5 = companies_set[2][1]\n",
    "cmp_df_r5 = cmp_df_r5[(cmp_df_r5.Canal_Distribuicao == channel) & (cmp_df_r5.Mercado == market)]\n",
    "cmp_df_r5 = cmp_df_r5[((cmp_df_r5.Empresa != \"Indefinido\") & (cmp_df_r5.Canal_Distribuicao != \"Indefinido\") & (cmp_df_r5.Mercado != \"Indefinido\"))] \n",
    "cmp_df_r5 = cmp_df_r5.sort_values(by='Volume_Venda').reset_index().drop(['index'],axis=1)\n",
    "cmp_df_r5 = cmp_df_r5.drop_duplicates('Data',keep='last').sort_values(by='Data').reset_index().drop(['index'],axis=1)"
   ]
  },
  {
   "cell_type": "markdown",
   "id": "34711422",
   "metadata": {},
   "source": [
    "#### - Canal: *ME* | Mercado: *Indefinido*"
   ]
  },
  {
   "cell_type": "code",
   "execution_count": 8,
   "id": "4fd83caf",
   "metadata": {},
   "outputs": [],
   "source": [
    "company = companies_set[2][0]\n",
    "channel = 'C1'\n",
    "market = \"Indefinido\"\n",
    "\n",
    "cmp_df_nr = companies_set[2][1]\n",
    "cmp_df_nr = cmp_df_nr[((cmp_df_nr.Canal_Distribuicao == channel) & (cmp_df_nr.Mercado == market))]\n",
    "cmp_df_nr = cmp_df_nr[((cmp_df_nr.Empresa != \"Indefinido\") & (cmp_df_nr.Canal_Distribuicao != \"Indefinido\") & (cmp_df_nr.Mercado == \"Indefinido\"))] \n",
    "cmp_df_nr = cmp_df_nr.sort_values(by='Volume_Venda').reset_index().drop(['index'],axis=1)\n",
    "cmp_df_nr = cmp_df_nr.drop_duplicates('Data',keep='last').sort_values(by='Data').reset_index().drop(['index'],axis=1)"
   ]
  },
  {
   "cell_type": "markdown",
   "id": "27e837a0",
   "metadata": {},
   "source": [
    "#### - Canal: *MI* | Mercado: *R6*"
   ]
  },
  {
   "cell_type": "code",
   "execution_count": 9,
   "id": "24589416",
   "metadata": {},
   "outputs": [],
   "source": [
    "company = companies_set[2][0]\n",
    "channel = 'C3'\n",
    "market = 'BRL'\n",
    "\n",
    "cmp_df_r6 = companies_set[2][1].reset_index().drop(['index'],axis=1)\n",
    "cmp_df_r6 = cmp_df_r6[((cmp_df_r6.Canal_Distribuicao == channel) & (cmp_df_r6.Mercado == market))]\n",
    "cmp_df_r6 = cmp_df_r6[((cmp_df_r6.Empresa != \"Indefinido\") & (cmp_df_r6.Canal_Distribuicao != \"Indefinido\") & (cmp_df_r6.Mercado != \"Indefinido\"))]\n",
    "cmp_df_r6 = cmp_df_r6.sort_values(by='Volume_Venda').reset_index().drop(['index'],axis=1)\n",
    "cmp_df_r6 = cmp_df_r6.drop_duplicates('Data',keep='last').sort_values(by='Data').reset_index().drop(['index'],axis=1)"
   ]
  },
  {
   "cell_type": "markdown",
   "id": "d71b012e",
   "metadata": {},
   "source": [
    "## 3 - Criando arquivo csv do dataset filtrado da empresa BR"
   ]
  },
  {
   "cell_type": "code",
   "execution_count": 10,
   "id": "5b238f49",
   "metadata": {},
   "outputs": [],
   "source": [
    "df = pd.DataFrame()\n",
    "df = df.append(cmp_df_r1)\n",
    "df = df.append(cmp_df_r2)\n",
    "df = df.append(cmp_df_r3)\n",
    "df = df.append(cmp_df_r4)\n",
    "df = df.append(cmp_df_r5)\n",
    "df = df.append(cmp_df_nr)\n",
    "df = df.append(cmp_df_r6)\n",
    "\n",
    "df.drop(df.tail(1).index, inplace=True) \n",
    "\n",
    "file = r\"D:\\Documentos_D\\UFCG\\2021.2e\\TCC\\Project\\analise_de_indicador_tcc_ufcg\\data\\processed\" + \"\\\\\" + company + \".csv\"\n",
    "df.to_csv(file, index=False)"
   ]
  },
  {
   "cell_type": "code",
   "execution_count": 11,
   "id": "b879af34",
   "metadata": {},
   "outputs": [
    {
     "name": "stdout",
     "output_type": "stream",
     "text": [
      "Execução de BR encerrada!\n"
     ]
    }
   ],
   "source": [
    "print(\"Execução de BR encerrada!\")"
   ]
  }
 ],
 "metadata": {
  "kernelspec": {
   "display_name": "Python 3.10.5 ('venv': venv)",
   "language": "python",
   "name": "python3"
  },
  "language_info": {
   "codemirror_mode": {
    "name": "ipython",
    "version": 3
   },
   "file_extension": ".py",
   "mimetype": "text/x-python",
   "name": "python",
   "nbconvert_exporter": "python",
   "pygments_lexer": "ipython3",
   "version": "3.10.6"
  },
  "vscode": {
   "interpreter": {
    "hash": "9a3b2061ab4de3120946481c70cc3dc0b8298eb4f1b536ff0ad213a7b9533338"
   }
  }
 },
 "nbformat": 4,
 "nbformat_minor": 5
}
