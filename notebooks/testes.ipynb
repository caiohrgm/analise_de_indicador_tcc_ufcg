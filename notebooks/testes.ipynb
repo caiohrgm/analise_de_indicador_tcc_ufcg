{
 "cells": [
  {
   "cell_type": "code",
   "execution_count": 10,
   "metadata": {},
   "outputs": [],
   "source": [
    "from pathlib import Path\n",
    "sys.path.append(str(Path.cwd().parent))\n",
    "\n",
    "import sys\n",
    "import warnings\n",
    "import numpy as np\n",
    "import pandas as pd\n",
    "import matplotlib.pyplot as plt\n",
    "from src.data import make_dataset\n",
    "\n",
    "global companies_set \n",
    "\n",
    "warnings.filterwarnings('ignore')"
   ]
  },
  {
   "cell_type": "code",
   "execution_count": 18,
   "metadata": {},
   "outputs": [
    {
     "name": "stdout",
     "output_type": "stream",
     "text": [
      "Informações básicas do conjunto de indicadores:\n",
      "Empresas:  ['E1' 'E3' 'E2' 'E4']\n",
      "Canais:  ['NaN' 'C1' 'C3' 'C2']\n",
      "Mercado:  ['NaN' 'AN' 'AS' 'EU' 'AL' 'JP' 'BRL']\n",
      "\n",
      "Obs: Os canais e mercados que são 'NaN' serão desconsiderados.\n",
      "E1\n",
      "E3\n",
      "E2\n",
      "E4\n"
     ]
    }
   ],
   "source": [
    "    path = r\"D:\\Documentos_D\\UFCG\\2021.2e\\TCC\\Project\\analise_de_indicador_tcc_ufcg\\data\\raw\\indicadores_raw.csv\"\n",
    "    base_df = pd.read_csv(path, sep =\",\")\n",
    "    \n",
    "    df = base_df[['Indicador','Dim1_Membro_Mome','Dim2_Membro_Mome','Dim3_Membro_Mome','VLR_Ocorrencia','Tipo_Registro','Data_Ocorrencia']]\n",
    "    df = df[df['Tipo_Registro'] == \"Apurado\"] \n",
    "    df = df.drop(['Tipo_Registro','Indicador'],axis=1) \n",
    "    df.columns = ['Empresa','Canal_Distribuicao','Mercado','Volume_Venda','Data']\n",
    "\n",
    "    df = df.fillna(\"NaN\")\n",
    "\n",
    "    df = df[((df.Empresa != \"NaN\") & (df.Canal_Distribuicao == \"NaN\") & (df.Mercado == \"NaN\"))\n",
    "        |((df.Empresa != \"NaN\") & (df.Canal_Distribuicao != \"NaN\") & (df.Mercado == \"NaN\"))\n",
    "        |((df.Empresa != \"NaN\") & (df.Canal_Distribuicao != \"NaN\") & (df.Mercado != \"NaN\"))]\n",
    "\n",
    "    df = df[(df.Volume_Venda != \"NaN\")].reset_index()\n",
    "\n",
    "    new_index = []\n",
    "    for i in range(len(df)):\n",
    "        new_index.append(i+1)\n",
    "    df = df.set_index(pd.Index(new_index))\n",
    "    del df['index']\n",
    "\n",
    "    df['Mercado'] = df['Mercado'].replace(['Am.Norte', 'Ásia' , 'Europa' ,'Am.Latina', 'Japão' , 'Brasil'],\n",
    "                                          [   'AN'   , 'AS'   ,   'EU'   ,    'AL'   ,  'JP'   ,   'BRL'])\n",
    "\n",
    "    df['Empresa'] = df['Empresa'].replace(['BC' , 'BR', 'BI', 'BT'], \n",
    "                                          ['E1' , 'E2', 'E3', 'E4'])\n",
    "\n",
    "    df['Canal_Distribuicao'] = df['Canal_Distribuicao'].replace(['ME' , 'MI', 'EE'],\n",
    "                                                                ['C1' , 'C2', 'C3' ])\n",
    "\n",
    "    empresas = df.Empresa.unique()\n",
    "    canais = df.Canal_Distribuicao.unique()\n",
    "    mercados = df.Mercado.unique()\n",
    "\n",
    "\n",
    "    mercados = df.Mercado.unique()\n",
    "\n",
    "    print(\"Informações básicas do conjunto de indicadores:\")\n",
    "    print(\"Empresas: \", empresas)\n",
    "    print(\"Canais: \", canais)\n",
    "    print(\"Mercado: \", mercados)\n",
    "    print(\"\\nObs: Os canais e mercados que são 'NaN' serão desconsiderados.\")\n",
    "\n",
    "    group_by_empresa = df.groupby(['Empresa'])\n",
    " \n",
    "    companies_set = [] \n",
    "    for company_name in empresas:\n",
    "        temp_df = group_by_empresa.get_group(company_name)\n",
    "        companies_set.append((company_name, temp_df))\n",
    "    "
   ]
  },
  {
   "cell_type": "code",
   "execution_count": null,
   "metadata": {},
   "outputs": [],
   "source": []
  }
 ],
 "metadata": {
  "kernelspec": {
   "display_name": "Python 3.10.5 64-bit (windows store)",
   "language": "python",
   "name": "python3"
  },
  "language_info": {
   "codemirror_mode": {
    "name": "ipython",
    "version": 3
   },
   "file_extension": ".py",
   "mimetype": "text/x-python",
   "name": "python",
   "nbconvert_exporter": "python",
   "pygments_lexer": "ipython3",
   "version": "3.10.5"
  },
  "orig_nbformat": 4,
  "vscode": {
   "interpreter": {
    "hash": "8390d440e52cb7fde84276bf9fe70295e6c69564251ce5673b9a3fa6ca7ef69c"
   }
  }
 },
 "nbformat": 4,
 "nbformat_minor": 2
}
