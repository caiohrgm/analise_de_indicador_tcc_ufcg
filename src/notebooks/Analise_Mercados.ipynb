{
 "cells": [
  {
   "cell_type": "code",
   "execution_count": null,
   "id": "e6b8edaa",
   "metadata": {},
   "outputs": [],
   "source": [
    "import glob\n",
    "import warnings\n",
    "import numpy as np\n",
    "import pandas as pd\n",
    "import seaborn as sns\n",
    "import matplotlib.pyplot as plt\n",
    "\n",
    "global companies_set \n",
    "\n",
    "warnings.filterwarnings('ignore')"
   ]
  },
  {
   "cell_type": "markdown",
   "id": "259c88ff",
   "metadata": {},
   "source": [
    "# 1 - Análise dos mercados (independente da empresa)"
   ]
  },
  {
   "cell_type": "code",
   "execution_count": null,
   "id": "a9eb311d",
   "metadata": {},
   "outputs": [],
   "source": [
    "door_dir = glob.glob(r\"D:\\Documentos_D\\UFCG\\2021.2e\\TCC\\Project\\analise_de_indicador_tcc_ufcg\\data\\companies_df_by_market_to_csv\\**\\*\" + \".csv\", recursive=True)\n",
    "\n",
    "\n",
    "df = pd.DataFrame()\n",
    "\n",
    "for file_path in door_dir:\n",
    "    temp_df = pd.read_csv(file_path)\n",
    "    df = df.append(temp_df)\n",
    "\n",
    "df = df.reset_index().drop(['index'], axis=1)"
   ]
  },
  {
   "cell_type": "code",
   "execution_count": null,
   "id": "e743a440",
   "metadata": {},
   "outputs": [],
   "source": [
    "# Evolução média de todos os mercados do Hemisfério Norte:\n",
    "query_df = df[(df.Mercado == 'R1') | (df.Mercado == 'R2') | (df.Mercado == 'R3') | (df.Mercado == 'R5')]\n",
    "query_df = query_df.sort_values(by='Data')\n",
    "\n",
    "means_north_hemisfer = []\n",
    "year = 2012\n",
    "while year < 2022:\n",
    "    query = query_df[((query_df.Data >= str(year)) & (query_df.Data < str(year+1)))]\n",
    "    query['Volume_Venda'] = query['Volume_Venda'].astype(float)\n",
    "    \n",
    "    mean = np.round(query['Volume_Venda'].mean(),4)\n",
    "    \n",
    "    means_north_hemisfer.append(mean)\n",
    "    year += 1\n",
    "\n",
    "means = means_north_hemisfer\n",
    "bars = ['2012','2013','2014','2015','2016','2017','2018','2019','2020','2021']\n",
    "y_pos = np.arange(len(bars))\n",
    "plt.title(\"Média do Volume de Vendas/ano | Mercados do Hemisfério Norte\")\n",
    "plt.plot(y_pos, means)\n",
    "plt.xticks(y_pos, bars)\n",
    "\n",
    "save_path = r\"D:\\Documentos_D\\UFCG\\2021.2e\\TCC\\graficos\\analise_mercados\" + \"\\\\\" + \"analise_mercados_hemisferio_norte.png\"\n",
    "plt.savefig(save_path)\n",
    "\n",
    "plt.close()"
   ]
  },
  {
   "cell_type": "code",
   "execution_count": null,
   "id": "0fd1014d",
   "metadata": {},
   "outputs": [],
   "source": [
    "# Evolução média de todos os mercados do Hemisfério Sul:\n",
    "query_df = df[(df.Mercado == 'R4') | (df.Mercado == 'R6')]\n",
    "query_df = query_df.sort_values(by='Data')\n",
    "\n",
    "means_south_hemisfer = []\n",
    "year = 2012\n",
    "while year < 2022:\n",
    "    query = query_df[((query_df.Data >= str(year)) & (query_df.Data < str(year+1)))]\n",
    "    query['Volume_Venda'] = query['Volume_Venda'].astype(float)\n",
    "    \n",
    "    mean = np.round(query['Volume_Venda'].mean(),4)\n",
    "\n",
    "    means_south_hemisfer.append(mean)\n",
    "    year += 1\n",
    "\n",
    "means = means_south_hemisfer\n",
    "bars = ['2012','2013','2014','2015','2016','2017','2018','2019','2020','2021']\n",
    "y_pos = np.arange(len(bars))\n",
    "plt.title(\"Média do Volume de Vendas/ano | Mercados do Hemisfério Sul\")\n",
    "plt.plot(y_pos, means)\n",
    "plt.xticks(y_pos, bars)\n",
    "\n",
    "save_path = r\"D:\\Documentos_D\\UFCG\\2021.2e\\TCC\\graficos\\analise_mercados\" + \"\\\\\" + \"analise_mercados_hemisferio_sul.png\"\n",
    "plt.savefig(save_path)\n",
    "\n",
    "plt.close()"
   ]
  },
  {
   "cell_type": "code",
   "execution_count": null,
   "id": "5b56d263",
   "metadata": {},
   "outputs": [],
   "source": [
    "# Analise de Méedia dos mercados:\n",
    "mercado_01 = 'R5'\n",
    "mercado_02 = 'R4'\n",
    "df_01 = df[(df.Mercado == mercado_01)].sort_values(by='Data')\n",
    "df_02 = df[(df.Mercado == mercado_02)].sort_values(by='Data')\n",
    "\n",
    "means_01 = []\n",
    "means_02 = []\n",
    "year = 2012\n",
    "\n",
    "while year < 2022:\n",
    "    query_01 = df_01[((df_01.Data >= str(year)) & (df_01.Data < str(year+1)))]\n",
    "    query_01['Volume_Venda'] = query_01['Volume_Venda'].astype(float)\n",
    "    mean_01 = np.round(query_01['Volume_Venda'].mean(),4)\n",
    "    means_01.append(mean_01)\n",
    "\n",
    "    query_02 = df_02[((df_02.Data >= str(year)) & (df_02.Data < str(year+1)))]\n",
    "    query_02['Volume_Venda'] = query_02['Volume_Venda'].astype(float)\n",
    "    mean_02 = np.round(query_02['Volume_Venda'].mean(),4)\n",
    "    means_02.append(mean_02)\n",
    "\n",
    "    year += 1\n",
    "\n",
    "bars = ['2012','2013','2014','2015','2016','2017','2018','2019','2020','2021']\n",
    "y_pos = np.arange(len(bars))\n",
    "plt.title(\"Média do Volume de Vendas/ano | \" + mercado_01 + \"x\" + mercado_02)\n",
    "plt.plot(y_pos, means_01)\n",
    "plt.plot(y_pos, means_02)\n",
    "plt.xticks(y_pos, bars)\n",
    "plt.legend([mercado_01, mercado_02], loc=0, frameon=True)\n",
    "\n",
    "save_path = r\"D:\\Documentos_D\\UFCG\\2021.2e\\TCC\\graficos\\analise_mercados\" + \"\\\\\" + \"analise_mercados_\" + mercado_01 + \"x\" + mercado_02 + \".png\"\n",
    "plt.savefig(save_path)\n",
    "\n",
    "plt.close()"
   ]
  },
  {
   "cell_type": "code",
   "execution_count": null,
   "id": "7a162fc7",
   "metadata": {},
   "outputs": [],
   "source": [
    "dfm = pd.DataFrame()\n",
    "temp_df = df[((df.Mercado == 'R1') & (df.Empresa == 'BR'))].reset_index().drop(['index'],axis=1)\n",
    "\n",
    "dfm['Data'] = temp_df.Data\n",
    "dfm['Data'] = pd.to_datetime(dfm.Data)\n",
    "\n",
    "\n",
    "r1_bc = df[((df.Mercado == 'R1') & (df.Empresa == 'BC'))].Volume_Venda.astype(int)\n",
    "r1_br = df[((df.Mercado == 'R1') & (df.Empresa == 'BR'))].Volume_Venda.reset_index().drop(['index'], axis=1).astype(int)\n",
    "dfm['R1_BC'] = r1_bc\n",
    "dfm['R1_BR'] = r1_br\n",
    "\n",
    "r2_bi = df[((df.Mercado == 'R2') & (df.Empresa == 'BI'))].Volume_Venda.reset_index().drop(['index'], axis=1).astype(int)\n",
    "r2_br = df[((df.Mercado == 'R2') & (df.Empresa == 'BR'))].Volume_Venda.reset_index().drop(['index'], axis=1).astype(int)\n",
    "r2_bt = df[((df.Mercado == 'R2') & (df.Empresa == 'BT'))].Volume_Venda.reset_index().drop(['index'], axis=1).astype(int)\n",
    "dfm['R2_BI'] = r2_bi\n",
    "dfm['R2_BR'] = r2_br\n",
    "dfm['R2_BT'] = r2_bt\n",
    "\n",
    "r3_bi = df[((df.Mercado == 'R3') & (df.Empresa == 'BI'))].Volume_Venda.reset_index().drop(['index'], axis=1).astype(int)\n",
    "r3_br = df[((df.Mercado == 'R3') & (df.Empresa == 'BR'))].Volume_Venda.reset_index().drop(['index'], axis=1).astype(int)\n",
    "dfm['R3_BI'] = r3_bi\n",
    "dfm['R3_BR'] = r3_br\n",
    "\n",
    "r4_br = df[((df.Mercado == 'R4') & (df.Empresa == 'BR'))].Volume_Venda.reset_index().drop(['index'], axis=1).astype(int)\n",
    "r4_bt = df[((df.Mercado == 'R4') & (df.Empresa == 'BT'))].Volume_Venda.reset_index().drop(['index'], axis=1).astype(int)\n",
    "dfm['R4_BR'] = r4_br\n",
    "dfm['R4_BT'] = r4_bt\n",
    "\n",
    "r5_bi = df[((df.Mercado == 'R5') & (df.Empresa == 'BI'))].Volume_Venda.reset_index().drop(['index'], axis=1).astype(int)\n",
    "r5_br = df[((df.Mercado == 'R5') & (df.Empresa == 'BR'))].Volume_Venda.reset_index().drop(['index'], axis=1).astype(int)\n",
    "r5_bt = df[((df.Mercado == 'R5') & (df.Empresa == 'BT'))].Volume_Venda.reset_index().drop(['index'], axis=1).astype(int)\n",
    "dfm['R5_BI'] = r5_bi\n",
    "dfm['R5_BR'] = r5_br\n",
    "dfm['R5_BT'] = r5_bt\n",
    "\n",
    "r6_br = df[((df.Mercado == 'R6') & (df.Empresa == 'BR'))].Volume_Venda.reset_index().drop(['index'], axis=1).astype(int)\n",
    "dfm['R6_BR'] = r6_br\n",
    "\n",
    "dfm = dfm.set_index('Data')\n",
    "\n",
    "display(dfm)"
   ]
  },
  {
   "cell_type": "code",
   "execution_count": null,
   "id": "2eebd601",
   "metadata": {},
   "outputs": [],
   "source": [
    "dfm.plot(figsize=(18,10))"
   ]
  },
  {
   "cell_type": "code",
   "execution_count": null,
   "id": "f9f71e1d",
   "metadata": {},
   "outputs": [],
   "source": [
    "# dfm.R1_BC.plot()\n",
    "\n",
    "# Tirando ruindo, para analsiar as tendencias, usando medias moveis:\n",
    "dfm.R1_BC.rolling(12).mean().plot(figsize=(15,6))"
   ]
  },
  {
   "cell_type": "code",
   "execution_count": null,
   "id": "e9747ae9",
   "metadata": {},
   "outputs": [],
   "source": [
    "# Aplciando diferenças sucessivas, para analise da sazonalidade: valores negativos indicam que houve queda ente o valor anterior e o novo mes\n",
    "filtro = (dfm.index.year >= 2012) & (dfm.index.year <= 2014)\n",
    "\n",
    "dfm[filtro].R1_BC.diff().plot(figsize=(15,6))"
   ]
  },
  {
   "cell_type": "code",
   "execution_count": null,
   "id": "1e9fec64",
   "metadata": {},
   "outputs": [],
   "source": []
  }
 ],
 "metadata": {
  "kernelspec": {
   "display_name": "Python 3.10.5 ('venv': venv)",
   "language": "python",
   "name": "python3"
  },
  "language_info": {
   "codemirror_mode": {
    "name": "ipython",
    "version": 3
   },
   "file_extension": ".py",
   "mimetype": "text/x-python",
   "name": "python",
   "nbconvert_exporter": "python",
   "pygments_lexer": "ipython3",
   "version": "3.10.5"
  },
  "vscode": {
   "interpreter": {
    "hash": "9a3b2061ab4de3120946481c70cc3dc0b8298eb4f1b536ff0ad213a7b9533338"
   }
  }
 },
 "nbformat": 4,
 "nbformat_minor": 5
}
