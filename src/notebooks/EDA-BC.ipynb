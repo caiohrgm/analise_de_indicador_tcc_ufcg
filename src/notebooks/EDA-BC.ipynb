{
 "cells": [
  {
   "cell_type": "code",
   "execution_count": 1,
   "id": "00fa5f6c",
   "metadata": {},
   "outputs": [],
   "source": [
    "import os\n",
    "import sys\n",
    "\n",
    "module_path = os.path.abspath(os.path.join('..'))\n",
    "if module_path not in sys.path: sys.path.append(module_path)"
   ]
  },
  {
   "cell_type": "code",
   "execution_count": 2,
   "id": "e6b8edaa",
   "metadata": {},
   "outputs": [],
   "source": [
    "import warnings\n",
    "import numpy as np\n",
    "import pandas as pd\n",
    "from utils import util\n",
    "import matplotlib.pyplot as plt\n",
    "\n",
    "global companies_set \n",
    "\n",
    "warnings.filterwarnings('ignore')"
   ]
  },
  {
   "cell_type": "markdown",
   "id": "5dcf4f4b",
   "metadata": {},
   "source": [
    "# EDA - BC"
   ]
  },
  {
   "cell_type": "markdown",
   "id": "eec1b834",
   "metadata": {},
   "source": [
    "## 1 - Preparação do DataSet"
   ]
  },
  {
   "cell_type": "code",
   "execution_count": 3,
   "id": "97bf584d",
   "metadata": {},
   "outputs": [
    {
     "name": "stdout",
     "output_type": "stream",
     "text": [
      "Informações básicas do conjunto de indicadores:\n",
      "Empresas:  ['BC' 'BI' 'BR' 'BT']\n",
      "Canais:  ['NaN' 'ME' 'EE' 'MI']\n",
      "Mercado:  ['NaN' 'R1' 'R2' 'R3' 'R4' 'R5' 'R6']\n",
      "\n",
      "Obs: Os canais e mercados que são 'NaN' serão desconsiderados.\n"
     ]
    }
   ],
   "source": [
    "path = r\"D:\\Documentos_D\\UFCG\\2021.2e\\TCC\\Project\\analise_de_indicador_tcc_ufcg\\data\\indicadores_Siteware.csv\"\n",
    "companies_set = util.prepare_datasets(path)"
   ]
  },
  {
   "cell_type": "markdown",
   "id": "259c88ff",
   "metadata": {},
   "source": [
    "## 2 - Análise Exploratória dos Dados"
   ]
  },
  {
   "cell_type": "markdown",
   "id": "95ce8d69",
   "metadata": {},
   "source": [
    "#### - Canal: ME | Mercado: R1"
   ]
  },
  {
   "cell_type": "code",
   "execution_count": 7,
   "id": "24ffbf9a-f3f1-4662-a21f-d5492d47f6ca",
   "metadata": {},
   "outputs": [
    {
     "name": "stdout",
     "output_type": "stream",
     "text": [
      "Início dos dados:\n"
     ]
    },
    {
     "data": {
      "text/html": [
       "<div>\n",
       "<style scoped>\n",
       "    .dataframe tbody tr th:only-of-type {\n",
       "        vertical-align: middle;\n",
       "    }\n",
       "\n",
       "    .dataframe tbody tr th {\n",
       "        vertical-align: top;\n",
       "    }\n",
       "\n",
       "    .dataframe thead th {\n",
       "        text-align: right;\n",
       "    }\n",
       "</style>\n",
       "<table border=\"1\" class=\"dataframe\">\n",
       "  <thead>\n",
       "    <tr style=\"text-align: right;\">\n",
       "      <th></th>\n",
       "      <th>Empresa</th>\n",
       "      <th>Canal_Distribuicao</th>\n",
       "      <th>Mercado</th>\n",
       "      <th>Volume_Venda</th>\n",
       "      <th>Data</th>\n",
       "    </tr>\n",
       "  </thead>\n",
       "  <tbody>\n",
       "    <tr>\n",
       "      <th>0</th>\n",
       "      <td>BC</td>\n",
       "      <td>ME</td>\n",
       "      <td>R1</td>\n",
       "      <td>9498.0</td>\n",
       "      <td>2012-01-01 00:00:00.000</td>\n",
       "    </tr>\n",
       "  </tbody>\n",
       "</table>\n",
       "</div>"
      ],
      "text/plain": [
       "  Empresa Canal_Distribuicao Mercado Volume_Venda                     Data\n",
       "0      BC                 ME      R1       9498.0  2012-01-01 00:00:00.000"
      ]
     },
     "metadata": {},
     "output_type": "display_data"
    },
    {
     "name": "stdout",
     "output_type": "stream",
     "text": [
      "Fim dos dados:\n"
     ]
    },
    {
     "data": {
      "text/html": [
       "<div>\n",
       "<style scoped>\n",
       "    .dataframe tbody tr th:only-of-type {\n",
       "        vertical-align: middle;\n",
       "    }\n",
       "\n",
       "    .dataframe tbody tr th {\n",
       "        vertical-align: top;\n",
       "    }\n",
       "\n",
       "    .dataframe thead th {\n",
       "        text-align: right;\n",
       "    }\n",
       "</style>\n",
       "<table border=\"1\" class=\"dataframe\">\n",
       "  <thead>\n",
       "    <tr style=\"text-align: right;\">\n",
       "      <th></th>\n",
       "      <th>Empresa</th>\n",
       "      <th>Canal_Distribuicao</th>\n",
       "      <th>Mercado</th>\n",
       "      <th>Volume_Venda</th>\n",
       "      <th>Data</th>\n",
       "    </tr>\n",
       "  </thead>\n",
       "  <tbody>\n",
       "    <tr>\n",
       "      <th>120</th>\n",
       "      <td>BC</td>\n",
       "      <td>ME</td>\n",
       "      <td>R1</td>\n",
       "      <td>17318.0</td>\n",
       "      <td>2022-01-01 00:00:00.000</td>\n",
       "    </tr>\n",
       "  </tbody>\n",
       "</table>\n",
       "</div>"
      ],
      "text/plain": [
       "    Empresa Canal_Distribuicao Mercado Volume_Venda                     Data\n",
       "120      BC                 ME      R1      17318.0  2022-01-01 00:00:00.000"
      ]
     },
     "metadata": {},
     "output_type": "display_data"
    }
   ],
   "source": [
    "company = companies_set[0][0]\n",
    "channel = 'ME'\n",
    "market = 'R1'\n",
    "cmp_df_r1 = companies_set[0][1].reset_index().drop(['index'],axis=1)\n",
    "cmp_df_r1 = cmp_df_r1[((cmp_df_r1.Canal_Distribuicao == channel) & (cmp_df_r1.Mercado == market))]\n",
    "cmp_df_r1 = cmp_df_r1[((cmp_df_r1.Empresa != \"NaN\") & (cmp_df_r1.Canal_Distribuicao != \"NaN\") & (cmp_df_r1.Mercado != \"NaN\"))]\n",
    "cmp_df_r1 = cmp_df_r1.sort_values(by='Volume_Venda').reset_index().drop(['index'],axis=1)\n",
    "cmp_df_r1 = cmp_df_r1.drop_duplicates('Data',keep='last').sort_values(by='Data').reset_index().drop(['index'],axis=1)\n",
    "\n",
    "print(\"Início dos dados:\")\n",
    "display(cmp_df_r1.head(1))\n",
    "print(\"Fim dos dados:\")\n",
    "display(cmp_df_r1.tail(1))\n",
    "\n",
    "means_bc_me_r1 = []\n",
    "year = 2012\n",
    "\n",
    "while year < 2022:\n",
    "    query = cmp_df_r1[((cmp_df_r1.Data >= str(year)) & (cmp_df_r1.Data < str(year+1)))]\n",
    "    query['Volume_Venda'] = query['Volume_Venda'].astype(float)\n",
    "   \n",
    "    mean = np.round(query['Volume_Venda'].mean(),4)\n",
    "    boxplot = query.boxplot(column = ['Volume_Venda'])\n",
    "    \n",
    "    save_path = r\"D:\\Documentos_D\\UFCG\\2021.2e\\TCC\\graficos\\boxplot\" + \"\\\\\" + company + \"\\\\\" + channel +\"_\" + market  + \"_\" + str(year) + \".png\"\n",
    "    \n",
    "    plt.title(company + \" - \" + channel + \" - \" + market + \" - \" + str(year))\n",
    "    plt.savefig(save_path)\n",
    "    plt.close()\n",
    "    \n",
    "    means_bc_me_r1.append(mean)\n",
    "    year += 1\n",
    "\n",
    "means = means_bc_me_r1\n",
    "bars = ['2012','2013','2014','2015','2016','2017','2018','2019','2020','2021']\n",
    "y_pos = np.arange(len(bars))\n",
    "plt.title(\"Média do Volume de Vendas/ano | \" + companies_set[0][0] + \" - ME - R1\")\n",
    "plt.plot(y_pos, means)\n",
    "plt.xticks(y_pos, bars)\n",
    "\n",
    "\n",
    "save_path = r\"D:\\Documentos_D\\UFCG\\2021.2e\\TCC\\graficos\\media\" + \"\\\\\" + company + \"\\\\\" + channel + \"_\" + market + \"_media\" \".png\"\n",
    "plt.savefig(save_path)\n",
    "\n",
    "plt.close()"
   ]
  },
  {
   "cell_type": "markdown",
   "id": "1e796040",
   "metadata": {},
   "source": [
    "#### Criando arquivo csv do dataset filtrado de BC:"
   ]
  },
  {
   "cell_type": "code",
   "execution_count": 5,
   "id": "2a9ec794",
   "metadata": {},
   "outputs": [],
   "source": [
    "df = pd.DataFrame()\n",
    "df = df.append(cmp_df_r1)\n",
    "\n",
    "df.drop(df.tail(1).index, inplace=True) \n",
    "\n",
    "file = r\"D:\\Documentos_D\\UFCG\\2021.2e\\TCC\\Project\\analise_de_indicador_tcc_ufcg\\data\\companies_df_by_market_to_csv\" + \"\\\\\" + company + \".csv\"\n",
    "df.to_csv(file, index=False)"
   ]
  },
  {
   "cell_type": "code",
   "execution_count": null,
   "id": "2db5a8fb",
   "metadata": {},
   "outputs": [],
   "source": []
  }
 ],
 "metadata": {
  "kernelspec": {
   "display_name": "Python 3 (ipykernel)",
   "language": "python",
   "name": "python3"
  },
  "language_info": {
   "codemirror_mode": {
    "name": "ipython",
    "version": 3
   },
   "file_extension": ".py",
   "mimetype": "text/x-python",
   "name": "python",
   "nbconvert_exporter": "python",
   "pygments_lexer": "ipython3",
   "version": "3.10.5"
  },
  "vscode": {
   "interpreter": {
    "hash": "9a3b2061ab4de3120946481c70cc3dc0b8298eb4f1b536ff0ad213a7b9533338"
   }
  }
 },
 "nbformat": 4,
 "nbformat_minor": 5
}
