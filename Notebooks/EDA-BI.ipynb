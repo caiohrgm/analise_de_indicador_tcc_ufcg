{
 "cells": [
  {
   "cell_type": "code",
   "execution_count": null,
   "id": "e6b8edaa",
   "metadata": {},
   "outputs": [],
   "source": [
    "import utils\n",
    "import warnings\n",
    "import numpy as np\n",
    "import pandas as pd\n",
    "import seaborn as sns\n",
    "import statsmodels.api as sm\n",
    "import matplotlib.pyplot as plt\n",
    "\n",
    "global companies_set \n",
    "\n",
    "warnings.filterwarnings('ignore')"
   ]
  },
  {
   "cell_type": "markdown",
   "id": "5dcf4f4b",
   "metadata": {},
   "source": [
    "# EDA - BI"
   ]
  },
  {
   "cell_type": "markdown",
   "id": "ed616d13",
   "metadata": {},
   "source": [
    "## 1 - Preparação do DataSet"
   ]
  },
  {
   "cell_type": "code",
   "execution_count": null,
   "id": "97bf584d",
   "metadata": {},
   "outputs": [],
   "source": [
    "path = r\"D:\\Documentos_D\\UFCG\\2021.2e\\TCC\\Project\\analise-de-indicador-tcc-ufcg\\Data\\indicadores_Siteware.csv\"\n",
    "companies_set = utils.prepare_datasets(path)"
   ]
  },
  {
   "cell_type": "markdown",
   "id": "259c88ff",
   "metadata": {},
   "source": [
    "# 2 - Análise Exploratória dos Dados"
   ]
  },
  {
   "cell_type": "markdown",
   "id": "1ead2cdd",
   "metadata": {},
   "source": [
    "##### - *BI - ME - R2*"
   ]
  },
  {
   "cell_type": "code",
   "execution_count": null,
   "id": "d4bff371",
   "metadata": {},
   "outputs": [],
   "source": [
    "company = companies_set[1][0]\n",
    "channel = 'ME'\n",
    "market = 'R2'\n",
    "cmp_df_r2 = companies_set[1][1].reset_index().drop(['index'],axis=1)\n",
    "cmp_df_r2 = cmp_df_r2[((cmp_df_r2.Canal_Distribuicao == channel) & (cmp_df_r2.Mercado == market))]\n",
    "cmp_df_r2 = cmp_df_r2[((cmp_df_r2.Empresa != \"NaN\") & (cmp_df_r2.Canal_Distribuicao != \"NaN\") & (cmp_df_r2.Mercado != \"NaN\"))]\n",
    "cmp_df_r2 = cmp_df_r2.sort_values(by='Volume_Venda').reset_index().drop(['index'],axis=1)\n",
    "cmp_df_r2 = cmp_df_r2.drop_duplicates('Data',keep='last').sort_values(by='Data').reset_index().drop(['index'],axis=1)\n",
    "\n",
    "print(\"Início dos dados:\")\n",
    "display(cmp_df_r2.head(1))\n",
    "print(\"Fim dos dados:\")\n",
    "display(cmp_df_r2.tail(1))\n",
    "\n",
    "means_bi_me_r2 = []\n",
    "year = 2012\n",
    "while year < 2022: # so tem a entrada de janeiro no ano de 2022;\n",
    "    query = cmp_df_r2[((cmp_df_r2.Data >= str(year)) & (cmp_df_r2.Data < str(year+1)))]\n",
    "    query['Volume_Venda'] = query['Volume_Venda'].astype(float)\n",
    "    \n",
    "    mean = np.round(query['Volume_Venda'].mean(),4)\n",
    "    boxplot = query.boxplot(column = ['Volume_Venda'])\n",
    "    \n",
    "    save_path = r\"D:\\Documentos_D\\UFCG\\2021.2e\\TCC\\graficos\\boxplot\" + \"\\\\\" + company + \"\\\\\" + channel +\"_\" + market  + \"_\" + str(year) + \".png\"\n",
    "    plt.title(company + \" - \" + channel + \" - \" + market + \" - \" + str(year))\n",
    "    plt.savefig(save_path)\n",
    "    plt.close()\n",
    "    \n",
    "    means_bi_me_r2.append(mean)\n",
    "    year += 1\n",
    "\n",
    "means = means_bi_me_r2\n",
    "bars = ['2012','2013','2014','2015','2016','2017','2018','2019','2020','2021']\n",
    "y_pos = np.arange(len(bars))\n",
    "plt.title(\"Média do Volume de Vendas/ano | \" + companies_set[1][0]+ \" - ME - R2\")\n",
    "plt.plot(y_pos, means)\n",
    "plt.xticks(y_pos, bars)\n",
    "\n",
    "save_path = r\"D:\\Documentos_D\\UFCG\\2021.2e\\TCC\\graficos\\media\" + \"\\\\\" + company + \"\\\\\" + channel + \"_\" + market + \"_media\" \".png\"\n",
    "plt.savefig(save_path)\n",
    "\n",
    "plt.close()"
   ]
  },
  {
   "cell_type": "markdown",
   "id": "a69f5ac4",
   "metadata": {},
   "source": [
    "##### - *BI - ME - R3*"
   ]
  },
  {
   "cell_type": "code",
   "execution_count": null,
   "id": "03d2800b",
   "metadata": {},
   "outputs": [],
   "source": [
    "company = companies_set[1][0]\n",
    "channel = 'ME'\n",
    "market = 'R3'\n",
    "\n",
    "cmp_df_r3 = companies_set[1][1].reset_index().drop(['index'],axis=1)\n",
    "cmp_df_r3 = cmp_df_r3[((cmp_df_r3.Canal_Distribuicao == channel) & (cmp_df_r3.Mercado == market))]\n",
    "cmp_df_r3 = cmp_df_r3[((cmp_df_r3.Empresa != \"NaN\") & (cmp_df_r3.Canal_Distribuicao != \"NaN\") & (cmp_df_r3.Mercado != \"NaN\"))]\n",
    "cmp_df_r3 = cmp_df_r3.sort_values(by='Volume_Venda').reset_index().drop(['index'],axis=1)\n",
    "cmp_df_r3 = cmp_df_r3.drop_duplicates('Data',keep='last').sort_values(by='Data').reset_index().drop(['index'],axis=1)\n",
    "\n",
    "print(\"Início dos dados:\")\n",
    "display(cmp_df_r3.head(1))\n",
    "print(\"Fim dos dados:\")\n",
    "display(cmp_df_r3.tail(1))\n",
    "\n",
    "means_bi_me_r3 = []\n",
    "year = 2012\n",
    "while year < 2022: \n",
    "    query = cmp_df_r3[((cmp_df_r3.Data >= str(year)) & (cmp_df_r3.Data < str(year+1)))]\n",
    "    query['Volume_Venda'] = query['Volume_Venda'].astype(float)\n",
    "    \n",
    "    mean = np.round(query['Volume_Venda'].mean(),4)\n",
    "    boxplot = query.boxplot(column = ['Volume_Venda'])\n",
    "    \n",
    "    save_path = r\"D:\\Documentos_D\\UFCG\\2021.2e\\TCC\\graficos\\boxplot\" + \"\\\\\" + company + \"\\\\\" + channel +\"_\" + market  + \"_\" + str(year) + \".png\"\n",
    "    plt.title(company + \" - \" + channel + \" - \" + market + \" - \" + str(year))\n",
    "    plt.savefig(save_path)\n",
    "    plt.close()\n",
    "\n",
    "    means_bi_me_r3.append(mean)\n",
    "    year += 1\n",
    "\n",
    "means = means_bi_me_r3\n",
    "bars = ['2012','2013','2014','2015','2016','2017','2018','2019','2020','2021']\n",
    "y_pos = np.arange(len(bars))\n",
    "plt.title(\"Média do Volume de Vendas/ano | \"+ companies_set[1][0]+\" - ME - R3\")\n",
    "plt.plot(y_pos, means)\n",
    "plt.xticks(y_pos, bars)\n",
    "\n",
    "save_path = r\"D:\\Documentos_D\\UFCG\\2021.2e\\TCC\\graficos\\media\" + \"\\\\\" + company + \"\\\\\" + channel + \"_\" + market + \"_media\" \".png\"\n",
    "plt.savefig(save_path)\n",
    "\n",
    "plt.close()"
   ]
  },
  {
   "cell_type": "markdown",
   "id": "cefe5e8c",
   "metadata": {},
   "source": [
    "##### - *BI - ME - R5*"
   ]
  },
  {
   "cell_type": "code",
   "execution_count": null,
   "id": "29d2a658",
   "metadata": {},
   "outputs": [],
   "source": [
    "company = companies_set[1][0]\n",
    "channel = 'ME'\n",
    "market = 'R5'\n",
    "\n",
    "cmp_df_r5 = companies_set[1][1].reset_index().drop(['index'],axis=1)\n",
    "cmp_df_r5 = cmp_df_r5[((cmp_df_r5.Canal_Distribuicao == channel) & (cmp_df_r5.Mercado == market))]\n",
    "cmp_df_r5 = cmp_df_r5[((cmp_df_r5.Empresa != \"NaN\") & (cmp_df_r5.Canal_Distribuicao != \"NaN\") & (cmp_df_r5.Mercado != \"NaN\"))]\n",
    "cmp_df_r5 = cmp_df_r5.sort_values(by='Volume_Venda').reset_index().drop(['index'],axis=1)\n",
    "cmp_df_r5 = cmp_df_r5.drop_duplicates('Data',keep='last').sort_values(by='Data').reset_index().drop(['index'],axis=1)\n",
    "\n",
    "print(\"Início dos dados:\")\n",
    "display(cmp_df_r5.head(1))\n",
    "print(\"Fim dos dados:\")\n",
    "display(cmp_df_r5.tail(1))\n",
    "\n",
    "means_bi_me_r5 = []\n",
    "year = 2016\n",
    "while year < 2022: \n",
    "    query = cmp_df_r5[((cmp_df_r5.Data >= str(year)) & (cmp_df_r5.Data < str(year+1)))]\n",
    "    query['Volume_Venda'] = query['Volume_Venda'].astype(float)\n",
    "    \n",
    "    mean = np.round(query['Volume_Venda'].mean(),4)\n",
    "    boxplot = query.boxplot(column = ['Volume_Venda'])\n",
    "    \n",
    "    save_path = r\"D:\\Documentos_D\\UFCG\\2021.2e\\TCC\\graficos\\boxplot\" + \"\\\\\" + company + \"\\\\\" + channel +\"_\" + market  + \"_\" + str(year) + \".png\"\n",
    "    plt.title(company + \" - \" + channel + \" - \" + market + \" - \" + str(year))\n",
    "    plt.savefig(save_path)\n",
    "    plt.close()\n",
    "    \n",
    "    means_bi_me_r5.append(mean)\n",
    "    year += 1\n",
    "\n",
    "means = means_bi_me_r5\n",
    "bars = ['2016','2017','2018','2019','2020','2021']\n",
    "y_pos = np.arange(len(bars))\n",
    "plt.title(\"Média do Volume de Vendas/ano | \"+ companies_set[1][0]+\" - ME - R5\")\n",
    "plt.plot(y_pos, means)\n",
    "plt.xticks(y_pos, bars)\n",
    "\n",
    "save_path = r\"D:\\Documentos_D\\UFCG\\2021.2e\\TCC\\graficos\\media\" + \"\\\\\" + company + \"\\\\\" + channel + \"_\" + market + \"_media\" \".png\"\n",
    "plt.savefig(save_path)\n",
    "\n",
    "plt.close()"
   ]
  },
  {
   "cell_type": "markdown",
   "id": "d076145b",
   "metadata": {},
   "source": [
    "##### --- *Correlação ME X R2 X R3 X R5*"
   ]
  },
  {
   "cell_type": "code",
   "execution_count": null,
   "id": "4ed59555",
   "metadata": {},
   "outputs": [],
   "source": [
    "cmp_df = companies_set[1][1].reset_index().drop(['index'],axis=1)\n",
    "cmp_df = cmp_df[(cmp_df.Canal_Distribuicao == 'ME')]\n",
    "cmp_df = cmp_df[((cmp_df.Empresa != \"NaN\") & (cmp_df.Canal_Distribuicao != \"NaN\") & (cmp_df.Mercado == \"NaN\"))]\n",
    "cmp_df = cmp_df.sort_values(by='Volume_Venda', ascending=True)\n",
    "cmp_df = cmp_df.drop_duplicates('Data',keep='last').reset_index().drop(['index'],axis=1)\n",
    "cmp_df = cmp_df.sort_values(by='Data').reset_index().drop(['index'],axis=1)\n",
    "\n",
    "new_df = pd.DataFrame()\n",
    "new_df['Volume_Venda_R2'] = cmp_df_r2['Volume_Venda']\n",
    "new_df['Volume_Venda_R3'] = cmp_df_r3['Volume_Venda']\n",
    "new_df['Volume_Venda_R5'] = cmp_df_r5['Volume_Venda']\n",
    "new_df['Volume_Venda_ME'] = cmp_df['Volume_Venda']\n",
    "new_df['Data'] = cmp_df['Data']\n",
    "new_df = new_df[((new_df.Volume_Venda_R2 != 0) | (new_df.Volume_Venda_R3 != 0) | (new_df.Volume_Venda_R5 != 0) | (new_df.Volume_Venda_ME != 0))]\n",
    "new_df = new_df.drop(['Data'],axis=1)\n",
    "new_df = new_df.astype(float)\n",
    "\n",
    "plt.figure(figsize = (10,8))\n",
    "plt.title(\"Matriz de Confusão: ME x R2 x R3 x R5\")\n",
    "sns.heatmap(new_df.corr())\n",
    "\n",
    "save_path = r\"D:\\Documentos_D\\UFCG\\2021.2e\\TCC\\graficos\\correlacao\" + \"\\\\\" + company + \"\\\\\" + channel + \"_matriz_de_confusao\" \".png\"\n",
    "plt.savefig(save_path)\n",
    "\n",
    "plt.close()"
   ]
  }
 ],
 "metadata": {
  "interpreter": {
   "hash": "9fd3c9755c88d523bdf6238348479253c53214824f1a45d81a58b4bf49ca8b06"
  },
  "kernelspec": {
   "display_name": "Python 3 (ipykernel)",
   "language": "python",
   "name": "python3"
  },
  "language_info": {
   "codemirror_mode": {
    "name": "ipython",
    "version": 3
   },
   "file_extension": ".py",
   "mimetype": "text/x-python",
   "name": "python",
   "nbconvert_exporter": "python",
   "pygments_lexer": "ipython3",
   "version": "3.10.5"
  }
 },
 "nbformat": 4,
 "nbformat_minor": 5
}
