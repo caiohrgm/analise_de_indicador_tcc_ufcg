{
 "cells": [
  {
   "cell_type": "code",
   "execution_count": 1586,
   "id": "e6b8edaa",
   "metadata": {},
   "outputs": [],
   "source": [
    "import pandas as pd\n",
    "import numpy as np\n",
    "import warnings\n",
    "import seaborn as sns\n",
    "import matplotlib.pyplot as plt\n",
    "from matplotlib.pyplot import figure\n",
    "\n",
    "global companies_set \n",
    "\n",
    "warnings.filterwarnings('ignore')"
   ]
  },
  {
   "cell_type": "markdown",
   "id": "5dcf4f4b",
   "metadata": {},
   "source": [
    "# 1 - Pré-Processamento"
   ]
  },
  {
   "cell_type": "markdown",
   "id": "3ac78a9d",
   "metadata": {},
   "source": [
    "## 1.1 - Acessando planilha de dataset original"
   ]
  },
  {
   "cell_type": "code",
   "execution_count": 1587,
   "id": "97bf584d",
   "metadata": {},
   "outputs": [
    {
     "name": "stdout",
     "output_type": "stream",
     "text": [
      "\n",
      "Total de linhas: 8938 linhas.\n"
     ]
    }
   ],
   "source": [
    "path = r\"D:\\Documentos_D\\UFCG\\2021.2e\\TCC\\Project\\analise-de-indicador-tcc-ufcg\\Data\\indicadores_Siteware.csv\"\n",
    "base_df = pd.read_csv(path,sep =\",\")\n",
    "print(\"\\nTotal de linhas: %d linhas.\" % len(base_df))"
   ]
  },
  {
   "cell_type": "markdown",
   "id": "c0bc65bd",
   "metadata": {},
   "source": [
    "## 1.2 - Filtrando e renomeando apenas as colunas necessárias para análise"
   ]
  },
  {
   "cell_type": "code",
   "execution_count": 1588,
   "id": "2dc1f27f",
   "metadata": {},
   "outputs": [
    {
     "name": "stdout",
     "output_type": "stream",
     "text": [
      "DataFrame sem as colunas 'Tipo_Registro' e 'Indicador':\n"
     ]
    },
    {
     "data": {
      "text/html": [
       "<div>\n",
       "<style scoped>\n",
       "    .dataframe tbody tr th:only-of-type {\n",
       "        vertical-align: middle;\n",
       "    }\n",
       "\n",
       "    .dataframe tbody tr th {\n",
       "        vertical-align: top;\n",
       "    }\n",
       "\n",
       "    .dataframe thead th {\n",
       "        text-align: right;\n",
       "    }\n",
       "</style>\n",
       "<table border=\"1\" class=\"dataframe\">\n",
       "  <thead>\n",
       "    <tr style=\"text-align: right;\">\n",
       "      <th></th>\n",
       "      <th>Empresa</th>\n",
       "      <th>Canal_Distribuicao</th>\n",
       "      <th>Mercado</th>\n",
       "      <th>Volume_Venda</th>\n",
       "      <th>Data</th>\n",
       "    </tr>\n",
       "  </thead>\n",
       "  <tbody>\n",
       "    <tr>\n",
       "      <th>0</th>\n",
       "      <td>NaN</td>\n",
       "      <td>NaN</td>\n",
       "      <td>NaN</td>\n",
       "      <td>63198.005</td>\n",
       "      <td>2015-01-01 00:00:00.000</td>\n",
       "    </tr>\n",
       "    <tr>\n",
       "      <th>1</th>\n",
       "      <td>NaN</td>\n",
       "      <td>NaN</td>\n",
       "      <td>NaN</td>\n",
       "      <td>107754.000</td>\n",
       "      <td>2015-02-01 00:00:00.000</td>\n",
       "    </tr>\n",
       "    <tr>\n",
       "      <th>2</th>\n",
       "      <td>NaN</td>\n",
       "      <td>NaN</td>\n",
       "      <td>NaN</td>\n",
       "      <td>118044.000</td>\n",
       "      <td>2015-03-01 00:00:00.000</td>\n",
       "    </tr>\n",
       "    <tr>\n",
       "      <th>3</th>\n",
       "      <td>NaN</td>\n",
       "      <td>NaN</td>\n",
       "      <td>NaN</td>\n",
       "      <td>75890.000</td>\n",
       "      <td>2015-04-01 00:00:00.000</td>\n",
       "    </tr>\n",
       "    <tr>\n",
       "      <th>4</th>\n",
       "      <td>NaN</td>\n",
       "      <td>NaN</td>\n",
       "      <td>NaN</td>\n",
       "      <td>102560.000</td>\n",
       "      <td>2015-05-01 00:00:00.000</td>\n",
       "    </tr>\n",
       "  </tbody>\n",
       "</table>\n",
       "</div>"
      ],
      "text/plain": [
       "  Empresa Canal_Distribuicao Mercado  Volume_Venda                     Data\n",
       "0     NaN                NaN     NaN     63198.005  2015-01-01 00:00:00.000\n",
       "1     NaN                NaN     NaN    107754.000  2015-02-01 00:00:00.000\n",
       "2     NaN                NaN     NaN    118044.000  2015-03-01 00:00:00.000\n",
       "3     NaN                NaN     NaN     75890.000  2015-04-01 00:00:00.000\n",
       "4     NaN                NaN     NaN    102560.000  2015-05-01 00:00:00.000"
      ]
     },
     "execution_count": 1588,
     "metadata": {},
     "output_type": "execute_result"
    }
   ],
   "source": [
    "df = base_df[['Indicador','Dim1_Membro_Mome','Dim2_Membro_Mome','Dim3_Membro_Mome','VLR_Ocorrencia','Tipo_Registro','Data_Ocorrencia']]\n",
    "df = df[df['Tipo_Registro'] == \"Apurado\"] #|------------> Remoção dos indicadores com \"Tipo_Registro\" == \"acumulado\"\n",
    "df = df.drop(['Tipo_Registro','Indicador'],axis=1) \n",
    "df.columns = ['Empresa','Canal_Distribuicao','Mercado','Volume_Venda','Data']\n",
    "\n",
    "print(\"DataFrame sem as colunas 'Tipo_Registro' e 'Indicador':\")\n",
    "df.head(5)"
   ]
  },
  {
   "cell_type": "markdown",
   "id": "12883f45",
   "metadata": {},
   "source": [
    "## 1.3 - Tratamento e remoção das linhas com NaNs que serão desconsideradas"
   ]
  },
  {
   "cell_type": "code",
   "execution_count": 1589,
   "id": "d3bd2998",
   "metadata": {},
   "outputs": [
    {
     "name": "stdout",
     "output_type": "stream",
     "text": [
      "Quantidade de NaNs de empresa (Dim1_Membro_Mome):  1020\n",
      "Quantidade de NaNs de canal de distribuição (Dim2_Membro_Mome):  756\n",
      "Quantidade de NaNs de mercado (Dim3_Membro_Mome):  1416\n",
      "Quantidade de NaNs dos volumes de venda (VLR_Ocorrencia):  458\n"
     ]
    }
   ],
   "source": [
    "# Contando NaNs do dataframe apenas do valores do tipo_registro \"Apurado\" (total de 4469 linhas):\n",
    "dim1_membro_mome_nan_sum = df.Empresa.isna().sum()\n",
    "dim2_membro_mome_nan_sum = df.Canal_Distribuicao.isna().sum()\n",
    "dim3_membro_mome_nan_sum = df.Mercado.isna().sum()\n",
    "vlr_ocorrencia_nan_sum = df.Volume_Venda.isna().sum()\n",
    "\n",
    "print(\"Quantidade de NaNs de empresa (Dim1_Membro_Mome): \",dim1_membro_mome_nan_sum)\n",
    "print(\"Quantidade de NaNs de canal de distribuição (Dim2_Membro_Mome): \", dim2_membro_mome_nan_sum)\n",
    "print(\"Quantidade de NaNs de mercado (Dim3_Membro_Mome): \", dim3_membro_mome_nan_sum)\n",
    "print(\"Quantidade de NaNs dos volumes de venda (VLR_Ocorrencia): \", vlr_ocorrencia_nan_sum)"
   ]
  },
  {
   "cell_type": "code",
   "execution_count": 1590,
   "id": "3849b6ca",
   "metadata": {},
   "outputs": [
    {
     "data": {
      "text/html": [
       "<div>\n",
       "<style scoped>\n",
       "    .dataframe tbody tr th:only-of-type {\n",
       "        vertical-align: middle;\n",
       "    }\n",
       "\n",
       "    .dataframe tbody tr th {\n",
       "        vertical-align: top;\n",
       "    }\n",
       "\n",
       "    .dataframe thead th {\n",
       "        text-align: right;\n",
       "    }\n",
       "</style>\n",
       "<table border=\"1\" class=\"dataframe\">\n",
       "  <thead>\n",
       "    <tr style=\"text-align: right;\">\n",
       "      <th></th>\n",
       "      <th>Empresa</th>\n",
       "      <th>Canal_Distribuicao</th>\n",
       "      <th>Mercado</th>\n",
       "      <th>Volume_Venda</th>\n",
       "      <th>Data</th>\n",
       "    </tr>\n",
       "  </thead>\n",
       "  <tbody>\n",
       "    <tr>\n",
       "      <th>0</th>\n",
       "      <td>NaN</td>\n",
       "      <td>NaN</td>\n",
       "      <td>NaN</td>\n",
       "      <td>63198.005</td>\n",
       "      <td>2015-01-01 00:00:00.000</td>\n",
       "    </tr>\n",
       "    <tr>\n",
       "      <th>1</th>\n",
       "      <td>NaN</td>\n",
       "      <td>NaN</td>\n",
       "      <td>NaN</td>\n",
       "      <td>107754.0</td>\n",
       "      <td>2015-02-01 00:00:00.000</td>\n",
       "    </tr>\n",
       "    <tr>\n",
       "      <th>2</th>\n",
       "      <td>NaN</td>\n",
       "      <td>NaN</td>\n",
       "      <td>NaN</td>\n",
       "      <td>118044.0</td>\n",
       "      <td>2015-03-01 00:00:00.000</td>\n",
       "    </tr>\n",
       "    <tr>\n",
       "      <th>3</th>\n",
       "      <td>NaN</td>\n",
       "      <td>NaN</td>\n",
       "      <td>NaN</td>\n",
       "      <td>75890.0</td>\n",
       "      <td>2015-04-01 00:00:00.000</td>\n",
       "    </tr>\n",
       "    <tr>\n",
       "      <th>4</th>\n",
       "      <td>NaN</td>\n",
       "      <td>NaN</td>\n",
       "      <td>NaN</td>\n",
       "      <td>102560.0</td>\n",
       "      <td>2015-05-01 00:00:00.000</td>\n",
       "    </tr>\n",
       "  </tbody>\n",
       "</table>\n",
       "</div>"
      ],
      "text/plain": [
       "  Empresa Canal_Distribuicao Mercado Volume_Venda                     Data\n",
       "0     NaN                NaN     NaN    63198.005  2015-01-01 00:00:00.000\n",
       "1     NaN                NaN     NaN     107754.0  2015-02-01 00:00:00.000\n",
       "2     NaN                NaN     NaN     118044.0  2015-03-01 00:00:00.000\n",
       "3     NaN                NaN     NaN      75890.0  2015-04-01 00:00:00.000\n",
       "4     NaN                NaN     NaN     102560.0  2015-05-01 00:00:00.000"
      ]
     },
     "execution_count": 1590,
     "metadata": {},
     "output_type": "execute_result"
    }
   ],
   "source": [
    "# Substituindo os valores NaNs pela string 'NaN':\n",
    "df = df.fillna(\"NaN\")\n",
    "df.head(5)"
   ]
  },
  {
   "cell_type": "markdown",
   "id": "fd029437",
   "metadata": {},
   "source": [
    "### 1.3.1 - Filtrando dataframe com apenas as linhas que possuem pelo menos Empresa (dimensão 1)"
   ]
  },
  {
   "cell_type": "code",
   "execution_count": 1591,
   "id": "ab1de2e6",
   "metadata": {},
   "outputs": [
    {
     "data": {
      "text/html": [
       "<div>\n",
       "<style scoped>\n",
       "    .dataframe tbody tr th:only-of-type {\n",
       "        vertical-align: middle;\n",
       "    }\n",
       "\n",
       "    .dataframe tbody tr th {\n",
       "        vertical-align: top;\n",
       "    }\n",
       "\n",
       "    .dataframe thead th {\n",
       "        text-align: right;\n",
       "    }\n",
       "</style>\n",
       "<table border=\"1\" class=\"dataframe\">\n",
       "  <thead>\n",
       "    <tr style=\"text-align: right;\">\n",
       "      <th></th>\n",
       "      <th>Empresa</th>\n",
       "      <th>Canal_Distribuicao</th>\n",
       "      <th>Mercado</th>\n",
       "      <th>Volume_Venda</th>\n",
       "      <th>Data</th>\n",
       "    </tr>\n",
       "  </thead>\n",
       "  <tbody>\n",
       "    <tr>\n",
       "      <th>48</th>\n",
       "      <td>BC</td>\n",
       "      <td>NaN</td>\n",
       "      <td>NaN</td>\n",
       "      <td>10070.0</td>\n",
       "      <td>2015-01-01 00:00:00.000</td>\n",
       "    </tr>\n",
       "    <tr>\n",
       "      <th>49</th>\n",
       "      <td>BC</td>\n",
       "      <td>NaN</td>\n",
       "      <td>NaN</td>\n",
       "      <td>9434.0</td>\n",
       "      <td>2015-02-01 00:00:00.000</td>\n",
       "    </tr>\n",
       "    <tr>\n",
       "      <th>50</th>\n",
       "      <td>BC</td>\n",
       "      <td>NaN</td>\n",
       "      <td>NaN</td>\n",
       "      <td>14882.0</td>\n",
       "      <td>2015-03-01 00:00:00.000</td>\n",
       "    </tr>\n",
       "    <tr>\n",
       "      <th>51</th>\n",
       "      <td>BC</td>\n",
       "      <td>NaN</td>\n",
       "      <td>NaN</td>\n",
       "      <td>12618.0</td>\n",
       "      <td>2015-04-01 00:00:00.000</td>\n",
       "    </tr>\n",
       "    <tr>\n",
       "      <th>52</th>\n",
       "      <td>BC</td>\n",
       "      <td>NaN</td>\n",
       "      <td>NaN</td>\n",
       "      <td>8516.0</td>\n",
       "      <td>2015-05-01 00:00:00.000</td>\n",
       "    </tr>\n",
       "  </tbody>\n",
       "</table>\n",
       "</div>"
      ],
      "text/plain": [
       "   Empresa Canal_Distribuicao Mercado Volume_Venda                     Data\n",
       "48      BC                NaN     NaN      10070.0  2015-01-01 00:00:00.000\n",
       "49      BC                NaN     NaN       9434.0  2015-02-01 00:00:00.000\n",
       "50      BC                NaN     NaN      14882.0  2015-03-01 00:00:00.000\n",
       "51      BC                NaN     NaN      12618.0  2015-04-01 00:00:00.000\n",
       "52      BC                NaN     NaN       8516.0  2015-05-01 00:00:00.000"
      ]
     },
     "execution_count": 1591,
     "metadata": {},
     "output_type": "execute_result"
    }
   ],
   "source": [
    "df = df[((df.Empresa != \"NaN\") & (df.Canal_Distribuicao == \"NaN\") & (df.Mercado == \"NaN\"))\n",
    "        |((df.Empresa != \"NaN\") & (df.Canal_Distribuicao != \"NaN\") & (df.Mercado == \"NaN\"))\n",
    "        |((df.Empresa != \"NaN\") & (df.Canal_Distribuicao != \"NaN\") & (df.Mercado != \"NaN\"))]\n",
    "df.head(5)"
   ]
  },
  {
   "cell_type": "markdown",
   "id": "9d55ddbd",
   "metadata": {},
   "source": [
    "### 1.3.2 - Removendo do dataframe linhas que possuem o \"Valor de Ocorrência\" vazio"
   ]
  },
  {
   "cell_type": "code",
   "execution_count": 1592,
   "id": "1387f655",
   "metadata": {},
   "outputs": [],
   "source": [
    "df = df[(df.Volume_Venda != \"NaN\")].reset_index()\n",
    "\n",
    "# Reconfigurando os índices:\n",
    "new_index = []\n",
    "for i in range(len(df)):\n",
    "    new_index.append(i+1)\n",
    "df = df.set_index(pd.Index(new_index))\n",
    "del df['index']"
   ]
  },
  {
   "cell_type": "markdown",
   "id": "259c88ff",
   "metadata": {},
   "source": [
    "# 2 - Análise Exploratória dos Dados"
   ]
  },
  {
   "cell_type": "markdown",
   "id": "7e74dc60",
   "metadata": {},
   "source": [
    "## 2.1 - Análise das \"Empresas\", dos \"Canais de Distribuição\" e dos \"Mercados\""
   ]
  },
  {
   "cell_type": "code",
   "execution_count": 1593,
   "id": "163d000c",
   "metadata": {},
   "outputs": [
    {
     "name": "stdout",
     "output_type": "stream",
     "text": [
      "Empresas:  ['BC' 'BI' 'BR' 'BT']\n",
      "Canais:  ['NaN' 'ME' 'EE' 'MI']\n",
      "Mercado:  ['NaN' 'Am.Norte' 'Ásia' 'Europa' 'Am.Latina' 'Japão' 'Brasil']\n"
     ]
    }
   ],
   "source": [
    "empresas = df.Empresa.unique()\n",
    "canais = df.Canal_Distribuicao.unique()\n",
    "mercados = df.Mercado.unique()\n",
    "\n",
    "print(\"Empresas: \", empresas)\n",
    "print(\"Canais: \", canais)\n",
    "print(\"Mercado: \", mercados)"
   ]
  },
  {
   "cell_type": "code",
   "execution_count": 1594,
   "id": "b1e5d011",
   "metadata": {},
   "outputs": [],
   "source": [
    "# Substituindo os nomes dos mercados, para omitir informações possivelmente confidenciais:\n",
    "df['Mercado'] = df['Mercado'].replace(['Am.Norte','Ásia','Europa','Am.Latina','Japão','Brasil'],\n",
    "                                      [   'R1'   , 'R2' ,  'R3'  ,    'R4'   ,  'R5' ,  'R6'  ])"
   ]
  },
  {
   "cell_type": "markdown",
   "id": "e91750a7",
   "metadata": {},
   "source": [
    "### 2.1.1 - Agrupamento de Mercados, por Canais, por Empresa"
   ]
  },
  {
   "cell_type": "code",
   "execution_count": 1595,
   "id": "a9eb311d",
   "metadata": {},
   "outputs": [
    {
     "name": "stdout",
     "output_type": "stream",
     "text": [
      "BC\n"
     ]
    },
    {
     "data": {
      "text/html": [
       "<div>\n",
       "<style scoped>\n",
       "    .dataframe tbody tr th:only-of-type {\n",
       "        vertical-align: middle;\n",
       "    }\n",
       "\n",
       "    .dataframe tbody tr th {\n",
       "        vertical-align: top;\n",
       "    }\n",
       "\n",
       "    .dataframe thead th {\n",
       "        text-align: right;\n",
       "    }\n",
       "</style>\n",
       "<table border=\"1\" class=\"dataframe\">\n",
       "  <thead>\n",
       "    <tr style=\"text-align: right;\">\n",
       "      <th></th>\n",
       "      <th></th>\n",
       "      <th>Qtd</th>\n",
       "    </tr>\n",
       "    <tr>\n",
       "      <th>Canal_Distribuicao</th>\n",
       "      <th>Mercado</th>\n",
       "      <th></th>\n",
       "    </tr>\n",
       "  </thead>\n",
       "  <tbody>\n",
       "    <tr>\n",
       "      <th rowspan=\"2\" valign=\"top\">ME</th>\n",
       "      <th>NaN</th>\n",
       "      <td>121</td>\n",
       "    </tr>\n",
       "    <tr>\n",
       "      <th>R1</th>\n",
       "      <td>193</td>\n",
       "    </tr>\n",
       "    <tr>\n",
       "      <th>NaN</th>\n",
       "      <th>NaN</th>\n",
       "      <td>121</td>\n",
       "    </tr>\n",
       "  </tbody>\n",
       "</table>\n",
       "</div>"
      ],
      "text/plain": [
       "                            Qtd\n",
       "Canal_Distribuicao Mercado     \n",
       "ME                 NaN      121\n",
       "                   R1       193\n",
       "NaN                NaN      121"
      ]
     },
     "metadata": {},
     "output_type": "display_data"
    },
    {
     "name": "stdout",
     "output_type": "stream",
     "text": [
      "BI\n"
     ]
    },
    {
     "data": {
      "text/html": [
       "<div>\n",
       "<style scoped>\n",
       "    .dataframe tbody tr th:only-of-type {\n",
       "        vertical-align: middle;\n",
       "    }\n",
       "\n",
       "    .dataframe tbody tr th {\n",
       "        vertical-align: top;\n",
       "    }\n",
       "\n",
       "    .dataframe thead th {\n",
       "        text-align: right;\n",
       "    }\n",
       "</style>\n",
       "<table border=\"1\" class=\"dataframe\">\n",
       "  <thead>\n",
       "    <tr style=\"text-align: right;\">\n",
       "      <th></th>\n",
       "      <th></th>\n",
       "      <th>Qtd</th>\n",
       "    </tr>\n",
       "    <tr>\n",
       "      <th>Canal_Distribuicao</th>\n",
       "      <th>Mercado</th>\n",
       "      <th></th>\n",
       "    </tr>\n",
       "  </thead>\n",
       "  <tbody>\n",
       "    <tr>\n",
       "      <th rowspan=\"4\" valign=\"top\">ME</th>\n",
       "      <th>NaN</th>\n",
       "      <td>121</td>\n",
       "    </tr>\n",
       "    <tr>\n",
       "      <th>R2</th>\n",
       "      <td>193</td>\n",
       "    </tr>\n",
       "    <tr>\n",
       "      <th>R3</th>\n",
       "      <td>193</td>\n",
       "    </tr>\n",
       "    <tr>\n",
       "      <th>R5</th>\n",
       "      <td>65</td>\n",
       "    </tr>\n",
       "    <tr>\n",
       "      <th>NaN</th>\n",
       "      <th>NaN</th>\n",
       "      <td>121</td>\n",
       "    </tr>\n",
       "  </tbody>\n",
       "</table>\n",
       "</div>"
      ],
      "text/plain": [
       "                            Qtd\n",
       "Canal_Distribuicao Mercado     \n",
       "ME                 NaN      121\n",
       "                   R2       193\n",
       "                   R3       193\n",
       "                   R5        65\n",
       "NaN                NaN      121"
      ]
     },
     "metadata": {},
     "output_type": "display_data"
    },
    {
     "name": "stdout",
     "output_type": "stream",
     "text": [
      "BR\n"
     ]
    },
    {
     "data": {
      "text/html": [
       "<div>\n",
       "<style scoped>\n",
       "    .dataframe tbody tr th:only-of-type {\n",
       "        vertical-align: middle;\n",
       "    }\n",
       "\n",
       "    .dataframe tbody tr th {\n",
       "        vertical-align: top;\n",
       "    }\n",
       "\n",
       "    .dataframe thead th {\n",
       "        text-align: right;\n",
       "    }\n",
       "</style>\n",
       "<table border=\"1\" class=\"dataframe\">\n",
       "  <thead>\n",
       "    <tr style=\"text-align: right;\">\n",
       "      <th></th>\n",
       "      <th></th>\n",
       "      <th>Qtd</th>\n",
       "    </tr>\n",
       "    <tr>\n",
       "      <th>Canal_Distribuicao</th>\n",
       "      <th>Mercado</th>\n",
       "      <th></th>\n",
       "    </tr>\n",
       "  </thead>\n",
       "  <tbody>\n",
       "    <tr>\n",
       "      <th rowspan=\"6\" valign=\"top\">EE</th>\n",
       "      <th>NaN</th>\n",
       "      <td>121</td>\n",
       "    </tr>\n",
       "    <tr>\n",
       "      <th>R1</th>\n",
       "      <td>144</td>\n",
       "    </tr>\n",
       "    <tr>\n",
       "      <th>R2</th>\n",
       "      <td>193</td>\n",
       "    </tr>\n",
       "    <tr>\n",
       "      <th>R3</th>\n",
       "      <td>145</td>\n",
       "    </tr>\n",
       "    <tr>\n",
       "      <th>R4</th>\n",
       "      <td>131</td>\n",
       "    </tr>\n",
       "    <tr>\n",
       "      <th>R5</th>\n",
       "      <td>168</td>\n",
       "    </tr>\n",
       "    <tr>\n",
       "      <th>ME</th>\n",
       "      <th>NaN</th>\n",
       "      <td>121</td>\n",
       "    </tr>\n",
       "    <tr>\n",
       "      <th>MI</th>\n",
       "      <th>R6</th>\n",
       "      <td>169</td>\n",
       "    </tr>\n",
       "    <tr>\n",
       "      <th>NaN</th>\n",
       "      <th>NaN</th>\n",
       "      <td>121</td>\n",
       "    </tr>\n",
       "  </tbody>\n",
       "</table>\n",
       "</div>"
      ],
      "text/plain": [
       "                            Qtd\n",
       "Canal_Distribuicao Mercado     \n",
       "EE                 NaN      121\n",
       "                   R1       144\n",
       "                   R2       193\n",
       "                   R3       145\n",
       "                   R4       131\n",
       "                   R5       168\n",
       "ME                 NaN      121\n",
       "MI                 R6       169\n",
       "NaN                NaN      121"
      ]
     },
     "metadata": {},
     "output_type": "display_data"
    },
    {
     "name": "stdout",
     "output_type": "stream",
     "text": [
      "BT\n"
     ]
    },
    {
     "data": {
      "text/html": [
       "<div>\n",
       "<style scoped>\n",
       "    .dataframe tbody tr th:only-of-type {\n",
       "        vertical-align: middle;\n",
       "    }\n",
       "\n",
       "    .dataframe tbody tr th {\n",
       "        vertical-align: top;\n",
       "    }\n",
       "\n",
       "    .dataframe thead th {\n",
       "        text-align: right;\n",
       "    }\n",
       "</style>\n",
       "<table border=\"1\" class=\"dataframe\">\n",
       "  <thead>\n",
       "    <tr style=\"text-align: right;\">\n",
       "      <th></th>\n",
       "      <th></th>\n",
       "      <th>Qtd</th>\n",
       "    </tr>\n",
       "    <tr>\n",
       "      <th>Canal_Distribuicao</th>\n",
       "      <th>Mercado</th>\n",
       "      <th></th>\n",
       "    </tr>\n",
       "  </thead>\n",
       "  <tbody>\n",
       "    <tr>\n",
       "      <th rowspan=\"4\" valign=\"top\">ME</th>\n",
       "      <th>NaN</th>\n",
       "      <td>103</td>\n",
       "    </tr>\n",
       "    <tr>\n",
       "      <th>R2</th>\n",
       "      <td>173</td>\n",
       "    </tr>\n",
       "    <tr>\n",
       "      <th>R4</th>\n",
       "      <td>127</td>\n",
       "    </tr>\n",
       "    <tr>\n",
       "      <th>R5</th>\n",
       "      <td>151</td>\n",
       "    </tr>\n",
       "    <tr>\n",
       "      <th>NaN</th>\n",
       "      <th>NaN</th>\n",
       "      <td>103</td>\n",
       "    </tr>\n",
       "  </tbody>\n",
       "</table>\n",
       "</div>"
      ],
      "text/plain": [
       "                            Qtd\n",
       "Canal_Distribuicao Mercado     \n",
       "ME                 NaN      103\n",
       "                   R2       173\n",
       "                   R4       127\n",
       "                   R5       151\n",
       "NaN                NaN      103"
      ]
     },
     "metadata": {},
     "output_type": "display_data"
    }
   ],
   "source": [
    "group_by_empresa = df.groupby(['Empresa'])\n",
    "group_by_canal = df.groupby(['Canal_Distribuicao'])\n",
    "group_by_mercado = df.groupby(['Mercado'])\n",
    "\n",
    "companies_set = [] \n",
    "# .sort_values(by=['Data_Ocorrencia'])\n",
    "for company_name in empresas:\n",
    "    temp_df = group_by_empresa.get_group(company_name)\n",
    "    #del  empresa_df['index']\n",
    "    companies_set.append((company_name, temp_df))\n",
    "\n",
    "for tpl in companies_set:\n",
    "    print(tpl[0])\n",
    "    group = tpl[1].groupby(['Canal_Distribuicao','Mercado']).size()\n",
    "    group = group.to_frame(name = 'Qtd')\n",
    "    display(group)\n"
   ]
  },
  {
   "cell_type": "markdown",
   "id": "74ef575a",
   "metadata": {},
   "source": [
    "## 2.2 - Médias de Volume de Vendas"
   ]
  },
  {
   "cell_type": "markdown",
   "id": "bc89dfc0",
   "metadata": {},
   "source": [
    "### 2.2.1 - BC"
   ]
  },
  {
   "cell_type": "markdown",
   "id": "95ce8d69",
   "metadata": {},
   "source": [
    "#### - *BC - ME - R1*"
   ]
  },
  {
   "cell_type": "code",
   "execution_count": 1596,
   "id": "4fa85964",
   "metadata": {},
   "outputs": [
    {
     "data": {
      "text/html": [
       "<div>\n",
       "<style scoped>\n",
       "    .dataframe tbody tr th:only-of-type {\n",
       "        vertical-align: middle;\n",
       "    }\n",
       "\n",
       "    .dataframe tbody tr th {\n",
       "        vertical-align: top;\n",
       "    }\n",
       "\n",
       "    .dataframe thead th {\n",
       "        text-align: right;\n",
       "    }\n",
       "</style>\n",
       "<table border=\"1\" class=\"dataframe\">\n",
       "  <thead>\n",
       "    <tr style=\"text-align: right;\">\n",
       "      <th></th>\n",
       "      <th>Empresa</th>\n",
       "      <th>Canal_Distribuicao</th>\n",
       "      <th>Mercado</th>\n",
       "      <th>Volume_Venda</th>\n",
       "      <th>Data</th>\n",
       "    </tr>\n",
       "  </thead>\n",
       "  <tbody>\n",
       "    <tr>\n",
       "      <th>0</th>\n",
       "      <td>BC</td>\n",
       "      <td>ME</td>\n",
       "      <td>R1</td>\n",
       "      <td>9498.0</td>\n",
       "      <td>2012-01-01 00:00:00.000</td>\n",
       "    </tr>\n",
       "    <tr>\n",
       "      <th>1</th>\n",
       "      <td>BC</td>\n",
       "      <td>ME</td>\n",
       "      <td>R1</td>\n",
       "      <td>9596.0</td>\n",
       "      <td>2012-02-01 00:00:00.000</td>\n",
       "    </tr>\n",
       "    <tr>\n",
       "      <th>2</th>\n",
       "      <td>BC</td>\n",
       "      <td>ME</td>\n",
       "      <td>R1</td>\n",
       "      <td>10424.0</td>\n",
       "      <td>2012-03-01 00:00:00.000</td>\n",
       "    </tr>\n",
       "    <tr>\n",
       "      <th>3</th>\n",
       "      <td>BC</td>\n",
       "      <td>ME</td>\n",
       "      <td>R1</td>\n",
       "      <td>12276.0</td>\n",
       "      <td>2012-04-01 00:00:00.000</td>\n",
       "    </tr>\n",
       "  </tbody>\n",
       "</table>\n",
       "</div>"
      ],
      "text/plain": [
       "  Empresa Canal_Distribuicao Mercado Volume_Venda                     Data\n",
       "0      BC                 ME      R1       9498.0  2012-01-01 00:00:00.000\n",
       "1      BC                 ME      R1       9596.0  2012-02-01 00:00:00.000\n",
       "2      BC                 ME      R1      10424.0  2012-03-01 00:00:00.000\n",
       "3      BC                 ME      R1      12276.0  2012-04-01 00:00:00.000"
      ]
     },
     "metadata": {},
     "output_type": "display_data"
    },
    {
     "data": {
      "image/png": "[encoded data removed]",
      "text/plain": [
       "<Figure size 432x288 with 1 Axes>"
      ]
     },
     "metadata": {
      "needs_background": "light"
     },
     "output_type": "display_data"
    }
   ],
   "source": [
    "cmp_df_r1 = companies_set[0][1].reset_index().drop(['index'],axis=1)\n",
    "cmp_df_r1 = cmp_df_r1[((cmp_df_r1.Canal_Distribuicao == 'ME') & (cmp_df_r1.Mercado == 'R1'))]\n",
    "cmp_df_r1 = cmp_df_r1[((cmp_df_r1.Empresa != \"NaN\") & (cmp_df_r1.Canal_Distribuicao != \"NaN\") & (cmp_df_r1.Mercado != \"NaN\"))]\n",
    "cmp_df_r1 = cmp_df_r1.sort_values(by='Volume_Venda').reset_index().drop(['index'],axis=1)\n",
    "cmp_df_r1 = cmp_df_r1.drop_duplicates('Data',keep='last').sort_values(by='Data').reset_index().drop(['index'],axis=1)\n",
    "display(cmp_df_r1.head(4))\n",
    "\n",
    "means_bc_me_r1 = []\n",
    "year = 2012\n",
    "while year < 2022: # so tem a entrada de janeiro no ano de 2022;\n",
    "    query = cmp_df_r1[((cmp_df_r1.Data >= str(year)) & (cmp_df_r1.Data < str(year+1)))]\n",
    "    mean = np.round(query['Volume_Venda'].mean(),4)\n",
    "    means_bc_me_r1.append(mean)\n",
    "    year += 1\n",
    "\n",
    "means = means_bc_me_r1\n",
    "bars = ['2012','2013','2014','2015','2016','2017','2018','2019','2020','2021']\n",
    "y_pos = np.arange(len(bars))\n",
    "plt.title(\"Média do Volume de Vendas/ano | \"+ companies_set[0][0]+\" - ME - R1\")\n",
    "plt.plot(y_pos, means)\n",
    "plt.xticks(y_pos, bars)\n",
    "plt.show()"
   ]
  },
  {
   "cell_type": "markdown",
   "id": "7c78168d",
   "metadata": {},
   "source": [
    "### 2.2.2 - Empresa BI"
   ]
  },
  {
   "cell_type": "markdown",
   "id": "1ead2cdd",
   "metadata": {},
   "source": [
    "##### - *BI - ME - R2*"
   ]
  },
  {
   "cell_type": "code",
   "execution_count": 1597,
   "id": "d4bff371",
   "metadata": {},
   "outputs": [
    {
     "data": {
      "text/html": [
       "<div>\n",
       "<style scoped>\n",
       "    .dataframe tbody tr th:only-of-type {\n",
       "        vertical-align: middle;\n",
       "    }\n",
       "\n",
       "    .dataframe tbody tr th {\n",
       "        vertical-align: top;\n",
       "    }\n",
       "\n",
       "    .dataframe thead th {\n",
       "        text-align: right;\n",
       "    }\n",
       "</style>\n",
       "<table border=\"1\" class=\"dataframe\">\n",
       "  <thead>\n",
       "    <tr style=\"text-align: right;\">\n",
       "      <th></th>\n",
       "      <th>Empresa</th>\n",
       "      <th>Canal_Distribuicao</th>\n",
       "      <th>Mercado</th>\n",
       "      <th>Volume_Venda</th>\n",
       "      <th>Data</th>\n",
       "    </tr>\n",
       "  </thead>\n",
       "  <tbody>\n",
       "    <tr>\n",
       "      <th>0</th>\n",
       "      <td>BI</td>\n",
       "      <td>ME</td>\n",
       "      <td>R3</td>\n",
       "      <td>46478.0</td>\n",
       "      <td>2012-01-01 00:00:00.000</td>\n",
       "    </tr>\n",
       "    <tr>\n",
       "      <th>1</th>\n",
       "      <td>BI</td>\n",
       "      <td>ME</td>\n",
       "      <td>R3</td>\n",
       "      <td>36412.0</td>\n",
       "      <td>2012-02-01 00:00:00.000</td>\n",
       "    </tr>\n",
       "    <tr>\n",
       "      <th>2</th>\n",
       "      <td>BI</td>\n",
       "      <td>ME</td>\n",
       "      <td>R3</td>\n",
       "      <td>41470.0</td>\n",
       "      <td>2012-03-01 00:00:00.000</td>\n",
       "    </tr>\n",
       "    <tr>\n",
       "      <th>3</th>\n",
       "      <td>BI</td>\n",
       "      <td>ME</td>\n",
       "      <td>R3</td>\n",
       "      <td>39242.0</td>\n",
       "      <td>2012-04-01 00:00:00.000</td>\n",
       "    </tr>\n",
       "  </tbody>\n",
       "</table>\n",
       "</div>"
      ],
      "text/plain": [
       "  Empresa Canal_Distribuicao Mercado Volume_Venda                     Data\n",
       "0      BI                 ME      R3      46478.0  2012-01-01 00:00:00.000\n",
       "1      BI                 ME      R3      36412.0  2012-02-01 00:00:00.000\n",
       "2      BI                 ME      R3      41470.0  2012-03-01 00:00:00.000\n",
       "3      BI                 ME      R3      39242.0  2012-04-01 00:00:00.000"
      ]
     },
     "metadata": {},
     "output_type": "display_data"
    },
    {
     "data": {
      "image/png": "[encoded data removed]",
      "text/plain": [
       "<Figure size 432x288 with 1 Axes>"
      ]
     },
     "metadata": {
      "needs_background": "light"
     },
     "output_type": "display_data"
    }
   ],
   "source": [
    "cmp_df_r2 = companies_set[1][1].reset_index().drop(['index'],axis=1)\n",
    "cmp_df_r2 = cmp_df_r2[((cmp_df_r2.Canal_Distribuicao == 'ME') & (cmp_df_r2.Mercado == 'R3'))]\n",
    "cmp_df_r2 = cmp_df_r2[((cmp_df_r2.Empresa != \"NaN\") & (cmp_df_r2.Canal_Distribuicao != \"NaN\") & (cmp_df_r2.Mercado != \"NaN\"))]\n",
    "cmp_df_r2 = cmp_df_r2.sort_values(by='Volume_Venda').reset_index().drop(['index'],axis=1)\n",
    "cmp_df_r2 = cmp_df_r2.drop_duplicates('Data',keep='last').sort_values(by='Data').reset_index().drop(['index'],axis=1)\n",
    "display(cmp_df_r2.head(4))\n",
    "\n",
    "means_bi_me_r2 = []\n",
    "year = 2012\n",
    "while year < 2022: # so tem a entrada de janeiro no ano de 2022;\n",
    "    query = cmp_df_r2[((cmp_df_r2.Data >= str(year)) & (cmp_df_r2.Data < str(year+1)))]\n",
    "    mean = np.round(query['Volume_Venda'].mean(),4)\n",
    "    means_bi_me_r2.append(mean)\n",
    "    year += 1\n",
    "\n",
    "means = means_bi_me_r2\n",
    "bars = ['2012','2013','2014','2015','2016','2017','2018','2019','2020','2021']\n",
    "y_pos = np.arange(len(bars))\n",
    "plt.title(\"Média do Volume de Vendas/ano | \"+ companies_set[1][0]+\" - ME - R2\")\n",
    "plt.plot(y_pos, means)\n",
    "plt.xticks(y_pos, bars)\n",
    "plt.show()"
   ]
  },
  {
   "cell_type": "markdown",
   "id": "a69f5ac4",
   "metadata": {},
   "source": [
    "##### - *BI - ME - R3*"
   ]
  },
  {
   "cell_type": "code",
   "execution_count": 1598,
   "id": "03d2800b",
   "metadata": {},
   "outputs": [
    {
     "data": {
      "text/html": [
       "<div>\n",
       "<style scoped>\n",
       "    .dataframe tbody tr th:only-of-type {\n",
       "        vertical-align: middle;\n",
       "    }\n",
       "\n",
       "    .dataframe tbody tr th {\n",
       "        vertical-align: top;\n",
       "    }\n",
       "\n",
       "    .dataframe thead th {\n",
       "        text-align: right;\n",
       "    }\n",
       "</style>\n",
       "<table border=\"1\" class=\"dataframe\">\n",
       "  <thead>\n",
       "    <tr style=\"text-align: right;\">\n",
       "      <th></th>\n",
       "      <th>Empresa</th>\n",
       "      <th>Canal_Distribuicao</th>\n",
       "      <th>Mercado</th>\n",
       "      <th>Volume_Venda</th>\n",
       "      <th>Data</th>\n",
       "    </tr>\n",
       "  </thead>\n",
       "  <tbody>\n",
       "    <tr>\n",
       "      <th>0</th>\n",
       "      <td>BI</td>\n",
       "      <td>ME</td>\n",
       "      <td>R3</td>\n",
       "      <td>46478.0</td>\n",
       "      <td>2012-01-01 00:00:00.000</td>\n",
       "    </tr>\n",
       "    <tr>\n",
       "      <th>1</th>\n",
       "      <td>BI</td>\n",
       "      <td>ME</td>\n",
       "      <td>R3</td>\n",
       "      <td>36412.0</td>\n",
       "      <td>2012-02-01 00:00:00.000</td>\n",
       "    </tr>\n",
       "    <tr>\n",
       "      <th>2</th>\n",
       "      <td>BI</td>\n",
       "      <td>ME</td>\n",
       "      <td>R3</td>\n",
       "      <td>41470.0</td>\n",
       "      <td>2012-03-01 00:00:00.000</td>\n",
       "    </tr>\n",
       "    <tr>\n",
       "      <th>3</th>\n",
       "      <td>BI</td>\n",
       "      <td>ME</td>\n",
       "      <td>R3</td>\n",
       "      <td>39242.0</td>\n",
       "      <td>2012-04-01 00:00:00.000</td>\n",
       "    </tr>\n",
       "  </tbody>\n",
       "</table>\n",
       "</div>"
      ],
      "text/plain": [
       "  Empresa Canal_Distribuicao Mercado Volume_Venda                     Data\n",
       "0      BI                 ME      R3      46478.0  2012-01-01 00:00:00.000\n",
       "1      BI                 ME      R3      36412.0  2012-02-01 00:00:00.000\n",
       "2      BI                 ME      R3      41470.0  2012-03-01 00:00:00.000\n",
       "3      BI                 ME      R3      39242.0  2012-04-01 00:00:00.000"
      ]
     },
     "metadata": {},
     "output_type": "display_data"
    },
    {
     "data": {
      "image/png": "[encoded data removed]",
      "text/plain": [
       "<Figure size 432x288 with 1 Axes>"
      ]
     },
     "metadata": {
      "needs_background": "light"
     },
     "output_type": "display_data"
    }
   ],
   "source": [
    "cmp_df_r3 = companies_set[1][1].reset_index().drop(['index'],axis=1)\n",
    "cmp_df_r3 = cmp_df_r3[((cmp_df_r3.Canal_Distribuicao == 'ME') & (cmp_df_r3.Mercado == 'R3'))]\n",
    "cmp_df_r3 = cmp_df_r3[((cmp_df_r3.Empresa != \"NaN\") & (cmp_df_r3.Canal_Distribuicao != \"NaN\") & (cmp_df_r3.Mercado != \"NaN\"))]\n",
    "cmp_df_r3 = cmp_df_r3.sort_values(by='Volume_Venda').reset_index().drop(['index'],axis=1)\n",
    "cmp_df_r3 = cmp_df_r3.drop_duplicates('Data',keep='last').sort_values(by='Data').reset_index().drop(['index'],axis=1)\n",
    "display(cmp_df_r3.head(4))\n",
    "\n",
    "means_bi_me_r3 = []\n",
    "year = 2012\n",
    "while year < 2022: \n",
    "    query = cmp_df_r3[((cmp_df_r3.Data >= str(year)) & (cmp_df_r3.Data < str(year+1)))]\n",
    "    mean = np.round(query['Volume_Venda'].mean(),4)\n",
    "    means_bi_me_r3.append(mean)\n",
    "    year += 1\n",
    "\n",
    "means = means_bi_me_r3\n",
    "bars = ['2012','2013','2014','2015','2016','2017','2018','2019','2020','2021']\n",
    "y_pos = np.arange(len(bars))\n",
    "plt.title(\"Média do Volume de Vendas/ano | \"+ companies_set[1][0]+\" - ME - R3\")\n",
    "plt.plot(y_pos, means)\n",
    "plt.xticks(y_pos, bars)\n",
    "plt.show()"
   ]
  },
  {
   "cell_type": "markdown",
   "id": "cefe5e8c",
   "metadata": {},
   "source": [
    "##### - *BI - ME - R5*"
   ]
  },
  {
   "cell_type": "code",
   "execution_count": 1599,
   "metadata": {},
   "outputs": [
    {
     "data": {
      "text/html": [
       "<div>\n",
       "<style scoped>\n",
       "    .dataframe tbody tr th:only-of-type {\n",
       "        vertical-align: middle;\n",
       "    }\n",
       "\n",
       "    .dataframe tbody tr th {\n",
       "        vertical-align: top;\n",
       "    }\n",
       "\n",
       "    .dataframe thead th {\n",
       "        text-align: right;\n",
       "    }\n",
       "</style>\n",
       "<table border=\"1\" class=\"dataframe\">\n",
       "  <thead>\n",
       "    <tr style=\"text-align: right;\">\n",
       "      <th></th>\n",
       "      <th>Empresa</th>\n",
       "      <th>Canal_Distribuicao</th>\n",
       "      <th>Mercado</th>\n",
       "      <th>Volume_Venda</th>\n",
       "      <th>Data</th>\n",
       "    </tr>\n",
       "  </thead>\n",
       "  <tbody>\n",
       "    <tr>\n",
       "      <th>0</th>\n",
       "      <td>BI</td>\n",
       "      <td>ME</td>\n",
       "      <td>R5</td>\n",
       "      <td>16810.0</td>\n",
       "      <td>2016-08-01 00:00:00.000</td>\n",
       "    </tr>\n",
       "    <tr>\n",
       "      <th>1</th>\n",
       "      <td>BI</td>\n",
       "      <td>ME</td>\n",
       "      <td>R5</td>\n",
       "      <td>18138.0</td>\n",
       "      <td>2016-09-01 00:00:00.000</td>\n",
       "    </tr>\n",
       "    <tr>\n",
       "      <th>2</th>\n",
       "      <td>BI</td>\n",
       "      <td>ME</td>\n",
       "      <td>R5</td>\n",
       "      <td>18182.0</td>\n",
       "      <td>2016-10-01 00:00:00.000</td>\n",
       "    </tr>\n",
       "    <tr>\n",
       "      <th>3</th>\n",
       "      <td>BI</td>\n",
       "      <td>ME</td>\n",
       "      <td>R5</td>\n",
       "      <td>19690.0</td>\n",
       "      <td>2016-11-01 00:00:00.000</td>\n",
       "    </tr>\n",
       "  </tbody>\n",
       "</table>\n",
       "</div>"
      ],
      "text/plain": [
       "  Empresa Canal_Distribuicao Mercado Volume_Venda                     Data\n",
       "0      BI                 ME      R5      16810.0  2016-08-01 00:00:00.000\n",
       "1      BI                 ME      R5      18138.0  2016-09-01 00:00:00.000\n",
       "2      BI                 ME      R5      18182.0  2016-10-01 00:00:00.000\n",
       "3      BI                 ME      R5      19690.0  2016-11-01 00:00:00.000"
      ]
     },
     "metadata": {},
     "output_type": "display_data"
    },
    {
     "data": {
      "image/png": "[encoded data removed]",
      "text/plain": [
       "<Figure size 432x288 with 1 Axes>"
      ]
     },
     "metadata": {
      "needs_background": "light"
     },
     "output_type": "display_data"
    }
   ],
   "source": [
    "cmp_df_r5 = companies_set[1][1].reset_index().drop(['index'],axis=1)\n",
    "cmp_df_r5 = cmp_df_r5[((cmp_df_r5.Canal_Distribuicao == 'ME') & (cmp_df_r5.Mercado == 'R5'))]\n",
    "cmp_df_r5 = cmp_df_r5[((cmp_df_r5.Empresa != \"NaN\") & (cmp_df_r5.Canal_Distribuicao != \"NaN\") & (cmp_df_r5.Mercado != \"NaN\"))]\n",
    "cmp_df_r5 = cmp_df_r5.sort_values(by='Volume_Venda').reset_index().drop(['index'],axis=1)\n",
    "cmp_df_r5 = cmp_df_r5.drop_duplicates('Data',keep='last').sort_values(by='Data').reset_index().drop(['index'],axis=1)\n",
    "display(cmp_df_r5.head(4))\n",
    "\n",
    "means_bi_me_r5 = []\n",
    "year = 2016\n",
    "while year < 2022: \n",
    "    query = cmp_df_r5[((cmp_df_r5.Data >= str(year)) & (cmp_df_r5.Data < str(year+1)))]\n",
    "    mean = np.round(query['Volume_Venda'].mean(),4)\n",
    "    means_bi_me_r5.append(mean)\n",
    "    year += 1\n",
    "\n",
    "means = means_bi_me_r5\n",
    "bars = ['2016','2017','2018','2019','2020','2021']\n",
    "y_pos = np.arange(len(bars))\n",
    "plt.title(\"Média do Volume de Vendas/ano | \"+ companies_set[1][0]+\" - ME - R5\")\n",
    "plt.plot(y_pos, means)\n",
    "plt.xticks(y_pos, bars)\n",
    "plt.show()"
   ]
  },
  {
   "cell_type": "markdown",
   "id": "d076145b",
   "metadata": {},
   "source": [
    "##### --- *Correlação ME X R2 X R3 X R5*"
   ]
  },
  {
   "cell_type": "code",
   "execution_count": 1600,
   "id": "4ed59555",
   "metadata": {},
   "outputs": [
    {
     "data": {
      "text/html": [
       "<div>\n",
       "<style scoped>\n",
       "    .dataframe tbody tr th:only-of-type {\n",
       "        vertical-align: middle;\n",
       "    }\n",
       "\n",
       "    .dataframe tbody tr th {\n",
       "        vertical-align: top;\n",
       "    }\n",
       "\n",
       "    .dataframe thead th {\n",
       "        text-align: right;\n",
       "    }\n",
       "</style>\n",
       "<table border=\"1\" class=\"dataframe\">\n",
       "  <thead>\n",
       "    <tr style=\"text-align: right;\">\n",
       "      <th></th>\n",
       "      <th>Volume_Venda_R2</th>\n",
       "      <th>Volume_Venda_R3</th>\n",
       "      <th>Volume_Venda_R5</th>\n",
       "      <th>Volume_Venda_ME</th>\n",
       "    </tr>\n",
       "  </thead>\n",
       "  <tbody>\n",
       "    <tr>\n",
       "      <th>0</th>\n",
       "      <td>9498.0</td>\n",
       "      <td>46478.0</td>\n",
       "      <td>16810.0</td>\n",
       "      <td>51866.0</td>\n",
       "    </tr>\n",
       "    <tr>\n",
       "      <th>1</th>\n",
       "      <td>9596.0</td>\n",
       "      <td>36412.0</td>\n",
       "      <td>18138.0</td>\n",
       "      <td>50638.0</td>\n",
       "    </tr>\n",
       "    <tr>\n",
       "      <th>2</th>\n",
       "      <td>10424.0</td>\n",
       "      <td>41470.0</td>\n",
       "      <td>18182.0</td>\n",
       "      <td>62968.0</td>\n",
       "    </tr>\n",
       "    <tr>\n",
       "      <th>3</th>\n",
       "      <td>12276.0</td>\n",
       "      <td>39242.0</td>\n",
       "      <td>19690.0</td>\n",
       "      <td>43852.0</td>\n",
       "    </tr>\n",
       "    <tr>\n",
       "      <th>4</th>\n",
       "      <td>11616.0</td>\n",
       "      <td>32868.0</td>\n",
       "      <td>18146.0</td>\n",
       "      <td>43012.0</td>\n",
       "    </tr>\n",
       "  </tbody>\n",
       "</table>\n",
       "</div>"
      ],
      "text/plain": [
       "   Volume_Venda_R2  Volume_Venda_R3  Volume_Venda_R5  Volume_Venda_ME\n",
       "0           9498.0          46478.0          16810.0          51866.0\n",
       "1           9596.0          36412.0          18138.0          50638.0\n",
       "2          10424.0          41470.0          18182.0          62968.0\n",
       "3          12276.0          39242.0          19690.0          43852.0\n",
       "4          11616.0          32868.0          18146.0          43012.0"
      ]
     },
     "metadata": {},
     "output_type": "display_data"
    },
    {
     "data": {
      "text/plain": [
       "<AxesSubplot:title={'center':'Matriz de Confusão: ME x R2 x R3 x R5'}>"
      ]
     },
     "execution_count": 1600,
     "metadata": {},
     "output_type": "execute_result"
    },
    {
     "data": {
      "image/png": "[encoded data removed]",
      "text/plain": [
       "<Figure size 432x288 with 2 Axes>"
      ]
     },
     "metadata": {
      "needs_background": "light"
     },
     "output_type": "display_data"
    }
   ],
   "source": [
    "cmp_df = companies_set[1][1].reset_index().drop(['index'],axis=1)\n",
    "cmp_df = cmp_df[(cmp_df.Canal_Distribuicao == 'ME')]\n",
    "cmp_df = cmp_df[((cmp_df.Empresa != \"NaN\") & (cmp_df.Canal_Distribuicao != \"NaN\") & (cmp_df.Mercado == \"NaN\"))]\n",
    "cmp_df = cmp_df.sort_values(by='Volume_Venda', ascending=True)\n",
    "cmp_df = cmp_df.drop_duplicates('Data',keep='last').reset_index().drop(['index'],axis=1)\n",
    "cmp_df = cmp_df.sort_values(by='Data').reset_index().drop(['index'],axis=1)\n",
    "\n",
    "new_df = pd.DataFrame()\n",
    "new_df['Volume_Venda_R2'] = cmp_df_r1['Volume_Venda']\n",
    "new_df['Volume_Venda_R3'] = cmp_df_r2['Volume_Venda']\n",
    "new_df['Volume_Venda_R5'] = cmp_df_r5['Volume_Venda']\n",
    "new_df['Volume_Venda_ME'] = cmp_df['Volume_Venda']\n",
    "new_df['Data'] = cmp_df['Data']\n",
    "new_df = new_df[((new_df.Volume_Venda_R2 != 0) | (new_df.Volume_Venda_R3 != 0) | (new_df.Volume_Venda_R5 != 0) \n",
    "                | (new_df.Volume_Venda_ME != 0))]\n",
    "new_df = new_df.drop(['Data'],axis=1)\n",
    "new_df = new_df.astype(float)\n",
    "\n",
    "display(new_df.head(5))\n",
    "\n",
    "plt.title(\"Matriz de Confusão: ME x R2 x R3 x R5\")\n",
    "sns.heatmap(new_df.corr())"
   ]
  },
  {
   "cell_type": "markdown",
   "id": "a797a6ba",
   "metadata": {},
   "source": [
    "### 2.2.2 - Empresa BR"
   ]
  },
  {
   "cell_type": "markdown",
   "id": "02ed0363",
   "metadata": {},
   "source": [
    "#### - Canal de Distribuição: EE"
   ]
  },
  {
   "cell_type": "markdown",
   "id": "22672f82",
   "metadata": {},
   "source": [
    "##### --- Mercado: *R1*"
   ]
  },
  {
   "cell_type": "code",
   "execution_count": 1601,
   "id": "d27d03bd",
   "metadata": {},
   "outputs": [
    {
     "data": {
      "text/html": [
       "<div>\n",
       "<style scoped>\n",
       "    .dataframe tbody tr th:only-of-type {\n",
       "        vertical-align: middle;\n",
       "    }\n",
       "\n",
       "    .dataframe tbody tr th {\n",
       "        vertical-align: top;\n",
       "    }\n",
       "\n",
       "    .dataframe thead th {\n",
       "        text-align: right;\n",
       "    }\n",
       "</style>\n",
       "<table border=\"1\" class=\"dataframe\">\n",
       "  <thead>\n",
       "    <tr style=\"text-align: right;\">\n",
       "      <th></th>\n",
       "      <th>Empresa</th>\n",
       "      <th>Canal_Distribuicao</th>\n",
       "      <th>Mercado</th>\n",
       "      <th>Volume_Venda</th>\n",
       "      <th>Data</th>\n",
       "    </tr>\n",
       "  </thead>\n",
       "  <tbody>\n",
       "    <tr>\n",
       "      <th>0</th>\n",
       "      <td>BR</td>\n",
       "      <td>EE</td>\n",
       "      <td>R1</td>\n",
       "      <td>0.0</td>\n",
       "      <td>2012-01-01 00:00:00.000</td>\n",
       "    </tr>\n",
       "    <tr>\n",
       "      <th>1</th>\n",
       "      <td>BR</td>\n",
       "      <td>EE</td>\n",
       "      <td>R1</td>\n",
       "      <td>13000.0</td>\n",
       "      <td>2012-02-01 00:00:00.000</td>\n",
       "    </tr>\n",
       "    <tr>\n",
       "      <th>2</th>\n",
       "      <td>BR</td>\n",
       "      <td>EE</td>\n",
       "      <td>R1</td>\n",
       "      <td>13000.0</td>\n",
       "      <td>2012-03-01 00:00:00.000</td>\n",
       "    </tr>\n",
       "    <tr>\n",
       "      <th>3</th>\n",
       "      <td>BR</td>\n",
       "      <td>EE</td>\n",
       "      <td>R1</td>\n",
       "      <td>9000.0</td>\n",
       "      <td>2012-04-01 00:00:00.000</td>\n",
       "    </tr>\n",
       "  </tbody>\n",
       "</table>\n",
       "</div>"
      ],
      "text/plain": [
       "  Empresa Canal_Distribuicao Mercado Volume_Venda                     Data\n",
       "0      BR                 EE      R1          0.0  2012-01-01 00:00:00.000\n",
       "1      BR                 EE      R1      13000.0  2012-02-01 00:00:00.000\n",
       "2      BR                 EE      R1      13000.0  2012-03-01 00:00:00.000\n",
       "3      BR                 EE      R1       9000.0  2012-04-01 00:00:00.000"
      ]
     },
     "metadata": {},
     "output_type": "display_data"
    },
    {
     "data": {
      "image/png": "[encoded data removed]",
      "text/plain": [
       "<Figure size 432x288 with 1 Axes>"
      ]
     },
     "metadata": {
      "needs_background": "light"
     },
     "output_type": "display_data"
    }
   ],
   "source": [
    "cmp_df_r1 = companies_set[2][1]\n",
    "cmp_df_r1 = cmp_df_r1[(cmp_df_r1.Canal_Distribuicao == 'EE') & (cmp_df_r1.Mercado == \"R1\") ]\n",
    "cmp_df_r1 = cmp_df_r1[((cmp_df_r1.Empresa != \"NaN\") & (cmp_df_r1.Canal_Distribuicao != \"NaN\") & (cmp_df_r1.Mercado != \"NaN\"))]\n",
    "cmp_df_r1 = cmp_df_r1.sort_values(by='Volume_Venda').reset_index().drop(['index'],axis=1)\n",
    "cmp_df_r1 = cmp_df_r1.drop_duplicates('Data',keep='last').sort_values(by='Data').reset_index().drop(['index'],axis=1)\n",
    "display(cmp_df_r1.head(4))\n",
    "\n",
    "means_br_ee_r1 = []\n",
    "year = 2012\n",
    "while year < 2022: \n",
    "    query = cmp_df_r1[((cmp_df_r1.Data >= str(year)) & (cmp_df_r1.Data < str(year+1)))]\n",
    "    mean = np.round(query['Volume_Venda'].mean(),4)\n",
    "    means_br_ee_r1.append(mean)\n",
    "    year += 1\n",
    "\n",
    "means = means_br_ee_r1\n",
    "bars = ['2012','2013','2014','2015','2016','2017','2018','2019','2020','2021']\n",
    "y_pos = np.arange(len(bars))\n",
    "plt.title(\"Média do Volume de Vendas/ano | \"+ companies_set[2][0]+\" - EE - R1\")\n",
    "plt.plot(y_pos, means)\n",
    "plt.xticks(y_pos, bars)\n",
    "plt.show()"
   ]
  },
  {
   "cell_type": "markdown",
   "id": "f7cf596c",
   "metadata": {},
   "source": [
    "##### --- Mercado: *R2*"
   ]
  },
  {
   "cell_type": "code",
   "execution_count": 1602,
   "id": "1b3c5559",
   "metadata": {},
   "outputs": [
    {
     "data": {
      "text/html": [
       "<div>\n",
       "<style scoped>\n",
       "    .dataframe tbody tr th:only-of-type {\n",
       "        vertical-align: middle;\n",
       "    }\n",
       "\n",
       "    .dataframe tbody tr th {\n",
       "        vertical-align: top;\n",
       "    }\n",
       "\n",
       "    .dataframe thead th {\n",
       "        text-align: right;\n",
       "    }\n",
       "</style>\n",
       "<table border=\"1\" class=\"dataframe\">\n",
       "  <thead>\n",
       "    <tr style=\"text-align: right;\">\n",
       "      <th></th>\n",
       "      <th>Empresa</th>\n",
       "      <th>Canal_Distribuicao</th>\n",
       "      <th>Mercado</th>\n",
       "      <th>Volume_Venda</th>\n",
       "      <th>Data</th>\n",
       "    </tr>\n",
       "  </thead>\n",
       "  <tbody>\n",
       "    <tr>\n",
       "      <th>0</th>\n",
       "      <td>BR</td>\n",
       "      <td>EE</td>\n",
       "      <td>R2</td>\n",
       "      <td>18362.0</td>\n",
       "      <td>2012-01-01 00:00:00.000</td>\n",
       "    </tr>\n",
       "    <tr>\n",
       "      <th>1</th>\n",
       "      <td>BR</td>\n",
       "      <td>EE</td>\n",
       "      <td>R2</td>\n",
       "      <td>10380.0</td>\n",
       "      <td>2012-02-01 00:00:00.000</td>\n",
       "    </tr>\n",
       "    <tr>\n",
       "      <th>2</th>\n",
       "      <td>BR</td>\n",
       "      <td>EE</td>\n",
       "      <td>R2</td>\n",
       "      <td>36076.0</td>\n",
       "      <td>2012-03-01 00:00:00.000</td>\n",
       "    </tr>\n",
       "    <tr>\n",
       "      <th>3</th>\n",
       "      <td>BR</td>\n",
       "      <td>EE</td>\n",
       "      <td>R2</td>\n",
       "      <td>4594.0</td>\n",
       "      <td>2012-04-01 00:00:00.000</td>\n",
       "    </tr>\n",
       "  </tbody>\n",
       "</table>\n",
       "</div>"
      ],
      "text/plain": [
       "  Empresa Canal_Distribuicao Mercado Volume_Venda                     Data\n",
       "0      BR                 EE      R2      18362.0  2012-01-01 00:00:00.000\n",
       "1      BR                 EE      R2      10380.0  2012-02-01 00:00:00.000\n",
       "2      BR                 EE      R2      36076.0  2012-03-01 00:00:00.000\n",
       "3      BR                 EE      R2       4594.0  2012-04-01 00:00:00.000"
      ]
     },
     "metadata": {},
     "output_type": "display_data"
    },
    {
     "data": {
      "image/png": "[encoded data removed]",
      "text/plain": [
       "<Figure size 432x288 with 1 Axes>"
      ]
     },
     "metadata": {
      "needs_background": "light"
     },
     "output_type": "display_data"
    }
   ],
   "source": [
    "cmp_df_r2 = companies_set[2][1]\n",
    "cmp_df_r2 = cmp_df_r2[(cmp_df_r2.Canal_Distribuicao == 'EE') & (cmp_df_r2.Mercado == \"R2\") ]\n",
    "cmp_df_r2 = cmp_df_r2[((cmp_df_r2.Empresa != \"NaN\") & (cmp_df_r2.Canal_Distribuicao != \"NaN\") & (cmp_df_r2.Mercado != \"NaN\"))]\n",
    "cmp_df_r2 = cmp_df_r2.sort_values(by='Volume_Venda').reset_index().drop(['index'],axis=1)\n",
    "cmp_df_r2 = cmp_df_r2.drop_duplicates('Data',keep='last').sort_values(by='Data').reset_index().drop(['index'],axis=1)\n",
    "display(cmp_df_r2.head(4))\n",
    "\n",
    "means_br_ee_r2 = []\n",
    "year = 2012\n",
    "while year < 2022: \n",
    "    query = cmp_df_r2[((cmp_df_r2.Data >= str(year)) & (cmp_df_r2.Data < str(year+1)))]\n",
    "    mean = np.round(query['Volume_Venda'].mean(),4)\n",
    "    means_br_ee_r2.append(mean)\n",
    "    year += 1\n",
    "    \n",
    "means = means_br_ee_r2\n",
    "bars = ['2012','2013','2014','2015','2016','2017','2018','2019','2020','2021']\n",
    "y_pos = np.arange(len(bars))\n",
    "plt.title(\"Média do Volume de Vendas/ano | \"+ companies_set[2][0]+\" - EE - R2\")\n",
    "plt.plot(y_pos, means)\n",
    "plt.xticks(y_pos, bars)\n",
    "plt.show()"
   ]
  },
  {
   "cell_type": "markdown",
   "id": "65e67ad1",
   "metadata": {},
   "source": [
    "##### --- Mercado: *R3*"
   ]
  },
  {
   "cell_type": "code",
   "execution_count": 1603,
   "id": "d3bd3b51",
   "metadata": {},
   "outputs": [
    {
     "data": {
      "text/html": [
       "<div>\n",
       "<style scoped>\n",
       "    .dataframe tbody tr th:only-of-type {\n",
       "        vertical-align: middle;\n",
       "    }\n",
       "\n",
       "    .dataframe tbody tr th {\n",
       "        vertical-align: top;\n",
       "    }\n",
       "\n",
       "    .dataframe thead th {\n",
       "        text-align: right;\n",
       "    }\n",
       "</style>\n",
       "<table border=\"1\" class=\"dataframe\">\n",
       "  <thead>\n",
       "    <tr style=\"text-align: right;\">\n",
       "      <th></th>\n",
       "      <th>Empresa</th>\n",
       "      <th>Canal_Distribuicao</th>\n",
       "      <th>Mercado</th>\n",
       "      <th>Volume_Venda</th>\n",
       "      <th>Data</th>\n",
       "    </tr>\n",
       "  </thead>\n",
       "  <tbody>\n",
       "    <tr>\n",
       "      <th>0</th>\n",
       "      <td>BR</td>\n",
       "      <td>EE</td>\n",
       "      <td>R3</td>\n",
       "      <td>44852.0</td>\n",
       "      <td>2012-01-01 00:00:00.000</td>\n",
       "    </tr>\n",
       "    <tr>\n",
       "      <th>1</th>\n",
       "      <td>BR</td>\n",
       "      <td>EE</td>\n",
       "      <td>R3</td>\n",
       "      <td>39004.0</td>\n",
       "      <td>2012-02-01 00:00:00.000</td>\n",
       "    </tr>\n",
       "    <tr>\n",
       "      <th>2</th>\n",
       "      <td>BR</td>\n",
       "      <td>EE</td>\n",
       "      <td>R3</td>\n",
       "      <td>35560.0</td>\n",
       "      <td>2012-03-01 00:00:00.000</td>\n",
       "    </tr>\n",
       "    <tr>\n",
       "      <th>3</th>\n",
       "      <td>BR</td>\n",
       "      <td>EE</td>\n",
       "      <td>R3</td>\n",
       "      <td>39548.0</td>\n",
       "      <td>2012-04-01 00:00:00.000</td>\n",
       "    </tr>\n",
       "  </tbody>\n",
       "</table>\n",
       "</div>"
      ],
      "text/plain": [
       "  Empresa Canal_Distribuicao Mercado Volume_Venda                     Data\n",
       "0      BR                 EE      R3      44852.0  2012-01-01 00:00:00.000\n",
       "1      BR                 EE      R3      39004.0  2012-02-01 00:00:00.000\n",
       "2      BR                 EE      R3      35560.0  2012-03-01 00:00:00.000\n",
       "3      BR                 EE      R3      39548.0  2012-04-01 00:00:00.000"
      ]
     },
     "metadata": {},
     "output_type": "display_data"
    },
    {
     "data": {
      "image/png": "[encoded data removed]",
      "text/plain": [
       "<Figure size 432x288 with 1 Axes>"
      ]
     },
     "metadata": {
      "needs_background": "light"
     },
     "output_type": "display_data"
    }
   ],
   "source": [
    "cmp_df_r3 = companies_set[2][1]\n",
    "cmp_df_r3 = cmp_df_r3[(cmp_df_r3.Canal_Distribuicao == 'EE') & (cmp_df_r3.Mercado == \"R3\") ]\n",
    "cmp_df_r3 = cmp_df_r3[((cmp_df_r3.Empresa != \"NaN\") & (cmp_df_r3.Canal_Distribuicao != \"NaN\") & (cmp_df_r3.Mercado != \"NaN\"))]\n",
    "cmp_df_r3 = cmp_df_r3.sort_values(by='Volume_Venda').reset_index().drop(['index'],axis=1)\n",
    "cmp_df_r3 = cmp_df_r3.drop_duplicates('Data',keep='last').sort_values(by='Data').reset_index().drop(['index'],axis=1)\n",
    "display(cmp_df_r3.head(4))\n",
    "\n",
    "means_br_ee_r3 = []\n",
    "year = 2012\n",
    "while year < 2022:\n",
    "    query = cmp_df_r3[((cmp_df_r3.Data >= str(year)) & (cmp_df_r3.Data < str(year+1)))]\n",
    "    mean = np.round(query['Volume_Venda'].mean(),4)\n",
    "    means_br_ee_r3.append(mean)\n",
    "    year += 1\n",
    "    \n",
    "#--- Plotando o Gráfico ---#\n",
    "means = means_br_ee_r3\n",
    "bars = ['2012','2013','2014','2015','2016','2017','2018','2019','2020','2021']\n",
    "y_pos = np.arange(len(bars))\n",
    "plt.title(\"Média do Volume de Vendas/ano | \"+ companies_set[2][0]+\" - EE - R3\")\n",
    "plt.plot(y_pos, means)\n",
    "plt.xticks(y_pos, bars)\n",
    "plt.show()"
   ]
  },
  {
   "cell_type": "markdown",
   "id": "23acda2f",
   "metadata": {},
   "source": [
    "##### --- Mercado: *R4*"
   ]
  },
  {
   "cell_type": "code",
   "execution_count": 1604,
   "id": "80467daf",
   "metadata": {},
   "outputs": [
    {
     "data": {
      "text/html": [
       "<div>\n",
       "<style scoped>\n",
       "    .dataframe tbody tr th:only-of-type {\n",
       "        vertical-align: middle;\n",
       "    }\n",
       "\n",
       "    .dataframe tbody tr th {\n",
       "        vertical-align: top;\n",
       "    }\n",
       "\n",
       "    .dataframe thead th {\n",
       "        text-align: right;\n",
       "    }\n",
       "</style>\n",
       "<table border=\"1\" class=\"dataframe\">\n",
       "  <thead>\n",
       "    <tr style=\"text-align: right;\">\n",
       "      <th></th>\n",
       "      <th>Empresa</th>\n",
       "      <th>Canal_Distribuicao</th>\n",
       "      <th>Mercado</th>\n",
       "      <th>Volume_Venda</th>\n",
       "      <th>Data</th>\n",
       "    </tr>\n",
       "  </thead>\n",
       "  <tbody>\n",
       "    <tr>\n",
       "      <th>0</th>\n",
       "      <td>BR</td>\n",
       "      <td>EE</td>\n",
       "      <td>R4</td>\n",
       "      <td>624.0</td>\n",
       "      <td>2012-01-01 00:00:00.000</td>\n",
       "    </tr>\n",
       "    <tr>\n",
       "      <th>1</th>\n",
       "      <td>BR</td>\n",
       "      <td>EE</td>\n",
       "      <td>R4</td>\n",
       "      <td>624.0</td>\n",
       "      <td>2012-02-01 00:00:00.000</td>\n",
       "    </tr>\n",
       "    <tr>\n",
       "      <th>2</th>\n",
       "      <td>BR</td>\n",
       "      <td>EE</td>\n",
       "      <td>R4</td>\n",
       "      <td>1118.0</td>\n",
       "      <td>2012-03-01 00:00:00.000</td>\n",
       "    </tr>\n",
       "    <tr>\n",
       "      <th>3</th>\n",
       "      <td>BR</td>\n",
       "      <td>EE</td>\n",
       "      <td>R4</td>\n",
       "      <td>312.0</td>\n",
       "      <td>2012-04-01 00:00:00.000</td>\n",
       "    </tr>\n",
       "  </tbody>\n",
       "</table>\n",
       "</div>"
      ],
      "text/plain": [
       "  Empresa Canal_Distribuicao Mercado Volume_Venda                     Data\n",
       "0      BR                 EE      R4        624.0  2012-01-01 00:00:00.000\n",
       "1      BR                 EE      R4        624.0  2012-02-01 00:00:00.000\n",
       "2      BR                 EE      R4       1118.0  2012-03-01 00:00:00.000\n",
       "3      BR                 EE      R4        312.0  2012-04-01 00:00:00.000"
      ]
     },
     "metadata": {},
     "output_type": "display_data"
    },
    {
     "data": {
      "image/png": "[encoded data removed]",
      "text/plain": [
       "<Figure size 432x288 with 1 Axes>"
      ]
     },
     "metadata": {
      "needs_background": "light"
     },
     "output_type": "display_data"
    }
   ],
   "source": [
    "cmp_df_r4 = companies_set[2][1]\n",
    "cmp_df_r4 = cmp_df_r4[(cmp_df_r4.Canal_Distribuicao == 'EE') & (cmp_df_r4.Mercado == \"R4\") ]\n",
    "cmp_df_r4 = cmp_df_r4[((cmp_df_r4.Empresa != \"NaN\") & (cmp_df_r4.Canal_Distribuicao != \"NaN\") & (cmp_df_r4.Mercado != \"NaN\"))]\n",
    "cmp_df_r4 = cmp_df_r4.sort_values(by='Volume_Venda').reset_index().drop(['index'],axis=1)\n",
    "cmp_df_r4 = cmp_df_r4.drop_duplicates('Data',keep='last').sort_values(by='Data').reset_index().drop(['index'],axis=1)\n",
    "display(cmp_df_r4.head(4))\n",
    "\n",
    "means_br_ee_r4 = []\n",
    "year = 2012\n",
    "while year < 2016: # So tem ate 01 Janeiro de 2016. Desconsiderei 2016;\n",
    "    query = cmp_df_r4[((cmp_df_r4.Data >= str(year)) & (cmp_df_r4.Data < str(year+1)))]\n",
    "    mean = np.round(query['Volume_Venda'].mean(),4)\n",
    "    means_br_ee_r4.append(mean)\n",
    "    year += 1\n",
    "    \n",
    "means = means_br_ee_r4\n",
    "bars = ['2012','2013','2014','2015']\n",
    "y_pos = np.arange(len(bars))\n",
    "plt.title(\"Média do Volume de Vendas/ano | \"+ companies_set[2][0]+\" - EE - R4\")\n",
    "plt.plot(y_pos, means)\n",
    "plt.xticks(y_pos, bars)\n",
    "plt.show()"
   ]
  },
  {
   "cell_type": "markdown",
   "id": "e19100fa",
   "metadata": {},
   "source": [
    "##### --- Mercado: *R5*"
   ]
  },
  {
   "cell_type": "code",
   "execution_count": 1605,
   "id": "d2f960fc",
   "metadata": {},
   "outputs": [
    {
     "data": {
      "text/html": [
       "<div>\n",
       "<style scoped>\n",
       "    .dataframe tbody tr th:only-of-type {\n",
       "        vertical-align: middle;\n",
       "    }\n",
       "\n",
       "    .dataframe tbody tr th {\n",
       "        vertical-align: top;\n",
       "    }\n",
       "\n",
       "    .dataframe thead th {\n",
       "        text-align: right;\n",
       "    }\n",
       "</style>\n",
       "<table border=\"1\" class=\"dataframe\">\n",
       "  <thead>\n",
       "    <tr style=\"text-align: right;\">\n",
       "      <th></th>\n",
       "      <th>Empresa</th>\n",
       "      <th>Canal_Distribuicao</th>\n",
       "      <th>Mercado</th>\n",
       "      <th>Volume_Venda</th>\n",
       "      <th>Data</th>\n",
       "    </tr>\n",
       "  </thead>\n",
       "  <tbody>\n",
       "    <tr>\n",
       "      <th>0</th>\n",
       "      <td>BR</td>\n",
       "      <td>EE</td>\n",
       "      <td>R5</td>\n",
       "      <td>19852.0</td>\n",
       "      <td>2012-01-01 00:00:00.000</td>\n",
       "    </tr>\n",
       "    <tr>\n",
       "      <th>1</th>\n",
       "      <td>BR</td>\n",
       "      <td>EE</td>\n",
       "      <td>R5</td>\n",
       "      <td>29182.0</td>\n",
       "      <td>2012-02-01 00:00:00.000</td>\n",
       "    </tr>\n",
       "    <tr>\n",
       "      <th>2</th>\n",
       "      <td>BR</td>\n",
       "      <td>EE</td>\n",
       "      <td>R5</td>\n",
       "      <td>26186.0</td>\n",
       "      <td>2012-03-01 00:00:00.000</td>\n",
       "    </tr>\n",
       "    <tr>\n",
       "      <th>3</th>\n",
       "      <td>BR</td>\n",
       "      <td>EE</td>\n",
       "      <td>R5</td>\n",
       "      <td>0.0</td>\n",
       "      <td>2012-04-01 00:00:00.000</td>\n",
       "    </tr>\n",
       "  </tbody>\n",
       "</table>\n",
       "</div>"
      ],
      "text/plain": [
       "  Empresa Canal_Distribuicao Mercado Volume_Venda                     Data\n",
       "0      BR                 EE      R5      19852.0  2012-01-01 00:00:00.000\n",
       "1      BR                 EE      R5      29182.0  2012-02-01 00:00:00.000\n",
       "2      BR                 EE      R5      26186.0  2012-03-01 00:00:00.000\n",
       "3      BR                 EE      R5          0.0  2012-04-01 00:00:00.000"
      ]
     },
     "metadata": {},
     "output_type": "display_data"
    },
    {
     "data": {
      "image/png": "[encoded data removed]",
      "text/plain": [
       "<Figure size 432x288 with 1 Axes>"
      ]
     },
     "metadata": {
      "needs_background": "light"
     },
     "output_type": "display_data"
    }
   ],
   "source": [
    "cmp_df_r5 = companies_set[2][1]\n",
    "cmp_df_r5 = cmp_df_r5[(cmp_df_r5.Canal_Distribuicao == 'EE') & (cmp_df_r5.Mercado == \"R5\")]\n",
    "cmp_df_r5 = cmp_df_r5[((cmp_df_r5.Empresa != \"NaN\") & (cmp_df_r5.Canal_Distribuicao != \"NaN\") & (cmp_df_r5.Mercado != \"NaN\"))] \n",
    "cmp_df_r5 = cmp_df_r5.sort_values(by='Volume_Venda').reset_index().drop(['index'],axis=1)\n",
    "cmp_df_r5 = cmp_df_r5.drop_duplicates('Data',keep='last').sort_values(by='Data').reset_index().drop(['index'],axis=1)\n",
    "display(cmp_df_r5.head(4))\n",
    "\n",
    "means_br_ee_r5 = []\n",
    "year = 2012\n",
    "while year < 2022:\n",
    "    query = cmp_df_r5[((cmp_df_r5.Data >= str(year)) & (cmp_df_r5.Data < str(year+1)))]\n",
    "    mean = np.round(query['Volume_Venda'].mean(),4)\n",
    "    means_br_ee_r5.append(mean)\n",
    "    year += 1\n",
    "\n",
    "means = means_br_ee_r5\n",
    "bars = ['2012','2013','2014','2015','2016','2017','2018','2019','2020','2021']\n",
    "y_pos = np.arange(len(bars))\n",
    "plt.title(\"Média do Volume de Vendas/ano | \"+ companies_set[2][0]+\" - EE - R5\")\n",
    "plt.plot(y_pos, means)\n",
    "plt.xticks(y_pos, bars)\n",
    "plt.show()"
   ]
  },
  {
   "cell_type": "markdown",
   "id": "0fdc8740",
   "metadata": {},
   "source": [
    "##### - *Correlação EE X R1 X R2 X R3 x R4 x R5*"
   ]
  },
  {
   "cell_type": "code",
   "execution_count": 1606,
   "id": "7c2b393b",
   "metadata": {},
   "outputs": [
    {
     "data": {
      "text/html": [
       "<div>\n",
       "<style scoped>\n",
       "    .dataframe tbody tr th:only-of-type {\n",
       "        vertical-align: middle;\n",
       "    }\n",
       "\n",
       "    .dataframe tbody tr th {\n",
       "        vertical-align: top;\n",
       "    }\n",
       "\n",
       "    .dataframe thead th {\n",
       "        text-align: right;\n",
       "    }\n",
       "</style>\n",
       "<table border=\"1\" class=\"dataframe\">\n",
       "  <thead>\n",
       "    <tr style=\"text-align: right;\">\n",
       "      <th></th>\n",
       "      <th>Volume_Venda_R1</th>\n",
       "      <th>Volume_Venda_R2</th>\n",
       "      <th>Volume_Venda_R3</th>\n",
       "      <th>Volume_Venda_R4</th>\n",
       "      <th>Volume_Venda_R5</th>\n",
       "      <th>Volume_Venda_EE</th>\n",
       "    </tr>\n",
       "  </thead>\n",
       "  <tbody>\n",
       "    <tr>\n",
       "      <th>0</th>\n",
       "      <td>0.0</td>\n",
       "      <td>18362.0</td>\n",
       "      <td>44852.0</td>\n",
       "      <td>624.0</td>\n",
       "      <td>19852.0</td>\n",
       "      <td>83690.0</td>\n",
       "    </tr>\n",
       "    <tr>\n",
       "      <th>1</th>\n",
       "      <td>13000.0</td>\n",
       "      <td>10380.0</td>\n",
       "      <td>39004.0</td>\n",
       "      <td>624.0</td>\n",
       "      <td>29182.0</td>\n",
       "      <td>92190.0</td>\n",
       "    </tr>\n",
       "    <tr>\n",
       "      <th>2</th>\n",
       "      <td>13000.0</td>\n",
       "      <td>36076.0</td>\n",
       "      <td>35560.0</td>\n",
       "      <td>1118.0</td>\n",
       "      <td>26186.0</td>\n",
       "      <td>111940.0</td>\n",
       "    </tr>\n",
       "    <tr>\n",
       "      <th>3</th>\n",
       "      <td>9000.0</td>\n",
       "      <td>4594.0</td>\n",
       "      <td>39548.0</td>\n",
       "      <td>312.0</td>\n",
       "      <td>0.0</td>\n",
       "      <td>53454.0</td>\n",
       "    </tr>\n",
       "    <tr>\n",
       "      <th>4</th>\n",
       "      <td>11330.0</td>\n",
       "      <td>21334.0</td>\n",
       "      <td>31766.0</td>\n",
       "      <td>1664.0</td>\n",
       "      <td>49344.0</td>\n",
       "      <td>115438.0</td>\n",
       "    </tr>\n",
       "  </tbody>\n",
       "</table>\n",
       "</div>"
      ],
      "text/plain": [
       "   Volume_Venda_R1  Volume_Venda_R2  Volume_Venda_R3  Volume_Venda_R4  \\\n",
       "0              0.0          18362.0          44852.0            624.0   \n",
       "1          13000.0          10380.0          39004.0            624.0   \n",
       "2          13000.0          36076.0          35560.0           1118.0   \n",
       "3           9000.0           4594.0          39548.0            312.0   \n",
       "4          11330.0          21334.0          31766.0           1664.0   \n",
       "\n",
       "   Volume_Venda_R5  Volume_Venda_EE  \n",
       "0          19852.0          83690.0  \n",
       "1          29182.0          92190.0  \n",
       "2          26186.0         111940.0  \n",
       "3              0.0          53454.0  \n",
       "4          49344.0         115438.0  "
      ]
     },
     "metadata": {},
     "output_type": "display_data"
    },
    {
     "data": {
      "text/plain": [
       "<AxesSubplot:title={'center':'Matriz de Confusão: EE x R1 x R2 x R3 x R4 x R5'}>"
      ]
     },
     "execution_count": 1606,
     "metadata": {},
     "output_type": "execute_result"
    },
    {
     "data": {
      "image/png": "[encoded data removed]",
      "text/plain": [
       "<Figure size 432x288 with 2 Axes>"
      ]
     },
     "metadata": {
      "needs_background": "light"
     },
     "output_type": "display_data"
    }
   ],
   "source": [
    "cmp_df = companies_set[2][1].reset_index().drop(['index'],axis=1)\n",
    "cmp_df = cmp_df[(cmp_df.Canal_Distribuicao == 'EE')]\n",
    "cmp_df = cmp_df[((cmp_df.Empresa != \"NaN\") & (cmp_df.Canal_Distribuicao != \"NaN\") & (cmp_df.Mercado == \"NaN\"))]\n",
    "cmp_df = cmp_df.sort_values(by='Volume_Venda', ascending=True)\n",
    "cmp_df = cmp_df.drop_duplicates('Data',keep='last').reset_index().drop(['index'],axis=1)\n",
    "cmp_df = cmp_df.sort_values(by='Data').reset_index().drop(['index'],axis=1)\n",
    "\n",
    "new_df = pd.DataFrame()\n",
    "new_df['Volume_Venda_R1'] = cmp_df_r1['Volume_Venda']\n",
    "new_df['Volume_Venda_R2'] = cmp_df_r2['Volume_Venda']\n",
    "new_df['Volume_Venda_R3'] = cmp_df_r3['Volume_Venda']\n",
    "new_df['Volume_Venda_R4'] = cmp_df_r4['Volume_Venda']\n",
    "new_df['Volume_Venda_R5'] = cmp_df_r5['Volume_Venda']\n",
    "new_df['Volume_Venda_EE'] = cmp_df['Volume_Venda']\n",
    "new_df['Data'] = cmp_df['Data']\n",
    "new_df = new_df[((new_df.Volume_Venda_R1 != 0) | (new_df.Volume_Venda_R2 != 0) | (new_df.Volume_Venda_R3 != 0) |\n",
    "                (new_df.Volume_Venda_R4 != 0) | (new_df.Volume_Venda_R5 != 0) | (new_df.Volume_Venda_EE != 0))]\n",
    "new_df = new_df.drop(['Data'],axis=1)\n",
    "new_df = new_df.astype(float)\n",
    "\n",
    "display(new_df.head(5))\n",
    "\n",
    "plt.title(\"Matriz de Confusão: EE x R1 x R2 x R3 x R4 x R5\")\n",
    "sns.heatmap(new_df.corr())"
   ]
  },
  {
   "cell_type": "markdown",
   "id": "f39e873d",
   "metadata": {},
   "source": [
    "#### - Canal de Distribuição: ME"
   ]
  },
  {
   "cell_type": "markdown",
   "id": "34711422",
   "metadata": {},
   "source": [
    "##### --- Mercado: *No region*"
   ]
  },
  {
   "cell_type": "code",
   "execution_count": 1607,
   "id": "4fd83caf",
   "metadata": {},
   "outputs": [
    {
     "data": {
      "text/html": [
       "<div>\n",
       "<style scoped>\n",
       "    .dataframe tbody tr th:only-of-type {\n",
       "        vertical-align: middle;\n",
       "    }\n",
       "\n",
       "    .dataframe tbody tr th {\n",
       "        vertical-align: top;\n",
       "    }\n",
       "\n",
       "    .dataframe thead th {\n",
       "        text-align: right;\n",
       "    }\n",
       "</style>\n",
       "<table border=\"1\" class=\"dataframe\">\n",
       "  <thead>\n",
       "    <tr style=\"text-align: right;\">\n",
       "      <th></th>\n",
       "      <th>Empresa</th>\n",
       "      <th>Canal_Distribuicao</th>\n",
       "      <th>Mercado</th>\n",
       "      <th>Volume_Venda</th>\n",
       "      <th>Data</th>\n",
       "    </tr>\n",
       "  </thead>\n",
       "  <tbody>\n",
       "    <tr>\n",
       "      <th>0</th>\n",
       "      <td>BR</td>\n",
       "      <td>ME</td>\n",
       "      <td>NaN</td>\n",
       "      <td>83690.0</td>\n",
       "      <td>2012-01-01 00:00:00.000</td>\n",
       "    </tr>\n",
       "    <tr>\n",
       "      <th>1</th>\n",
       "      <td>BR</td>\n",
       "      <td>ME</td>\n",
       "      <td>NaN</td>\n",
       "      <td>92190.0</td>\n",
       "      <td>2012-02-01 00:00:00.000</td>\n",
       "    </tr>\n",
       "    <tr>\n",
       "      <th>2</th>\n",
       "      <td>BR</td>\n",
       "      <td>ME</td>\n",
       "      <td>NaN</td>\n",
       "      <td>111940.0</td>\n",
       "      <td>2012-03-01 00:00:00.000</td>\n",
       "    </tr>\n",
       "    <tr>\n",
       "      <th>3</th>\n",
       "      <td>BR</td>\n",
       "      <td>ME</td>\n",
       "      <td>NaN</td>\n",
       "      <td>53454.0</td>\n",
       "      <td>2012-04-01 00:00:00.000</td>\n",
       "    </tr>\n",
       "  </tbody>\n",
       "</table>\n",
       "</div>"
      ],
      "text/plain": [
       "  Empresa Canal_Distribuicao Mercado Volume_Venda                     Data\n",
       "0      BR                 ME     NaN      83690.0  2012-01-01 00:00:00.000\n",
       "1      BR                 ME     NaN      92190.0  2012-02-01 00:00:00.000\n",
       "2      BR                 ME     NaN     111940.0  2012-03-01 00:00:00.000\n",
       "3      BR                 ME     NaN      53454.0  2012-04-01 00:00:00.000"
      ]
     },
     "metadata": {},
     "output_type": "display_data"
    },
    {
     "data": {
      "image/png": "[encoded data removed]",
      "text/plain": [
       "<Figure size 432x288 with 1 Axes>"
      ]
     },
     "metadata": {
      "needs_background": "light"
     },
     "output_type": "display_data"
    }
   ],
   "source": [
    "cmp_df_nr = companies_set[2][1]\n",
    "cmp_df_nr = cmp_df_nr[((cmp_df_nr.Canal_Distribuicao == 'ME') & (cmp_df_nr.Mercado == \"NaN\"))]\n",
    "cmp_df_nr = cmp_df_nr[((cmp_df_nr.Empresa != \"NaN\") & (cmp_df_nr.Canal_Distribuicao != \"NaN\") & (cmp_df_nr.Mercado == \"NaN\"))] \n",
    "cmp_df_nr = cmp_df_nr.sort_values(by='Volume_Venda').reset_index().drop(['index'],axis=1)\n",
    "cmp_df_nr = cmp_df_nr.drop_duplicates('Data',keep='last').sort_values(by='Data').reset_index().drop(['index'],axis=1)\n",
    "display(cmp_df_nr.head(4))\n",
    "\n",
    "means_br_me = []\n",
    "year = 2012\n",
    "while year < 2022:\n",
    "    query = cmp_df_nr[((cmp_df_nr.Data >= str(year)) & (cmp_df_nr.Data < str(year+1)))]\n",
    "    mean = np.round(query['Volume_Venda'].mean(),4)\n",
    "    means_br_me.append(mean)\n",
    "    year += 1\n",
    "\n",
    "means = means_br_me\n",
    "bars = ['2012','2013','2014','2015','2016','2017','2018','2019','2020','2021']\n",
    "y_pos = np.arange(len(bars))\n",
    "plt.title(\"Média do Volume de Vendas/ano | \" + companies_set[2][0]+\" - ME - sem região\")\n",
    "plt.plot(y_pos, means)\n",
    "plt.xticks(y_pos, bars)\n",
    "plt.show()"
   ]
  },
  {
   "cell_type": "markdown",
   "id": "876033f7",
   "metadata": {},
   "source": [
    "#### - Canal de Distribuição: MI"
   ]
  },
  {
   "cell_type": "markdown",
   "id": "27e837a0",
   "metadata": {},
   "source": [
    "##### --- Mercado: *R6*"
   ]
  },
  {
   "cell_type": "code",
   "execution_count": 1608,
   "id": "24589416",
   "metadata": {},
   "outputs": [
    {
     "data": {
      "text/html": [
       "<div>\n",
       "<style scoped>\n",
       "    .dataframe tbody tr th:only-of-type {\n",
       "        vertical-align: middle;\n",
       "    }\n",
       "\n",
       "    .dataframe tbody tr th {\n",
       "        vertical-align: top;\n",
       "    }\n",
       "\n",
       "    .dataframe thead th {\n",
       "        text-align: right;\n",
       "    }\n",
       "</style>\n",
       "<table border=\"1\" class=\"dataframe\">\n",
       "  <thead>\n",
       "    <tr style=\"text-align: right;\">\n",
       "      <th></th>\n",
       "      <th>Empresa</th>\n",
       "      <th>Canal_Distribuicao</th>\n",
       "      <th>Mercado</th>\n",
       "      <th>Volume_Venda</th>\n",
       "      <th>Data</th>\n",
       "    </tr>\n",
       "  </thead>\n",
       "  <tbody>\n",
       "    <tr>\n",
       "      <th>0</th>\n",
       "      <td>BR</td>\n",
       "      <td>MI</td>\n",
       "      <td>R6</td>\n",
       "      <td>4598.001</td>\n",
       "      <td>2012-01-01 00:00:00.000</td>\n",
       "    </tr>\n",
       "    <tr>\n",
       "      <th>1</th>\n",
       "      <td>BR</td>\n",
       "      <td>MI</td>\n",
       "      <td>R6</td>\n",
       "      <td>4192.0</td>\n",
       "      <td>2012-02-01 00:00:00.000</td>\n",
       "    </tr>\n",
       "    <tr>\n",
       "      <th>2</th>\n",
       "      <td>BR</td>\n",
       "      <td>MI</td>\n",
       "      <td>R6</td>\n",
       "      <td>4664.0</td>\n",
       "      <td>2012-03-01 00:00:00.000</td>\n",
       "    </tr>\n",
       "    <tr>\n",
       "      <th>3</th>\n",
       "      <td>BR</td>\n",
       "      <td>MI</td>\n",
       "      <td>R6</td>\n",
       "      <td>4584.0</td>\n",
       "      <td>2012-04-01 00:00:00.000</td>\n",
       "    </tr>\n",
       "  </tbody>\n",
       "</table>\n",
       "</div>"
      ],
      "text/plain": [
       "  Empresa Canal_Distribuicao Mercado Volume_Venda                     Data\n",
       "0      BR                 MI      R6     4598.001  2012-01-01 00:00:00.000\n",
       "1      BR                 MI      R6       4192.0  2012-02-01 00:00:00.000\n",
       "2      BR                 MI      R6       4664.0  2012-03-01 00:00:00.000\n",
       "3      BR                 MI      R6       4584.0  2012-04-01 00:00:00.000"
      ]
     },
     "metadata": {},
     "output_type": "display_data"
    },
    {
     "data": {
      "image/png": "[encoded data removed]",
      "text/plain": [
       "<Figure size 432x288 with 1 Axes>"
      ]
     },
     "metadata": {
      "needs_background": "light"
     },
     "output_type": "display_data"
    }
   ],
   "source": [
    "cmp_df_r6 = companies_set[2][1].reset_index().drop(['index'],axis=1)\n",
    "cmp_df_r6 = cmp_df_r6[((cmp_df_r6.Canal_Distribuicao == 'MI') & (cmp_df_r6.Mercado == 'R6'))]\n",
    "cmp_df_r6 = cmp_df_r6[((cmp_df_r6.Empresa != \"NaN\") & (cmp_df_r6.Canal_Distribuicao != \"NaN\") & (cmp_df_r6.Mercado != \"NaN\"))]\n",
    "cmp_df_r6 = cmp_df_r6.sort_values(by='Volume_Venda').reset_index().drop(['index'],axis=1)\n",
    "cmp_df_r6 = cmp_df_r6.drop_duplicates('Data',keep='last').sort_values(by='Data').reset_index().drop(['index'],axis=1)\n",
    "display(cmp_df_r6.head(4))\n",
    "\n",
    "means_br_mi_r6 = []\n",
    "year = 2012\n",
    "while year < 2022:\n",
    "    query = cmp_df_r6[((cmp_df_r6.Data >= str(year)) & (cmp_df_r6.Data < str(year+1)))]\n",
    "    mean = np.round(query['Volume_Venda'].mean(),4)\n",
    "    means_br_mi_r6.append(mean)\n",
    "    year += 1\n",
    "\n",
    "means = means_br_mi_r6\n",
    "bars = ['2012','2013','2014','2015','2016','2017','2018','2019','2020','2021']\n",
    "y_pos = np.arange(len(bars))\n",
    "plt.title(\"Média do Volume de Vendas/ano | \"+ companies_set[2][0]+\" - MI - R6\")\n",
    "plt.plot(y_pos, means)\n",
    "plt.xticks(y_pos, bars)\n",
    "plt.show()"
   ]
  },
  {
   "cell_type": "markdown",
   "id": "e013e441",
   "metadata": {},
   "source": [
    "### 2.2.4 - Empresa BT"
   ]
  },
  {
   "cell_type": "markdown",
   "id": "b4de1ecc",
   "metadata": {},
   "source": [
    "#### - Canal de Distribuição: ME"
   ]
  },
  {
   "cell_type": "markdown",
   "id": "867ddd1b",
   "metadata": {},
   "source": [
    "##### --- Mercado: *R2*"
   ]
  },
  {
   "cell_type": "code",
   "execution_count": 1609,
   "id": "6498a009",
   "metadata": {},
   "outputs": [
    {
     "data": {
      "text/html": [
       "<div>\n",
       "<style scoped>\n",
       "    .dataframe tbody tr th:only-of-type {\n",
       "        vertical-align: middle;\n",
       "    }\n",
       "\n",
       "    .dataframe tbody tr th {\n",
       "        vertical-align: top;\n",
       "    }\n",
       "\n",
       "    .dataframe thead th {\n",
       "        text-align: right;\n",
       "    }\n",
       "</style>\n",
       "<table border=\"1\" class=\"dataframe\">\n",
       "  <thead>\n",
       "    <tr style=\"text-align: right;\">\n",
       "      <th></th>\n",
       "      <th>Empresa</th>\n",
       "      <th>Canal_Distribuicao</th>\n",
       "      <th>Mercado</th>\n",
       "      <th>Volume_Venda</th>\n",
       "      <th>Data</th>\n",
       "    </tr>\n",
       "  </thead>\n",
       "  <tbody>\n",
       "    <tr>\n",
       "      <th>0</th>\n",
       "      <td>BT</td>\n",
       "      <td>ME</td>\n",
       "      <td>R2</td>\n",
       "      <td>4214.0</td>\n",
       "      <td>2012-01-01 00:00:00.000</td>\n",
       "    </tr>\n",
       "    <tr>\n",
       "      <th>1</th>\n",
       "      <td>BT</td>\n",
       "      <td>ME</td>\n",
       "      <td>R2</td>\n",
       "      <td>2304.0</td>\n",
       "      <td>2012-02-01 00:00:00.000</td>\n",
       "    </tr>\n",
       "    <tr>\n",
       "      <th>2</th>\n",
       "      <td>BT</td>\n",
       "      <td>ME</td>\n",
       "      <td>R2</td>\n",
       "      <td>9504.0</td>\n",
       "      <td>2012-03-01 00:00:00.000</td>\n",
       "    </tr>\n",
       "    <tr>\n",
       "      <th>3</th>\n",
       "      <td>BT</td>\n",
       "      <td>ME</td>\n",
       "      <td>R2</td>\n",
       "      <td>3708.0</td>\n",
       "      <td>2012-04-01 00:00:00.000</td>\n",
       "    </tr>\n",
       "  </tbody>\n",
       "</table>\n",
       "</div>"
      ],
      "text/plain": [
       "  Empresa Canal_Distribuicao Mercado Volume_Venda                     Data\n",
       "0      BT                 ME      R2       4214.0  2012-01-01 00:00:00.000\n",
       "1      BT                 ME      R2       2304.0  2012-02-01 00:00:00.000\n",
       "2      BT                 ME      R2       9504.0  2012-03-01 00:00:00.000\n",
       "3      BT                 ME      R2       3708.0  2012-04-01 00:00:00.000"
      ]
     },
     "metadata": {},
     "output_type": "display_data"
    },
    {
     "data": {
      "image/png": "[encoded data removed]",
      "text/plain": [
       "<Figure size 432x288 with 1 Axes>"
      ]
     },
     "metadata": {
      "needs_background": "light"
     },
     "output_type": "display_data"
    }
   ],
   "source": [
    "cmp_df_r2 = companies_set[3][1].reset_index().drop(['index'],axis=1)\n",
    "cmp_df_r2 = cmp_df_r2[((cmp_df_r2.Canal_Distribuicao == 'ME') & (cmp_df_r2.Mercado == 'R2'))]\n",
    "cmp_df_r2 = cmp_df_r2[((cmp_df_r2.Empresa != \"NaN\") & (cmp_df_r2.Canal_Distribuicao != \"NaN\") & (cmp_df_r2.Mercado != \"NaN\"))]\n",
    "cmp_df_r2 = cmp_df_r2.sort_values(by='Volume_Venda').reset_index().drop(['index'],axis=1)\n",
    "cmp_df_r2 = cmp_df_r2.drop_duplicates('Data',keep='last').sort_values(by='Data').reset_index().drop(['index'],axis=1)\n",
    "display(cmp_df_r2.head(4))\n",
    "\n",
    "means_bt_me_r2 = []\n",
    "year = 2012\n",
    "while year < 2021:\n",
    "    query = cmp_df_r2[((cmp_df_r2.Data >= str(year)) & (cmp_df_r2.Data < str(year+1)))]\n",
    "    mean = np.round(query['Volume_Venda'].mean(),4)\n",
    "    means_bt_me_r2.append(mean)\n",
    "    year += 1\n",
    "\n",
    "means = means_bt_me_r2\n",
    "bars = ['2012','2013','2014','2015','2016','2017','2018','2019','2020']\n",
    "y_pos = np.arange(len(bars))\n",
    "plt.title(\"Média do Volume de Vendas/ano | \"+ companies_set[3][0]+\" - ME - R2\")\n",
    "plt.plot(y_pos, means)\n",
    "plt.xticks(y_pos, bars)\n",
    "plt.show()"
   ]
  },
  {
   "cell_type": "markdown",
   "id": "af5a6bcb",
   "metadata": {},
   "source": [
    "##### --- Mercado: *R4*"
   ]
  },
  {
   "cell_type": "code",
   "execution_count": 1610,
   "id": "70e91c60",
   "metadata": {},
   "outputs": [
    {
     "data": {
      "text/html": [
       "<div>\n",
       "<style scoped>\n",
       "    .dataframe tbody tr th:only-of-type {\n",
       "        vertical-align: middle;\n",
       "    }\n",
       "\n",
       "    .dataframe tbody tr th {\n",
       "        vertical-align: top;\n",
       "    }\n",
       "\n",
       "    .dataframe thead th {\n",
       "        text-align: right;\n",
       "    }\n",
       "</style>\n",
       "<table border=\"1\" class=\"dataframe\">\n",
       "  <thead>\n",
       "    <tr style=\"text-align: right;\">\n",
       "      <th></th>\n",
       "      <th>Empresa</th>\n",
       "      <th>Canal_Distribuicao</th>\n",
       "      <th>Mercado</th>\n",
       "      <th>Volume_Venda</th>\n",
       "      <th>Data</th>\n",
       "    </tr>\n",
       "  </thead>\n",
       "  <tbody>\n",
       "    <tr>\n",
       "      <th>0</th>\n",
       "      <td>BT</td>\n",
       "      <td>ME</td>\n",
       "      <td>R4</td>\n",
       "      <td>1014.0</td>\n",
       "      <td>2012-01-01 00:00:00.000</td>\n",
       "    </tr>\n",
       "    <tr>\n",
       "      <th>1</th>\n",
       "      <td>BT</td>\n",
       "      <td>ME</td>\n",
       "      <td>R4</td>\n",
       "      <td>624.0</td>\n",
       "      <td>2012-02-01 00:00:00.000</td>\n",
       "    </tr>\n",
       "    <tr>\n",
       "      <th>2</th>\n",
       "      <td>BT</td>\n",
       "      <td>ME</td>\n",
       "      <td>R4</td>\n",
       "      <td>624.0</td>\n",
       "      <td>2012-03-01 00:00:00.000</td>\n",
       "    </tr>\n",
       "    <tr>\n",
       "      <th>3</th>\n",
       "      <td>BT</td>\n",
       "      <td>ME</td>\n",
       "      <td>R4</td>\n",
       "      <td>806.0</td>\n",
       "      <td>2012-04-01 00:00:00.000</td>\n",
       "    </tr>\n",
       "  </tbody>\n",
       "</table>\n",
       "</div>"
      ],
      "text/plain": [
       "  Empresa Canal_Distribuicao Mercado Volume_Venda                     Data\n",
       "0      BT                 ME      R4       1014.0  2012-01-01 00:00:00.000\n",
       "1      BT                 ME      R4        624.0  2012-02-01 00:00:00.000\n",
       "2      BT                 ME      R4        624.0  2012-03-01 00:00:00.000\n",
       "3      BT                 ME      R4        806.0  2012-04-01 00:00:00.000"
      ]
     },
     "metadata": {},
     "output_type": "display_data"
    },
    {
     "data": {
      "image/png": "[encoded data removed]",
      "text/plain": [
       "<Figure size 432x288 with 1 Axes>"
      ]
     },
     "metadata": {
      "needs_background": "light"
     },
     "output_type": "display_data"
    }
   ],
   "source": [
    "cmp_df_r4 = companies_set[3][1].reset_index().drop(['index'],axis=1)\n",
    "cmp_df_r4 = cmp_df_r4[((cmp_df_r4.Canal_Distribuicao == 'ME') & (cmp_df_r4.Mercado == 'R4'))] # só vai ate 07/2020\n",
    "cmp_df_r4 = cmp_df_r4[((cmp_df_r4.Empresa != \"NaN\") & (cmp_df_r4.Canal_Distribuicao != \"NaN\") & (cmp_df_r4.Mercado != \"NaN\"))]\n",
    "cmp_df_r4 = cmp_df_r4.sort_values(by='Volume_Venda').reset_index().drop(['index'],axis=1)\n",
    "cmp_df_r4 = cmp_df_r4.drop_duplicates('Data',keep='last').sort_values(by='Data').reset_index().drop(['index'],axis=1)\n",
    "display(cmp_df_r4.head(4))\n",
    "\n",
    "means_bt_me_r4 = []\n",
    "year = 2012\n",
    "while year < 2021:\n",
    "    query = cmp_df_r4[((cmp_df_r4.Data >= str(year)) & (cmp_df_r4.Data < str(year+1)))]\n",
    "    mean = np.round(query['Volume_Venda'].mean(),4)\n",
    "    means_bt_me_r4.append(mean)\n",
    "    year += 1\n",
    "\n",
    "means = means_bt_me_r4\n",
    "bars = ['2012','2013','2014','2015','2016','2017','2018','2019','2020']\n",
    "y_pos = np.arange(len(bars))\n",
    "\n",
    "plt.title(\"Média do Volume de Vendas/ano | \"+ companies_set[3][0]+\" - ME - R4\")\n",
    "plt.plot(y_pos, means)\n",
    "plt.xticks(y_pos, bars)\n",
    "plt.show()"
   ]
  },
  {
   "cell_type": "markdown",
   "id": "53686d14",
   "metadata": {},
   "source": [
    "##### --- Mercado: *R5*"
   ]
  },
  {
   "cell_type": "code",
   "execution_count": 1611,
   "id": "756604db",
   "metadata": {},
   "outputs": [
    {
     "data": {
      "text/html": [
       "<div>\n",
       "<style scoped>\n",
       "    .dataframe tbody tr th:only-of-type {\n",
       "        vertical-align: middle;\n",
       "    }\n",
       "\n",
       "    .dataframe tbody tr th {\n",
       "        vertical-align: top;\n",
       "    }\n",
       "\n",
       "    .dataframe thead th {\n",
       "        text-align: right;\n",
       "    }\n",
       "</style>\n",
       "<table border=\"1\" class=\"dataframe\">\n",
       "  <thead>\n",
       "    <tr style=\"text-align: right;\">\n",
       "      <th></th>\n",
       "      <th>Empresa</th>\n",
       "      <th>Canal_Distribuicao</th>\n",
       "      <th>Mercado</th>\n",
       "      <th>Volume_Venda</th>\n",
       "      <th>Data</th>\n",
       "    </tr>\n",
       "  </thead>\n",
       "  <tbody>\n",
       "    <tr>\n",
       "      <th>0</th>\n",
       "      <td>BT</td>\n",
       "      <td>ME</td>\n",
       "      <td>R5</td>\n",
       "      <td>18864.0</td>\n",
       "      <td>2012-01-01 00:00:00.000</td>\n",
       "    </tr>\n",
       "    <tr>\n",
       "      <th>1</th>\n",
       "      <td>BT</td>\n",
       "      <td>ME</td>\n",
       "      <td>R5</td>\n",
       "      <td>30170.0</td>\n",
       "      <td>2012-02-01 00:00:00.000</td>\n",
       "    </tr>\n",
       "    <tr>\n",
       "      <th>2</th>\n",
       "      <td>BT</td>\n",
       "      <td>ME</td>\n",
       "      <td>R5</td>\n",
       "      <td>26186.0</td>\n",
       "      <td>2012-03-01 00:00:00.000</td>\n",
       "    </tr>\n",
       "    <tr>\n",
       "      <th>3</th>\n",
       "      <td>BT</td>\n",
       "      <td>ME</td>\n",
       "      <td>R5</td>\n",
       "      <td>0.0</td>\n",
       "      <td>2012-04-01 00:00:00.000</td>\n",
       "    </tr>\n",
       "  </tbody>\n",
       "</table>\n",
       "</div>"
      ],
      "text/plain": [
       "  Empresa Canal_Distribuicao Mercado Volume_Venda                     Data\n",
       "0      BT                 ME      R5      18864.0  2012-01-01 00:00:00.000\n",
       "1      BT                 ME      R5      30170.0  2012-02-01 00:00:00.000\n",
       "2      BT                 ME      R5      26186.0  2012-03-01 00:00:00.000\n",
       "3      BT                 ME      R5          0.0  2012-04-01 00:00:00.000"
      ]
     },
     "metadata": {},
     "output_type": "display_data"
    },
    {
     "data": {
      "image/png": "[encoded data removed]",
      "text/plain": [
       "<Figure size 432x288 with 1 Axes>"
      ]
     },
     "metadata": {
      "needs_background": "light"
     },
     "output_type": "display_data"
    }
   ],
   "source": [
    "cmp_df_r5 = companies_set[3][1].reset_index().drop(['index'],axis=1)\n",
    "cmp_df_r5 = cmp_df_r5[((cmp_df_r5.Canal_Distribuicao == 'ME') & (cmp_df_r5.Mercado == 'R5'))] # só vai ate 07/2020\n",
    "cmp_df_r5 = cmp_df_r5[((cmp_df_r5.Empresa != \"NaN\") & (cmp_df_r5.Canal_Distribuicao != \"NaN\") & (cmp_df_r5.Mercado != \"NaN\"))]\n",
    "cmp_df_r5 = cmp_df_r5.sort_values(by='Volume_Venda').reset_index().drop(['index'],axis=1)\n",
    "cmp_df_r5 = cmp_df_r5.drop_duplicates('Data',keep='last').sort_values(by='Data').reset_index().drop(['index'],axis=1)\n",
    "display(cmp_df_r5.head(4))\n",
    "\n",
    "means_bt_me_r5 = []\n",
    "year = 2012\n",
    "while year < 2021:\n",
    "    query = cmp_df_r5[((cmp_df_r5.Data >= str(year)) & (cmp_df_r5.Data < str(year+1)))]\n",
    "    mean = np.round(query['Volume_Venda'].mean(),4)\n",
    "    means_bt_me_r5.append(mean)\n",
    "    year += 1\n",
    "\n",
    "means = means_bt_me_r5\n",
    "bars = ['2012','2013','2014','2015','2016','2017','2018','2019','2020']\n",
    "y_pos = np.arange(len(bars))\n",
    "\n",
    "plt.title(\"Média do Volume de Vendas/ano | \"+ companies_set[3][0]+\" - ME - R5\")\n",
    "plt.plot(y_pos, means)\n",
    "plt.xticks(y_pos, bars)\n",
    "plt.show()"
   ]
  },
  {
   "cell_type": "markdown",
   "id": "39aa11b6",
   "metadata": {},
   "source": [
    "##### - *Correlação ME X R2 X R4 X R5*"
   ]
  },
  {
   "cell_type": "code",
   "execution_count": 1612,
   "id": "c5dac274",
   "metadata": {},
   "outputs": [
    {
     "data": {
      "text/html": [
       "<div>\n",
       "<style scoped>\n",
       "    .dataframe tbody tr th:only-of-type {\n",
       "        vertical-align: middle;\n",
       "    }\n",
       "\n",
       "    .dataframe tbody tr th {\n",
       "        vertical-align: top;\n",
       "    }\n",
       "\n",
       "    .dataframe thead th {\n",
       "        text-align: right;\n",
       "    }\n",
       "</style>\n",
       "<table border=\"1\" class=\"dataframe\">\n",
       "  <thead>\n",
       "    <tr style=\"text-align: right;\">\n",
       "      <th></th>\n",
       "      <th>Empresa</th>\n",
       "      <th>Canal_Distribuicao</th>\n",
       "      <th>Mercado</th>\n",
       "      <th>Volume_Venda</th>\n",
       "      <th>Data</th>\n",
       "    </tr>\n",
       "  </thead>\n",
       "  <tbody>\n",
       "    <tr>\n",
       "      <th>0</th>\n",
       "      <td>BT</td>\n",
       "      <td>ME</td>\n",
       "      <td>NaN</td>\n",
       "      <td>24092.0</td>\n",
       "      <td>2012-01-01 00:00:00.000</td>\n",
       "    </tr>\n",
       "    <tr>\n",
       "      <th>1</th>\n",
       "      <td>BT</td>\n",
       "      <td>ME</td>\n",
       "      <td>NaN</td>\n",
       "      <td>33098.0</td>\n",
       "      <td>2012-02-01 00:00:00.000</td>\n",
       "    </tr>\n",
       "    <tr>\n",
       "      <th>2</th>\n",
       "      <td>BT</td>\n",
       "      <td>ME</td>\n",
       "      <td>NaN</td>\n",
       "      <td>36314.0</td>\n",
       "      <td>2012-03-01 00:00:00.000</td>\n",
       "    </tr>\n",
       "    <tr>\n",
       "      <th>3</th>\n",
       "      <td>BT</td>\n",
       "      <td>ME</td>\n",
       "      <td>NaN</td>\n",
       "      <td>4514.0</td>\n",
       "      <td>2012-04-01 00:00:00.000</td>\n",
       "    </tr>\n",
       "  </tbody>\n",
       "</table>\n",
       "</div>"
      ],
      "text/plain": [
       "  Empresa Canal_Distribuicao Mercado Volume_Venda                     Data\n",
       "0      BT                 ME     NaN      24092.0  2012-01-01 00:00:00.000\n",
       "1      BT                 ME     NaN      33098.0  2012-02-01 00:00:00.000\n",
       "2      BT                 ME     NaN      36314.0  2012-03-01 00:00:00.000\n",
       "3      BT                 ME     NaN       4514.0  2012-04-01 00:00:00.000"
      ]
     },
     "metadata": {},
     "output_type": "display_data"
    },
    {
     "data": {
      "text/plain": [
       "<AxesSubplot:title={'center':'Matriz de Confusão: ME X R2 X R4 X R5'}>"
      ]
     },
     "execution_count": 1612,
     "metadata": {},
     "output_type": "execute_result"
    },
    {
     "data": {
      "image/png": "[encoded data removed]",
      "text/plain": [
       "<Figure size 432x288 with 2 Axes>"
      ]
     },
     "metadata": {
      "needs_background": "light"
     },
     "output_type": "display_data"
    }
   ],
   "source": [
    "cmp_df = companies_set[3][1].reset_index().drop(['index'],axis=1)\n",
    "cmp_df = cmp_df[((cmp_df.Empresa != \"NaN\") & (cmp_df.Canal_Distribuicao != \"NaN\") & (cmp_df.Mercado == \"NaN\"))]\n",
    "cmp_df = cmp_df.sort_values(by='Volume_Venda').reset_index().drop(['index'],axis=1)\n",
    "cmp_df = cmp_df.drop_duplicates('Data',keep='last').sort_values(by='Data').reset_index().drop(['index'],axis=1)\n",
    "display(cmp_df.head(4))\n",
    "\n",
    "new_df = pd.DataFrame()\n",
    "new_df['Volume_Venda_R2'] = cmp_df_r2['Volume_Venda']\n",
    "new_df['Volume_Venda_R4'] = cmp_df_r4['Volume_Venda']\n",
    "new_df['Volume_Venda_R5'] = cmp_df_r5['Volume_Venda']\n",
    "new_df['Volume_Venda_ME'] = cmp_df['Volume_Venda']\n",
    "new_df['Data'] = cmp_df['Data']\n",
    "new_df = new_df[((new_df.Volume_Venda_R2 != 0) | (new_df.Volume_Venda_R4 != 0) | (new_df.Volume_Venda_R5 != 0) |\n",
    "                (new_df.Volume_Venda_ME != 0))]\n",
    "new_df = new_df.drop(['Data'],axis=1)\n",
    "new_df = new_df.astype(float)\n",
    "plt.title(\"Matriz de Confusão: ME X R2 X R4 X R5\")\n",
    "sns.heatmap(new_df.corr())"
   ]
  },
  {
   "cell_type": "code",
   "execution_count": null,
   "id": "f09951a6",
   "metadata": {},
   "outputs": [],
   "source": []
  }
 ],
 "metadata": {
  "interpreter": {
   "hash": "9fd3c9755c88d523bdf6238348479253c53214824f1a45d81a58b4bf49ca8b06"
  },
  "kernelspec": {
   "display_name": "Python 3.10.4 ('venv': venv)",
   "language": "python",
   "name": "python3"
  },
  "language_info": {
   "codemirror_mode": {
    "name": "ipython",
    "version": 3
   },
   "file_extension": ".py",
   "mimetype": "text/x-python",
   "name": "python",
   "nbconvert_exporter": "python",
   "pygments_lexer": "ipython3",
   "version": "3.10.5"
  }
 },
 "nbformat": 4,
 "nbformat_minor": 5
}
