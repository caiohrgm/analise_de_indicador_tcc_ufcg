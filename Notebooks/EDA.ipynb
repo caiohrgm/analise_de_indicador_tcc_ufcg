{
 "cells": [
  {
   "cell_type": "code",
   "execution_count": 1,
   "id": "e6b8edaa",
   "metadata": {},
   "outputs": [],
   "source": [
    "import pandas as pd\n",
    "import numpy as np\n",
    "import warnings\n",
    "import seaborn as sns\n",
    "import matplotlib.pyplot as plt\n",
    "from matplotlib.pyplot import figure\n",
    "\n",
    "global companies_set \n",
    "\n",
    "warnings.filterwarnings('ignore')"
   ]
  },
  {
   "cell_type": "markdown",
   "id": "5dcf4f4b",
   "metadata": {},
   "source": [
    "# 1 - Pré-Processamento"
   ]
  },
  {
   "cell_type": "markdown",
   "id": "3ac78a9d",
   "metadata": {},
   "source": [
    "## 1.1 - Acessando planilha de dataset original"
   ]
  },
  {
   "cell_type": "code",
   "execution_count": 2,
   "id": "97bf584d",
   "metadata": {},
   "outputs": [
    {
     "name": "stdout",
     "output_type": "stream",
     "text": [
      "Todas as colunas:  Index(['Indicador', 'Indicador_Polaridade', 'Acompanhamento_UnidadeGeren_ID',\n",
      "       'Acompanhamento_TipoAcompa_ID', 'Acompanhamento_AgrupamentoTxt',\n",
      "       'Dim1_Dimensao_ID', 'Dim1_Membro_ID', 'Dim2_Dimensao_ID',\n",
      "       'Dim2_Membro_ID', 'Dim3_Dimensao_ID', 'Dim3_Membro_ID',\n",
      "       'Dim4_Dimensao_ID', 'Dim4_Membro_ID', 'Dim5_Dimensao_ID',\n",
      "       'Dim5_Membro_ID', 'Dim6_Dimensao_ID', 'Dim6_Membro_ID',\n",
      "       'Solucao_Identificada', 'ID_Acompanhamento', 'IsCopy',\n",
      "       'ID_AcompanhamentoCopy', 'Frequencia', 'Data_Ocorrencia',\n",
      "       'Tipo_Registro', 'AreaResultado', 'AcumuloDimensao', 'Acumulo_Tempo',\n",
      "       'Acompanhamento_Anual_LimiteInferior', 'Acompanhamento_Anual_Minimo',\n",
      "       'Acompanhamento_Anual_Meta', 'Acompanhamento_Anual_LimiteSuperior',\n",
      "       'Acompanhamento_Anual_MaxDesafio', 'Acompanhamento_Anual_Benchmark',\n",
      "       'VLR_Ocorrencia', 'VLR_Meta', 'VLR_MetaInf', 'VLR_MetaSup',\n",
      "       'Desempenho', 'PerTolAmr', 'PerTolAmrInf', 'PerTolVrd', 'PerTolVrdInf',\n",
      "       'PerTolAzl', 'LimInfAmarelo', 'LimSupAmarelo', 'LimInfVerde',\n",
      "       'LimSupVerde', 'LimInfAzul', 'ID_Empresa', 'KPI_Nome',\n",
      "       'Dim1_Membro_Mome', 'Dim2_Membro_Mome', 'Dim3_Membro_Mome',\n",
      "       'UnidadeMedida_Nome'],\n",
      "      dtype='object')\n",
      "\n",
      "Total de linhas: 8938 linhas.\n"
     ]
    }
   ],
   "source": [
    "path = r\"D:\\Documentos_D\\UFCG\\2021.2e\\TCC\\Project\\analise-de-indicador-tcc-ufcg\\Data\\indicadores_Siteware.csv\"\n",
    "base_df = pd.read_csv(path,sep =\",\")\n",
    "\n",
    "print(\"Todas as colunas: \",base_df.columns)\n",
    "print(\"\\nTotal de linhas: %d linhas.\" % len(base_df))"
   ]
  },
  {
   "cell_type": "markdown",
   "id": "c0bc65bd",
   "metadata": {},
   "source": [
    "## 1.2 - Filtrando e renomeando apenas as colunas necessárias para análise"
   ]
  },
  {
   "cell_type": "code",
   "execution_count": 3,
   "id": "2dc1f27f",
   "metadata": {},
   "outputs": [
    {
     "name": "stdout",
     "output_type": "stream",
     "text": [
      "Tipo_Registro antes: \n"
     ]
    },
    {
     "data": {
      "text/plain": [
       "0         Apurado\n",
       "1         Apurado\n",
       "2         Apurado\n",
       "3         Apurado\n",
       "4         Apurado\n",
       "          ...    \n",
       "8933    Acumulado\n",
       "8934    Acumulado\n",
       "8935    Acumulado\n",
       "8936    Acumulado\n",
       "8937    Acumulado\n",
       "Name: Tipo_Registro, Length: 8938, dtype: object"
      ]
     },
     "metadata": {},
     "output_type": "display_data"
    },
    {
     "name": "stdout",
     "output_type": "stream",
     "text": [
      "Tipo_Registro depois: \n"
     ]
    },
    {
     "data": {
      "text/plain": [
       "0       Apurado\n",
       "1       Apurado\n",
       "2       Apurado\n",
       "3       Apurado\n",
       "4       Apurado\n",
       "         ...   \n",
       "8921    Apurado\n",
       "8922    Apurado\n",
       "8923    Apurado\n",
       "8924    Apurado\n",
       "8925    Apurado\n",
       "Name: Tipo_Registro, Length: 4469, dtype: object"
      ]
     },
     "metadata": {},
     "output_type": "display_data"
    },
    {
     "name": "stdout",
     "output_type": "stream",
     "text": [
      "DataFrame sem as colunas 'Tipo_Registro' e 'Indicador':\n"
     ]
    },
    {
     "data": {
      "text/html": [
       "<div>\n",
       "<style scoped>\n",
       "    .dataframe tbody tr th:only-of-type {\n",
       "        vertical-align: middle;\n",
       "    }\n",
       "\n",
       "    .dataframe tbody tr th {\n",
       "        vertical-align: top;\n",
       "    }\n",
       "\n",
       "    .dataframe thead th {\n",
       "        text-align: right;\n",
       "    }\n",
       "</style>\n",
       "<table border=\"1\" class=\"dataframe\">\n",
       "  <thead>\n",
       "    <tr style=\"text-align: right;\">\n",
       "      <th></th>\n",
       "      <th>Empresa</th>\n",
       "      <th>Canal_Distribuicao</th>\n",
       "      <th>Mercado</th>\n",
       "      <th>Volume_Venda</th>\n",
       "      <th>Data</th>\n",
       "    </tr>\n",
       "  </thead>\n",
       "  <tbody>\n",
       "    <tr>\n",
       "      <th>0</th>\n",
       "      <td>NaN</td>\n",
       "      <td>NaN</td>\n",
       "      <td>NaN</td>\n",
       "      <td>63198.005</td>\n",
       "      <td>2015-01-01 00:00:00.000</td>\n",
       "    </tr>\n",
       "    <tr>\n",
       "      <th>1</th>\n",
       "      <td>NaN</td>\n",
       "      <td>NaN</td>\n",
       "      <td>NaN</td>\n",
       "      <td>107754.000</td>\n",
       "      <td>2015-02-01 00:00:00.000</td>\n",
       "    </tr>\n",
       "    <tr>\n",
       "      <th>2</th>\n",
       "      <td>NaN</td>\n",
       "      <td>NaN</td>\n",
       "      <td>NaN</td>\n",
       "      <td>118044.000</td>\n",
       "      <td>2015-03-01 00:00:00.000</td>\n",
       "    </tr>\n",
       "    <tr>\n",
       "      <th>3</th>\n",
       "      <td>NaN</td>\n",
       "      <td>NaN</td>\n",
       "      <td>NaN</td>\n",
       "      <td>75890.000</td>\n",
       "      <td>2015-04-01 00:00:00.000</td>\n",
       "    </tr>\n",
       "    <tr>\n",
       "      <th>4</th>\n",
       "      <td>NaN</td>\n",
       "      <td>NaN</td>\n",
       "      <td>NaN</td>\n",
       "      <td>102560.000</td>\n",
       "      <td>2015-05-01 00:00:00.000</td>\n",
       "    </tr>\n",
       "    <tr>\n",
       "      <th>...</th>\n",
       "      <td>...</td>\n",
       "      <td>...</td>\n",
       "      <td>...</td>\n",
       "      <td>...</td>\n",
       "      <td>...</td>\n",
       "    </tr>\n",
       "    <tr>\n",
       "      <th>8921</th>\n",
       "      <td>BR</td>\n",
       "      <td>MI</td>\n",
       "      <td>Brasil</td>\n",
       "      <td>NaN</td>\n",
       "      <td>2022-06-01 00:00:00.000</td>\n",
       "    </tr>\n",
       "    <tr>\n",
       "      <th>8922</th>\n",
       "      <td>BR</td>\n",
       "      <td>MI</td>\n",
       "      <td>Brasil</td>\n",
       "      <td>NaN</td>\n",
       "      <td>2022-07-01 00:00:00.000</td>\n",
       "    </tr>\n",
       "    <tr>\n",
       "      <th>8923</th>\n",
       "      <td>BR</td>\n",
       "      <td>MI</td>\n",
       "      <td>Brasil</td>\n",
       "      <td>NaN</td>\n",
       "      <td>2022-08-01 00:00:00.000</td>\n",
       "    </tr>\n",
       "    <tr>\n",
       "      <th>8924</th>\n",
       "      <td>BR</td>\n",
       "      <td>MI</td>\n",
       "      <td>Brasil</td>\n",
       "      <td>NaN</td>\n",
       "      <td>2022-09-01 00:00:00.000</td>\n",
       "    </tr>\n",
       "    <tr>\n",
       "      <th>8925</th>\n",
       "      <td>BR</td>\n",
       "      <td>MI</td>\n",
       "      <td>Brasil</td>\n",
       "      <td>NaN</td>\n",
       "      <td>2022-10-01 00:00:00.000</td>\n",
       "    </tr>\n",
       "  </tbody>\n",
       "</table>\n",
       "<p>4469 rows × 5 columns</p>\n",
       "</div>"
      ],
      "text/plain": [
       "     Empresa Canal_Distribuicao Mercado  Volume_Venda                     Data\n",
       "0        NaN                NaN     NaN     63198.005  2015-01-01 00:00:00.000\n",
       "1        NaN                NaN     NaN    107754.000  2015-02-01 00:00:00.000\n",
       "2        NaN                NaN     NaN    118044.000  2015-03-01 00:00:00.000\n",
       "3        NaN                NaN     NaN     75890.000  2015-04-01 00:00:00.000\n",
       "4        NaN                NaN     NaN    102560.000  2015-05-01 00:00:00.000\n",
       "...      ...                ...     ...           ...                      ...\n",
       "8921      BR                 MI  Brasil           NaN  2022-06-01 00:00:00.000\n",
       "8922      BR                 MI  Brasil           NaN  2022-07-01 00:00:00.000\n",
       "8923      BR                 MI  Brasil           NaN  2022-08-01 00:00:00.000\n",
       "8924      BR                 MI  Brasil           NaN  2022-09-01 00:00:00.000\n",
       "8925      BR                 MI  Brasil           NaN  2022-10-01 00:00:00.000\n",
       "\n",
       "[4469 rows x 5 columns]"
      ]
     },
     "execution_count": 3,
     "metadata": {},
     "output_type": "execute_result"
    }
   ],
   "source": [
    "df = base_df[['Indicador','Dim1_Membro_Mome','Dim2_Membro_Mome','Dim3_Membro_Mome','VLR_Ocorrencia','Tipo_Registro','Data_Ocorrencia']]\n",
    "\n",
    "print(\"Tipo_Registro antes: \")\n",
    "display(df['Tipo_Registro'])\n",
    "\n",
    "df = df[df['Tipo_Registro'] == \"Apurado\"] #|------------> Remoção dos indicadores com \"Tipo_Registro\" == \"acumulado\"\n",
    "print(\"Tipo_Registro depois: \")\n",
    "display(df['Tipo_Registro']) \n",
    "\n",
    "df = df.drop(['Tipo_Registro','Indicador'],axis=1) # |--> Apenas o \"Tipo_registro\" == \"apurado\" está sendo considerado, mas esta coluna não fará parte da análise.\n",
    "df.columns = ['Empresa','Canal_Distribuicao','Mercado','Volume_Venda','Data']\n",
    "\n",
    "print(\"DataFrame sem as colunas 'Tipo_Registro' e 'Indicador':\")\n",
    "df"
   ]
  },
  {
   "cell_type": "markdown",
   "id": "12883f45",
   "metadata": {},
   "source": [
    "## 1.3 - Tratamento e remoção das linhas com NaNs que serão desconsideradas"
   ]
  },
  {
   "cell_type": "code",
   "execution_count": 4,
   "id": "d3bd2998",
   "metadata": {},
   "outputs": [
    {
     "name": "stdout",
     "output_type": "stream",
     "text": [
      "Quantidade de NaNs de empresa (Dim1_Membro_Mome):  1020\n",
      "Quantidade de NaNs de canal de distribuição (Dim2_Membro_Mome):  756\n",
      "Quantidade de NaNs de mercado (Dim3_Membro_Mome):  1416\n",
      "Quantidade de NaNs dos volumes de venda (VLR_Ocorrencia):  458\n"
     ]
    }
   ],
   "source": [
    "# Contando NaNs do dataframe apenas do valores do tipo_registro \"Apurado\" (total de 4469 linhas):\n",
    "dim1_membro_mome_nan_sum = df.Empresa.isna().sum()\n",
    "dim2_membro_mome_nan_sum = df.Canal_Distribuicao.isna().sum()\n",
    "dim3_membro_mome_nan_sum = df.Mercado.isna().sum()\n",
    "vlr_ocorrencia_nan_sum = df.Volume_Venda.isna().sum()\n",
    "\n",
    "print(\"Quantidade de NaNs de empresa (Dim1_Membro_Mome): \",dim1_membro_mome_nan_sum)\n",
    "print(\"Quantidade de NaNs de canal de distribuição (Dim2_Membro_Mome): \", dim2_membro_mome_nan_sum)\n",
    "print(\"Quantidade de NaNs de mercado (Dim3_Membro_Mome): \", dim3_membro_mome_nan_sum)\n",
    "print(\"Quantidade de NaNs dos volumes de venda (VLR_Ocorrencia): \", vlr_ocorrencia_nan_sum)"
   ]
  },
  {
   "cell_type": "code",
   "execution_count": 5,
   "id": "3849b6ca",
   "metadata": {},
   "outputs": [
    {
     "data": {
      "text/html": [
       "<div>\n",
       "<style scoped>\n",
       "    .dataframe tbody tr th:only-of-type {\n",
       "        vertical-align: middle;\n",
       "    }\n",
       "\n",
       "    .dataframe tbody tr th {\n",
       "        vertical-align: top;\n",
       "    }\n",
       "\n",
       "    .dataframe thead th {\n",
       "        text-align: right;\n",
       "    }\n",
       "</style>\n",
       "<table border=\"1\" class=\"dataframe\">\n",
       "  <thead>\n",
       "    <tr style=\"text-align: right;\">\n",
       "      <th></th>\n",
       "      <th>Empresa</th>\n",
       "      <th>Canal_Distribuicao</th>\n",
       "      <th>Mercado</th>\n",
       "      <th>Volume_Venda</th>\n",
       "      <th>Data</th>\n",
       "    </tr>\n",
       "  </thead>\n",
       "  <tbody>\n",
       "    <tr>\n",
       "      <th>0</th>\n",
       "      <td>NaN</td>\n",
       "      <td>NaN</td>\n",
       "      <td>NaN</td>\n",
       "      <td>63198.005</td>\n",
       "      <td>2015-01-01 00:00:00.000</td>\n",
       "    </tr>\n",
       "    <tr>\n",
       "      <th>1</th>\n",
       "      <td>NaN</td>\n",
       "      <td>NaN</td>\n",
       "      <td>NaN</td>\n",
       "      <td>107754.0</td>\n",
       "      <td>2015-02-01 00:00:00.000</td>\n",
       "    </tr>\n",
       "    <tr>\n",
       "      <th>2</th>\n",
       "      <td>NaN</td>\n",
       "      <td>NaN</td>\n",
       "      <td>NaN</td>\n",
       "      <td>118044.0</td>\n",
       "      <td>2015-03-01 00:00:00.000</td>\n",
       "    </tr>\n",
       "    <tr>\n",
       "      <th>3</th>\n",
       "      <td>NaN</td>\n",
       "      <td>NaN</td>\n",
       "      <td>NaN</td>\n",
       "      <td>75890.0</td>\n",
       "      <td>2015-04-01 00:00:00.000</td>\n",
       "    </tr>\n",
       "    <tr>\n",
       "      <th>4</th>\n",
       "      <td>NaN</td>\n",
       "      <td>NaN</td>\n",
       "      <td>NaN</td>\n",
       "      <td>102560.0</td>\n",
       "      <td>2015-05-01 00:00:00.000</td>\n",
       "    </tr>\n",
       "    <tr>\n",
       "      <th>...</th>\n",
       "      <td>...</td>\n",
       "      <td>...</td>\n",
       "      <td>...</td>\n",
       "      <td>...</td>\n",
       "      <td>...</td>\n",
       "    </tr>\n",
       "    <tr>\n",
       "      <th>8921</th>\n",
       "      <td>BR</td>\n",
       "      <td>MI</td>\n",
       "      <td>Brasil</td>\n",
       "      <td>NaN</td>\n",
       "      <td>2022-06-01 00:00:00.000</td>\n",
       "    </tr>\n",
       "    <tr>\n",
       "      <th>8922</th>\n",
       "      <td>BR</td>\n",
       "      <td>MI</td>\n",
       "      <td>Brasil</td>\n",
       "      <td>NaN</td>\n",
       "      <td>2022-07-01 00:00:00.000</td>\n",
       "    </tr>\n",
       "    <tr>\n",
       "      <th>8923</th>\n",
       "      <td>BR</td>\n",
       "      <td>MI</td>\n",
       "      <td>Brasil</td>\n",
       "      <td>NaN</td>\n",
       "      <td>2022-08-01 00:00:00.000</td>\n",
       "    </tr>\n",
       "    <tr>\n",
       "      <th>8924</th>\n",
       "      <td>BR</td>\n",
       "      <td>MI</td>\n",
       "      <td>Brasil</td>\n",
       "      <td>NaN</td>\n",
       "      <td>2022-09-01 00:00:00.000</td>\n",
       "    </tr>\n",
       "    <tr>\n",
       "      <th>8925</th>\n",
       "      <td>BR</td>\n",
       "      <td>MI</td>\n",
       "      <td>Brasil</td>\n",
       "      <td>NaN</td>\n",
       "      <td>2022-10-01 00:00:00.000</td>\n",
       "    </tr>\n",
       "  </tbody>\n",
       "</table>\n",
       "<p>4469 rows × 5 columns</p>\n",
       "</div>"
      ],
      "text/plain": [
       "     Empresa Canal_Distribuicao Mercado Volume_Venda                     Data\n",
       "0        NaN                NaN     NaN    63198.005  2015-01-01 00:00:00.000\n",
       "1        NaN                NaN     NaN     107754.0  2015-02-01 00:00:00.000\n",
       "2        NaN                NaN     NaN     118044.0  2015-03-01 00:00:00.000\n",
       "3        NaN                NaN     NaN      75890.0  2015-04-01 00:00:00.000\n",
       "4        NaN                NaN     NaN     102560.0  2015-05-01 00:00:00.000\n",
       "...      ...                ...     ...          ...                      ...\n",
       "8921      BR                 MI  Brasil          NaN  2022-06-01 00:00:00.000\n",
       "8922      BR                 MI  Brasil          NaN  2022-07-01 00:00:00.000\n",
       "8923      BR                 MI  Brasil          NaN  2022-08-01 00:00:00.000\n",
       "8924      BR                 MI  Brasil          NaN  2022-09-01 00:00:00.000\n",
       "8925      BR                 MI  Brasil          NaN  2022-10-01 00:00:00.000\n",
       "\n",
       "[4469 rows x 5 columns]"
      ]
     },
     "execution_count": 5,
     "metadata": {},
     "output_type": "execute_result"
    }
   ],
   "source": [
    "# Substituindo os valores NaNs pela string 'NaN':\n",
    "# Confirmando: só existem valores de ocorrencia até 2022-01-01 (Janeiro de 2022) - linha '8916': estas linhas com valor de ocorrencia vazios serão removidas\n",
    "df = df.fillna(\"NaN\")\n",
    "df"
   ]
  },
  {
   "cell_type": "markdown",
   "id": "fd029437",
   "metadata": {},
   "source": [
    "### 1.3.1 - Filtrando dataframe com apenas as linhas que possuem pelo menos Empresa (dimensão 1)"
   ]
  },
  {
   "cell_type": "code",
   "execution_count": 6,
   "id": "ab1de2e6",
   "metadata": {},
   "outputs": [
    {
     "data": {
      "text/html": [
       "<div>\n",
       "<style scoped>\n",
       "    .dataframe tbody tr th:only-of-type {\n",
       "        vertical-align: middle;\n",
       "    }\n",
       "\n",
       "    .dataframe tbody tr th {\n",
       "        vertical-align: top;\n",
       "    }\n",
       "\n",
       "    .dataframe thead th {\n",
       "        text-align: right;\n",
       "    }\n",
       "</style>\n",
       "<table border=\"1\" class=\"dataframe\">\n",
       "  <thead>\n",
       "    <tr style=\"text-align: right;\">\n",
       "      <th></th>\n",
       "      <th>Empresa</th>\n",
       "      <th>Canal_Distribuicao</th>\n",
       "      <th>Mercado</th>\n",
       "      <th>Volume_Venda</th>\n",
       "      <th>Data</th>\n",
       "    </tr>\n",
       "  </thead>\n",
       "  <tbody>\n",
       "    <tr>\n",
       "      <th>48</th>\n",
       "      <td>BC</td>\n",
       "      <td>NaN</td>\n",
       "      <td>NaN</td>\n",
       "      <td>10070.0</td>\n",
       "      <td>2015-01-01 00:00:00.000</td>\n",
       "    </tr>\n",
       "    <tr>\n",
       "      <th>49</th>\n",
       "      <td>BC</td>\n",
       "      <td>NaN</td>\n",
       "      <td>NaN</td>\n",
       "      <td>9434.0</td>\n",
       "      <td>2015-02-01 00:00:00.000</td>\n",
       "    </tr>\n",
       "    <tr>\n",
       "      <th>50</th>\n",
       "      <td>BC</td>\n",
       "      <td>NaN</td>\n",
       "      <td>NaN</td>\n",
       "      <td>14882.0</td>\n",
       "      <td>2015-03-01 00:00:00.000</td>\n",
       "    </tr>\n",
       "    <tr>\n",
       "      <th>51</th>\n",
       "      <td>BC</td>\n",
       "      <td>NaN</td>\n",
       "      <td>NaN</td>\n",
       "      <td>12618.0</td>\n",
       "      <td>2015-04-01 00:00:00.000</td>\n",
       "    </tr>\n",
       "    <tr>\n",
       "      <th>52</th>\n",
       "      <td>BC</td>\n",
       "      <td>NaN</td>\n",
       "      <td>NaN</td>\n",
       "      <td>8516.0</td>\n",
       "      <td>2015-05-01 00:00:00.000</td>\n",
       "    </tr>\n",
       "    <tr>\n",
       "      <th>...</th>\n",
       "      <td>...</td>\n",
       "      <td>...</td>\n",
       "      <td>...</td>\n",
       "      <td>...</td>\n",
       "      <td>...</td>\n",
       "    </tr>\n",
       "    <tr>\n",
       "      <th>8921</th>\n",
       "      <td>BR</td>\n",
       "      <td>MI</td>\n",
       "      <td>Brasil</td>\n",
       "      <td>NaN</td>\n",
       "      <td>2022-06-01 00:00:00.000</td>\n",
       "    </tr>\n",
       "    <tr>\n",
       "      <th>8922</th>\n",
       "      <td>BR</td>\n",
       "      <td>MI</td>\n",
       "      <td>Brasil</td>\n",
       "      <td>NaN</td>\n",
       "      <td>2022-07-01 00:00:00.000</td>\n",
       "    </tr>\n",
       "    <tr>\n",
       "      <th>8923</th>\n",
       "      <td>BR</td>\n",
       "      <td>MI</td>\n",
       "      <td>Brasil</td>\n",
       "      <td>NaN</td>\n",
       "      <td>2022-08-01 00:00:00.000</td>\n",
       "    </tr>\n",
       "    <tr>\n",
       "      <th>8924</th>\n",
       "      <td>BR</td>\n",
       "      <td>MI</td>\n",
       "      <td>Brasil</td>\n",
       "      <td>NaN</td>\n",
       "      <td>2022-09-01 00:00:00.000</td>\n",
       "    </tr>\n",
       "    <tr>\n",
       "      <th>8925</th>\n",
       "      <td>BR</td>\n",
       "      <td>MI</td>\n",
       "      <td>Brasil</td>\n",
       "      <td>NaN</td>\n",
       "      <td>2022-10-01 00:00:00.000</td>\n",
       "    </tr>\n",
       "  </tbody>\n",
       "</table>\n",
       "<p>3449 rows × 5 columns</p>\n",
       "</div>"
      ],
      "text/plain": [
       "     Empresa Canal_Distribuicao Mercado Volume_Venda                     Data\n",
       "48        BC                NaN     NaN      10070.0  2015-01-01 00:00:00.000\n",
       "49        BC                NaN     NaN       9434.0  2015-02-01 00:00:00.000\n",
       "50        BC                NaN     NaN      14882.0  2015-03-01 00:00:00.000\n",
       "51        BC                NaN     NaN      12618.0  2015-04-01 00:00:00.000\n",
       "52        BC                NaN     NaN       8516.0  2015-05-01 00:00:00.000\n",
       "...      ...                ...     ...          ...                      ...\n",
       "8921      BR                 MI  Brasil          NaN  2022-06-01 00:00:00.000\n",
       "8922      BR                 MI  Brasil          NaN  2022-07-01 00:00:00.000\n",
       "8923      BR                 MI  Brasil          NaN  2022-08-01 00:00:00.000\n",
       "8924      BR                 MI  Brasil          NaN  2022-09-01 00:00:00.000\n",
       "8925      BR                 MI  Brasil          NaN  2022-10-01 00:00:00.000\n",
       "\n",
       "[3449 rows x 5 columns]"
      ]
     },
     "execution_count": 6,
     "metadata": {},
     "output_type": "execute_result"
    }
   ],
   "source": [
    "df = df[ \n",
    "                           ((df.Empresa != \"NaN\") & (df.Canal_Distribuicao == \"NaN\") & (df.Mercado == \"NaN\"))\n",
    "                          |((df.Empresa != \"NaN\") & (df.Canal_Distribuicao != \"NaN\") & (df.Mercado == \"NaN\"))\n",
    "                          |((df.Empresa != \"NaN\") & (df.Canal_Distribuicao != \"NaN\") & (df.Mercado != \"NaN\"))\n",
    "                        #   |((df.Empresa == \"NaN\") & (df.Canal_Distribuicao != \"NaN\") & (df.Mercado != \"NaN\")) # sem explicação;\n",
    "                        #   |((df.Empresa == \"NaN\") & (df.Canal_Distribuicao == \"NaN\") & (df.Mercado != \"NaN\")) # Não ocorre; \n",
    "                        #   |((df.Empresa == \"NaN\") & (df.Canal_Distribuicao == \"NaN\") & (df.Mercado == \"NaN\")) # Existem 228 casos;\n",
    "                          ]\n",
    "df"
   ]
  },
  {
   "cell_type": "markdown",
   "id": "9d55ddbd",
   "metadata": {},
   "source": [
    "### 1.3.2 - Removendo do dataframe linhas que possuem o \"Valor de Ocorrência\" vazio"
   ]
  },
  {
   "cell_type": "code",
   "execution_count": 7,
   "id": "1387f655",
   "metadata": {},
   "outputs": [],
   "source": [
    "df = df[(df.Volume_Venda != \"NaN\")].reset_index()"
   ]
  },
  {
   "cell_type": "code",
   "execution_count": 8,
   "id": "ad3ca137",
   "metadata": {},
   "outputs": [
    {
     "name": "stdout",
     "output_type": "stream",
     "text": [
      "Dataframe totalmente filtrado e preparado para análises:\n"
     ]
    },
    {
     "data": {
      "text/html": [
       "<div>\n",
       "<style scoped>\n",
       "    .dataframe tbody tr th:only-of-type {\n",
       "        vertical-align: middle;\n",
       "    }\n",
       "\n",
       "    .dataframe tbody tr th {\n",
       "        vertical-align: top;\n",
       "    }\n",
       "\n",
       "    .dataframe thead th {\n",
       "        text-align: right;\n",
       "    }\n",
       "</style>\n",
       "<table border=\"1\" class=\"dataframe\">\n",
       "  <thead>\n",
       "    <tr style=\"text-align: right;\">\n",
       "      <th></th>\n",
       "      <th>Empresa</th>\n",
       "      <th>Canal_Distribuicao</th>\n",
       "      <th>Mercado</th>\n",
       "      <th>Volume_Venda</th>\n",
       "      <th>Data</th>\n",
       "    </tr>\n",
       "  </thead>\n",
       "  <tbody>\n",
       "    <tr>\n",
       "      <th>1</th>\n",
       "      <td>BC</td>\n",
       "      <td>NaN</td>\n",
       "      <td>NaN</td>\n",
       "      <td>10070.0</td>\n",
       "      <td>2015-01-01 00:00:00.000</td>\n",
       "    </tr>\n",
       "    <tr>\n",
       "      <th>2</th>\n",
       "      <td>BC</td>\n",
       "      <td>NaN</td>\n",
       "      <td>NaN</td>\n",
       "      <td>9434.0</td>\n",
       "      <td>2015-02-01 00:00:00.000</td>\n",
       "    </tr>\n",
       "    <tr>\n",
       "      <th>3</th>\n",
       "      <td>BC</td>\n",
       "      <td>NaN</td>\n",
       "      <td>NaN</td>\n",
       "      <td>14882.0</td>\n",
       "      <td>2015-03-01 00:00:00.000</td>\n",
       "    </tr>\n",
       "    <tr>\n",
       "      <th>4</th>\n",
       "      <td>BC</td>\n",
       "      <td>NaN</td>\n",
       "      <td>NaN</td>\n",
       "      <td>12618.0</td>\n",
       "      <td>2015-04-01 00:00:00.000</td>\n",
       "    </tr>\n",
       "    <tr>\n",
       "      <th>5</th>\n",
       "      <td>BC</td>\n",
       "      <td>NaN</td>\n",
       "      <td>NaN</td>\n",
       "      <td>8516.0</td>\n",
       "      <td>2015-05-01 00:00:00.000</td>\n",
       "    </tr>\n",
       "    <tr>\n",
       "      <th>...</th>\n",
       "      <td>...</td>\n",
       "      <td>...</td>\n",
       "      <td>...</td>\n",
       "      <td>...</td>\n",
       "      <td>...</td>\n",
       "    </tr>\n",
       "    <tr>\n",
       "      <th>3094</th>\n",
       "      <td>BI</td>\n",
       "      <td>ME</td>\n",
       "      <td>Europa</td>\n",
       "      <td>33926.0</td>\n",
       "      <td>2022-01-01 00:00:00.000</td>\n",
       "    </tr>\n",
       "    <tr>\n",
       "      <th>3095</th>\n",
       "      <td>BR</td>\n",
       "      <td>EE</td>\n",
       "      <td>NaN</td>\n",
       "      <td>79980.0</td>\n",
       "      <td>2022-01-01 00:00:00.000</td>\n",
       "    </tr>\n",
       "    <tr>\n",
       "      <th>3096</th>\n",
       "      <td>BR</td>\n",
       "      <td>EE</td>\n",
       "      <td>Ásia</td>\n",
       "      <td>22100.0</td>\n",
       "      <td>2022-01-01 00:00:00.000</td>\n",
       "    </tr>\n",
       "    <tr>\n",
       "      <th>3097</th>\n",
       "      <td>BR</td>\n",
       "      <td>EE</td>\n",
       "      <td>Europa</td>\n",
       "      <td>57880.0</td>\n",
       "      <td>2022-01-01 00:00:00.000</td>\n",
       "    </tr>\n",
       "    <tr>\n",
       "      <th>3098</th>\n",
       "      <td>BR</td>\n",
       "      <td>MI</td>\n",
       "      <td>Brasil</td>\n",
       "      <td>1818.0</td>\n",
       "      <td>2022-01-01 00:00:00.000</td>\n",
       "    </tr>\n",
       "  </tbody>\n",
       "</table>\n",
       "<p>3098 rows × 5 columns</p>\n",
       "</div>"
      ],
      "text/plain": [
       "     Empresa Canal_Distribuicao Mercado Volume_Venda                     Data\n",
       "1         BC                NaN     NaN      10070.0  2015-01-01 00:00:00.000\n",
       "2         BC                NaN     NaN       9434.0  2015-02-01 00:00:00.000\n",
       "3         BC                NaN     NaN      14882.0  2015-03-01 00:00:00.000\n",
       "4         BC                NaN     NaN      12618.0  2015-04-01 00:00:00.000\n",
       "5         BC                NaN     NaN       8516.0  2015-05-01 00:00:00.000\n",
       "...      ...                ...     ...          ...                      ...\n",
       "3094      BI                 ME  Europa      33926.0  2022-01-01 00:00:00.000\n",
       "3095      BR                 EE     NaN      79980.0  2022-01-01 00:00:00.000\n",
       "3096      BR                 EE    Ásia      22100.0  2022-01-01 00:00:00.000\n",
       "3097      BR                 EE  Europa      57880.0  2022-01-01 00:00:00.000\n",
       "3098      BR                 MI  Brasil       1818.0  2022-01-01 00:00:00.000\n",
       "\n",
       "[3098 rows x 5 columns]"
      ]
     },
     "execution_count": 8,
     "metadata": {},
     "output_type": "execute_result"
    }
   ],
   "source": [
    "# Reconfigurando os índices:\n",
    "new_index = []\n",
    "for i in range(len(df)):\n",
    "    new_index.append(i+1)\n",
    "df = df.set_index(pd.Index(new_index))\n",
    "del df['index']\n",
    "\n",
    "print(\"Dataframe totalmente filtrado e preparado para análises:\")\n",
    "df"
   ]
  },
  {
   "cell_type": "markdown",
   "id": "259c88ff",
   "metadata": {},
   "source": [
    "# 2 - Análise Exploratório dos Dados"
   ]
  },
  {
   "cell_type": "markdown",
   "id": "7e74dc60",
   "metadata": {},
   "source": [
    "## 2.1 - Análise das \"Empresas\", dos \"Canais de Distribuição\" e dos \"Mercados\""
   ]
  },
  {
   "cell_type": "code",
   "execution_count": 9,
   "id": "163d000c",
   "metadata": {},
   "outputs": [
    {
     "name": "stdout",
     "output_type": "stream",
     "text": [
      "Empresas:  ['BC' 'BI' 'BR' 'BT']\n",
      "Canais:  ['NaN' 'ME' 'EE' 'MI']\n",
      "Mercado:  ['NaN' 'Am.Norte' 'Ásia' 'Europa' 'Am.Latina' 'Japão' 'Brasil']\n"
     ]
    }
   ],
   "source": [
    "empresas = df.Empresa.unique()\n",
    "canais = df.Canal_Distribuicao.unique()\n",
    "mercados = df.Mercado.unique()\n",
    "\n",
    "print(\"Empresas: \", empresas)\n",
    "print(\"Canais: \", canais)\n",
    "print(\"Mercado: \", mercados)"
   ]
  },
  {
   "cell_type": "code",
   "execution_count": 10,
   "id": "b1e5d011",
   "metadata": {},
   "outputs": [
    {
     "data": {
      "text/html": [
       "<div>\n",
       "<style scoped>\n",
       "    .dataframe tbody tr th:only-of-type {\n",
       "        vertical-align: middle;\n",
       "    }\n",
       "\n",
       "    .dataframe tbody tr th {\n",
       "        vertical-align: top;\n",
       "    }\n",
       "\n",
       "    .dataframe thead th {\n",
       "        text-align: right;\n",
       "    }\n",
       "</style>\n",
       "<table border=\"1\" class=\"dataframe\">\n",
       "  <thead>\n",
       "    <tr style=\"text-align: right;\">\n",
       "      <th></th>\n",
       "      <th>Empresa</th>\n",
       "      <th>Canal_Distribuicao</th>\n",
       "      <th>Mercado</th>\n",
       "      <th>Volume_Venda</th>\n",
       "      <th>Data</th>\n",
       "    </tr>\n",
       "  </thead>\n",
       "  <tbody>\n",
       "    <tr>\n",
       "      <th>1</th>\n",
       "      <td>BC</td>\n",
       "      <td>NaN</td>\n",
       "      <td>NaN</td>\n",
       "      <td>10070.0</td>\n",
       "      <td>2015-01-01 00:00:00.000</td>\n",
       "    </tr>\n",
       "    <tr>\n",
       "      <th>2</th>\n",
       "      <td>BC</td>\n",
       "      <td>NaN</td>\n",
       "      <td>NaN</td>\n",
       "      <td>9434.0</td>\n",
       "      <td>2015-02-01 00:00:00.000</td>\n",
       "    </tr>\n",
       "    <tr>\n",
       "      <th>3</th>\n",
       "      <td>BC</td>\n",
       "      <td>NaN</td>\n",
       "      <td>NaN</td>\n",
       "      <td>14882.0</td>\n",
       "      <td>2015-03-01 00:00:00.000</td>\n",
       "    </tr>\n",
       "    <tr>\n",
       "      <th>4</th>\n",
       "      <td>BC</td>\n",
       "      <td>NaN</td>\n",
       "      <td>NaN</td>\n",
       "      <td>12618.0</td>\n",
       "      <td>2015-04-01 00:00:00.000</td>\n",
       "    </tr>\n",
       "    <tr>\n",
       "      <th>5</th>\n",
       "      <td>BC</td>\n",
       "      <td>NaN</td>\n",
       "      <td>NaN</td>\n",
       "      <td>8516.0</td>\n",
       "      <td>2015-05-01 00:00:00.000</td>\n",
       "    </tr>\n",
       "    <tr>\n",
       "      <th>...</th>\n",
       "      <td>...</td>\n",
       "      <td>...</td>\n",
       "      <td>...</td>\n",
       "      <td>...</td>\n",
       "      <td>...</td>\n",
       "    </tr>\n",
       "    <tr>\n",
       "      <th>3094</th>\n",
       "      <td>BI</td>\n",
       "      <td>ME</td>\n",
       "      <td>R3</td>\n",
       "      <td>33926.0</td>\n",
       "      <td>2022-01-01 00:00:00.000</td>\n",
       "    </tr>\n",
       "    <tr>\n",
       "      <th>3095</th>\n",
       "      <td>BR</td>\n",
       "      <td>EE</td>\n",
       "      <td>NaN</td>\n",
       "      <td>79980.0</td>\n",
       "      <td>2022-01-01 00:00:00.000</td>\n",
       "    </tr>\n",
       "    <tr>\n",
       "      <th>3096</th>\n",
       "      <td>BR</td>\n",
       "      <td>EE</td>\n",
       "      <td>R2</td>\n",
       "      <td>22100.0</td>\n",
       "      <td>2022-01-01 00:00:00.000</td>\n",
       "    </tr>\n",
       "    <tr>\n",
       "      <th>3097</th>\n",
       "      <td>BR</td>\n",
       "      <td>EE</td>\n",
       "      <td>R3</td>\n",
       "      <td>57880.0</td>\n",
       "      <td>2022-01-01 00:00:00.000</td>\n",
       "    </tr>\n",
       "    <tr>\n",
       "      <th>3098</th>\n",
       "      <td>BR</td>\n",
       "      <td>MI</td>\n",
       "      <td>R6</td>\n",
       "      <td>1818.0</td>\n",
       "      <td>2022-01-01 00:00:00.000</td>\n",
       "    </tr>\n",
       "  </tbody>\n",
       "</table>\n",
       "<p>3098 rows × 5 columns</p>\n",
       "</div>"
      ],
      "text/plain": [
       "     Empresa Canal_Distribuicao Mercado Volume_Venda                     Data\n",
       "1         BC                NaN     NaN      10070.0  2015-01-01 00:00:00.000\n",
       "2         BC                NaN     NaN       9434.0  2015-02-01 00:00:00.000\n",
       "3         BC                NaN     NaN      14882.0  2015-03-01 00:00:00.000\n",
       "4         BC                NaN     NaN      12618.0  2015-04-01 00:00:00.000\n",
       "5         BC                NaN     NaN       8516.0  2015-05-01 00:00:00.000\n",
       "...      ...                ...     ...          ...                      ...\n",
       "3094      BI                 ME      R3      33926.0  2022-01-01 00:00:00.000\n",
       "3095      BR                 EE     NaN      79980.0  2022-01-01 00:00:00.000\n",
       "3096      BR                 EE      R2      22100.0  2022-01-01 00:00:00.000\n",
       "3097      BR                 EE      R3      57880.0  2022-01-01 00:00:00.000\n",
       "3098      BR                 MI      R6       1818.0  2022-01-01 00:00:00.000\n",
       "\n",
       "[3098 rows x 5 columns]"
      ]
     },
     "execution_count": 10,
     "metadata": {},
     "output_type": "execute_result"
    }
   ],
   "source": [
    "# Substituindo os nomes dos mercados, para omitir informações possivelmente confidenciais:\n",
    "df['Mercado'] = df['Mercado'].replace(['Am.Norte','Ásia','Europa','Am.Latina','Japão','Brasil'],\n",
    "                                      [   'R1'   , 'R2' ,  'R3'  ,    'R4'   ,  'R5' ,  'R6'  ])\n",
    "df"
   ]
  },
  {
   "cell_type": "markdown",
   "id": "e91750a7",
   "metadata": {},
   "source": [
    "### 2.1.1 - Agrupamento de Mercados, por Canais, por Empresa"
   ]
  },
  {
   "cell_type": "code",
   "execution_count": 11,
   "id": "a9eb311d",
   "metadata": {},
   "outputs": [
    {
     "name": "stdout",
     "output_type": "stream",
     "text": [
      "BC\n"
     ]
    },
    {
     "data": {
      "text/html": [
       "<div>\n",
       "<style scoped>\n",
       "    .dataframe tbody tr th:only-of-type {\n",
       "        vertical-align: middle;\n",
       "    }\n",
       "\n",
       "    .dataframe tbody tr th {\n",
       "        vertical-align: top;\n",
       "    }\n",
       "\n",
       "    .dataframe thead th {\n",
       "        text-align: right;\n",
       "    }\n",
       "</style>\n",
       "<table border=\"1\" class=\"dataframe\">\n",
       "  <thead>\n",
       "    <tr style=\"text-align: right;\">\n",
       "      <th></th>\n",
       "      <th></th>\n",
       "      <th>Qtd</th>\n",
       "    </tr>\n",
       "    <tr>\n",
       "      <th>Canal_Distribuicao</th>\n",
       "      <th>Mercado</th>\n",
       "      <th></th>\n",
       "    </tr>\n",
       "  </thead>\n",
       "  <tbody>\n",
       "    <tr>\n",
       "      <th rowspan=\"2\" valign=\"top\">ME</th>\n",
       "      <th>NaN</th>\n",
       "      <td>121</td>\n",
       "    </tr>\n",
       "    <tr>\n",
       "      <th>R1</th>\n",
       "      <td>193</td>\n",
       "    </tr>\n",
       "    <tr>\n",
       "      <th>NaN</th>\n",
       "      <th>NaN</th>\n",
       "      <td>121</td>\n",
       "    </tr>\n",
       "  </tbody>\n",
       "</table>\n",
       "</div>"
      ],
      "text/plain": [
       "                            Qtd\n",
       "Canal_Distribuicao Mercado     \n",
       "ME                 NaN      121\n",
       "                   R1       193\n",
       "NaN                NaN      121"
      ]
     },
     "metadata": {},
     "output_type": "display_data"
    },
    {
     "name": "stdout",
     "output_type": "stream",
     "text": [
      "BI\n"
     ]
    },
    {
     "data": {
      "text/html": [
       "<div>\n",
       "<style scoped>\n",
       "    .dataframe tbody tr th:only-of-type {\n",
       "        vertical-align: middle;\n",
       "    }\n",
       "\n",
       "    .dataframe tbody tr th {\n",
       "        vertical-align: top;\n",
       "    }\n",
       "\n",
       "    .dataframe thead th {\n",
       "        text-align: right;\n",
       "    }\n",
       "</style>\n",
       "<table border=\"1\" class=\"dataframe\">\n",
       "  <thead>\n",
       "    <tr style=\"text-align: right;\">\n",
       "      <th></th>\n",
       "      <th></th>\n",
       "      <th>Qtd</th>\n",
       "    </tr>\n",
       "    <tr>\n",
       "      <th>Canal_Distribuicao</th>\n",
       "      <th>Mercado</th>\n",
       "      <th></th>\n",
       "    </tr>\n",
       "  </thead>\n",
       "  <tbody>\n",
       "    <tr>\n",
       "      <th rowspan=\"4\" valign=\"top\">ME</th>\n",
       "      <th>NaN</th>\n",
       "      <td>121</td>\n",
       "    </tr>\n",
       "    <tr>\n",
       "      <th>R2</th>\n",
       "      <td>193</td>\n",
       "    </tr>\n",
       "    <tr>\n",
       "      <th>R3</th>\n",
       "      <td>193</td>\n",
       "    </tr>\n",
       "    <tr>\n",
       "      <th>R5</th>\n",
       "      <td>65</td>\n",
       "    </tr>\n",
       "    <tr>\n",
       "      <th>NaN</th>\n",
       "      <th>NaN</th>\n",
       "      <td>121</td>\n",
       "    </tr>\n",
       "  </tbody>\n",
       "</table>\n",
       "</div>"
      ],
      "text/plain": [
       "                            Qtd\n",
       "Canal_Distribuicao Mercado     \n",
       "ME                 NaN      121\n",
       "                   R2       193\n",
       "                   R3       193\n",
       "                   R5        65\n",
       "NaN                NaN      121"
      ]
     },
     "metadata": {},
     "output_type": "display_data"
    },
    {
     "name": "stdout",
     "output_type": "stream",
     "text": [
      "BR\n"
     ]
    },
    {
     "data": {
      "text/html": [
       "<div>\n",
       "<style scoped>\n",
       "    .dataframe tbody tr th:only-of-type {\n",
       "        vertical-align: middle;\n",
       "    }\n",
       "\n",
       "    .dataframe tbody tr th {\n",
       "        vertical-align: top;\n",
       "    }\n",
       "\n",
       "    .dataframe thead th {\n",
       "        text-align: right;\n",
       "    }\n",
       "</style>\n",
       "<table border=\"1\" class=\"dataframe\">\n",
       "  <thead>\n",
       "    <tr style=\"text-align: right;\">\n",
       "      <th></th>\n",
       "      <th></th>\n",
       "      <th>Qtd</th>\n",
       "    </tr>\n",
       "    <tr>\n",
       "      <th>Canal_Distribuicao</th>\n",
       "      <th>Mercado</th>\n",
       "      <th></th>\n",
       "    </tr>\n",
       "  </thead>\n",
       "  <tbody>\n",
       "    <tr>\n",
       "      <th rowspan=\"6\" valign=\"top\">EE</th>\n",
       "      <th>NaN</th>\n",
       "      <td>121</td>\n",
       "    </tr>\n",
       "    <tr>\n",
       "      <th>R1</th>\n",
       "      <td>144</td>\n",
       "    </tr>\n",
       "    <tr>\n",
       "      <th>R2</th>\n",
       "      <td>193</td>\n",
       "    </tr>\n",
       "    <tr>\n",
       "      <th>R3</th>\n",
       "      <td>145</td>\n",
       "    </tr>\n",
       "    <tr>\n",
       "      <th>R4</th>\n",
       "      <td>131</td>\n",
       "    </tr>\n",
       "    <tr>\n",
       "      <th>R5</th>\n",
       "      <td>168</td>\n",
       "    </tr>\n",
       "    <tr>\n",
       "      <th>ME</th>\n",
       "      <th>NaN</th>\n",
       "      <td>121</td>\n",
       "    </tr>\n",
       "    <tr>\n",
       "      <th>MI</th>\n",
       "      <th>R6</th>\n",
       "      <td>169</td>\n",
       "    </tr>\n",
       "    <tr>\n",
       "      <th>NaN</th>\n",
       "      <th>NaN</th>\n",
       "      <td>121</td>\n",
       "    </tr>\n",
       "  </tbody>\n",
       "</table>\n",
       "</div>"
      ],
      "text/plain": [
       "                            Qtd\n",
       "Canal_Distribuicao Mercado     \n",
       "EE                 NaN      121\n",
       "                   R1       144\n",
       "                   R2       193\n",
       "                   R3       145\n",
       "                   R4       131\n",
       "                   R5       168\n",
       "ME                 NaN      121\n",
       "MI                 R6       169\n",
       "NaN                NaN      121"
      ]
     },
     "metadata": {},
     "output_type": "display_data"
    },
    {
     "name": "stdout",
     "output_type": "stream",
     "text": [
      "BT\n"
     ]
    },
    {
     "data": {
      "text/html": [
       "<div>\n",
       "<style scoped>\n",
       "    .dataframe tbody tr th:only-of-type {\n",
       "        vertical-align: middle;\n",
       "    }\n",
       "\n",
       "    .dataframe tbody tr th {\n",
       "        vertical-align: top;\n",
       "    }\n",
       "\n",
       "    .dataframe thead th {\n",
       "        text-align: right;\n",
       "    }\n",
       "</style>\n",
       "<table border=\"1\" class=\"dataframe\">\n",
       "  <thead>\n",
       "    <tr style=\"text-align: right;\">\n",
       "      <th></th>\n",
       "      <th></th>\n",
       "      <th>Qtd</th>\n",
       "    </tr>\n",
       "    <tr>\n",
       "      <th>Canal_Distribuicao</th>\n",
       "      <th>Mercado</th>\n",
       "      <th></th>\n",
       "    </tr>\n",
       "  </thead>\n",
       "  <tbody>\n",
       "    <tr>\n",
       "      <th rowspan=\"4\" valign=\"top\">ME</th>\n",
       "      <th>NaN</th>\n",
       "      <td>103</td>\n",
       "    </tr>\n",
       "    <tr>\n",
       "      <th>R2</th>\n",
       "      <td>173</td>\n",
       "    </tr>\n",
       "    <tr>\n",
       "      <th>R4</th>\n",
       "      <td>127</td>\n",
       "    </tr>\n",
       "    <tr>\n",
       "      <th>R5</th>\n",
       "      <td>151</td>\n",
       "    </tr>\n",
       "    <tr>\n",
       "      <th>NaN</th>\n",
       "      <th>NaN</th>\n",
       "      <td>103</td>\n",
       "    </tr>\n",
       "  </tbody>\n",
       "</table>\n",
       "</div>"
      ],
      "text/plain": [
       "                            Qtd\n",
       "Canal_Distribuicao Mercado     \n",
       "ME                 NaN      103\n",
       "                   R2       173\n",
       "                   R4       127\n",
       "                   R5       151\n",
       "NaN                NaN      103"
      ]
     },
     "metadata": {},
     "output_type": "display_data"
    }
   ],
   "source": [
    "group_by_empresa = df.groupby(['Empresa'])\n",
    "group_by_canal = df.groupby(['Canal_Distribuicao'])\n",
    "group_by_mercado = df.groupby(['Mercado'])\n",
    "\n",
    "companies_set = [] \n",
    "# .sort_values(by=['Data_Ocorrencia'])\n",
    "for company_name in empresas:\n",
    "    temp_df = group_by_empresa.get_group(company_name)\n",
    "    #del  empresa_df['index']\n",
    "    companies_set.append((company_name, temp_df))\n",
    "\n",
    "for tpl in companies_set:\n",
    "    print(tpl[0])\n",
    "    group = tpl[1].groupby(['Canal_Distribuicao','Mercado']).size()\n",
    "    group = group.to_frame(name = 'Qtd')\n",
    "    display(group)\n"
   ]
  },
  {
   "cell_type": "markdown",
   "id": "74ef575a",
   "metadata": {},
   "source": [
    "## 2.2 - Médias de Volume de Vendas"
   ]
  },
  {
   "cell_type": "markdown",
   "id": "bc89dfc0",
   "metadata": {},
   "source": [
    "### 2.2.1 - Mercado/Ano/Região"
   ]
  },
  {
   "cell_type": "markdown",
   "id": "95ce8d69",
   "metadata": {},
   "source": [
    "#### BC - ME - R1"
   ]
  },
  {
   "cell_type": "code",
   "execution_count": 12,
   "id": "4fa85964",
   "metadata": {},
   "outputs": [
    {
     "data": {
      "image/png": "[encoded data removed]",
      "text/plain": [
       "<Figure size 432x288 with 1 Axes>"
      ]
     },
     "metadata": {
      "needs_background": "light"
     },
     "output_type": "display_data"
    }
   ],
   "source": [
    "cmp_df = companies_set[0][1] # Empresa BC (1ª empresa)\n",
    "cmp_df = cmp_df.sort_values(by='Data')\n",
    "cmp_df = cmp_df[((cmp_df.Empresa != \"NaN\") & (cmp_df.Canal_Distribuicao != \"NaN\") & (cmp_df.Mercado == \"NaN\"))] # Só tem uma região e um mercado\n",
    "\n",
    "means_bc_me_r1 = []\n",
    "year = 2012\n",
    "while year < 2022: # so tem a entrada de janeiro no ano de 2022;\n",
    "    query = cmp_df[((cmp_df.Data >= str(year)) & (cmp_df.Data < str(year+1)))]\n",
    "    mean = np.round(query['Volume_Venda'].mean(),4)\n",
    "    means_bc_me_r1.append(mean)\n",
    "    year += 1\n",
    "\n",
    "means = means_bc_me_r1\n",
    "bars = ['2012','2013','2014','2015','2016','2017','2018','2019','2020','2021']\n",
    "y_pos = np.arange(len(bars))\n",
    "plt.title(\"Média do Volume de Vendas/ano | \"+ companies_set[0][0]+\" - ME - R1\")\n",
    "plt.plot(y_pos, means)\n",
    "plt.xticks(y_pos, bars)\n",
    "plt.show()"
   ]
  },
  {
   "cell_type": "markdown",
   "id": "1ead2cdd",
   "metadata": {},
   "source": [
    "##### BI - ME - R2"
   ]
  },
  {
   "cell_type": "code",
   "execution_count": 13,
   "id": "d4bff371",
   "metadata": {},
   "outputs": [
    {
     "data": {
      "image/png": "[encoded data removed]",
      "text/plain": [
       "<Figure size 432x288 with 1 Axes>"
      ]
     },
     "metadata": {
      "needs_background": "light"
     },
     "output_type": "display_data"
    }
   ],
   "source": [
    "cmp_df = companies_set[1][1]\n",
    "cmp_df = cmp_df[(cmp_df.Canal_Distribuicao == 'ME') & (cmp_df.Mercado == \"R2\") ]\n",
    "cmp_df = cmp_df.sort_values(by='Data')\n",
    "cmp_df = cmp_df[((cmp_df.Empresa != \"NaN\") & (cmp_df.Canal_Distribuicao != \"NaN\") & (cmp_df.Mercado != \"NaN\") & (cmp_df.Volume_Venda != 0))] # Tem zeros e Mercado tem valor NaN\n",
    "cmp_df = cmp_df.drop_duplicates('Volume_Venda')\n",
    "\n",
    "means_bi_me_r2 = []\n",
    "year = 2012\n",
    "while year < 2022: # so tem a entrada de janeiro no ano de 2022;\n",
    "    query = cmp_df[((cmp_df.Data >= str(year)) & (cmp_df.Data < str(year+1)))]\n",
    "    mean = np.round(query['Volume_Venda'].mean(),4)\n",
    "    means_bi_me_r2.append(mean)\n",
    "    year += 1\n",
    "\n",
    "means = means_bi_me_r2\n",
    "bars = ['2012','2013','2014','2015','2016','2017','2018','2019','2020','2021']\n",
    "y_pos = np.arange(len(bars))\n",
    "plt.title(\"Média do Volume de Vendas/ano | \"+ companies_set[1][0]+\" - ME - R2\")\n",
    "plt.plot(y_pos, means)\n",
    "plt.xticks(y_pos, bars)\n",
    "plt.show()"
   ]
  },
  {
   "cell_type": "markdown",
   "id": "a69f5ac4",
   "metadata": {},
   "source": [
    "##### BI - ME - R3"
   ]
  },
  {
   "cell_type": "code",
   "execution_count": 14,
   "id": "03d2800b",
   "metadata": {},
   "outputs": [
    {
     "data": {
      "image/png": "[encoded data removed]",
      "text/plain": [
       "<Figure size 432x288 with 1 Axes>"
      ]
     },
     "metadata": {
      "needs_background": "light"
     },
     "output_type": "display_data"
    }
   ],
   "source": [
    "cmp_df = companies_set[1][1] \n",
    "cmp_df = cmp_df[(cmp_df.Canal_Distribuicao == 'ME') & (cmp_df.Mercado == \"R3\") ]\n",
    "cmp_df = cmp_df.sort_values(by='Data')\n",
    "cmp_df['Volume_Venda'] = cmp_df['Volume_Venda'].astype(float,errors = 'raise')\n",
    "cmp_df = cmp_df[((cmp_df.Empresa != \"NaN\") & (cmp_df.Canal_Distribuicao != \"NaN\") & (cmp_df.Mercado != \"NaN\") & (cmp_df.Volume_Venda != 0))] # tem 10 zeros e Mercado nao tem NaNs\n",
    "cmp_df = cmp_df.sort_values(by='Volume_Venda').drop_duplicates('Data',keep='last').reset_index(0)\n",
    "cmp_df = cmp_df.sort_values(by='Data')\n",
    "\n",
    "means_bi_me_r3 = []\n",
    "year = 2012\n",
    "while year < 2022: \n",
    "    query = cmp_df[((cmp_df.Data >= str(year)) & (cmp_df.Data < str(year+1)))]\n",
    "    mean = np.round(query['Volume_Venda'].mean(),4)\n",
    "    means_bi_me_r3.append(mean)\n",
    "    year += 1\n",
    "\n",
    "means = means_bi_me_r3\n",
    "bars = ['2012','2013','2014','2015','2016','2017','2018','2019','2020','2021']\n",
    "y_pos = np.arange(len(bars))\n",
    "plt.title(\"Média do Volume de Vendas/ano | \"+ companies_set[1][0]+\" - ME - R3\")\n",
    "plt.plot(y_pos, means)\n",
    "plt.xticks(y_pos, bars)\n",
    "plt.show()"
   ]
  },
  {
   "cell_type": "markdown",
   "id": "cefe5e8c",
   "metadata": {},
   "source": [
    "##### BI - ME - R5"
   ]
  },
  {
   "cell_type": "code",
   "execution_count": 15,
   "metadata": {},
   "outputs": [
    {
     "data": {
      "image/png": "[encoded data removed]",
      "text/plain": [
       "<Figure size 432x288 with 1 Axes>"
      ]
     },
     "metadata": {
      "needs_background": "light"
     },
     "output_type": "display_data"
    }
   ],
   "source": [
    "cmp_df = companies_set[1][1]\n",
    "cmp_df = cmp_df[(cmp_df.Canal_Distribuicao == 'ME') & (cmp_df.Mercado == \"R5\") ]\n",
    "cmp_df = cmp_df.sort_values(by='Data') # So começa a ter valores de ocorrencia a partir de \"Agosto 2016\"; (IMPORTANTE!) Não tem caso de 2022\n",
    "cmp_df = cmp_df[((cmp_df.Empresa != \"NaN\") & (cmp_df.Canal_Distribuicao != \"NaN\") & (cmp_df.Mercado != \"NaN\"))] # não tem zeros e mercado nao tem NaN;\n",
    "\n",
    "means_bi_me_r5 = []\n",
    "year = 2016\n",
    "while year < 2022: \n",
    "    query = cmp_df[((cmp_df.Data >= str(year)) & (cmp_df.Data < str(year+1)))]\n",
    "    mean = np.round(query['Volume_Venda'].mean(),4)\n",
    "    means_bi_me_r5.append(mean)\n",
    "    year += 1\n",
    "\n",
    "means = means_bi_me_r5\n",
    "bars = ['2016','2017','2018','2019','2020','2021']\n",
    "y_pos = np.arange(len(bars))\n",
    "plt.title(\"Média do Volume de Vendas/ano | \"+ companies_set[1][0]+\" - ME - R5\")\n",
    "plt.plot(y_pos, means)\n",
    "plt.xticks(y_pos, bars)\n",
    "plt.show()"
   ]
  },
  {
   "cell_type": "markdown",
   "id": "22672f82",
   "metadata": {},
   "source": [
    "##### BR - EE - R1"
   ]
  },
  {
   "cell_type": "code",
   "execution_count": 16,
   "id": "d27d03bd",
   "metadata": {},
   "outputs": [
    {
     "data": {
      "image/png": "[encoded data removed]",
      "text/plain": [
       "<Figure size 432x288 with 1 Axes>"
      ]
     },
     "metadata": {
      "needs_background": "light"
     },
     "output_type": "display_data"
    }
   ],
   "source": [
    "cmp_df = companies_set[2][1]\n",
    "cmp_df = cmp_df[(cmp_df.Canal_Distribuicao == 'EE') & (cmp_df.Mercado == \"R1\") ]\n",
    "cmp_df = cmp_df[((cmp_df.Empresa != \"NaN\") & (cmp_df.Canal_Distribuicao != \"NaN\") & (cmp_df.Mercado != \"NaN\"))]\n",
    "cmp_df = cmp_df.sort_values(by='Volume_Venda').reset_index()\n",
    "cmp_df = cmp_df.drop_duplicates('Data',keep='last').sort_values(by='Data')\n",
    "\n",
    "means_br_ee_r1 = []\n",
    "year = 2012\n",
    "while year < 2022: \n",
    "    query = cmp_df[((cmp_df.Data >= str(year)) & (cmp_df.Data < str(year+1)))]\n",
    "    mean = np.round(query['Volume_Venda'].mean(),4)\n",
    "    means_br_ee_r1.append(mean)\n",
    "    year += 1\n",
    "\n",
    "means = means_br_ee_r1\n",
    "bars = ['2012','2013','2014','2015','2016','2017','2018','2019','2020','2021']\n",
    "y_pos = np.arange(len(bars))\n",
    "plt.title(\"Média do Volume de Vendas/ano | \"+ companies_set[2][0]+\" - EE - R1\")\n",
    "plt.plot(y_pos, means)\n",
    "plt.xticks(y_pos, bars)\n",
    "plt.show()"
   ]
  },
  {
   "cell_type": "markdown",
   "id": "f7cf596c",
   "metadata": {},
   "source": [
    "##### BR - EE - R2"
   ]
  },
  {
   "cell_type": "code",
   "execution_count": 17,
   "id": "1b3c5559",
   "metadata": {},
   "outputs": [
    {
     "data": {
      "image/png": "[encoded data removed]",
      "text/plain": [
       "<Figure size 432x288 with 1 Axes>"
      ]
     },
     "metadata": {
      "needs_background": "light"
     },
     "output_type": "display_data"
    }
   ],
   "source": [
    "cmp_df = companies_set[2][1]\n",
    "cmp_df = cmp_df[(cmp_df.Canal_Distribuicao == 'EE') & (cmp_df.Mercado == \"R2\") ]\n",
    "cmp_df = cmp_df[((cmp_df.Empresa != \"NaN\") & (cmp_df.Canal_Distribuicao != \"NaN\") & (cmp_df.Mercado != \"NaN\"))]\n",
    "cmp_df = cmp_df.sort_values(by='Volume_Venda').reset_index()\n",
    "cmp_df = cmp_df.drop_duplicates('Data',keep='last').sort_values(by='Data')\n",
    "\n",
    "means_br_ee_r2 = []\n",
    "year = 2012\n",
    "while year < 2022: \n",
    "    query = cmp_df[((cmp_df.Data >= str(year)) & (cmp_df.Data < str(year+1)))]\n",
    "    mean = np.round(query['Volume_Venda'].mean(),4)\n",
    "    means_br_ee_r2.append(mean)\n",
    "    year += 1\n",
    "    \n",
    "means = means_br_ee_r2\n",
    "bars = ['2012','2013','2014','2015','2016','2017','2018','2019','2020','2021']\n",
    "y_pos = np.arange(len(bars))\n",
    "plt.title(\"Média do Volume de Vendas/ano | \"+ companies_set[2][0]+\" - EE - R2\")\n",
    "plt.plot(y_pos, means)\n",
    "plt.xticks(y_pos, bars)\n",
    "plt.show()"
   ]
  },
  {
   "cell_type": "markdown",
   "id": "65e67ad1",
   "metadata": {},
   "source": [
    "##### BR - EE - R3"
   ]
  },
  {
   "cell_type": "code",
   "execution_count": 18,
   "id": "d3bd3b51",
   "metadata": {},
   "outputs": [
    {
     "data": {
      "image/png": "[encoded data removed]",
      "text/plain": [
       "<Figure size 432x288 with 1 Axes>"
      ]
     },
     "metadata": {
      "needs_background": "light"
     },
     "output_type": "display_data"
    }
   ],
   "source": [
    "cmp_df = companies_set[2][1]\n",
    "cmp_df = cmp_df[(cmp_df.Canal_Distribuicao == 'EE') & (cmp_df.Mercado == \"R3\") ]\n",
    "cmp_df = cmp_df[((cmp_df.Empresa != \"NaN\") & (cmp_df.Canal_Distribuicao != \"NaN\") & (cmp_df.Mercado != \"NaN\"))]\n",
    "cmp_df = cmp_df.sort_values(by='Volume_Venda').reset_index()\n",
    "cmp_df = cmp_df.drop_duplicates('Data',keep='last').sort_values(by='Data')\n",
    "\n",
    "means_br_ee_r3 = []\n",
    "year = 2012\n",
    "while year < 2022:\n",
    "    query = cmp_df[((cmp_df.Data >= str(year)) & (cmp_df.Data < str(year+1)))]\n",
    "    mean = np.round(query['Volume_Venda'].mean(),4)\n",
    "    means_br_ee_r3.append(mean)\n",
    "    year += 1\n",
    "    \n",
    "#--- Plotando o Gráfico ---#\n",
    "means = means_br_ee_r3\n",
    "bars = ['2012','2013','2014','2015','2016','2017','2018','2019','2020','2021']\n",
    "y_pos = np.arange(len(bars))\n",
    "plt.title(\"Média do Volume de Vendas/ano | \"+ companies_set[2][0]+\" - EE - R3\")\n",
    "plt.plot(y_pos, means)\n",
    "plt.xticks(y_pos, bars)\n",
    "plt.show()"
   ]
  },
  {
   "cell_type": "markdown",
   "id": "23acda2f",
   "metadata": {},
   "source": [
    "##### BR - EE - R4"
   ]
  },
  {
   "cell_type": "code",
   "execution_count": 19,
   "id": "80467daf",
   "metadata": {},
   "outputs": [
    {
     "data": {
      "image/png": "[encoded data removed]",
      "text/plain": [
       "<Figure size 432x288 with 1 Axes>"
      ]
     },
     "metadata": {
      "needs_background": "light"
     },
     "output_type": "display_data"
    }
   ],
   "source": [
    "cmp_df = companies_set[2][1]\n",
    "cmp_df = cmp_df[(cmp_df.Canal_Distribuicao == 'EE') & (cmp_df.Mercado == \"R4\") ]\n",
    "cmp_df = cmp_df[((cmp_df.Empresa != \"NaN\") & (cmp_df.Canal_Distribuicao != \"NaN\") & (cmp_df.Mercado != \"NaN\"))]\n",
    "cmp_df = cmp_df.sort_values(by='Volume_Venda').reset_index()\n",
    "cmp_df = cmp_df.drop_duplicates('Data',keep='last').sort_values(by='Data')\n",
    "\n",
    "means_br_ee_r4 = []\n",
    "year = 2012\n",
    "while year < 2016: # So tem ate 01 Janeiro de 2016. Desconsiderei 2016;\n",
    "    query = cmp_df[((cmp_df.Data >= str(year)) & (cmp_df.Data < str(year+1)))]\n",
    "    mean = np.round(query['Volume_Venda'].mean(),4)\n",
    "    means_br_ee_r4.append(mean)\n",
    "    year += 1\n",
    "    \n",
    "means = means_br_ee_r4\n",
    "bars = ['2012','2013','2014','2015']\n",
    "y_pos = np.arange(len(bars))\n",
    "plt.title(\"Média do Volume de Vendas/ano | \"+ companies_set[2][0]+\" - EE - R4\")\n",
    "plt.plot(y_pos, means)\n",
    "plt.xticks(y_pos, bars)\n",
    "plt.show()"
   ]
  },
  {
   "cell_type": "markdown",
   "id": "e19100fa",
   "metadata": {},
   "source": [
    "##### BR - EE - R5"
   ]
  },
  {
   "cell_type": "code",
   "execution_count": 20,
   "id": "d2f960fc",
   "metadata": {},
   "outputs": [
    {
     "data": {
      "image/png": "[encoded data removed]",
      "text/plain": [
       "<Figure size 432x288 with 1 Axes>"
      ]
     },
     "metadata": {
      "needs_background": "light"
     },
     "output_type": "display_data"
    }
   ],
   "source": [
    "cmp_df = companies_set[2][1]\n",
    "cmp_df = cmp_df[(cmp_df.Canal_Distribuicao == 'EE') & (cmp_df.Mercado == \"R5\")]\n",
    "cmp_df = cmp_df[((cmp_df.Empresa != \"NaN\") & (cmp_df.Canal_Distribuicao != \"NaN\") & (cmp_df.Mercado != \"NaN\"))] \n",
    "cmp_df = cmp_df.sort_values(by='Volume_Venda').reset_index()\n",
    "cmp_df = cmp_df.drop_duplicates('Data',keep='last').sort_values(by='Data')\n",
    "\n",
    "means_br_ee_r5 = []\n",
    "year = 2012\n",
    "while year < 2022:\n",
    "    query = cmp_df[((cmp_df.Data >= str(year)) & (cmp_df.Data < str(year+1)))]\n",
    "    mean = np.round(query['Volume_Venda'].mean(),4)\n",
    "    means_br_ee_r5.append(mean)\n",
    "    year += 1\n",
    "\n",
    "means = means_br_ee_r5\n",
    "bars = ['2012','2013','2014','2015','2016','2017','2018','2019','2020','2021']\n",
    "y_pos = np.arange(len(bars))\n",
    "plt.title(\"Média do Volume de Vendas/ano | \"+ companies_set[2][0]+\" - EE - R5\")\n",
    "plt.plot(y_pos, means)\n",
    "plt.xticks(y_pos, bars)\n",
    "plt.show()"
   ]
  },
  {
   "cell_type": "markdown",
   "id": "34711422",
   "metadata": {},
   "source": [
    "##### BR - ME - \"sem região\""
   ]
  },
  {
   "cell_type": "code",
   "execution_count": 21,
   "id": "4fd83caf",
   "metadata": {},
   "outputs": [
    {
     "data": {
      "image/png": "[encoded data removed]",
      "text/plain": [
       "<Figure size 432x288 with 1 Axes>"
      ]
     },
     "metadata": {
      "needs_background": "light"
     },
     "output_type": "display_data"
    }
   ],
   "source": [
    "cmp_df = companies_set[2][1]\n",
    "cmp_df = cmp_df[(cmp_df.Canal_Distribuicao == 'ME')]\n",
    "cmp_df = cmp_df[((cmp_df.Empresa != \"NaN\") & (cmp_df.Canal_Distribuicao != \"NaN\") & (cmp_df.Mercado == \"NaN\"))] \n",
    "cmp_df = cmp_df.sort_values(by='Volume_Venda').reset_index()\n",
    "cmp_df = cmp_df.drop_duplicates('Data',keep='last').sort_values(by='Data')\n",
    "\n",
    "means_br_me = []\n",
    "year = 2012\n",
    "while year < 2022:\n",
    "    query = cmp_df[((cmp_df.Data >= str(year)) & (cmp_df.Data < str(year+1)))]\n",
    "    mean = np.round(query['Volume_Venda'].mean(),4)\n",
    "    means_br_me.append(mean)\n",
    "    year += 1\n",
    "\n",
    "means = means_br_me\n",
    "bars = ['2012','2013','2014','2015','2016','2017','2018','2019','2020','2021']\n",
    "y_pos = np.arange(len(bars))\n",
    "plt.title(\"Média do Volume de Vendas/ano | \"+ companies_set[2][0]+\" - ME - sem região\")\n",
    "plt.plot(y_pos, means)\n",
    "plt.xticks(y_pos, bars)\n",
    "plt.show()"
   ]
  },
  {
   "cell_type": "markdown",
   "id": "27e837a0",
   "metadata": {},
   "source": [
    "##### BR - MI - R6"
   ]
  },
  {
   "cell_type": "code",
   "execution_count": 22,
   "id": "24589416",
   "metadata": {},
   "outputs": [
    {
     "data": {
      "image/png": "[encoded data removed]",
      "text/plain": [
       "<Figure size 432x288 with 1 Axes>"
      ]
     },
     "metadata": {
      "needs_background": "light"
     },
     "output_type": "display_data"
    }
   ],
   "source": [
    "cmp_df = companies_set[2][1]\n",
    "cmp_df = cmp_df[((cmp_df.Canal_Distribuicao == 'MI') & (cmp_df.Mercado == 'R6'))]\n",
    "cmp_df = cmp_df[((cmp_df.Empresa != \"NaN\") & (cmp_df.Canal_Distribuicao != \"NaN\") & (cmp_df.Mercado != \"NaN\"))] \n",
    "cmp_df = cmp_df.sort_values(by='Volume_Venda').reset_index()\n",
    "cmp_df = cmp_df.drop_duplicates('Data',keep='last').sort_values(by='Data')\n",
    "\n",
    "means_br_mi_r6 = []\n",
    "year = 2012\n",
    "while year < 2022:\n",
    "    query = cmp_df[((cmp_df.Data >= str(year)) & (cmp_df.Data < str(year+1)))]\n",
    "    mean = np.round(query['Volume_Venda'].mean(),4)\n",
    "    means_br_mi_r6.append(mean)\n",
    "    year += 1\n",
    "\n",
    "means = means_br_mi_r6\n",
    "bars = ['2012','2013','2014','2015','2016','2017','2018','2019','2020','2021']\n",
    "y_pos = np.arange(len(bars))\n",
    "plt.title(\"Média do Volume de Vendas/ano | \"+ companies_set[2][0]+\" - MI - R6\")\n",
    "plt.plot(y_pos, means)\n",
    "plt.xticks(y_pos, bars)\n",
    "plt.show()"
   ]
  },
  {
   "cell_type": "markdown",
   "id": "867ddd1b",
   "metadata": {},
   "source": [
    "##### BT - ME - R2"
   ]
  },
  {
   "cell_type": "code",
   "execution_count": 23,
   "id": "6498a009",
   "metadata": {},
   "outputs": [
    {
     "data": {
      "image/png": "[encoded data removed]",
      "text/plain": [
       "<Figure size 432x288 with 1 Axes>"
      ]
     },
     "metadata": {
      "needs_background": "light"
     },
     "output_type": "display_data"
    }
   ],
   "source": [
    "cmp_df = companies_set[3][1]\n",
    "cmp_df = cmp_df[((cmp_df.Canal_Distribuicao == 'ME') & (cmp_df.Mercado == 'R2'))] # só vai ate 07/2020\n",
    "cmp_df = cmp_df[((cmp_df.Empresa != \"NaN\") & (cmp_df.Canal_Distribuicao != \"NaN\") & (cmp_df.Mercado != \"NaN\"))] \n",
    "cmp_df = cmp_df.sort_values(by='Volume_Venda').reset_index()\n",
    "cmp_df = cmp_df.drop_duplicates('Data',keep='last').sort_values(by='Data')\n",
    "\n",
    "means_bt_me_r2 = []\n",
    "year = 2012\n",
    "while year < 2021:\n",
    "    query = cmp_df[((cmp_df.Data >= str(year)) & (cmp_df.Data < str(year+1)))]\n",
    "    mean = np.round(query['Volume_Venda'].mean(),4)\n",
    "    means_bt_me_r2.append(mean)\n",
    "    year += 1\n",
    "\n",
    "means = means_bt_me_r2\n",
    "bars = ['2012','2013','2014','2015','2016','2017','2018','2019','2020']\n",
    "y_pos = np.arange(len(bars))\n",
    "plt.title(\"Média do Volume de Vendas/ano | \"+ companies_set[3][0]+\" - ME - R2\")\n",
    "plt.plot(y_pos, means)\n",
    "plt.xticks(y_pos, bars)\n",
    "plt.show()"
   ]
  },
  {
   "cell_type": "markdown",
   "id": "af5a6bcb",
   "metadata": {},
   "source": [
    "##### BT - ME - R4"
   ]
  },
  {
   "cell_type": "code",
   "execution_count": 24,
   "id": "70e91c60",
   "metadata": {},
   "outputs": [
    {
     "data": {
      "image/png": "[encoded data removed]",
      "text/plain": [
       "<Figure size 432x288 with 1 Axes>"
      ]
     },
     "metadata": {
      "needs_background": "light"
     },
     "output_type": "display_data"
    }
   ],
   "source": [
    "cmp_df = companies_set[3][1]\n",
    "cmp_df = cmp_df[((cmp_df.Canal_Distribuicao == 'ME') & (cmp_df.Mercado == 'R4'))] # só vai ate 07/2020\n",
    "cmp_df = cmp_df[((cmp_df.Empresa != \"NaN\") & (cmp_df.Canal_Distribuicao != \"NaN\") & (cmp_df.Mercado != \"NaN\"))] \n",
    "cmp_df = cmp_df.sort_values(by='Volume_Venda').reset_index()\n",
    "cmp_df = cmp_df.drop_duplicates('Data',keep='last').sort_values(by='Data')\n",
    "\n",
    "means_bt_me_r4 = []\n",
    "year = 2012\n",
    "while year < 2021:\n",
    "    query = cmp_df[((cmp_df.Data >= str(year)) & (cmp_df.Data < str(year+1)))]\n",
    "    mean = np.round(query['Volume_Venda'].mean(),4)\n",
    "    means_bt_me_r4.append(mean)\n",
    "    year += 1\n",
    "\n",
    "means = means_bt_me_r4\n",
    "bars = ['2012','2013','2014','2015','2016','2017','2018','2019','2020']\n",
    "y_pos = np.arange(len(bars))\n",
    "\n",
    "plt.title(\"Média do Volume de Vendas/ano | \"+ companies_set[3][0]+\" - ME - R4\")\n",
    "plt.plot(y_pos, means)\n",
    "plt.xticks(y_pos, bars)\n",
    "plt.show()"
   ]
  },
  {
   "cell_type": "markdown",
   "id": "53686d14",
   "metadata": {},
   "source": [
    "##### BT - ME - R5"
   ]
  },
  {
   "cell_type": "code",
   "execution_count": 25,
   "id": "756604db",
   "metadata": {},
   "outputs": [
    {
     "data": {
      "image/png": "[encoded data removed]",
      "text/plain": [
       "<Figure size 432x288 with 1 Axes>"
      ]
     },
     "metadata": {
      "needs_background": "light"
     },
     "output_type": "display_data"
    }
   ],
   "source": [
    "cmp_df = companies_set[3][1]\n",
    "cmp_df = cmp_df[((cmp_df.Canal_Distribuicao == 'ME') & (cmp_df.Mercado == 'R5'))] # só vai ate 07/2020\n",
    "cmp_df = cmp_df[((cmp_df.Empresa != \"NaN\") & (cmp_df.Canal_Distribuicao != \"NaN\") & (cmp_df.Mercado != \"NaN\"))] \n",
    "cmp_df = cmp_df.sort_values(by='Volume_Venda').reset_index()\n",
    "cmp_df = cmp_df.drop_duplicates('Data',keep='last').sort_values(by='Data')\n",
    "\n",
    "means_bt_me_r5 = []\n",
    "year = 2012\n",
    "while year < 2021:\n",
    "    query = cmp_df[((cmp_df.Data >= str(year)) & (cmp_df.Data < str(year+1)))]\n",
    "    mean = np.round(query['Volume_Venda'].mean(),4)\n",
    "    means_bt_me_r5.append(mean)\n",
    "    year += 1\n",
    "\n",
    "means = means_bt_me_r5\n",
    "bars = ['2012','2013','2014','2015','2016','2017','2018','2019','2020']\n",
    "y_pos = np.arange(len(bars))\n",
    "\n",
    "plt.title(\"Média do Volume de Vendas/ano | \"+ companies_set[3][0]+\" - ME - R5\")\n",
    "plt.plot(y_pos, means)\n",
    "plt.xticks(y_pos, bars)\n",
    "plt.show()"
   ]
  },
  {
   "cell_type": "markdown",
   "id": "534bd198",
   "metadata": {},
   "source": [
    "### 2.2.2 - Canal/Ano e Canal/Trimestre"
   ]
  },
  {
   "cell_type": "markdown",
   "id": "2fbb1c8f",
   "metadata": {},
   "source": [
    "## 2.3 - Distribuição de Vendas"
   ]
  },
  {
   "cell_type": "code",
   "execution_count": null,
   "id": "116da827",
   "metadata": {},
   "outputs": [],
   "source": []
  }
 ],
 "metadata": {
  "interpreter": {
   "hash": "9fd3c9755c88d523bdf6238348479253c53214824f1a45d81a58b4bf49ca8b06"
  },
  "kernelspec": {
   "display_name": "Python 3.10.4 ('venv': venv)",
   "language": "python",
   "name": "python3"
  },
  "language_info": {
   "codemirror_mode": {
    "name": "ipython",
    "version": 3
   },
   "file_extension": ".py",
   "mimetype": "text/x-python",
   "name": "python",
   "nbconvert_exporter": "python",
   "pygments_lexer": "ipython3",
   "version": "3.10.5"
  }
 },
 "nbformat": 4,
 "nbformat_minor": 5
}
