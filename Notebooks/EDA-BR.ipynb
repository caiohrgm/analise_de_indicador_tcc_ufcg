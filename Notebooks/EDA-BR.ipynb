{
 "cells": [
  {
   "cell_type": "code",
   "execution_count": 1,
   "id": "e6b8edaa",
   "metadata": {},
   "outputs": [],
   "source": [
    "import pandas as pd\n",
    "import numpy as np\n",
    "import warnings\n",
    "import seaborn as sns\n",
    "import matplotlib.pyplot as plt\n",
    "from matplotlib.pyplot import figure\n",
    "\n",
    "global companies_set \n",
    "\n",
    "warnings.filterwarnings('ignore')"
   ]
  },
  {
   "cell_type": "markdown",
   "id": "5dcf4f4b",
   "metadata": {},
   "source": [
    "# 1 - Pré-Processamento"
   ]
  },
  {
   "cell_type": "markdown",
   "id": "3ac78a9d",
   "metadata": {},
   "source": [
    "## 1.1 - Acessando planilha de dataset original"
   ]
  },
  {
   "cell_type": "code",
   "execution_count": 2,
   "id": "97bf584d",
   "metadata": {},
   "outputs": [],
   "source": [
    "path = r\"D:\\Documentos_D\\UFCG\\2021.2e\\TCC\\Project\\analise-de-indicador-tcc-ufcg\\Data\\indicadores_Siteware.csv\"\n",
    "base_df = pd.read_csv(path,sep =\",\")"
   ]
  },
  {
   "cell_type": "markdown",
   "id": "c0bc65bd",
   "metadata": {},
   "source": [
    "## 1.2 - Filtrando e renomeando apenas as colunas necessárias para análise"
   ]
  },
  {
   "cell_type": "code",
   "execution_count": 3,
   "id": "2dc1f27f",
   "metadata": {},
   "outputs": [],
   "source": [
    "df = base_df[['Indicador','Dim1_Membro_Mome','Dim2_Membro_Mome','Dim3_Membro_Mome','VLR_Ocorrencia','Tipo_Registro','Data_Ocorrencia']]\n",
    "df = df[df['Tipo_Registro'] == \"Apurado\"]\n",
    "df = df.drop(['Tipo_Registro','Indicador'],axis=1) \n",
    "df.columns = ['Empresa','Canal_Distribuicao','Mercado','Volume_Venda','Data']"
   ]
  },
  {
   "cell_type": "markdown",
   "id": "12883f45",
   "metadata": {},
   "source": [
    "## 1.3 - Tratamento e remoção das linhas com NaNs que serão desconsideradas"
   ]
  },
  {
   "cell_type": "code",
   "execution_count": 4,
   "id": "d3bd2998",
   "metadata": {},
   "outputs": [],
   "source": [
    "dim1_membro_mome_nan_sum = df.Empresa.isna().sum()\n",
    "dim2_membro_mome_nan_sum = df.Canal_Distribuicao.isna().sum()\n",
    "dim3_membro_mome_nan_sum = df.Mercado.isna().sum()\n",
    "vlr_ocorrencia_nan_sum = df.Volume_Venda.isna().sum()\n",
    "\n",
    "df = df.fillna(\"NaN\")"
   ]
  },
  {
   "cell_type": "markdown",
   "id": "fd029437",
   "metadata": {},
   "source": [
    "### 1.3.1 - Filtrando dataframe com apenas as linhas que possuem pelo menos Empresa (dimensão 1)"
   ]
  },
  {
   "cell_type": "code",
   "execution_count": 5,
   "id": "ab1de2e6",
   "metadata": {},
   "outputs": [],
   "source": [
    "df = df[((df.Empresa != \"NaN\") & (df.Canal_Distribuicao == \"NaN\") & (df.Mercado == \"NaN\"))\n",
    "        |((df.Empresa != \"NaN\") & (df.Canal_Distribuicao != \"NaN\") & (df.Mercado == \"NaN\"))\n",
    "        |((df.Empresa != \"NaN\") & (df.Canal_Distribuicao != \"NaN\") & (df.Mercado != \"NaN\"))]"
   ]
  },
  {
   "cell_type": "markdown",
   "id": "9d55ddbd",
   "metadata": {},
   "source": [
    "### 1.3.2 - Removendo do dataframe linhas que possuem o \"Valor de Ocorrência\" vazio"
   ]
  },
  {
   "cell_type": "code",
   "execution_count": 6,
   "id": "1387f655",
   "metadata": {},
   "outputs": [],
   "source": [
    "df = df[(df.Volume_Venda != \"NaN\")].reset_index()\n",
    "\n",
    "new_index = []\n",
    "for i in range(len(df)):\n",
    "    new_index.append(i+1)\n",
    "df = df.set_index(pd.Index(new_index))\n",
    "del df['index']"
   ]
  },
  {
   "cell_type": "markdown",
   "id": "259c88ff",
   "metadata": {},
   "source": [
    "# 2 - Análise Exploratória dos Dados"
   ]
  },
  {
   "cell_type": "markdown",
   "id": "7e74dc60",
   "metadata": {},
   "source": [
    "## 2.1 - Análise das \"Empresas\", dos \"Canais de Distribuição\" e dos \"Mercados\""
   ]
  },
  {
   "cell_type": "code",
   "execution_count": 7,
   "id": "163d000c",
   "metadata": {},
   "outputs": [],
   "source": [
    "empresas = df.Empresa.unique()\n",
    "canais = df.Canal_Distribuicao.unique()\n",
    "mercados = df.Mercado.unique()"
   ]
  },
  {
   "cell_type": "code",
   "execution_count": 8,
   "id": "b1e5d011",
   "metadata": {},
   "outputs": [],
   "source": [
    "df['Mercado'] = df['Mercado'].replace(['Am.Norte','Ásia','Europa','Am.Latina','Japão','Brasil'],\n",
    "                                      [   'R1'   , 'R2' ,  'R3'  ,    'R4'   ,  'R5' ,  'R6'  ])"
   ]
  },
  {
   "cell_type": "markdown",
   "id": "e91750a7",
   "metadata": {},
   "source": [
    "### 2.1.1 - Agrupamento de Mercados, por Canais, por Empresa"
   ]
  },
  {
   "cell_type": "code",
   "execution_count": 9,
   "id": "a9eb311d",
   "metadata": {},
   "outputs": [],
   "source": [
    "group_by_empresa = df.groupby(['Empresa'])\n",
    "group_by_canal = df.groupby(['Canal_Distribuicao'])\n",
    "group_by_mercado = df.groupby(['Mercado'])\n",
    "\n",
    "companies_set = [] \n",
    "\n",
    "for company_name in empresas:\n",
    "    temp_df = group_by_empresa.get_group(company_name)\n",
    "    companies_set.append((company_name, temp_df))"
   ]
  },
  {
   "cell_type": "markdown",
   "id": "74ef575a",
   "metadata": {},
   "source": [
    "## 2.2 - Médias de Volume de Vendas"
   ]
  },
  {
   "cell_type": "markdown",
   "id": "02ed0363",
   "metadata": {},
   "source": [
    "#### - Canal de Distribuição: EE"
   ]
  },
  {
   "cell_type": "markdown",
   "id": "22672f82",
   "metadata": {},
   "source": [
    "##### --- Mercado: *R1*"
   ]
  },
  {
   "cell_type": "code",
   "execution_count": 10,
   "id": "d27d03bd",
   "metadata": {},
   "outputs": [
    {
     "name": "stdout",
     "output_type": "stream",
     "text": [
      "Início dos dados:\n"
     ]
    },
    {
     "data": {
      "text/html": [
       "<div>\n",
       "<style scoped>\n",
       "    .dataframe tbody tr th:only-of-type {\n",
       "        vertical-align: middle;\n",
       "    }\n",
       "\n",
       "    .dataframe tbody tr th {\n",
       "        vertical-align: top;\n",
       "    }\n",
       "\n",
       "    .dataframe thead th {\n",
       "        text-align: right;\n",
       "    }\n",
       "</style>\n",
       "<table border=\"1\" class=\"dataframe\">\n",
       "  <thead>\n",
       "    <tr style=\"text-align: right;\">\n",
       "      <th></th>\n",
       "      <th>Empresa</th>\n",
       "      <th>Canal_Distribuicao</th>\n",
       "      <th>Mercado</th>\n",
       "      <th>Volume_Venda</th>\n",
       "      <th>Data</th>\n",
       "    </tr>\n",
       "  </thead>\n",
       "  <tbody>\n",
       "    <tr>\n",
       "      <th>0</th>\n",
       "      <td>BR</td>\n",
       "      <td>EE</td>\n",
       "      <td>R1</td>\n",
       "      <td>0.0</td>\n",
       "      <td>2012-01-01 00:00:00.000</td>\n",
       "    </tr>\n",
       "  </tbody>\n",
       "</table>\n",
       "</div>"
      ],
      "text/plain": [
       "  Empresa Canal_Distribuicao Mercado Volume_Venda                     Data\n",
       "0      BR                 EE      R1          0.0  2012-01-01 00:00:00.000"
      ]
     },
     "metadata": {},
     "output_type": "display_data"
    },
    {
     "name": "stdout",
     "output_type": "stream",
     "text": [
      "Fim dos dados:\n"
     ]
    },
    {
     "data": {
      "text/html": [
       "<div>\n",
       "<style scoped>\n",
       "    .dataframe tbody tr th:only-of-type {\n",
       "        vertical-align: middle;\n",
       "    }\n",
       "\n",
       "    .dataframe tbody tr th {\n",
       "        vertical-align: top;\n",
       "    }\n",
       "\n",
       "    .dataframe thead th {\n",
       "        text-align: right;\n",
       "    }\n",
       "</style>\n",
       "<table border=\"1\" class=\"dataframe\">\n",
       "  <thead>\n",
       "    <tr style=\"text-align: right;\">\n",
       "      <th></th>\n",
       "      <th>Empresa</th>\n",
       "      <th>Canal_Distribuicao</th>\n",
       "      <th>Mercado</th>\n",
       "      <th>Volume_Venda</th>\n",
       "      <th>Data</th>\n",
       "    </tr>\n",
       "  </thead>\n",
       "  <tbody>\n",
       "    <tr>\n",
       "      <th>119</th>\n",
       "      <td>BR</td>\n",
       "      <td>EE</td>\n",
       "      <td>R1</td>\n",
       "      <td>21600.0</td>\n",
       "      <td>2021-12-01 00:00:00.000</td>\n",
       "    </tr>\n",
       "  </tbody>\n",
       "</table>\n",
       "</div>"
      ],
      "text/plain": [
       "    Empresa Canal_Distribuicao Mercado Volume_Venda                     Data\n",
       "119      BR                 EE      R1      21600.0  2021-12-01 00:00:00.000"
      ]
     },
     "metadata": {},
     "output_type": "display_data"
    }
   ],
   "source": [
    "company = companies_set[2][0]\n",
    "channel = 'EE'\n",
    "market = 'R1'\n",
    "cmp_df_r1 = companies_set[2][1]\n",
    "cmp_df_r1 = cmp_df_r1[(cmp_df_r1.Canal_Distribuicao == channel) & (cmp_df_r1.Mercado == market) ]\n",
    "cmp_df_r1 = cmp_df_r1[((cmp_df_r1.Empresa != \"NaN\") & (cmp_df_r1.Canal_Distribuicao != \"NaN\") & (cmp_df_r1.Mercado != \"NaN\"))]\n",
    "cmp_df_r1 = cmp_df_r1.sort_values(by='Volume_Venda').reset_index().drop(['index'],axis=1)\n",
    "cmp_df_r1 = cmp_df_r1.drop_duplicates('Data',keep='last').sort_values(by='Data').reset_index().drop(['index'],axis=1)\n",
    "\n",
    "print(\"Início dos dados:\")\n",
    "display(cmp_df_r1.head(1))\n",
    "print(\"Fim dos dados:\")\n",
    "display(cmp_df_r1.tail(1))\n",
    "\n",
    "means_br_ee_r1 = []\n",
    "year = 2012\n",
    "while year < 2022: \n",
    "    query = cmp_df_r1[((cmp_df_r1.Data >= str(year)) & (cmp_df_r1.Data < str(year+1)))]\n",
    "    query['Volume_Venda'] = query['Volume_Venda'].astype(float)\n",
    "    \n",
    "    mean = np.round(query['Volume_Venda'].mean(),4)\n",
    "    \n",
    "    plt.figure(figsize = (4, 3))\n",
    "    boxplot = query.boxplot(column = ['Volume_Venda'])\n",
    "    \n",
    "    save_path = r\"D:\\Documentos_D\\UFCG\\2021.2e\\TCC\\graficos\\boxplot\\BR\" + \"\\\\\" + channel +\"_\" + market  + \"_\" + str(year) + \".png\"\n",
    "    plt.title(company + \" - \" + channel + \" - \" + market + \" - \" + str(year))\n",
    "    plt.savefig(save_path)\n",
    "    plt.close()\n",
    "    \n",
    "    means_br_ee_r1.append(mean)\n",
    "    year += 1\n",
    "\n",
    "means = means_br_ee_r1\n",
    "bars = ['2012','2013','2014','2015','2016','2017','2018','2019','2020','2021']\n",
    "y_pos = np.arange(len(bars))\n",
    "plt.figure(figsize = (6, 4))\n",
    "plt.title(\"Média do Volume de Vendas/ano | \"+ companies_set[2][0]+\" - EE - R1\")\n",
    "plt.plot(y_pos, means)\n",
    "plt.xticks(y_pos, bars)\n",
    "\n",
    "save_path = r\"D:\\Documentos_D\\UFCG\\2021.2e\\TCC\\graficos\\media\\BR\" + \"\\\\\" + channel + \"_\" + market + \"_media\" \".png\"\n",
    "plt.savefig(save_path)\n",
    "\n",
    "plt.close()"
   ]
  },
  {
   "cell_type": "markdown",
   "id": "f7cf596c",
   "metadata": {},
   "source": [
    "##### --- Mercado: *R2*"
   ]
  },
  {
   "cell_type": "code",
   "execution_count": 11,
   "id": "1b3c5559",
   "metadata": {},
   "outputs": [
    {
     "name": "stdout",
     "output_type": "stream",
     "text": [
      "Início dos dados:\n"
     ]
    },
    {
     "data": {
      "text/html": [
       "<div>\n",
       "<style scoped>\n",
       "    .dataframe tbody tr th:only-of-type {\n",
       "        vertical-align: middle;\n",
       "    }\n",
       "\n",
       "    .dataframe tbody tr th {\n",
       "        vertical-align: top;\n",
       "    }\n",
       "\n",
       "    .dataframe thead th {\n",
       "        text-align: right;\n",
       "    }\n",
       "</style>\n",
       "<table border=\"1\" class=\"dataframe\">\n",
       "  <thead>\n",
       "    <tr style=\"text-align: right;\">\n",
       "      <th></th>\n",
       "      <th>Empresa</th>\n",
       "      <th>Canal_Distribuicao</th>\n",
       "      <th>Mercado</th>\n",
       "      <th>Volume_Venda</th>\n",
       "      <th>Data</th>\n",
       "    </tr>\n",
       "  </thead>\n",
       "  <tbody>\n",
       "    <tr>\n",
       "      <th>0</th>\n",
       "      <td>BR</td>\n",
       "      <td>EE</td>\n",
       "      <td>R2</td>\n",
       "      <td>18362.0</td>\n",
       "      <td>2012-01-01 00:00:00.000</td>\n",
       "    </tr>\n",
       "  </tbody>\n",
       "</table>\n",
       "</div>"
      ],
      "text/plain": [
       "  Empresa Canal_Distribuicao Mercado Volume_Venda                     Data\n",
       "0      BR                 EE      R2      18362.0  2012-01-01 00:00:00.000"
      ]
     },
     "metadata": {},
     "output_type": "display_data"
    },
    {
     "name": "stdout",
     "output_type": "stream",
     "text": [
      "Fim dos dados:\n"
     ]
    },
    {
     "data": {
      "text/html": [
       "<div>\n",
       "<style scoped>\n",
       "    .dataframe tbody tr th:only-of-type {\n",
       "        vertical-align: middle;\n",
       "    }\n",
       "\n",
       "    .dataframe tbody tr th {\n",
       "        vertical-align: top;\n",
       "    }\n",
       "\n",
       "    .dataframe thead th {\n",
       "        text-align: right;\n",
       "    }\n",
       "</style>\n",
       "<table border=\"1\" class=\"dataframe\">\n",
       "  <thead>\n",
       "    <tr style=\"text-align: right;\">\n",
       "      <th></th>\n",
       "      <th>Empresa</th>\n",
       "      <th>Canal_Distribuicao</th>\n",
       "      <th>Mercado</th>\n",
       "      <th>Volume_Venda</th>\n",
       "      <th>Data</th>\n",
       "    </tr>\n",
       "  </thead>\n",
       "  <tbody>\n",
       "    <tr>\n",
       "      <th>120</th>\n",
       "      <td>BR</td>\n",
       "      <td>EE</td>\n",
       "      <td>R2</td>\n",
       "      <td>22100.0</td>\n",
       "      <td>2022-01-01 00:00:00.000</td>\n",
       "    </tr>\n",
       "  </tbody>\n",
       "</table>\n",
       "</div>"
      ],
      "text/plain": [
       "    Empresa Canal_Distribuicao Mercado Volume_Venda                     Data\n",
       "120      BR                 EE      R2      22100.0  2022-01-01 00:00:00.000"
      ]
     },
     "metadata": {},
     "output_type": "display_data"
    }
   ],
   "source": [
    "company = companies_set[2][0]\n",
    "channel = 'EE'\n",
    "market = 'R2'\n",
    "\n",
    "cmp_df_r2 = companies_set[2][1]\n",
    "cmp_df_r2 = cmp_df_r2[(cmp_df_r2.Canal_Distribuicao == channel) & (cmp_df_r2.Mercado == market) ]\n",
    "cmp_df_r2 = cmp_df_r2[((cmp_df_r2.Empresa != \"NaN\") & (cmp_df_r2.Canal_Distribuicao != \"NaN\") & (cmp_df_r2.Mercado != \"NaN\"))]\n",
    "cmp_df_r2 = cmp_df_r2.sort_values(by='Volume_Venda').reset_index().drop(['index'],axis=1)\n",
    "cmp_df_r2 = cmp_df_r2.drop_duplicates('Data',keep='last').sort_values(by='Data').reset_index().drop(['index'],axis=1)\n",
    "\n",
    "print(\"Início dos dados:\")\n",
    "display(cmp_df_r2.head(1))\n",
    "print(\"Fim dos dados:\")\n",
    "display(cmp_df_r2.tail(1))\n",
    "\n",
    "means_br_ee_r2 = []\n",
    "year = 2012\n",
    "while year < 2022: \n",
    "    query = cmp_df_r2[((cmp_df_r2.Data >= str(year)) & (cmp_df_r2.Data < str(year+1)))]\n",
    "    query['Volume_Venda'] = query['Volume_Venda'].astype(float)\n",
    "    \n",
    "    mean = np.round(query['Volume_Venda'].mean(),4)\n",
    "    \n",
    "    plt.figure(figsize = (4, 3))\n",
    "    boxplot = query.boxplot(column = ['Volume_Venda'])\n",
    "    \n",
    "    save_path = r\"D:\\Documentos_D\\UFCG\\2021.2e\\TCC\\graficos\\boxplot\\BR\" + \"\\\\\" + channel +\"_\" + market  + \"_\" + str(year) + \".png\"\n",
    "    plt.title(company + \" - \" + channel + \" - \" + market + \" - \" + str(year))\n",
    "    plt.savefig(save_path)\n",
    "    plt.close()\n",
    "    \n",
    "    means_br_ee_r2.append(mean)\n",
    "    year += 1\n",
    "    \n",
    "means = means_br_ee_r2\n",
    "bars = ['2012','2013','2014','2015','2016','2017','2018','2019','2020','2021']\n",
    "y_pos = np.arange(len(bars))\n",
    "plt.figure(figsize = (6, 4))\n",
    "plt.title(\"Média do Volume de Vendas/ano | \"+ companies_set[2][0]+\" - EE - R2\")\n",
    "plt.plot(y_pos, means)\n",
    "plt.xticks(y_pos, bars)\n",
    "\n",
    "save_path = r\"D:\\Documentos_D\\UFCG\\2021.2e\\TCC\\graficos\\media\\BR\" + \"\\\\\" + channel + \"_\" + market + \"_media\" \".png\"\n",
    "plt.savefig(save_path)\n",
    "\n",
    "plt.close()"
   ]
  },
  {
   "cell_type": "markdown",
   "id": "65e67ad1",
   "metadata": {},
   "source": [
    "##### --- Mercado: *R3*"
   ]
  },
  {
   "cell_type": "code",
   "execution_count": 12,
   "id": "d3bd3b51",
   "metadata": {},
   "outputs": [
    {
     "name": "stdout",
     "output_type": "stream",
     "text": [
      "Início dos dados:\n"
     ]
    },
    {
     "data": {
      "text/html": [
       "<div>\n",
       "<style scoped>\n",
       "    .dataframe tbody tr th:only-of-type {\n",
       "        vertical-align: middle;\n",
       "    }\n",
       "\n",
       "    .dataframe tbody tr th {\n",
       "        vertical-align: top;\n",
       "    }\n",
       "\n",
       "    .dataframe thead th {\n",
       "        text-align: right;\n",
       "    }\n",
       "</style>\n",
       "<table border=\"1\" class=\"dataframe\">\n",
       "  <thead>\n",
       "    <tr style=\"text-align: right;\">\n",
       "      <th></th>\n",
       "      <th>Empresa</th>\n",
       "      <th>Canal_Distribuicao</th>\n",
       "      <th>Mercado</th>\n",
       "      <th>Volume_Venda</th>\n",
       "      <th>Data</th>\n",
       "    </tr>\n",
       "  </thead>\n",
       "  <tbody>\n",
       "    <tr>\n",
       "      <th>0</th>\n",
       "      <td>BR</td>\n",
       "      <td>EE</td>\n",
       "      <td>R3</td>\n",
       "      <td>44852.0</td>\n",
       "      <td>2012-01-01 00:00:00.000</td>\n",
       "    </tr>\n",
       "  </tbody>\n",
       "</table>\n",
       "</div>"
      ],
      "text/plain": [
       "  Empresa Canal_Distribuicao Mercado Volume_Venda                     Data\n",
       "0      BR                 EE      R3      44852.0  2012-01-01 00:00:00.000"
      ]
     },
     "metadata": {},
     "output_type": "display_data"
    },
    {
     "name": "stdout",
     "output_type": "stream",
     "text": [
      "Fim dos dados:\n"
     ]
    },
    {
     "data": {
      "text/html": [
       "<div>\n",
       "<style scoped>\n",
       "    .dataframe tbody tr th:only-of-type {\n",
       "        vertical-align: middle;\n",
       "    }\n",
       "\n",
       "    .dataframe tbody tr th {\n",
       "        vertical-align: top;\n",
       "    }\n",
       "\n",
       "    .dataframe thead th {\n",
       "        text-align: right;\n",
       "    }\n",
       "</style>\n",
       "<table border=\"1\" class=\"dataframe\">\n",
       "  <thead>\n",
       "    <tr style=\"text-align: right;\">\n",
       "      <th></th>\n",
       "      <th>Empresa</th>\n",
       "      <th>Canal_Distribuicao</th>\n",
       "      <th>Mercado</th>\n",
       "      <th>Volume_Venda</th>\n",
       "      <th>Data</th>\n",
       "    </tr>\n",
       "  </thead>\n",
       "  <tbody>\n",
       "    <tr>\n",
       "      <th>120</th>\n",
       "      <td>BR</td>\n",
       "      <td>EE</td>\n",
       "      <td>R3</td>\n",
       "      <td>57880.0</td>\n",
       "      <td>2022-01-01 00:00:00.000</td>\n",
       "    </tr>\n",
       "  </tbody>\n",
       "</table>\n",
       "</div>"
      ],
      "text/plain": [
       "    Empresa Canal_Distribuicao Mercado Volume_Venda                     Data\n",
       "120      BR                 EE      R3      57880.0  2022-01-01 00:00:00.000"
      ]
     },
     "metadata": {},
     "output_type": "display_data"
    }
   ],
   "source": [
    "company = companies_set[2][0]\n",
    "channel = 'EE'\n",
    "market = 'R3'\n",
    "\n",
    "cmp_df_r3 = companies_set[2][1]\n",
    "cmp_df_r3 = cmp_df_r3[(cmp_df_r3.Canal_Distribuicao == channel) & (cmp_df_r3.Mercado == market) ]\n",
    "cmp_df_r3 = cmp_df_r3[((cmp_df_r3.Empresa != \"NaN\") & (cmp_df_r3.Canal_Distribuicao != \"NaN\") & (cmp_df_r3.Mercado != \"NaN\"))]\n",
    "cmp_df_r3 = cmp_df_r3.sort_values(by='Volume_Venda').reset_index().drop(['index'],axis=1)\n",
    "cmp_df_r3 = cmp_df_r3.drop_duplicates('Data',keep='last').sort_values(by='Data').reset_index().drop(['index'],axis=1)\n",
    "\n",
    "print(\"Início dos dados:\")\n",
    "display(cmp_df_r3.head(1))\n",
    "print(\"Fim dos dados:\")\n",
    "display(cmp_df_r3.tail(1))\n",
    "\n",
    "means_br_ee_r3 = []\n",
    "year = 2012\n",
    "while year < 2022:\n",
    "    query = cmp_df_r3[((cmp_df_r3.Data >= str(year)) & (cmp_df_r3.Data < str(year+1)))]\n",
    "    query['Volume_Venda'] = query['Volume_Venda'].astype(float)\n",
    "    \n",
    "    mean = np.round(query['Volume_Venda'].mean(),4)\n",
    "    \n",
    "    plt.figure(figsize = (4, 3))\n",
    "    boxplot = query.boxplot(column = ['Volume_Venda'])\n",
    "    \n",
    "    save_path = r\"D:\\Documentos_D\\UFCG\\2021.2e\\TCC\\graficos\\boxplot\\BR\" + \"\\\\\" + channel +\"_\" + market  + \"_\" + str(year) + \".png\"\n",
    "    plt.title(company + \" - \" + channel + \" - \" + market + \" - \" + str(year))\n",
    "    plt.savefig(save_path)\n",
    "    plt.close()\n",
    "    \n",
    "    means_br_ee_r3.append(mean)\n",
    "    year += 1\n",
    "    \n",
    "#--- Plotando o Gráfico ---#\n",
    "means = means_br_ee_r3\n",
    "bars = ['2012','2013','2014','2015','2016','2017','2018','2019','2020','2021']\n",
    "y_pos = np.arange(len(bars))\n",
    "plt.figure(figsize = (6, 4))\n",
    "plt.title(\"Média do Volume de Vendas/ano | \"+ companies_set[2][0]+\" - EE - R3\")\n",
    "plt.plot(y_pos, means)\n",
    "plt.xticks(y_pos, bars)\n",
    "\n",
    "save_path = r\"D:\\Documentos_D\\UFCG\\2021.2e\\TCC\\graficos\\media\\BR\" + \"\\\\\" + channel + \"_\" + market + \"_media\" \".png\"\n",
    "plt.savefig(save_path)\n",
    "\n",
    "plt.close()"
   ]
  },
  {
   "cell_type": "markdown",
   "id": "23acda2f",
   "metadata": {},
   "source": [
    "##### --- Mercado: *R4*"
   ]
  },
  {
   "cell_type": "code",
   "execution_count": 13,
   "id": "80467daf",
   "metadata": {},
   "outputs": [
    {
     "name": "stdout",
     "output_type": "stream",
     "text": [
      "Início dos dados:\n"
     ]
    },
    {
     "data": {
      "text/html": [
       "<div>\n",
       "<style scoped>\n",
       "    .dataframe tbody tr th:only-of-type {\n",
       "        vertical-align: middle;\n",
       "    }\n",
       "\n",
       "    .dataframe tbody tr th {\n",
       "        vertical-align: top;\n",
       "    }\n",
       "\n",
       "    .dataframe thead th {\n",
       "        text-align: right;\n",
       "    }\n",
       "</style>\n",
       "<table border=\"1\" class=\"dataframe\">\n",
       "  <thead>\n",
       "    <tr style=\"text-align: right;\">\n",
       "      <th></th>\n",
       "      <th>Empresa</th>\n",
       "      <th>Canal_Distribuicao</th>\n",
       "      <th>Mercado</th>\n",
       "      <th>Volume_Venda</th>\n",
       "      <th>Data</th>\n",
       "    </tr>\n",
       "  </thead>\n",
       "  <tbody>\n",
       "    <tr>\n",
       "      <th>0</th>\n",
       "      <td>BR</td>\n",
       "      <td>EE</td>\n",
       "      <td>R4</td>\n",
       "      <td>624.0</td>\n",
       "      <td>2012-01-01 00:00:00.000</td>\n",
       "    </tr>\n",
       "  </tbody>\n",
       "</table>\n",
       "</div>"
      ],
      "text/plain": [
       "  Empresa Canal_Distribuicao Mercado Volume_Venda                     Data\n",
       "0      BR                 EE      R4        624.0  2012-01-01 00:00:00.000"
      ]
     },
     "metadata": {},
     "output_type": "display_data"
    },
    {
     "name": "stdout",
     "output_type": "stream",
     "text": [
      "Fim dos dados:\n"
     ]
    },
    {
     "data": {
      "text/html": [
       "<div>\n",
       "<style scoped>\n",
       "    .dataframe tbody tr th:only-of-type {\n",
       "        vertical-align: middle;\n",
       "    }\n",
       "\n",
       "    .dataframe tbody tr th {\n",
       "        vertical-align: top;\n",
       "    }\n",
       "\n",
       "    .dataframe thead th {\n",
       "        text-align: right;\n",
       "    }\n",
       "</style>\n",
       "<table border=\"1\" class=\"dataframe\">\n",
       "  <thead>\n",
       "    <tr style=\"text-align: right;\">\n",
       "      <th></th>\n",
       "      <th>Empresa</th>\n",
       "      <th>Canal_Distribuicao</th>\n",
       "      <th>Mercado</th>\n",
       "      <th>Volume_Venda</th>\n",
       "      <th>Data</th>\n",
       "    </tr>\n",
       "  </thead>\n",
       "  <tbody>\n",
       "    <tr>\n",
       "      <th>106</th>\n",
       "      <td>BR</td>\n",
       "      <td>EE</td>\n",
       "      <td>R4</td>\n",
       "      <td>0.0</td>\n",
       "      <td>2021-01-01 00:00:00.000</td>\n",
       "    </tr>\n",
       "  </tbody>\n",
       "</table>\n",
       "</div>"
      ],
      "text/plain": [
       "    Empresa Canal_Distribuicao Mercado Volume_Venda                     Data\n",
       "106      BR                 EE      R4          0.0  2021-01-01 00:00:00.000"
      ]
     },
     "metadata": {},
     "output_type": "display_data"
    }
   ],
   "source": [
    "company = companies_set[2][0]\n",
    "channel = 'EE'\n",
    "market = 'R4'\n",
    "\n",
    "cmp_df_r4 = companies_set[2][1]\n",
    "cmp_df_r4 = cmp_df_r4[(cmp_df_r4.Canal_Distribuicao == channel) & (cmp_df_r4.Mercado == market) ]\n",
    "cmp_df_r4 = cmp_df_r4[((cmp_df_r4.Empresa != \"NaN\") & (cmp_df_r4.Canal_Distribuicao != \"NaN\") & (cmp_df_r4.Mercado != \"NaN\"))]\n",
    "cmp_df_r4 = cmp_df_r4.sort_values(by='Volume_Venda').reset_index().drop(['index'],axis=1)\n",
    "cmp_df_r4 = cmp_df_r4.drop_duplicates('Data',keep='last').sort_values(by='Data').reset_index().drop(['index'],axis=1)\n",
    "\n",
    "print(\"Início dos dados:\")\n",
    "display(cmp_df_r4.head(1))\n",
    "print(\"Fim dos dados:\")\n",
    "display(cmp_df_r4.tail(1))\n",
    "\n",
    "means_br_ee_r4 = []\n",
    "year = 2012\n",
    "while year < 2016: # So tem ate 01 Janeiro de 2016. Desconsiderei 2016;\n",
    "    query = cmp_df_r4[((cmp_df_r4.Data >= str(year)) & (cmp_df_r4.Data < str(year+1)))]\n",
    "    query['Volume_Venda'] = query['Volume_Venda'].astype(float)\n",
    "    \n",
    "    mean = np.round(query['Volume_Venda'].mean(),4)\n",
    "    \n",
    "    plt.figure(figsize = (4, 3))\n",
    "    boxplot = query.boxplot(column = ['Volume_Venda'])\n",
    "    \n",
    "    save_path = r\"D:\\Documentos_D\\UFCG\\2021.2e\\TCC\\graficos\\boxplot\\BR\" + \"\\\\\" + channel +\"_\" + market  + \"_\" + str(year) + \".png\"\n",
    "    plt.title(company + \" - \" + channel + \" - \" + market + \" - \" + str(year))\n",
    "    plt.savefig(save_path)\n",
    "    plt.close()\n",
    "\n",
    "    means_br_ee_r4.append(mean)\n",
    "    year += 1\n",
    "    \n",
    "means = means_br_ee_r4\n",
    "bars = ['2012','2013','2014','2015']\n",
    "y_pos = np.arange(len(bars))\n",
    "plt.title(\"Média do Volume de Vendas/ano | \"+ companies_set[2][0]+\" - EE - R4\")\n",
    "plt.plot(y_pos, means)\n",
    "plt.xticks(y_pos, bars)\n",
    "\n",
    "save_path = r\"D:\\Documentos_D\\UFCG\\2021.2e\\TCC\\graficos\\media\\BR\" + \"\\\\\" + channel + \"_\" + market + \"_media\" \".png\"\n",
    "plt.savefig(save_path)\n",
    "\n",
    "plt.close()"
   ]
  },
  {
   "cell_type": "markdown",
   "id": "e19100fa",
   "metadata": {},
   "source": [
    "##### --- Mercado: *R5*"
   ]
  },
  {
   "cell_type": "code",
   "execution_count": 14,
   "id": "d2f960fc",
   "metadata": {},
   "outputs": [
    {
     "name": "stdout",
     "output_type": "stream",
     "text": [
      "Início dos dados:\n"
     ]
    },
    {
     "data": {
      "text/html": [
       "<div>\n",
       "<style scoped>\n",
       "    .dataframe tbody tr th:only-of-type {\n",
       "        vertical-align: middle;\n",
       "    }\n",
       "\n",
       "    .dataframe tbody tr th {\n",
       "        vertical-align: top;\n",
       "    }\n",
       "\n",
       "    .dataframe thead th {\n",
       "        text-align: right;\n",
       "    }\n",
       "</style>\n",
       "<table border=\"1\" class=\"dataframe\">\n",
       "  <thead>\n",
       "    <tr style=\"text-align: right;\">\n",
       "      <th></th>\n",
       "      <th>Empresa</th>\n",
       "      <th>Canal_Distribuicao</th>\n",
       "      <th>Mercado</th>\n",
       "      <th>Volume_Venda</th>\n",
       "      <th>Data</th>\n",
       "    </tr>\n",
       "  </thead>\n",
       "  <tbody>\n",
       "    <tr>\n",
       "      <th>0</th>\n",
       "      <td>BR</td>\n",
       "      <td>EE</td>\n",
       "      <td>R5</td>\n",
       "      <td>19852.0</td>\n",
       "      <td>2012-01-01 00:00:00.000</td>\n",
       "    </tr>\n",
       "  </tbody>\n",
       "</table>\n",
       "</div>"
      ],
      "text/plain": [
       "  Empresa Canal_Distribuicao Mercado Volume_Venda                     Data\n",
       "0      BR                 EE      R5      19852.0  2012-01-01 00:00:00.000"
      ]
     },
     "metadata": {},
     "output_type": "display_data"
    },
    {
     "name": "stdout",
     "output_type": "stream",
     "text": [
      "Fim dos dados:\n"
     ]
    },
    {
     "data": {
      "text/html": [
       "<div>\n",
       "<style scoped>\n",
       "    .dataframe tbody tr th:only-of-type {\n",
       "        vertical-align: middle;\n",
       "    }\n",
       "\n",
       "    .dataframe tbody tr th {\n",
       "        vertical-align: top;\n",
       "    }\n",
       "\n",
       "    .dataframe thead th {\n",
       "        text-align: right;\n",
       "    }\n",
       "</style>\n",
       "<table border=\"1\" class=\"dataframe\">\n",
       "  <thead>\n",
       "    <tr style=\"text-align: right;\">\n",
       "      <th></th>\n",
       "      <th>Empresa</th>\n",
       "      <th>Canal_Distribuicao</th>\n",
       "      <th>Mercado</th>\n",
       "      <th>Volume_Venda</th>\n",
       "      <th>Data</th>\n",
       "    </tr>\n",
       "  </thead>\n",
       "  <tbody>\n",
       "    <tr>\n",
       "      <th>119</th>\n",
       "      <td>BR</td>\n",
       "      <td>EE</td>\n",
       "      <td>R5</td>\n",
       "      <td>18860.0</td>\n",
       "      <td>2021-12-01 00:00:00.000</td>\n",
       "    </tr>\n",
       "  </tbody>\n",
       "</table>\n",
       "</div>"
      ],
      "text/plain": [
       "    Empresa Canal_Distribuicao Mercado Volume_Venda                     Data\n",
       "119      BR                 EE      R5      18860.0  2021-12-01 00:00:00.000"
      ]
     },
     "metadata": {},
     "output_type": "display_data"
    }
   ],
   "source": [
    "company = companies_set[2][0]\n",
    "channel = 'EE'\n",
    "market = 'R5'\n",
    "\n",
    "cmp_df_r5 = companies_set[2][1]\n",
    "cmp_df_r5 = cmp_df_r5[(cmp_df_r5.Canal_Distribuicao == channel) & (cmp_df_r5.Mercado == market)]\n",
    "cmp_df_r5 = cmp_df_r5[((cmp_df_r5.Empresa != \"NaN\") & (cmp_df_r5.Canal_Distribuicao != \"NaN\") & (cmp_df_r5.Mercado != \"NaN\"))] \n",
    "cmp_df_r5 = cmp_df_r5.sort_values(by='Volume_Venda').reset_index().drop(['index'],axis=1)\n",
    "cmp_df_r5 = cmp_df_r5.drop_duplicates('Data',keep='last').sort_values(by='Data').reset_index().drop(['index'],axis=1)\n",
    "\n",
    "print(\"Início dos dados:\")\n",
    "display(cmp_df_r5.head(1))\n",
    "print(\"Fim dos dados:\")\n",
    "display(cmp_df_r5.tail(1))\n",
    "\n",
    "means_br_ee_r5 = []\n",
    "year = 2012\n",
    "while year < 2022:\n",
    "    query = cmp_df_r5[((cmp_df_r5.Data >= str(year)) & (cmp_df_r5.Data < str(year+1)))]\n",
    "    query['Volume_Venda'] = query['Volume_Venda'].astype(float)\n",
    "    \n",
    "    mean = np.round(query['Volume_Venda'].mean(),4)\n",
    "    \n",
    "    plt.figure(figsize = (4, 3))\n",
    "    boxplot = query.boxplot(column = ['Volume_Venda'])\n",
    "    \n",
    "    save_path = r\"D:\\Documentos_D\\UFCG\\2021.2e\\TCC\\graficos\\boxplot\\BR\" + \"\\\\\" + channel +\"_\" + market  + \"_\" + str(year) + \".png\"\n",
    "    plt.title(company + \" - \" + channel + \" - \" + market + \" - \" + str(year))\n",
    "    plt.savefig(save_path)\n",
    "    plt.close()\n",
    "    \n",
    "    means_br_ee_r5.append(mean)\n",
    "    year += 1\n",
    "\n",
    "means = means_br_ee_r5\n",
    "bars = ['2012','2013','2014','2015','2016','2017','2018','2019','2020','2021']\n",
    "y_pos = np.arange(len(bars))\n",
    "\n",
    "plt.figure(figsize = (6, 4))\n",
    "plt.title(\"Média do Volume de Vendas/ano | \"+ companies_set[2][0]+\" - EE - R5\")\n",
    "plt.plot(y_pos, means)\n",
    "plt.xticks(y_pos, bars)\n",
    "\n",
    "save_path = r\"D:\\Documentos_D\\UFCG\\2021.2e\\TCC\\graficos\\media\\BR\" + \"\\\\\" + channel + \"_\" + market + \"_media\" \".png\"\n",
    "plt.savefig(save_path)\n",
    "\n",
    "plt.close()"
   ]
  },
  {
   "cell_type": "markdown",
   "id": "0fdc8740",
   "metadata": {},
   "source": [
    "##### - *Correlação EE X R1 X R2 X R3 x R4 x R5*"
   ]
  },
  {
   "cell_type": "code",
   "execution_count": 15,
   "id": "7c2b393b",
   "metadata": {},
   "outputs": [],
   "source": [
    "cmp_df = companies_set[2][1].reset_index().drop(['index'],axis=1)\n",
    "cmp_df = cmp_df[(cmp_df.Canal_Distribuicao == 'EE')]\n",
    "cmp_df = cmp_df[((cmp_df.Empresa != \"NaN\") & (cmp_df.Canal_Distribuicao != \"NaN\") & (cmp_df.Mercado == \"NaN\"))]\n",
    "cmp_df = cmp_df.sort_values(by='Volume_Venda', ascending=True)\n",
    "cmp_df = cmp_df.drop_duplicates('Data',keep='last').reset_index().drop(['index'],axis=1)\n",
    "cmp_df = cmp_df.sort_values(by='Data').reset_index().drop(['index'],axis=1)\n",
    "\n",
    "new_df = pd.DataFrame()\n",
    "new_df['Volume_Venda_R1'] = cmp_df_r1['Volume_Venda']\n",
    "new_df['Volume_Venda_R2'] = cmp_df_r2['Volume_Venda']\n",
    "new_df['Volume_Venda_R3'] = cmp_df_r3['Volume_Venda']\n",
    "new_df['Volume_Venda_R4'] = cmp_df_r4['Volume_Venda']\n",
    "new_df['Volume_Venda_R5'] = cmp_df_r5['Volume_Venda']\n",
    "new_df['Volume_Venda_EE'] = cmp_df['Volume_Venda']\n",
    "new_df['Data'] = cmp_df['Data']\n",
    "new_df = new_df[((new_df.Volume_Venda_R1 != 0) | (new_df.Volume_Venda_R2 != 0) | (new_df.Volume_Venda_R3 != 0) |\n",
    "                (new_df.Volume_Venda_R4 != 0) | (new_df.Volume_Venda_R5 != 0) | (new_df.Volume_Venda_EE != 0))]\n",
    "new_df = new_df.drop(['Data'],axis=1)\n",
    "new_df = new_df.astype(float)\n",
    "\n",
    "plt.figure(figsize = (12, 8))\n",
    "plt.title(\"Matriz de Confusão: EE x R1 x R2 x R3 x R4 x R5\")\n",
    "sns.heatmap(new_df.corr())\n",
    "\n",
    "save_path = r\"D:\\Documentos_D\\UFCG\\2021.2e\\TCC\\graficos\\correlacao\" + \"\\\\\" + company + \"\\\\\" + channel + \"_\" + \"_matriz_de_confusao\" \".png\"\n",
    "plt.savefig(save_path)\n",
    "\n",
    "plt.close()"
   ]
  },
  {
   "cell_type": "markdown",
   "id": "f39e873d",
   "metadata": {},
   "source": [
    "#### - Canal de Distribuição: ME"
   ]
  },
  {
   "cell_type": "markdown",
   "id": "34711422",
   "metadata": {},
   "source": [
    "##### --- Mercado: *No region*"
   ]
  },
  {
   "cell_type": "code",
   "execution_count": 16,
   "id": "4fd83caf",
   "metadata": {},
   "outputs": [
    {
     "name": "stdout",
     "output_type": "stream",
     "text": [
      "Início dos dados:\n"
     ]
    },
    {
     "data": {
      "text/html": [
       "<div>\n",
       "<style scoped>\n",
       "    .dataframe tbody tr th:only-of-type {\n",
       "        vertical-align: middle;\n",
       "    }\n",
       "\n",
       "    .dataframe tbody tr th {\n",
       "        vertical-align: top;\n",
       "    }\n",
       "\n",
       "    .dataframe thead th {\n",
       "        text-align: right;\n",
       "    }\n",
       "</style>\n",
       "<table border=\"1\" class=\"dataframe\">\n",
       "  <thead>\n",
       "    <tr style=\"text-align: right;\">\n",
       "      <th></th>\n",
       "      <th>Empresa</th>\n",
       "      <th>Canal_Distribuicao</th>\n",
       "      <th>Mercado</th>\n",
       "      <th>Volume_Venda</th>\n",
       "      <th>Data</th>\n",
       "    </tr>\n",
       "  </thead>\n",
       "  <tbody>\n",
       "    <tr>\n",
       "      <th>0</th>\n",
       "      <td>BR</td>\n",
       "      <td>ME</td>\n",
       "      <td>NaN</td>\n",
       "      <td>83690.0</td>\n",
       "      <td>2012-01-01 00:00:00.000</td>\n",
       "    </tr>\n",
       "  </tbody>\n",
       "</table>\n",
       "</div>"
      ],
      "text/plain": [
       "  Empresa Canal_Distribuicao Mercado Volume_Venda                     Data\n",
       "0      BR                 ME     NaN      83690.0  2012-01-01 00:00:00.000"
      ]
     },
     "metadata": {},
     "output_type": "display_data"
    },
    {
     "name": "stdout",
     "output_type": "stream",
     "text": [
      "Fim dos dados:\n"
     ]
    },
    {
     "data": {
      "text/html": [
       "<div>\n",
       "<style scoped>\n",
       "    .dataframe tbody tr th:only-of-type {\n",
       "        vertical-align: middle;\n",
       "    }\n",
       "\n",
       "    .dataframe tbody tr th {\n",
       "        vertical-align: top;\n",
       "    }\n",
       "\n",
       "    .dataframe thead th {\n",
       "        text-align: right;\n",
       "    }\n",
       "</style>\n",
       "<table border=\"1\" class=\"dataframe\">\n",
       "  <thead>\n",
       "    <tr style=\"text-align: right;\">\n",
       "      <th></th>\n",
       "      <th>Empresa</th>\n",
       "      <th>Canal_Distribuicao</th>\n",
       "      <th>Mercado</th>\n",
       "      <th>Volume_Venda</th>\n",
       "      <th>Data</th>\n",
       "    </tr>\n",
       "  </thead>\n",
       "  <tbody>\n",
       "    <tr>\n",
       "      <th>120</th>\n",
       "      <td>BR</td>\n",
       "      <td>ME</td>\n",
       "      <td>NaN</td>\n",
       "      <td>79980.0</td>\n",
       "      <td>2022-01-01 00:00:00.000</td>\n",
       "    </tr>\n",
       "  </tbody>\n",
       "</table>\n",
       "</div>"
      ],
      "text/plain": [
       "    Empresa Canal_Distribuicao Mercado Volume_Venda                     Data\n",
       "120      BR                 ME     NaN      79980.0  2022-01-01 00:00:00.000"
      ]
     },
     "metadata": {},
     "output_type": "display_data"
    }
   ],
   "source": [
    "company = companies_set[2][0]\n",
    "channel = 'ME'\n",
    "market = 'NaN'\n",
    "\n",
    "cmp_df_nr = companies_set[2][1]\n",
    "cmp_df_nr = cmp_df_nr[((cmp_df_nr.Canal_Distribuicao == channel) & (cmp_df_nr.Mercado == market))]\n",
    "cmp_df_nr = cmp_df_nr[((cmp_df_nr.Empresa != \"NaN\") & (cmp_df_nr.Canal_Distribuicao != \"NaN\") & (cmp_df_nr.Mercado == \"NaN\"))] \n",
    "cmp_df_nr = cmp_df_nr.sort_values(by='Volume_Venda').reset_index().drop(['index'],axis=1)\n",
    "cmp_df_nr = cmp_df_nr.drop_duplicates('Data',keep='last').sort_values(by='Data').reset_index().drop(['index'],axis=1)\n",
    "\n",
    "print(\"Início dos dados:\")\n",
    "display(cmp_df_nr.head(1))\n",
    "print(\"Fim dos dados:\")\n",
    "display(cmp_df_nr.tail(1))\n",
    "\n",
    "means_br_me = []\n",
    "year = 2012\n",
    "while year < 2022:\n",
    "    query = cmp_df_nr[((cmp_df_nr.Data >= str(year)) & (cmp_df_nr.Data < str(year+1)))]\n",
    "    query['Volume_Venda'] = query['Volume_Venda'].astype(float)\n",
    "    \n",
    "    mean = np.round(query['Volume_Venda'].mean(),4)\n",
    "    \n",
    "    plt.figure(figsize = (4, 3))\n",
    "    boxplot = query.boxplot(column = ['Volume_Venda'])\n",
    "    \n",
    "    market = \"sem_regiao\"\n",
    "    \n",
    "    save_path = r\"D:\\Documentos_D\\UFCG\\2021.2e\\TCC\\graficos\\boxplot\\BR\" + \"\\\\\" + channel +\"_\" + market  + \"_\" + str(year) + \".png\"\n",
    "    plt.title(company + \" - \" + channel + \" - \" + market + \" - \" + str(year))\n",
    "    plt.savefig(save_path)\n",
    "    plt.close()\n",
    "    \n",
    "    means_br_me.append(mean)\n",
    "    year += 1\n",
    "\n",
    "means = means_br_me\n",
    "bars = ['2012','2013','2014','2015','2016','2017','2018','2019','2020','2021']\n",
    "y_pos = np.arange(len(bars))\n",
    "plt.figure(figsize = (6, 4))\n",
    "plt.title(\"Média do Volume de Vendas/ano | \" + companies_set[2][0]+\" - ME - sem região\")\n",
    "plt.plot(y_pos, means)\n",
    "plt.xticks(y_pos, bars)\n",
    "\n",
    "save_path = r\"D:\\Documentos_D\\UFCG\\2021.2e\\TCC\\graficos\\media\\BR\" + \"\\\\\" + channel + \"_\" + market + \"_media\" \".png\"\n",
    "plt.savefig(save_path)\n",
    "\n",
    "plt.close()"
   ]
  },
  {
   "cell_type": "markdown",
   "id": "876033f7",
   "metadata": {},
   "source": [
    "#### - Canal de Distribuição: MI"
   ]
  },
  {
   "cell_type": "markdown",
   "id": "27e837a0",
   "metadata": {},
   "source": [
    "##### --- Mercado: *R6*"
   ]
  },
  {
   "cell_type": "code",
   "execution_count": 17,
   "id": "24589416",
   "metadata": {},
   "outputs": [
    {
     "name": "stdout",
     "output_type": "stream",
     "text": [
      "Início dos dados:\n"
     ]
    },
    {
     "data": {
      "text/html": [
       "<div>\n",
       "<style scoped>\n",
       "    .dataframe tbody tr th:only-of-type {\n",
       "        vertical-align: middle;\n",
       "    }\n",
       "\n",
       "    .dataframe tbody tr th {\n",
       "        vertical-align: top;\n",
       "    }\n",
       "\n",
       "    .dataframe thead th {\n",
       "        text-align: right;\n",
       "    }\n",
       "</style>\n",
       "<table border=\"1\" class=\"dataframe\">\n",
       "  <thead>\n",
       "    <tr style=\"text-align: right;\">\n",
       "      <th></th>\n",
       "      <th>Empresa</th>\n",
       "      <th>Canal_Distribuicao</th>\n",
       "      <th>Mercado</th>\n",
       "      <th>Volume_Venda</th>\n",
       "      <th>Data</th>\n",
       "    </tr>\n",
       "  </thead>\n",
       "  <tbody>\n",
       "    <tr>\n",
       "      <th>0</th>\n",
       "      <td>BR</td>\n",
       "      <td>MI</td>\n",
       "      <td>R6</td>\n",
       "      <td>4598.001</td>\n",
       "      <td>2012-01-01 00:00:00.000</td>\n",
       "    </tr>\n",
       "  </tbody>\n",
       "</table>\n",
       "</div>"
      ],
      "text/plain": [
       "  Empresa Canal_Distribuicao Mercado Volume_Venda                     Data\n",
       "0      BR                 MI      R6     4598.001  2012-01-01 00:00:00.000"
      ]
     },
     "metadata": {},
     "output_type": "display_data"
    },
    {
     "name": "stdout",
     "output_type": "stream",
     "text": [
      "Fim dos dados:\n"
     ]
    },
    {
     "data": {
      "text/html": [
       "<div>\n",
       "<style scoped>\n",
       "    .dataframe tbody tr th:only-of-type {\n",
       "        vertical-align: middle;\n",
       "    }\n",
       "\n",
       "    .dataframe tbody tr th {\n",
       "        vertical-align: top;\n",
       "    }\n",
       "\n",
       "    .dataframe thead th {\n",
       "        text-align: right;\n",
       "    }\n",
       "</style>\n",
       "<table border=\"1\" class=\"dataframe\">\n",
       "  <thead>\n",
       "    <tr style=\"text-align: right;\">\n",
       "      <th></th>\n",
       "      <th>Empresa</th>\n",
       "      <th>Canal_Distribuicao</th>\n",
       "      <th>Mercado</th>\n",
       "      <th>Volume_Venda</th>\n",
       "      <th>Data</th>\n",
       "    </tr>\n",
       "  </thead>\n",
       "  <tbody>\n",
       "    <tr>\n",
       "      <th>120</th>\n",
       "      <td>BR</td>\n",
       "      <td>MI</td>\n",
       "      <td>R6</td>\n",
       "      <td>1818.0</td>\n",
       "      <td>2022-01-01 00:00:00.000</td>\n",
       "    </tr>\n",
       "  </tbody>\n",
       "</table>\n",
       "</div>"
      ],
      "text/plain": [
       "    Empresa Canal_Distribuicao Mercado Volume_Venda                     Data\n",
       "120      BR                 MI      R6       1818.0  2022-01-01 00:00:00.000"
      ]
     },
     "metadata": {},
     "output_type": "display_data"
    }
   ],
   "source": [
    "company = companies_set[2][0]\n",
    "channel = 'MI'\n",
    "market = 'R6'\n",
    "\n",
    "cmp_df_r6 = companies_set[2][1].reset_index().drop(['index'],axis=1)\n",
    "cmp_df_r6 = cmp_df_r6[((cmp_df_r6.Canal_Distribuicao == channel) & (cmp_df_r6.Mercado == market))]\n",
    "cmp_df_r6 = cmp_df_r6[((cmp_df_r6.Empresa != \"NaN\") & (cmp_df_r6.Canal_Distribuicao != \"NaN\") & (cmp_df_r6.Mercado != \"NaN\"))]\n",
    "cmp_df_r6 = cmp_df_r6.sort_values(by='Volume_Venda').reset_index().drop(['index'],axis=1)\n",
    "cmp_df_r6 = cmp_df_r6.drop_duplicates('Data',keep='last').sort_values(by='Data').reset_index().drop(['index'],axis=1)\n",
    "\n",
    "print(\"Início dos dados:\")\n",
    "display(cmp_df_r6.head(1))\n",
    "print(\"Fim dos dados:\")\n",
    "display(cmp_df_r6.tail(1))\n",
    "\n",
    "means_br_mi_r6 = []\n",
    "year = 2012\n",
    "while year < 2022:\n",
    "    query = cmp_df_r6[((cmp_df_r6.Data >= str(year)) & (cmp_df_r6.Data < str(year+1)))]\n",
    "    query['Volume_Venda'] = query['Volume_Venda'].astype(float)\n",
    "    \n",
    "    mean = np.round(query['Volume_Venda'].mean(),4)\n",
    "    \n",
    "    plt.figure(figsize = (4, 3))\n",
    "    boxplot = query.boxplot(column = ['Volume_Venda'])\n",
    "    \n",
    "    save_path = r\"D:\\Documentos_D\\UFCG\\2021.2e\\TCC\\graficos\\boxplot\\BR\" + \"\\\\\" + channel +\"_\" + market  + \"_\" + str(year) + \".png\"\n",
    "    plt.title(company + \" - \" + channel + \" - \" + market + \" - \" + str(year))\n",
    "    plt.savefig(save_path)\n",
    "    plt.close()\n",
    "    \n",
    "    means_br_mi_r6.append(mean)\n",
    "    year += 1\n",
    "\n",
    "means = means_br_mi_r6\n",
    "bars = ['2012','2013','2014','2015','2016','2017','2018','2019','2020','2021']\n",
    "y_pos = np.arange(len(bars))\n",
    "plt.figure(figsize = (6, 4))\n",
    "plt.title(\"Média do Volume de Vendas/ano | \"+ companies_set[2][0]+\" - MI - R6\")\n",
    "plt.plot(y_pos, means)\n",
    "plt.xticks(y_pos, bars)\n",
    "\n",
    "save_path = r\"D:\\Documentos_D\\UFCG\\2021.2e\\TCC\\graficos\\media\\BR\" + \"\\\\\" + channel + \"_\" + market + \"_media\" \".png\"\n",
    "plt.savefig(save_path)\n",
    "\n",
    "plt.close()"
   ]
  },
  {
   "cell_type": "code",
   "execution_count": 20,
   "id": "91243f45-f4a9-42cd-8e1b-80d01d8b3eee",
   "metadata": {},
   "outputs": [
    {
     "data": {
      "text/html": [
       "<div>\n",
       "<style scoped>\n",
       "    .dataframe tbody tr th:only-of-type {\n",
       "        vertical-align: middle;\n",
       "    }\n",
       "\n",
       "    .dataframe tbody tr th {\n",
       "        vertical-align: top;\n",
       "    }\n",
       "\n",
       "    .dataframe thead th {\n",
       "        text-align: right;\n",
       "    }\n",
       "</style>\n",
       "<table border=\"1\" class=\"dataframe\">\n",
       "  <thead>\n",
       "    <tr style=\"text-align: right;\">\n",
       "      <th></th>\n",
       "      <th>Empresa</th>\n",
       "      <th>Canal_Distribuicao</th>\n",
       "      <th>Mercado</th>\n",
       "      <th>Volume_Venda</th>\n",
       "      <th>Data</th>\n",
       "    </tr>\n",
       "  </thead>\n",
       "  <tbody>\n",
       "    <tr>\n",
       "      <th>0</th>\n",
       "      <td>BR</td>\n",
       "      <td>EE</td>\n",
       "      <td>R1</td>\n",
       "      <td>0.0</td>\n",
       "      <td>2012-01-01 00:00:00.000</td>\n",
       "    </tr>\n",
       "    <tr>\n",
       "      <th>105</th>\n",
       "      <td>BR</td>\n",
       "      <td>EE</td>\n",
       "      <td>R1</td>\n",
       "      <td>0.0</td>\n",
       "      <td>2020-10-01 00:00:00.000</td>\n",
       "    </tr>\n",
       "    <tr>\n",
       "      <th>88</th>\n",
       "      <td>BR</td>\n",
       "      <td>EE</td>\n",
       "      <td>R1</td>\n",
       "      <td>0.0</td>\n",
       "      <td>2019-05-01 00:00:00.000</td>\n",
       "    </tr>\n",
       "    <tr>\n",
       "      <th>78</th>\n",
       "      <td>BR</td>\n",
       "      <td>EE</td>\n",
       "      <td>R1</td>\n",
       "      <td>0.0</td>\n",
       "      <td>2018-07-01 00:00:00.000</td>\n",
       "    </tr>\n",
       "    <tr>\n",
       "      <th>6</th>\n",
       "      <td>BR</td>\n",
       "      <td>EE</td>\n",
       "      <td>R1</td>\n",
       "      <td>0.0</td>\n",
       "      <td>2012-07-01 00:00:00.000</td>\n",
       "    </tr>\n",
       "    <tr>\n",
       "      <th>...</th>\n",
       "      <td>...</td>\n",
       "      <td>...</td>\n",
       "      <td>...</td>\n",
       "      <td>...</td>\n",
       "      <td>...</td>\n",
       "    </tr>\n",
       "    <tr>\n",
       "      <th>92</th>\n",
       "      <td>BR</td>\n",
       "      <td>EE</td>\n",
       "      <td>R1</td>\n",
       "      <td>24000.0</td>\n",
       "      <td>2019-09-01 00:00:00.000</td>\n",
       "    </tr>\n",
       "    <tr>\n",
       "      <th>89</th>\n",
       "      <td>BR</td>\n",
       "      <td>EE</td>\n",
       "      <td>R1</td>\n",
       "      <td>24500.0</td>\n",
       "      <td>2019-06-01 00:00:00.000</td>\n",
       "    </tr>\n",
       "    <tr>\n",
       "      <th>5</th>\n",
       "      <td>BR</td>\n",
       "      <td>EE</td>\n",
       "      <td>R1</td>\n",
       "      <td>25530.0</td>\n",
       "      <td>2012-06-01 00:00:00.000</td>\n",
       "    </tr>\n",
       "    <tr>\n",
       "      <th>11</th>\n",
       "      <td>BR</td>\n",
       "      <td>EE</td>\n",
       "      <td>R1</td>\n",
       "      <td>27000.0</td>\n",
       "      <td>2012-12-01 00:00:00.000</td>\n",
       "    </tr>\n",
       "    <tr>\n",
       "      <th>109</th>\n",
       "      <td>BR</td>\n",
       "      <td>EE</td>\n",
       "      <td>R1</td>\n",
       "      <td>27000.0</td>\n",
       "      <td>2021-02-01 00:00:00.000</td>\n",
       "    </tr>\n",
       "  </tbody>\n",
       "</table>\n",
       "<p>120 rows × 5 columns</p>\n",
       "</div>"
      ],
      "text/plain": [
       "    Empresa Canal_Distribuicao Mercado Volume_Venda                     Data\n",
       "0        BR                 EE      R1          0.0  2012-01-01 00:00:00.000\n",
       "105      BR                 EE      R1          0.0  2020-10-01 00:00:00.000\n",
       "88       BR                 EE      R1          0.0  2019-05-01 00:00:00.000\n",
       "78       BR                 EE      R1          0.0  2018-07-01 00:00:00.000\n",
       "6        BR                 EE      R1          0.0  2012-07-01 00:00:00.000\n",
       "..      ...                ...     ...          ...                      ...\n",
       "92       BR                 EE      R1      24000.0  2019-09-01 00:00:00.000\n",
       "89       BR                 EE      R1      24500.0  2019-06-01 00:00:00.000\n",
       "5        BR                 EE      R1      25530.0  2012-06-01 00:00:00.000\n",
       "11       BR                 EE      R1      27000.0  2012-12-01 00:00:00.000\n",
       "109      BR                 EE      R1      27000.0  2021-02-01 00:00:00.000\n",
       "\n",
       "[120 rows x 5 columns]"
      ]
     },
     "execution_count": 20,
     "metadata": {},
     "output_type": "execute_result"
    }
   ],
   "source": [
    "cmp_df_r1.sort_values(by=\"Volume_Venda\")"
   ]
  },
  {
   "cell_type": "code",
   "execution_count": null,
   "id": "b9f15384",
   "metadata": {},
   "outputs": [],
   "source": []
  }
 ],
 "metadata": {
  "interpreter": {
   "hash": "9fd3c9755c88d523bdf6238348479253c53214824f1a45d81a58b4bf49ca8b06"
  },
  "kernelspec": {
   "display_name": "Python 3 (ipykernel)",
   "language": "python",
   "name": "python3"
  },
  "language_info": {
   "codemirror_mode": {
    "name": "ipython",
    "version": 3
   },
   "file_extension": ".py",
   "mimetype": "text/x-python",
   "name": "python",
   "nbconvert_exporter": "python",
   "pygments_lexer": "ipython3",
   "version": "3.10.5"
  }
 },
 "nbformat": 4,
 "nbformat_minor": 5
}
