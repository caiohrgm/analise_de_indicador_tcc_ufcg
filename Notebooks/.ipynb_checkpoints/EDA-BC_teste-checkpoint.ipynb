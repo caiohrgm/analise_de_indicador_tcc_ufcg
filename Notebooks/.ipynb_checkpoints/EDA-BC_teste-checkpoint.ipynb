{
 "cells": [
  {
   "cell_type": "code",
   "execution_count": 1,
   "id": "e6b8edaa",
   "metadata": {},
   "outputs": [],
   "source": [
    "import pandas as pd\n",
    "import numpy as np\n",
    "import warnings\n",
    "import seaborn as sns\n",
    "import matplotlib.pyplot as plt\n",
    "import utils\n",
    "from matplotlib.pyplot import figure\n",
    "\n",
    "global companies_set \n",
    "\n",
    "warnings.filterwarnings('ignore')"
   ]
  },
  {
   "cell_type": "markdown",
   "id": "5dcf4f4b",
   "metadata": {},
   "source": [
    "# 1 - Pré-Processamento"
   ]
  },
  {
   "cell_type": "markdown",
   "id": "3ac78a9d",
   "metadata": {},
   "source": [
    "## 1.1 - Acessando planilha de dataset original"
   ]
  },
  {
   "cell_type": "code",
   "execution_count": 2,
   "id": "97bf584d",
   "metadata": {},
   "outputs": [
    {
     "name": "stdout",
     "output_type": "stream",
     "text": [
      "\n",
      "Total de linhas: 8938 linhas.\n"
     ]
    }
   ],
   "source": [
    "path = r\"D:\\Documentos_D\\UFCG\\2021.2e\\TCC\\Project\\analise-de-indicador-tcc-ufcg\\Data\\indicadores_Siteware.csv\"\n",
    "companies_set = utils.prepare_datasets(path)"
   ]
  },
  {
   "cell_type": "code",
   "execution_count": 3,
   "id": "8b71dada",
   "metadata": {},
   "outputs": [
    {
     "data": {
      "text/html": [
       "<div>\n",
       "<style scoped>\n",
       "    .dataframe tbody tr th:only-of-type {\n",
       "        vertical-align: middle;\n",
       "    }\n",
       "\n",
       "    .dataframe tbody tr th {\n",
       "        vertical-align: top;\n",
       "    }\n",
       "\n",
       "    .dataframe thead th {\n",
       "        text-align: right;\n",
       "    }\n",
       "</style>\n",
       "<table border=\"1\" class=\"dataframe\">\n",
       "  <thead>\n",
       "    <tr style=\"text-align: right;\">\n",
       "      <th></th>\n",
       "      <th>Empresa</th>\n",
       "      <th>Canal_Distribuicao</th>\n",
       "      <th>Mercado</th>\n",
       "      <th>Volume_Venda</th>\n",
       "      <th>Data</th>\n",
       "    </tr>\n",
       "  </thead>\n",
       "  <tbody>\n",
       "    <tr>\n",
       "      <th>1</th>\n",
       "      <td>BC</td>\n",
       "      <td>NaN</td>\n",
       "      <td>NaN</td>\n",
       "      <td>10070.0</td>\n",
       "      <td>2015-01-01 00:00:00.000</td>\n",
       "    </tr>\n",
       "    <tr>\n",
       "      <th>2</th>\n",
       "      <td>BC</td>\n",
       "      <td>NaN</td>\n",
       "      <td>NaN</td>\n",
       "      <td>9434.0</td>\n",
       "      <td>2015-02-01 00:00:00.000</td>\n",
       "    </tr>\n",
       "    <tr>\n",
       "      <th>3</th>\n",
       "      <td>BC</td>\n",
       "      <td>NaN</td>\n",
       "      <td>NaN</td>\n",
       "      <td>14882.0</td>\n",
       "      <td>2015-03-01 00:00:00.000</td>\n",
       "    </tr>\n",
       "    <tr>\n",
       "      <th>4</th>\n",
       "      <td>BC</td>\n",
       "      <td>NaN</td>\n",
       "      <td>NaN</td>\n",
       "      <td>12618.0</td>\n",
       "      <td>2015-04-01 00:00:00.000</td>\n",
       "    </tr>\n",
       "    <tr>\n",
       "      <th>5</th>\n",
       "      <td>BC</td>\n",
       "      <td>NaN</td>\n",
       "      <td>NaN</td>\n",
       "      <td>8516.0</td>\n",
       "      <td>2015-05-01 00:00:00.000</td>\n",
       "    </tr>\n",
       "    <tr>\n",
       "      <th>...</th>\n",
       "      <td>...</td>\n",
       "      <td>...</td>\n",
       "      <td>...</td>\n",
       "      <td>...</td>\n",
       "      <td>...</td>\n",
       "    </tr>\n",
       "    <tr>\n",
       "      <th>2975</th>\n",
       "      <td>BC</td>\n",
       "      <td>ME</td>\n",
       "      <td>R1</td>\n",
       "      <td>15368.0</td>\n",
       "      <td>2021-12-01 00:00:00.000</td>\n",
       "    </tr>\n",
       "    <tr>\n",
       "      <th>2976</th>\n",
       "      <td>BC</td>\n",
       "      <td>ME</td>\n",
       "      <td>R1</td>\n",
       "      <td>12656.0</td>\n",
       "      <td>2021-02-01 00:00:00.000</td>\n",
       "    </tr>\n",
       "    <tr>\n",
       "      <th>3086</th>\n",
       "      <td>BC</td>\n",
       "      <td>NaN</td>\n",
       "      <td>NaN</td>\n",
       "      <td>17318.0</td>\n",
       "      <td>2022-01-01 00:00:00.000</td>\n",
       "    </tr>\n",
       "    <tr>\n",
       "      <th>3089</th>\n",
       "      <td>BC</td>\n",
       "      <td>ME</td>\n",
       "      <td>NaN</td>\n",
       "      <td>17318.0</td>\n",
       "      <td>2022-01-01 00:00:00.000</td>\n",
       "    </tr>\n",
       "    <tr>\n",
       "      <th>3092</th>\n",
       "      <td>BC</td>\n",
       "      <td>ME</td>\n",
       "      <td>R1</td>\n",
       "      <td>17318.0</td>\n",
       "      <td>2022-01-01 00:00:00.000</td>\n",
       "    </tr>\n",
       "  </tbody>\n",
       "</table>\n",
       "<p>435 rows × 5 columns</p>\n",
       "</div>"
      ],
      "text/plain": [
       "     Empresa Canal_Distribuicao Mercado Volume_Venda                     Data\n",
       "1         BC                NaN     NaN      10070.0  2015-01-01 00:00:00.000\n",
       "2         BC                NaN     NaN       9434.0  2015-02-01 00:00:00.000\n",
       "3         BC                NaN     NaN      14882.0  2015-03-01 00:00:00.000\n",
       "4         BC                NaN     NaN      12618.0  2015-04-01 00:00:00.000\n",
       "5         BC                NaN     NaN       8516.0  2015-05-01 00:00:00.000\n",
       "...      ...                ...     ...          ...                      ...\n",
       "2975      BC                 ME      R1      15368.0  2021-12-01 00:00:00.000\n",
       "2976      BC                 ME      R1      12656.0  2021-02-01 00:00:00.000\n",
       "3086      BC                NaN     NaN      17318.0  2022-01-01 00:00:00.000\n",
       "3089      BC                 ME     NaN      17318.0  2022-01-01 00:00:00.000\n",
       "3092      BC                 ME      R1      17318.0  2022-01-01 00:00:00.000\n",
       "\n",
       "[435 rows x 5 columns]"
      ]
     },
     "execution_count": 3,
     "metadata": {},
     "output_type": "execute_result"
    }
   ],
   "source": [
    "companies_set[0][1]"
   ]
  },
  {
   "cell_type": "markdown",
   "id": "259c88ff",
   "metadata": {},
   "source": [
    "# 2 - Análise Exploratória dos Dados"
   ]
  },
  {
   "cell_type": "markdown",
   "id": "74ef575a",
   "metadata": {},
   "source": [
    "## 2.2 - Médias de Volume de Vendas"
   ]
  },
  {
   "cell_type": "markdown",
   "id": "bc89dfc0",
   "metadata": {},
   "source": [
    "### 2.2.1 - BC"
   ]
  },
  {
   "cell_type": "markdown",
   "id": "95ce8d69",
   "metadata": {},
   "source": [
    "#### - *BC - ME - R1*"
   ]
  },
  {
   "cell_type": "code",
   "execution_count": 4,
   "id": "24ffbf9a-f3f1-4662-a21f-d5492d47f6ca",
   "metadata": {},
   "outputs": [
    {
     "name": "stdout",
     "output_type": "stream",
     "text": [
      "Início dos dados:\n"
     ]
    },
    {
     "data": {
      "text/html": [
       "<div>\n",
       "<style scoped>\n",
       "    .dataframe tbody tr th:only-of-type {\n",
       "        vertical-align: middle;\n",
       "    }\n",
       "\n",
       "    .dataframe tbody tr th {\n",
       "        vertical-align: top;\n",
       "    }\n",
       "\n",
       "    .dataframe thead th {\n",
       "        text-align: right;\n",
       "    }\n",
       "</style>\n",
       "<table border=\"1\" class=\"dataframe\">\n",
       "  <thead>\n",
       "    <tr style=\"text-align: right;\">\n",
       "      <th></th>\n",
       "      <th>Empresa</th>\n",
       "      <th>Canal_Distribuicao</th>\n",
       "      <th>Mercado</th>\n",
       "      <th>Volume_Venda</th>\n",
       "      <th>Data</th>\n",
       "    </tr>\n",
       "  </thead>\n",
       "  <tbody>\n",
       "    <tr>\n",
       "      <th>0</th>\n",
       "      <td>BC</td>\n",
       "      <td>ME</td>\n",
       "      <td>R1</td>\n",
       "      <td>9498.0</td>\n",
       "      <td>2012-01-01 00:00:00.000</td>\n",
       "    </tr>\n",
       "  </tbody>\n",
       "</table>\n",
       "</div>"
      ],
      "text/plain": [
       "  Empresa Canal_Distribuicao Mercado Volume_Venda                     Data\n",
       "0      BC                 ME      R1       9498.0  2012-01-01 00:00:00.000"
      ]
     },
     "metadata": {},
     "output_type": "display_data"
    },
    {
     "name": "stdout",
     "output_type": "stream",
     "text": [
      "Fim dos dados:\n"
     ]
    },
    {
     "data": {
      "text/html": [
       "<div>\n",
       "<style scoped>\n",
       "    .dataframe tbody tr th:only-of-type {\n",
       "        vertical-align: middle;\n",
       "    }\n",
       "\n",
       "    .dataframe tbody tr th {\n",
       "        vertical-align: top;\n",
       "    }\n",
       "\n",
       "    .dataframe thead th {\n",
       "        text-align: right;\n",
       "    }\n",
       "</style>\n",
       "<table border=\"1\" class=\"dataframe\">\n",
       "  <thead>\n",
       "    <tr style=\"text-align: right;\">\n",
       "      <th></th>\n",
       "      <th>Empresa</th>\n",
       "      <th>Canal_Distribuicao</th>\n",
       "      <th>Mercado</th>\n",
       "      <th>Volume_Venda</th>\n",
       "      <th>Data</th>\n",
       "    </tr>\n",
       "  </thead>\n",
       "  <tbody>\n",
       "    <tr>\n",
       "      <th>120</th>\n",
       "      <td>BC</td>\n",
       "      <td>ME</td>\n",
       "      <td>R1</td>\n",
       "      <td>17318.0</td>\n",
       "      <td>2022-01-01 00:00:00.000</td>\n",
       "    </tr>\n",
       "  </tbody>\n",
       "</table>\n",
       "</div>"
      ],
      "text/plain": [
       "    Empresa Canal_Distribuicao Mercado Volume_Venda                     Data\n",
       "120      BC                 ME      R1      17318.0  2022-01-01 00:00:00.000"
      ]
     },
     "metadata": {},
     "output_type": "display_data"
    },
    {
     "data": {
      "image/png": "[encoded data removed]",
      "text/plain": [
       "<Figure size 640x480 with 1 Axes>"
      ]
     },
     "metadata": {},
     "output_type": "display_data"
    }
   ],
   "source": [
    "company = companies_set[0][0]\n",
    "channel = 'ME'\n",
    "market = 'R1'\n",
    "cmp_df_r1 = companies_set[0][1].reset_index().drop(['index'],axis=1)\n",
    "cmp_df_r1 = cmp_df_r1[((cmp_df_r1.Canal_Distribuicao == channel) & (cmp_df_r1.Mercado == market))]\n",
    "cmp_df_r1 = cmp_df_r1[((cmp_df_r1.Empresa != \"NaN\") & (cmp_df_r1.Canal_Distribuicao != \"NaN\") & (cmp_df_r1.Mercado != \"NaN\"))]\n",
    "cmp_df_r1 = cmp_df_r1.sort_values(by='Volume_Venda').reset_index().drop(['index'],axis=1)\n",
    "cmp_df_r1 = cmp_df_r1.drop_duplicates('Data',keep='last').sort_values(by='Data').reset_index().drop(['index'],axis=1)\n",
    "\n",
    "print(\"Início dos dados:\")\n",
    "display(cmp_df_r1.head(1))\n",
    "print(\"Fim dos dados:\")\n",
    "display(cmp_df_r1.tail(1))\n",
    "\n",
    "means_bc_me_r1 = []\n",
    "year = 2012\n",
    "while year < 2022:\n",
    "    query = cmp_df_r1[((cmp_df_r1.Data >= str(year)) & (cmp_df_r1.Data < str(year+1)))]\n",
    "    query['Volume_Venda'] = query['Volume_Venda'].astype(float)\n",
    "    \n",
    "    mean = np.round(query['Volume_Venda'].mean(),4)\n",
    "    boxplot = query.boxplot(column = ['Volume_Venda'])\n",
    "    \n",
    "    save_path = r\"D:\\Documentos_D\\UFCG\\2021.2e\\TCC\\graficos\\boxplot\" + \"\\\\\" + company + \"\\\\\" + channel +\"_\" + market  + \"_\" + str(year) + \".png\"\n",
    "    plt.title(company + \" - \" + channel + \" - \" + market + \" - \" + str(year))\n",
    "    plt.savefig(save_path)\n",
    "    plt.close()\n",
    "    \n",
    "    means_bc_me_r1.append(mean)\n",
    "    year += 1\n",
    "\n",
    "means = means_bc_me_r1\n",
    "bars = ['2012','2013','2014','2015','2016','2017','2018','2019','2020','2021']\n",
    "y_pos = np.arange(len(bars))\n",
    "plt.title(\"Média do Volume de Vendas/ano | \" + companies_set[0][0] + \" - ME - R1\")\n",
    "plt.plot(y_pos, means)\n",
    "plt.xticks(y_pos, bars)\n",
    "\n",
    "save_path = r\"D:\\Documentos_D\\UFCG\\2021.2e\\TCC\\graficos\\media\" + \"\\\\\" + company + \"\\\\\" + channel + \"_\" + market + \"_media\" \".png\"\n",
    "plt.savefig(save_path)\n",
    "\n",
    "plt.close()"
   ]
  },
  {
   "cell_type": "code",
   "execution_count": null,
   "id": "9ec70b20",
   "metadata": {},
   "outputs": [],
   "source": []
  },
  {
   "cell_type": "code",
   "execution_count": null,
   "id": "7ff98968",
   "metadata": {},
   "outputs": [],
   "source": []
  },
  {
   "cell_type": "code",
   "execution_count": null,
   "id": "2098a69d",
   "metadata": {},
   "outputs": [],
   "source": []
  },
  {
   "cell_type": "code",
   "execution_count": null,
   "id": "2ae4341a",
   "metadata": {},
   "outputs": [],
   "source": []
  },
  {
   "cell_type": "code",
   "execution_count": null,
   "id": "9fe652ae",
   "metadata": {},
   "outputs": [],
   "source": []
  }
 ],
 "metadata": {
  "interpreter": {
   "hash": "9fd3c9755c88d523bdf6238348479253c53214824f1a45d81a58b4bf49ca8b06"
  },
  "kernelspec": {
   "display_name": "Python 3 (ipykernel)",
   "language": "python",
   "name": "python3"
  },
  "language_info": {
   "codemirror_mode": {
    "name": "ipython",
    "version": 3
   },
   "file_extension": ".py",
   "mimetype": "text/x-python",
   "name": "python",
   "nbconvert_exporter": "python",
   "pygments_lexer": "ipython3",
   "version": "3.10.5"
  }
 },
 "nbformat": 4,
 "nbformat_minor": 5
}
